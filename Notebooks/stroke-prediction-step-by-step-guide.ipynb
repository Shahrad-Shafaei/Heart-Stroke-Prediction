{
 "cells": [
  {
   "cell_type": "code",
   "execution_count": null,
   "id": "finnish-hearts",
   "metadata": {
    "_cell_guid": "b1076dfc-b9ad-4769-8c92-a6c4dae69d19",
    "_uuid": "8f2839f25d086af736a60e9eeb907d3b93b6e0e5",
    "papermill": {
     "duration": 0.045802,
     "end_time": "2021-05-13T12:00:43.089554",
     "exception": false,
     "start_time": "2021-05-13T12:00:43.043752",
     "status": "completed"
    },
    "tags": []
   },
   "outputs": [],
   "source": []
  },
  {
   "cell_type": "markdown",
   "id": "controversial-petroleum",
   "metadata": {
    "papermill": {
     "duration": 0.044069,
     "end_time": "2021-05-13T12:00:43.177505",
     "exception": false,
     "start_time": "2021-05-13T12:00:43.133436",
     "status": "completed"
    },
    "tags": []
   },
   "source": [
    "# **Stroke Prediction Dataset**"
   ]
  },
  {
   "cell_type": "markdown",
   "id": "reflected-project",
   "metadata": {
    "papermill": {
     "duration": 0.043162,
     "end_time": "2021-05-13T12:00:43.264716",
     "exception": false,
     "start_time": "2021-05-13T12:00:43.221554",
     "status": "completed"
    },
    "tags": []
   },
   "source": [
    "This dataset is used to predict whether a patient is likely to get stroke based on the input parameters like gender, age, various diseases, and smoking status. Each row in the data provides relavant information about the patient.\n",
    "\n",
    "**Dataset Information:**\n",
    "\n",
    "healthcare-data-stroke-data.csv: The csv contains data related to patients who may have heart disease and various attributes which determine that :\n",
    "\n",
    "* id: unique identifier\n",
    "* gender: \"Male\", \"Female\" or \"Other\"\n",
    "* age: age of the patient\n",
    "* hypertension: 0 if the patient doesn't have hypertension, 1 if the patient has hypertension\n",
    "* heart_disease: 0 if the patient doesn't have any heart diseases, 1 if the patient has a heart disease\n",
    "* ever_married: \"No\" or \"Yes\"\n",
    "* work_type: \"children\", \"Govt_jov\", \"Never_worked\", \"Private\" or \"Self-employed\"\n",
    "* Residence_type: \"Rural\" or \"Urban\"\n",
    "* avg_glucose_level: average glucose level in blood\n",
    "* bmi: body mass index\n",
    "* smoking_status: \"formerly smoked\", \"never smoked\", \"smokes\" or \"Unknown\"*\n",
    "* stroke: 1 if the patient had a stroke or 0 if not\n",
    "*Note: \"Unknown\" in smoking_status means that the information is unavailable for this patient\n",
    "\n",
    "**Objective**\n",
    "\n",
    "* Visualize the relationships between various Healthy and Unhealthy habits to Heart Strokes, and there by predict the stroke probability with best model and hypertuned parameters.\n",
    "\n",
    "**Assumptions**\n",
    "\n",
    "* Smoking can induce Stroke, is it true?\n",
    "* Heart with a Heart Disease is prone to Stroke, is it true?\n",
    "* Workload results in high blood pressure and that could lead to Stroke, is it true?\n",
    "* Males are most susceptible to strokes due to high work related stress, is it true?\n",
    " \n",
    "**Questions to be answered**\n",
    "\n",
    "* Does age has impact on strokes? and How is this parameter distributed?\n",
    "* Does body mass index and glucose levels in a person, propel a heart stroke?\n",
    "* Is there a difference in the rate of heart stroke for smokers and non smokers?\n",
    "* Does the type of job, whether stressdul or not, contribute to heart stroke?\n"
   ]
  },
  {
   "cell_type": "markdown",
   "id": "latin-modem",
   "metadata": {
    "papermill": {
     "duration": 0.043096,
     "end_time": "2021-05-13T12:00:43.351567",
     "exception": false,
     "start_time": "2021-05-13T12:00:43.308471",
     "status": "completed"
    },
    "tags": []
   },
   "source": [
    "**So Let's get Started**"
   ]
  },
  {
   "cell_type": "markdown",
   "id": "crucial-bryan",
   "metadata": {
    "papermill": {
     "duration": 0.043264,
     "end_time": "2021-05-13T12:00:43.439205",
     "exception": false,
     "start_time": "2021-05-13T12:00:43.395941",
     "status": "completed"
    },
    "tags": []
   },
   "source": [
    "**Import necessary packages**"
   ]
  },
  {
   "cell_type": "code",
   "execution_count": 1,
   "id": "stylish-humor",
   "metadata": {
    "execution": {
     "iopub.execute_input": "2021-05-13T12:00:43.550941Z",
     "iopub.status.busy": "2021-05-13T12:00:43.550187Z",
     "iopub.status.idle": "2021-05-13T12:01:10.956369Z",
     "shell.execute_reply": "2021-05-13T12:01:10.956935Z"
    },
    "papermill": {
     "duration": 27.474579,
     "end_time": "2021-05-13T12:01:10.957397",
     "exception": false,
     "start_time": "2021-05-13T12:00:43.482818",
     "status": "completed"
    },
    "tags": []
   },
   "outputs": [
    {
     "data": {
      "text/html": [
       "<style type='text/css'>\n",
       ".datatable table.frame { margin-bottom: 0; }\n",
       ".datatable table.frame thead { border-bottom: none; }\n",
       ".datatable table.frame tr.coltypes td {  color: #FFFFFF;  line-height: 6px;  padding: 0 0.5em;}\n",
       ".datatable .bool    { background: #DDDD99; }\n",
       ".datatable .object  { background: #565656; }\n",
       ".datatable .int     { background: #5D9E5D; }\n",
       ".datatable .float   { background: #4040CC; }\n",
       ".datatable .str     { background: #CC4040; }\n",
       ".datatable .row_index {  background: var(--jp-border-color3);  border-right: 1px solid var(--jp-border-color0);  color: var(--jp-ui-font-color3);  font-size: 9px;}\n",
       ".datatable .frame tr.coltypes .row_index {  background: var(--jp-border-color0);}\n",
       ".datatable th:nth-child(2) { padding-left: 12px; }\n",
       ".datatable .hellipsis {  color: var(--jp-cell-editor-border-color);}\n",
       ".datatable .vellipsis {  background: var(--jp-layout-color0);  color: var(--jp-cell-editor-border-color);}\n",
       ".datatable .na {  color: var(--jp-cell-editor-border-color);  font-size: 80%;}\n",
       ".datatable .footer { font-size: 9px; }\n",
       ".datatable .frame_dimensions {  background: var(--jp-border-color3);  border-top: 1px solid var(--jp-border-color0);  color: var(--jp-ui-font-color3);  display: inline-block;  opacity: 0.6;  padding: 1px 10px 1px 5px;}\n",
       "</style>\n"
      ],
      "text/plain": [
       "<IPython.core.display.HTML object>"
      ]
     },
     "metadata": {},
     "output_type": "display_data"
    }
   ],
   "source": [
    "# Data manipulation libraries\n",
    "import numpy as np\n",
    "import pandas as pd\n",
    "\n",
    "# Visualization libraries\n",
    "import matplotlib.pyplot as plt\n",
    "plt.style.use('ggplot')\n",
    "import seaborn as sns\n",
    "import plotly.express as px\n",
    "import plotly.graph_objects as go\n",
    "import plotly.figure_factory as ff\n",
    "from plotly.subplots import make_subplots\n",
    "\n",
    "# Avoid Warnings\n",
    "import warnings\n",
    "warnings.filterwarnings('ignore')\n",
    "%matplotlib inline\n",
    "\n",
    "#Common model helpers\n",
    "from sklearn.preprocessing import (StandardScaler,\n",
    "                                   LabelEncoder,\n",
    "                                   OneHotEncoder)\n",
    "from sklearn import metrics\n",
    "from sklearn.model_selection import train_test_split\n",
    "from sklearn.metrics import (classification_report, accuracy_score, \n",
    "                             auc, \n",
    "                             precision_score,\n",
    "                             recall_score,\n",
    "                             f1_score, \n",
    "                             roc_auc_score,\n",
    "                             confusion_matrix)\n",
    "from sklearn.model_selection import (GridSearchCV,\n",
    "                                     StratifiedKFold,\n",
    "                                     cross_val_score)\n",
    "\n",
    "\n",
    "# dimensionality reduction\n",
    "from sklearn.decomposition import PCA\n",
    "from umap import UMAP\n",
    "import pylab as pl\n",
    "\n",
    "# imbalance dataset handling\n",
    "\n",
    "from imblearn.datasets import make_imbalance\n",
    "from imblearn.under_sampling import (RandomUnderSampler, \n",
    "                                     ClusterCentroids,\n",
    "                                     TomekLinks,\n",
    "                                     NeighbourhoodCleaningRule,\n",
    "                                     EditedNearestNeighbours,\n",
    "                                     NearMiss)\n",
    "\n",
    "\n",
    "from imblearn.over_sampling import (SMOTE,\n",
    "                                    ADASYN)\n",
    "# model algorithams\n",
    "from sklearn.ensemble import (RandomForestClassifier, \n",
    "                              AdaBoostClassifier, \n",
    "                              GradientBoostingClassifier)\n",
    "from sklearn.linear_model import LogisticRegression\n",
    "from sklearn.neighbors import KNeighborsClassifier\n",
    "from sklearn.tree import DecisionTreeClassifier\n",
    "from sklearn.svm import SVC\n",
    "from xgboost import XGBClassifier\n",
    "from lightgbm import LGBMClassifier\n"
   ]
  },
  {
   "cell_type": "code",
   "execution_count": 2,
   "id": "similar-roommate",
   "metadata": {
    "execution": {
     "iopub.execute_input": "2021-05-13T12:01:11.059764Z",
     "iopub.status.busy": "2021-05-13T12:01:11.058955Z",
     "iopub.status.idle": "2021-05-13T12:01:11.091516Z",
     "shell.execute_reply": "2021-05-13T12:01:11.092341Z"
    },
    "papermill": {
     "duration": 0.087513,
     "end_time": "2021-05-13T12:01:11.092612",
     "exception": false,
     "start_time": "2021-05-13T12:01:11.005099",
     "status": "completed"
    },
    "tags": []
   },
   "outputs": [],
   "source": [
    "#Reading the csv file in variable \n",
    "\n",
    "df = pd.read_csv('/kaggle/input/stroke-prediction-dataset/healthcare-dataset-stroke-data.csv')"
   ]
  },
  {
   "cell_type": "code",
   "execution_count": 3,
   "id": "prescribed-cement",
   "metadata": {
    "execution": {
     "iopub.execute_input": "2021-05-13T12:01:11.198367Z",
     "iopub.status.busy": "2021-05-13T12:01:11.197405Z",
     "iopub.status.idle": "2021-05-13T12:01:11.234177Z",
     "shell.execute_reply": "2021-05-13T12:01:11.234822Z"
    },
    "papermill": {
     "duration": 0.097362,
     "end_time": "2021-05-13T12:01:11.235083",
     "exception": false,
     "start_time": "2021-05-13T12:01:11.137721",
     "status": "completed"
    },
    "tags": []
   },
   "outputs": [
    {
     "data": {
      "text/html": [
       "<div>\n",
       "<style scoped>\n",
       "    .dataframe tbody tr th:only-of-type {\n",
       "        vertical-align: middle;\n",
       "    }\n",
       "\n",
       "    .dataframe tbody tr th {\n",
       "        vertical-align: top;\n",
       "    }\n",
       "\n",
       "    .dataframe thead th {\n",
       "        text-align: right;\n",
       "    }\n",
       "</style>\n",
       "<table border=\"1\" class=\"dataframe\">\n",
       "  <thead>\n",
       "    <tr style=\"text-align: right;\">\n",
       "      <th></th>\n",
       "      <th>id</th>\n",
       "      <th>gender</th>\n",
       "      <th>age</th>\n",
       "      <th>hypertension</th>\n",
       "      <th>heart_disease</th>\n",
       "      <th>ever_married</th>\n",
       "      <th>work_type</th>\n",
       "      <th>Residence_type</th>\n",
       "      <th>avg_glucose_level</th>\n",
       "      <th>bmi</th>\n",
       "      <th>smoking_status</th>\n",
       "      <th>stroke</th>\n",
       "    </tr>\n",
       "  </thead>\n",
       "  <tbody>\n",
       "    <tr>\n",
       "      <th>0</th>\n",
       "      <td>9046</td>\n",
       "      <td>Male</td>\n",
       "      <td>67.0</td>\n",
       "      <td>0</td>\n",
       "      <td>1</td>\n",
       "      <td>Yes</td>\n",
       "      <td>Private</td>\n",
       "      <td>Urban</td>\n",
       "      <td>228.69</td>\n",
       "      <td>36.6</td>\n",
       "      <td>formerly smoked</td>\n",
       "      <td>1</td>\n",
       "    </tr>\n",
       "    <tr>\n",
       "      <th>1</th>\n",
       "      <td>51676</td>\n",
       "      <td>Female</td>\n",
       "      <td>61.0</td>\n",
       "      <td>0</td>\n",
       "      <td>0</td>\n",
       "      <td>Yes</td>\n",
       "      <td>Self-employed</td>\n",
       "      <td>Rural</td>\n",
       "      <td>202.21</td>\n",
       "      <td>NaN</td>\n",
       "      <td>never smoked</td>\n",
       "      <td>1</td>\n",
       "    </tr>\n",
       "    <tr>\n",
       "      <th>2</th>\n",
       "      <td>31112</td>\n",
       "      <td>Male</td>\n",
       "      <td>80.0</td>\n",
       "      <td>0</td>\n",
       "      <td>1</td>\n",
       "      <td>Yes</td>\n",
       "      <td>Private</td>\n",
       "      <td>Rural</td>\n",
       "      <td>105.92</td>\n",
       "      <td>32.5</td>\n",
       "      <td>never smoked</td>\n",
       "      <td>1</td>\n",
       "    </tr>\n",
       "    <tr>\n",
       "      <th>3</th>\n",
       "      <td>60182</td>\n",
       "      <td>Female</td>\n",
       "      <td>49.0</td>\n",
       "      <td>0</td>\n",
       "      <td>0</td>\n",
       "      <td>Yes</td>\n",
       "      <td>Private</td>\n",
       "      <td>Urban</td>\n",
       "      <td>171.23</td>\n",
       "      <td>34.4</td>\n",
       "      <td>smokes</td>\n",
       "      <td>1</td>\n",
       "    </tr>\n",
       "    <tr>\n",
       "      <th>4</th>\n",
       "      <td>1665</td>\n",
       "      <td>Female</td>\n",
       "      <td>79.0</td>\n",
       "      <td>1</td>\n",
       "      <td>0</td>\n",
       "      <td>Yes</td>\n",
       "      <td>Self-employed</td>\n",
       "      <td>Rural</td>\n",
       "      <td>174.12</td>\n",
       "      <td>24.0</td>\n",
       "      <td>never smoked</td>\n",
       "      <td>1</td>\n",
       "    </tr>\n",
       "  </tbody>\n",
       "</table>\n",
       "</div>"
      ],
      "text/plain": [
       "      id  gender   age  hypertension  heart_disease ever_married  \\\n",
       "0   9046    Male  67.0             0              1          Yes   \n",
       "1  51676  Female  61.0             0              0          Yes   \n",
       "2  31112    Male  80.0             0              1          Yes   \n",
       "3  60182  Female  49.0             0              0          Yes   \n",
       "4   1665  Female  79.0             1              0          Yes   \n",
       "\n",
       "       work_type Residence_type  avg_glucose_level   bmi   smoking_status  \\\n",
       "0        Private          Urban             228.69  36.6  formerly smoked   \n",
       "1  Self-employed          Rural             202.21   NaN     never smoked   \n",
       "2        Private          Rural             105.92  32.5     never smoked   \n",
       "3        Private          Urban             171.23  34.4           smokes   \n",
       "4  Self-employed          Rural             174.12  24.0     never smoked   \n",
       "\n",
       "   stroke  \n",
       "0       1  \n",
       "1       1  \n",
       "2       1  \n",
       "3       1  \n",
       "4       1  "
      ]
     },
     "execution_count": 3,
     "metadata": {},
     "output_type": "execute_result"
    }
   ],
   "source": [
    "df.head()"
   ]
  },
  {
   "cell_type": "code",
   "execution_count": 4,
   "id": "congressional-makeup",
   "metadata": {
    "execution": {
     "iopub.execute_input": "2021-05-13T12:01:11.346699Z",
     "iopub.status.busy": "2021-05-13T12:01:11.345834Z",
     "iopub.status.idle": "2021-05-13T12:01:11.350801Z",
     "shell.execute_reply": "2021-05-13T12:01:11.350253Z"
    },
    "papermill": {
     "duration": 0.06824,
     "end_time": "2021-05-13T12:01:11.350947",
     "exception": false,
     "start_time": "2021-05-13T12:01:11.282707",
     "status": "completed"
    },
    "tags": []
   },
   "outputs": [
    {
     "data": {
      "text/html": [
       "<div>\n",
       "<style scoped>\n",
       "    .dataframe tbody tr th:only-of-type {\n",
       "        vertical-align: middle;\n",
       "    }\n",
       "\n",
       "    .dataframe tbody tr th {\n",
       "        vertical-align: top;\n",
       "    }\n",
       "\n",
       "    .dataframe thead th {\n",
       "        text-align: right;\n",
       "    }\n",
       "</style>\n",
       "<table border=\"1\" class=\"dataframe\">\n",
       "  <thead>\n",
       "    <tr style=\"text-align: right;\">\n",
       "      <th></th>\n",
       "      <th>id</th>\n",
       "      <th>gender</th>\n",
       "      <th>age</th>\n",
       "      <th>hypertension</th>\n",
       "      <th>heart_disease</th>\n",
       "      <th>ever_married</th>\n",
       "      <th>work_type</th>\n",
       "      <th>Residence_type</th>\n",
       "      <th>avg_glucose_level</th>\n",
       "      <th>bmi</th>\n",
       "      <th>smoking_status</th>\n",
       "      <th>stroke</th>\n",
       "    </tr>\n",
       "  </thead>\n",
       "  <tbody>\n",
       "    <tr>\n",
       "      <th>5105</th>\n",
       "      <td>18234</td>\n",
       "      <td>Female</td>\n",
       "      <td>80.0</td>\n",
       "      <td>1</td>\n",
       "      <td>0</td>\n",
       "      <td>Yes</td>\n",
       "      <td>Private</td>\n",
       "      <td>Urban</td>\n",
       "      <td>83.75</td>\n",
       "      <td>NaN</td>\n",
       "      <td>never smoked</td>\n",
       "      <td>0</td>\n",
       "    </tr>\n",
       "    <tr>\n",
       "      <th>5106</th>\n",
       "      <td>44873</td>\n",
       "      <td>Female</td>\n",
       "      <td>81.0</td>\n",
       "      <td>0</td>\n",
       "      <td>0</td>\n",
       "      <td>Yes</td>\n",
       "      <td>Self-employed</td>\n",
       "      <td>Urban</td>\n",
       "      <td>125.20</td>\n",
       "      <td>40.0</td>\n",
       "      <td>never smoked</td>\n",
       "      <td>0</td>\n",
       "    </tr>\n",
       "    <tr>\n",
       "      <th>5107</th>\n",
       "      <td>19723</td>\n",
       "      <td>Female</td>\n",
       "      <td>35.0</td>\n",
       "      <td>0</td>\n",
       "      <td>0</td>\n",
       "      <td>Yes</td>\n",
       "      <td>Self-employed</td>\n",
       "      <td>Rural</td>\n",
       "      <td>82.99</td>\n",
       "      <td>30.6</td>\n",
       "      <td>never smoked</td>\n",
       "      <td>0</td>\n",
       "    </tr>\n",
       "    <tr>\n",
       "      <th>5108</th>\n",
       "      <td>37544</td>\n",
       "      <td>Male</td>\n",
       "      <td>51.0</td>\n",
       "      <td>0</td>\n",
       "      <td>0</td>\n",
       "      <td>Yes</td>\n",
       "      <td>Private</td>\n",
       "      <td>Rural</td>\n",
       "      <td>166.29</td>\n",
       "      <td>25.6</td>\n",
       "      <td>formerly smoked</td>\n",
       "      <td>0</td>\n",
       "    </tr>\n",
       "    <tr>\n",
       "      <th>5109</th>\n",
       "      <td>44679</td>\n",
       "      <td>Female</td>\n",
       "      <td>44.0</td>\n",
       "      <td>0</td>\n",
       "      <td>0</td>\n",
       "      <td>Yes</td>\n",
       "      <td>Govt_job</td>\n",
       "      <td>Urban</td>\n",
       "      <td>85.28</td>\n",
       "      <td>26.2</td>\n",
       "      <td>Unknown</td>\n",
       "      <td>0</td>\n",
       "    </tr>\n",
       "  </tbody>\n",
       "</table>\n",
       "</div>"
      ],
      "text/plain": [
       "         id  gender   age  hypertension  heart_disease ever_married  \\\n",
       "5105  18234  Female  80.0             1              0          Yes   \n",
       "5106  44873  Female  81.0             0              0          Yes   \n",
       "5107  19723  Female  35.0             0              0          Yes   \n",
       "5108  37544    Male  51.0             0              0          Yes   \n",
       "5109  44679  Female  44.0             0              0          Yes   \n",
       "\n",
       "          work_type Residence_type  avg_glucose_level   bmi   smoking_status  \\\n",
       "5105        Private          Urban              83.75   NaN     never smoked   \n",
       "5106  Self-employed          Urban             125.20  40.0     never smoked   \n",
       "5107  Self-employed          Rural              82.99  30.6     never smoked   \n",
       "5108        Private          Rural             166.29  25.6  formerly smoked   \n",
       "5109       Govt_job          Urban              85.28  26.2          Unknown   \n",
       "\n",
       "      stroke  \n",
       "5105       0  \n",
       "5106       0  \n",
       "5107       0  \n",
       "5108       0  \n",
       "5109       0  "
      ]
     },
     "execution_count": 4,
     "metadata": {},
     "output_type": "execute_result"
    }
   ],
   "source": [
    "df.tail()"
   ]
  },
  {
   "cell_type": "code",
   "execution_count": 5,
   "id": "reflected-friend",
   "metadata": {
    "execution": {
     "iopub.execute_input": "2021-05-13T12:01:11.447615Z",
     "iopub.status.busy": "2021-05-13T12:01:11.446740Z",
     "iopub.status.idle": "2021-05-13T12:01:11.449563Z",
     "shell.execute_reply": "2021-05-13T12:01:11.450119Z"
    },
    "papermill": {
     "duration": 0.05383,
     "end_time": "2021-05-13T12:01:11.450328",
     "exception": false,
     "start_time": "2021-05-13T12:01:11.396498",
     "status": "completed"
    },
    "tags": []
   },
   "outputs": [
    {
     "data": {
      "text/plain": [
       "(5110, 12)"
      ]
     },
     "execution_count": 5,
     "metadata": {},
     "output_type": "execute_result"
    }
   ],
   "source": [
    "#get the size of dataframe\n",
    "df.shape"
   ]
  },
  {
   "cell_type": "markdown",
   "id": "voluntary-medicine",
   "metadata": {
    "papermill": {
     "duration": 0.046085,
     "end_time": "2021-05-13T12:01:11.542940",
     "exception": false,
     "start_time": "2021-05-13T12:01:11.496855",
     "status": "completed"
    },
    "tags": []
   },
   "source": [
    "**Observation: There are 5110 rows and 12 columns in the dataset.**"
   ]
  },
  {
   "cell_type": "code",
   "execution_count": 6,
   "id": "uniform-arlington",
   "metadata": {
    "execution": {
     "iopub.execute_input": "2021-05-13T12:01:11.639389Z",
     "iopub.status.busy": "2021-05-13T12:01:11.638767Z",
     "iopub.status.idle": "2021-05-13T12:01:11.644979Z",
     "shell.execute_reply": "2021-05-13T12:01:11.645480Z"
    },
    "papermill": {
     "duration": 0.055682,
     "end_time": "2021-05-13T12:01:11.645678",
     "exception": false,
     "start_time": "2021-05-13T12:01:11.589996",
     "status": "completed"
    },
    "tags": []
   },
   "outputs": [
    {
     "data": {
      "text/plain": [
       "id                     int64\n",
       "gender                object\n",
       "age                  float64\n",
       "hypertension           int64\n",
       "heart_disease          int64\n",
       "ever_married          object\n",
       "work_type             object\n",
       "Residence_type        object\n",
       "avg_glucose_level    float64\n",
       "bmi                  float64\n",
       "smoking_status        object\n",
       "stroke                 int64\n",
       "dtype: object"
      ]
     },
     "execution_count": 6,
     "metadata": {},
     "output_type": "execute_result"
    }
   ],
   "source": [
    "df.dtypes\n"
   ]
  },
  {
   "cell_type": "markdown",
   "id": "editorial-bedroom",
   "metadata": {
    "papermill": {
     "duration": 0.046473,
     "end_time": "2021-05-13T12:01:11.739133",
     "exception": false,
     "start_time": "2021-05-13T12:01:11.692660",
     "status": "completed"
    },
    "tags": []
   },
   "source": [
    "**Observation:**\n",
    "\n",
    "* id, hypertension, heart_disease and stroke are of int datatype.\n",
    "* gender, ever_married, work_type, Residence_type and smoking_status are of object datatype.\n",
    "* age, avg_glucose_level and bmi are of float datatype."
   ]
  },
  {
   "cell_type": "code",
   "execution_count": 7,
   "id": "proprietary-reviewer",
   "metadata": {
    "execution": {
     "iopub.execute_input": "2021-05-13T12:01:11.837946Z",
     "iopub.status.busy": "2021-05-13T12:01:11.837308Z",
     "iopub.status.idle": "2021-05-13T12:01:11.861459Z",
     "shell.execute_reply": "2021-05-13T12:01:11.862177Z"
    },
    "papermill": {
     "duration": 0.075469,
     "end_time": "2021-05-13T12:01:11.862437",
     "exception": false,
     "start_time": "2021-05-13T12:01:11.786968",
     "status": "completed"
    },
    "tags": []
   },
   "outputs": [
    {
     "name": "stdout",
     "output_type": "stream",
     "text": [
      "<class 'pandas.core.frame.DataFrame'>\n",
      "RangeIndex: 5110 entries, 0 to 5109\n",
      "Data columns (total 12 columns):\n",
      " #   Column             Non-Null Count  Dtype  \n",
      "---  ------             --------------  -----  \n",
      " 0   id                 5110 non-null   int64  \n",
      " 1   gender             5110 non-null   object \n",
      " 2   age                5110 non-null   float64\n",
      " 3   hypertension       5110 non-null   int64  \n",
      " 4   heart_disease      5110 non-null   int64  \n",
      " 5   ever_married       5110 non-null   object \n",
      " 6   work_type          5110 non-null   object \n",
      " 7   Residence_type     5110 non-null   object \n",
      " 8   avg_glucose_level  5110 non-null   float64\n",
      " 9   bmi                4909 non-null   float64\n",
      " 10  smoking_status     5110 non-null   object \n",
      " 11  stroke             5110 non-null   int64  \n",
      "dtypes: float64(3), int64(4), object(5)\n",
      "memory usage: 479.2+ KB\n"
     ]
    }
   ],
   "source": [
    "df.info()\n"
   ]
  },
  {
   "cell_type": "markdown",
   "id": "existing-italy",
   "metadata": {
    "papermill": {
     "duration": 0.047437,
     "end_time": "2021-05-13T12:01:11.958558",
     "exception": false,
     "start_time": "2021-05-13T12:01:11.911121",
     "status": "completed"
    },
    "tags": []
   },
   "source": [
    "Observation: Only bmi column has certain missing values.\n",
    "\n"
   ]
  },
  {
   "cell_type": "code",
   "execution_count": 8,
   "id": "alike-pepper",
   "metadata": {
    "execution": {
     "iopub.execute_input": "2021-05-13T12:01:12.057581Z",
     "iopub.status.busy": "2021-05-13T12:01:12.056601Z",
     "iopub.status.idle": "2021-05-13T12:01:12.098884Z",
     "shell.execute_reply": "2021-05-13T12:01:12.098324Z"
    },
    "papermill": {
     "duration": 0.09336,
     "end_time": "2021-05-13T12:01:12.099046",
     "exception": false,
     "start_time": "2021-05-13T12:01:12.005686",
     "status": "completed"
    },
    "tags": []
   },
   "outputs": [
    {
     "data": {
      "text/html": [
       "<div>\n",
       "<style scoped>\n",
       "    .dataframe tbody tr th:only-of-type {\n",
       "        vertical-align: middle;\n",
       "    }\n",
       "\n",
       "    .dataframe tbody tr th {\n",
       "        vertical-align: top;\n",
       "    }\n",
       "\n",
       "    .dataframe thead th {\n",
       "        text-align: right;\n",
       "    }\n",
       "</style>\n",
       "<table border=\"1\" class=\"dataframe\">\n",
       "  <thead>\n",
       "    <tr style=\"text-align: right;\">\n",
       "      <th></th>\n",
       "      <th>count</th>\n",
       "      <th>mean</th>\n",
       "      <th>std</th>\n",
       "      <th>min</th>\n",
       "      <th>25%</th>\n",
       "      <th>50%</th>\n",
       "      <th>75%</th>\n",
       "      <th>max</th>\n",
       "    </tr>\n",
       "  </thead>\n",
       "  <tbody>\n",
       "    <tr>\n",
       "      <th>id</th>\n",
       "      <td>5110.0</td>\n",
       "      <td>36517.829354</td>\n",
       "      <td>21161.721625</td>\n",
       "      <td>67.00</td>\n",
       "      <td>17741.250</td>\n",
       "      <td>36932.000</td>\n",
       "      <td>54682.00</td>\n",
       "      <td>72940.00</td>\n",
       "    </tr>\n",
       "    <tr>\n",
       "      <th>age</th>\n",
       "      <td>5110.0</td>\n",
       "      <td>43.226614</td>\n",
       "      <td>22.612647</td>\n",
       "      <td>0.08</td>\n",
       "      <td>25.000</td>\n",
       "      <td>45.000</td>\n",
       "      <td>61.00</td>\n",
       "      <td>82.00</td>\n",
       "    </tr>\n",
       "    <tr>\n",
       "      <th>hypertension</th>\n",
       "      <td>5110.0</td>\n",
       "      <td>0.097456</td>\n",
       "      <td>0.296607</td>\n",
       "      <td>0.00</td>\n",
       "      <td>0.000</td>\n",
       "      <td>0.000</td>\n",
       "      <td>0.00</td>\n",
       "      <td>1.00</td>\n",
       "    </tr>\n",
       "    <tr>\n",
       "      <th>heart_disease</th>\n",
       "      <td>5110.0</td>\n",
       "      <td>0.054012</td>\n",
       "      <td>0.226063</td>\n",
       "      <td>0.00</td>\n",
       "      <td>0.000</td>\n",
       "      <td>0.000</td>\n",
       "      <td>0.00</td>\n",
       "      <td>1.00</td>\n",
       "    </tr>\n",
       "    <tr>\n",
       "      <th>avg_glucose_level</th>\n",
       "      <td>5110.0</td>\n",
       "      <td>106.147677</td>\n",
       "      <td>45.283560</td>\n",
       "      <td>55.12</td>\n",
       "      <td>77.245</td>\n",
       "      <td>91.885</td>\n",
       "      <td>114.09</td>\n",
       "      <td>271.74</td>\n",
       "    </tr>\n",
       "    <tr>\n",
       "      <th>bmi</th>\n",
       "      <td>4909.0</td>\n",
       "      <td>28.893237</td>\n",
       "      <td>7.854067</td>\n",
       "      <td>10.30</td>\n",
       "      <td>23.500</td>\n",
       "      <td>28.100</td>\n",
       "      <td>33.10</td>\n",
       "      <td>97.60</td>\n",
       "    </tr>\n",
       "    <tr>\n",
       "      <th>stroke</th>\n",
       "      <td>5110.0</td>\n",
       "      <td>0.048728</td>\n",
       "      <td>0.215320</td>\n",
       "      <td>0.00</td>\n",
       "      <td>0.000</td>\n",
       "      <td>0.000</td>\n",
       "      <td>0.00</td>\n",
       "      <td>1.00</td>\n",
       "    </tr>\n",
       "  </tbody>\n",
       "</table>\n",
       "</div>"
      ],
      "text/plain": [
       "                    count          mean           std    min        25%  \\\n",
       "id                 5110.0  36517.829354  21161.721625  67.00  17741.250   \n",
       "age                5110.0     43.226614     22.612647   0.08     25.000   \n",
       "hypertension       5110.0      0.097456      0.296607   0.00      0.000   \n",
       "heart_disease      5110.0      0.054012      0.226063   0.00      0.000   \n",
       "avg_glucose_level  5110.0    106.147677     45.283560  55.12     77.245   \n",
       "bmi                4909.0     28.893237      7.854067  10.30     23.500   \n",
       "stroke             5110.0      0.048728      0.215320   0.00      0.000   \n",
       "\n",
       "                         50%       75%       max  \n",
       "id                 36932.000  54682.00  72940.00  \n",
       "age                   45.000     61.00     82.00  \n",
       "hypertension           0.000      0.00      1.00  \n",
       "heart_disease          0.000      0.00      1.00  \n",
       "avg_glucose_level     91.885    114.09    271.74  \n",
       "bmi                   28.100     33.10     97.60  \n",
       "stroke                 0.000      0.00      1.00  "
      ]
     },
     "execution_count": 8,
     "metadata": {},
     "output_type": "execute_result"
    }
   ],
   "source": [
    "df.describe().T\n"
   ]
  },
  {
   "cell_type": "code",
   "execution_count": 9,
   "id": "sitting-europe",
   "metadata": {
    "execution": {
     "iopub.execute_input": "2021-05-13T12:01:12.199974Z",
     "iopub.status.busy": "2021-05-13T12:01:12.199350Z",
     "iopub.status.idle": "2021-05-13T12:01:12.763709Z",
     "shell.execute_reply": "2021-05-13T12:01:12.763002Z"
    },
    "papermill": {
     "duration": 0.61621,
     "end_time": "2021-05-13T12:01:12.763866",
     "exception": false,
     "start_time": "2021-05-13T12:01:12.147656",
     "status": "completed"
    },
    "tags": []
   },
   "outputs": [
    {
     "data": {
      "text/plain": [
       "<AxesSubplot:>"
      ]
     },
     "execution_count": 9,
     "metadata": {},
     "output_type": "execute_result"
    },
    {
     "data": {
      "image/png": "[encoded data removed]",
      "text/plain": [
       "<Figure size 1800x720 with 2 Axes>"
      ]
     },
     "metadata": {
      "needs_background": "light"
     },
     "output_type": "display_data"
    }
   ],
   "source": [
    "import missingno as msno\n",
    "\n",
    "msno.matrix(df)"
   ]
  },
  {
   "cell_type": "code",
   "execution_count": 10,
   "id": "spanish-retailer",
   "metadata": {
    "execution": {
     "iopub.execute_input": "2021-05-13T12:01:12.874337Z",
     "iopub.status.busy": "2021-05-13T12:01:12.873273Z",
     "iopub.status.idle": "2021-05-13T12:01:13.888314Z",
     "shell.execute_reply": "2021-05-13T12:01:13.887620Z"
    },
    "papermill": {
     "duration": 1.074214,
     "end_time": "2021-05-13T12:01:13.888467",
     "exception": false,
     "start_time": "2021-05-13T12:01:12.814253",
     "status": "completed"
    },
    "tags": []
   },
   "outputs": [
    {
     "data": {
      "text/plain": [
       "<AxesSubplot:>"
      ]
     },
     "execution_count": 10,
     "metadata": {},
     "output_type": "execute_result"
    },
    {
     "data": {
      "image/png": "[encoded data removed]",
      "text/plain": [
       "<Figure size 1728x720 with 3 Axes>"
      ]
     },
     "metadata": {
      "needs_background": "light"
     },
     "output_type": "display_data"
    }
   ],
   "source": [
    "msno.bar(df, sort = 'descending')\n"
   ]
  },
  {
   "cell_type": "markdown",
   "id": "southeast-auditor",
   "metadata": {
    "papermill": {
     "duration": 0.051734,
     "end_time": "2021-05-13T12:01:13.993688",
     "exception": false,
     "start_time": "2021-05-13T12:01:13.941954",
     "status": "completed"
    },
    "tags": []
   },
   "source": [
    "**Observation:** We can thus validate our previous assumption that there are null values in bmi column. Let's try filling out those null values.\n",
    "\n"
   ]
  },
  {
   "cell_type": "code",
   "execution_count": 11,
   "id": "growing-benjamin",
   "metadata": {
    "execution": {
     "iopub.execute_input": "2021-05-13T12:01:14.106839Z",
     "iopub.status.busy": "2021-05-13T12:01:14.106188Z",
     "iopub.status.idle": "2021-05-13T12:01:14.110432Z",
     "shell.execute_reply": "2021-05-13T12:01:14.110873Z"
    },
    "papermill": {
     "duration": 0.062472,
     "end_time": "2021-05-13T12:01:14.111077",
     "exception": false,
     "start_time": "2021-05-13T12:01:14.048605",
     "status": "completed"
    },
    "tags": []
   },
   "outputs": [
    {
     "data": {
      "text/plain": [
       "418"
      ]
     },
     "execution_count": 11,
     "metadata": {},
     "output_type": "execute_result"
    }
   ],
   "source": [
    "df['bmi'].nunique()\n"
   ]
  },
  {
   "cell_type": "code",
   "execution_count": 12,
   "id": "productive-vocabulary",
   "metadata": {
    "execution": {
     "iopub.execute_input": "2021-05-13T12:01:14.219731Z",
     "iopub.status.busy": "2021-05-13T12:01:14.219113Z",
     "iopub.status.idle": "2021-05-13T12:01:14.231506Z",
     "shell.execute_reply": "2021-05-13T12:01:14.232083Z"
    },
    "papermill": {
     "duration": 0.068408,
     "end_time": "2021-05-13T12:01:14.232276",
     "exception": false,
     "start_time": "2021-05-13T12:01:14.163868",
     "status": "completed"
    },
    "tags": []
   },
   "outputs": [
    {
     "data": {
      "text/plain": [
       "id                   0\n",
       "gender               0\n",
       "age                  0\n",
       "hypertension         0\n",
       "heart_disease        0\n",
       "ever_married         0\n",
       "work_type            0\n",
       "Residence_type       0\n",
       "avg_glucose_level    0\n",
       "bmi                  0\n",
       "smoking_status       0\n",
       "stroke               0\n",
       "dtype: int64"
      ]
     },
     "execution_count": 12,
     "metadata": {},
     "output_type": "execute_result"
    }
   ],
   "source": [
    "# handling missing values\n",
    "df['bmi'].fillna(df['bmi'].mean(), inplace=True)\n",
    "df.isnull().sum()"
   ]
  },
  {
   "cell_type": "code",
   "execution_count": 13,
   "id": "prompt-booking",
   "metadata": {
    "execution": {
     "iopub.execute_input": "2021-05-13T12:01:14.343599Z",
     "iopub.status.busy": "2021-05-13T12:01:14.342836Z",
     "iopub.status.idle": "2021-05-13T12:01:15.517258Z",
     "shell.execute_reply": "2021-05-13T12:01:15.517731Z"
    },
    "papermill": {
     "duration": 1.231786,
     "end_time": "2021-05-13T12:01:15.517915",
     "exception": false,
     "start_time": "2021-05-13T12:01:14.286129",
     "status": "completed"
    },
    "tags": []
   },
   "outputs": [
    {
     "data": {
      "image/png": "[encoded data removed]",
      "text/plain": [
       "<Figure size 1152x1152 with 8 Axes>"
      ]
     },
     "metadata": {
      "needs_background": "light"
     },
     "output_type": "display_data"
    }
   ],
   "source": [
    "fig,axes = plt.subplots(4,2,figsize = (16,16))\n",
    "sns.set_style('whitegrid')\n",
    "fig.suptitle(\"Count plot for various categorical features\")\n",
    "\n",
    "sns.countplot(ax=axes[0,0],data=df,x='gender')\n",
    "sns.countplot(ax=axes[0,1],data=df,x='hypertension')\n",
    "sns.countplot(ax=axes[1,0],data=df,x='heart_disease')\n",
    "sns.countplot(ax=axes[1,1],data=df,x='ever_married')\n",
    "sns.countplot(ax=axes[2,0],data=df,x='work_type')\n",
    "sns.countplot(ax=axes[2,1],data=df,x='Residence_type')\n",
    "sns.countplot(ax=axes[3,0],data=df,x='smoking_status')\n",
    "sns.countplot(ax=axes[3,1],data=df,x='stroke')\n",
    "\n",
    "plt.show()"
   ]
  },
  {
   "cell_type": "code",
   "execution_count": 14,
   "id": "revolutionary-albany",
   "metadata": {
    "execution": {
     "iopub.execute_input": "2021-05-13T12:01:15.635596Z",
     "iopub.status.busy": "2021-05-13T12:01:15.634895Z",
     "iopub.status.idle": "2021-05-13T12:01:15.641482Z",
     "shell.execute_reply": "2021-05-13T12:01:15.641982Z"
    },
    "papermill": {
     "duration": 0.068607,
     "end_time": "2021-05-13T12:01:15.642181",
     "exception": false,
     "start_time": "2021-05-13T12:01:15.573574",
     "status": "completed"
    },
    "tags": []
   },
   "outputs": [
    {
     "name": "stdout",
     "output_type": "stream",
     "text": [
      "SMOKING_STATUS :['formerly smoked' 'never smoked' 'smokes' 'Unknown'] \n",
      "WORK_TYPE :['Private' 'Self-employed' 'Govt_job' 'children' 'Never_worked'] \n",
      "RESIDENCE_TYPE :['Urban' 'Rural'] \n",
      "GENDER :['Male' 'Female' 'Other'] \n"
     ]
    }
   ],
   "source": [
    "#This is to look at what all unique values have . Just trying to use python\n",
    "list_col=['smoking_status','work_type','Residence_type','gender']\n",
    "\n",
    "#What are the different types of smking status?\n",
    "#What are the different work types?\n",
    "#What are the residence types?\n",
    "#How many models we have?\n",
    "\n",
    "for col in list_col: \n",
    "    print('{} :{} ' . format(col.upper(),df[col].unique()))"
   ]
  },
  {
   "cell_type": "markdown",
   "id": "pretty-lindsay",
   "metadata": {
    "papermill": {
     "duration": 0.055696,
     "end_time": "2021-05-13T12:01:15.753569",
     "exception": false,
     "start_time": "2021-05-13T12:01:15.697873",
     "status": "completed"
    },
    "tags": []
   },
   "source": [
    "**Observation:**\n",
    "\n",
    "* There are 4 different types of people on the basis of smoking category.\n",
    "* People can be categorised into 5 types on the basis of type of work.\n",
    "* There are only 2 residences - 'Urban' and 'Rural'\n",
    "* There are 3 different gender entries."
   ]
  },
  {
   "cell_type": "code",
   "execution_count": 15,
   "id": "frequent-values",
   "metadata": {
    "execution": {
     "iopub.execute_input": "2021-05-13T12:01:15.872828Z",
     "iopub.status.busy": "2021-05-13T12:01:15.871941Z",
     "iopub.status.idle": "2021-05-13T12:01:17.001401Z",
     "shell.execute_reply": "2021-05-13T12:01:17.000834Z"
    },
    "papermill": {
     "duration": 1.190459,
     "end_time": "2021-05-13T12:01:17.001555",
     "exception": false,
     "start_time": "2021-05-13T12:01:15.811096",
     "status": "completed"
    },
    "tags": []
   },
   "outputs": [
    {
     "data": {
      "text/html": [
       "        <script type=\"text/javascript\">\n",
       "        window.PlotlyConfig = {MathJaxConfig: 'local'};\n",
       "        if (window.MathJax) {MathJax.Hub.Config({SVG: {font: \"STIX-Web\"}});}\n",
       "        if (typeof require !== 'undefined') {\n",
       "        require.undef(\"plotly\");\n",
       "        requirejs.config({\n",
       "            paths: {\n",
       "                'plotly': ['https://cdn.plot.ly/plotly-latest.min']\n",
       "            }\n",
       "        });\n",
       "        require(['plotly'], function(Plotly) {\n",
       "            window._Plotly = Plotly;\n",
       "        });\n",
       "        }\n",
       "        </script>\n",
       "        "
      ]
     },
     "metadata": {},
     "output_type": "display_data"
    },
    {
     "data": {
      "text/html": [
       "<div>                            <div id=\"ae369041-3ccf-4745-a620-a7ec7cfc1883\" class=\"plotly-graph-div\" style=\"height:300px; width:800px;\"></div>            <script type=\"text/javascript\">                require([\"plotly\"], function(Plotly) {                    window.PLOTLYENV=window.PLOTLYENV || {};                                    if (document.getElementById(\"ae369041-3ccf-4745-a620-a7ec7cfc1883\")) {                    Plotly.newPlot(                        \"ae369041-3ccf-4745-a620-a7ec7cfc1883\",                        [{\"alignmentgroup\": \"True\", \"hovertemplate\": \"avg_glucose_level=%{x}<extra></extra>\", \"legendgroup\": \"\", \"marker\": {\"color\": \"#636efa\"}, \"name\": \"\", \"notched\": false, \"offsetgroup\": \"\", \"orientation\": \"h\", \"showlegend\": false, \"type\": \"box\", \"x\": [228.69, 202.21, 105.92, 171.23, 174.12, 186.21, 70.09, 94.39, 76.15, 58.57, 80.43, 120.46, 104.51, 219.84, 214.09, 167.41, 191.61, 221.29, 89.22, 217.08, 193.94, 233.29, 228.7, 208.3, 102.87, 104.12, 100.98, 189.84, 195.23, 211.78, 212.08, 83.41, 196.92, 252.72, 84.2, 84.03, 219.72, 74.63, 92.62, 60.91, 78.03, 71.22, 144.9, 90.9, 213.03, 243.58, 109.78, 107.26, 99.33, 58.09, 89.96, 75.32, 127.29, 124.13, 197.54, 196.71, 59.32, 237.75, 194.99, 180.93, 185.17, 74.9, 61.94, 93.72, 104.72, 113.01, 221.58, 104.47, 86.23, 72.67, 62.57, 179.12, 116.55, 228.56, 96.59, 66.72, 240.09, 110.85, 165.31, 143.43, 96.16, 101.45, 88.92, 79.79, 71.2, 96.97, 111.81, 59.35, 86.94, 98.55, 226.98, 72.81, 68.02, 68.56, 64.14, 235.63, 76.34, 240.59, 78.92, 82.81, 74.1, 190.32, 231.61, 78.7, 110.52, 82.3, 73.18, 191.82, 93.05, 64.17, 129.98, 68.53, 106.41, 224.1, 82.1, 216.94, 76.11, 72.96, 82.28, 105.22, 59.86, 62.55, 259.63, 249.31, 219.91, 131.41, 93.13, 73.54, 200.59, 62.48, 190.14, 130.54, 182.99, 101.45, 206.09, 263.32, 140.1, 207.28, 194.37, 199.2, 103.68, 116.44, 70.28, 72.17, 221.79, 151.16, 68.43, 67.29, 67.41, 239.07, 169.67, 223.83, 76.57, 77.82, 92.98, 231.56, 102.16, 221.89, 195.71, 74.02, 57.92, 81.76, 70.37, 203.87, 89.13, 133.19, 162.23, 75.02, 98.02, 91.54, 111.98, 60.94, 97.43, 91.02, 60.67, 185.49, 64.44, 56.11, 110.66, 213.22, 78.18, 111.04, 76.13, 81.32, 112.24, 137.3, 116.69, 215.94, 86.62, 209.86, 205.77, 112.16, 118.03, 271.74, 97.92, 200.62, 242.52, 93.81, 114.77, 74.96, 167.13, 175.29, 90.0, 109.47, 87.85, 106.74, 80.13, 90.19, 134.8, 106.58, 83.24, 103.43, 208.65, 74.11, 95.84, 205.33, 116.1, 210.4, 199.86, 219.73, 250.89, 72.73, 205.35, 70.3, 104.86, 216.58, 184.4, 60.98, 97.76, 66.03, 81.95, 97.73, 70.94, 199.84, 218.46, 211.06, 86.3, 162.14, 88.2, 91.92, 76.46, 197.28, 233.94, 247.51, 84.96, 57.93, 78.8, 87.8, 78.81, 95.12, 87.96, 110.89, 69.04, 161.28, 210.95, 77.59, 243.53, 77.67, 205.84, 77.08, 57.08, 162.96, 73.5, 95.04, 85.37, 84.62, 82.67, 57.33, 67.84, 75.7, 129.54, 60.22, 198.21, 109.82, 60.84, 94.61, 97.49, 206.72, 214.45, 82.9, 103.26, 55.78, 73.74, 149.75, 82.34, 62.6, 94.09, 55.42, 82.18, 117.92, 114.84, 79.17, 110.63, 190.7, 79.81, 113.63, 141.24, 56.96, 203.04, 94.3, 81.51, 137.74, 81.84, 242.3, 102.64, 146.01, 75.42, 220.49, 61.45, 88.19, 115.22, 97.93, 85.6, 79.83, 218.46, 62.2, 69.15, 127.71, 216.7, 71.89, 103.56, 79.03, 69.94, 90.12, 95.1, 234.58, 235.85, 78.05, 89.44, 111.38, 243.5, 182.2, 229.92, 82.24, 89.84, 90.69, 84.38, 215.6, 91.61, 138.16, 75.23, 75.18, 106.23, 239.64, 58.95, 99.92, 116.23, 118.82, 66.3, 101.41, 200.28, 136.8, 96.57, 66.42, 98.09, 205.23, 86.78, 126.82, 78.4, 63.69, 209.58, 89.86, 110.99, 83.82, 137.96, 210.78, 118.89, 72.55, 107.41, 93.25, 74.91, 80.05, 99.8, 91.97, 64.4, 73.02, 88.11, 138.29, 72.36, 68.76, 106.22, 101.52, 109.51, 85.84, 110.15, 91.72, 251.6, 123.1, 97.4, 68.34, 80.81, 120.31, 83.51, 74.09, 91.6, 87.52, 213.37, 75.39, 122.41, 223.36, 84.59, 70.16, 107.52, 80.88, 93.48, 70.21, 86.67, 101.37, 105.22, 70.31, 64.06, 178.29, 81.6, 147.48, 86.86, 71.16, 73.2, 203.81, 82.0, 97.55, 94.29, 75.22, 90.07, 73.73, 79.58, 77.88, 205.26, 58.63, 139.9, 211.03, 72.79, 91.65, 79.92, 225.47, 94.48, 82.34, 180.63, 92.48, 116.66, 112.09, 130.34, 82.59, 123.87, 98.7, 227.1, 55.39, 66.07, 104.21, 145.15, 68.19, 97.53, 122.31, 83.51, 86.46, 112.06, 92.14, 201.76, 74.44, 95.93, 87.51, 72.35, 113.47, 103.78, 115.43, 95.59, 101.52, 170.05, 217.3, 196.01, 92.21, 100.09, 93.88, 75.05, 70.08, 74.2, 69.01, 96.17, 184.15, 87.24, 198.69, 82.58, 96.88, 73.32, 94.59, 132.08, 98.99, 104.48, 98.01, 79.14, 89.32, 65.24, 80.98, 186.17, 69.24, 111.19, 93.28, 122.19, 129.53, 114.53, 93.73, 77.49, 65.38, 94.18, 118.7, 96.29, 74.64, 96.99, 100.61, 97.08, 84.79, 78.75, 82.93, 88.78, 122.1, 74.81, 183.45, 114.94, 104.38, 102.91, 108.79, 73.31, 68.52, 89.77, 102.64, 70.92, 86.11, 129.16, 113.85, 79.35, 80.79, 114.01, 93.74, 90.65, 98.41, 127.18, 138.06, 89.44, 105.61, 155.43, 80.83, 80.19, 60.34, 79.3, 98.44, 210.48, 70.34, 122.22, 75.29, 100.35, 193.83, 126.96, 183.34, 247.69, 76.2, 71.43, 93.36, 61.29, 103.62, 100.52, 191.47, 67.06, 144.1, 58.26, 239.82, 73.71, 88.53, 114.79, 113.8, 71.91, 65.3, 189.57, 114.25, 81.26, 87.88, 112.17, 99.97, 207.58, 109.16, 74.46, 118.51, 107.47, 182.86, 59.17, 215.64, 163.7, 196.36, 139.77, 141.23, 89.99, 108.53, 63.61, 85.54, 100.83, 59.82, 105.95, 188.11, 71.15, 60.53, 205.5, 204.86, 115.03, 79.87, 97.89, 125.26, 114.32, 92.23, 83.51, 102.34, 144.48, 88.39, 228.08, 93.79, 147.14, 106.43, 88.04, 92.2, 219.53, 75.56, 158.31, 111.43, 219.97, 148.91, 69.4, 68.34, 58.37, 71.2, 101.5, 92.04, 73.0, 111.15, 58.65, 100.54, 111.73, 97.78, 85.79, 98.54, 94.62, 112.43, 99.67, 67.39, 95.12, 85.06, 214.05, 79.09, 98.09, 76.36, 98.42, 82.01, 56.11, 111.85, 92.39, 112.54, 63.71, 70.35, 94.65, 64.64, 57.27, 107.25, 77.12, 55.32, 69.37, 57.57, 87.43, 98.73, 81.18, 56.23, 69.61, 59.49, 118.14, 100.26, 56.75, 88.27, 67.81, 77.46, 76.26, 86.39, 116.38, 75.74, 92.14, 149.95, 92.11, 74.98, 55.25, 79.89, 130.61, 94.26, 94.34, 109.03, 81.03, 99.82, 140.08, 59.54, 80.33, 131.51, 89.21, 91.45, 90.58, 91.45, 89.63, 124.06, 99.47, 88.97, 80.93, 102.07, 91.69, 63.71, 200.49, 75.3, 240.71, 60.5, 131.85, 134.39, 56.18, 113.64, 156.57, 80.4, 59.26, 63.26, 86.24, 197.1, 90.9, 84.59, 121.8, 77.65, 64.41, 75.19, 67.97, 119.34, 94.92, 107.42, 85.02, 103.51, 114.5, 70.78, 95.01, 84.11, 74.02, 78.49, 74.22, 55.34, 75.04, 109.73, 95.81, 96.78, 194.62, 70.02, 222.21, 62.41, 55.83, 65.12, 73.62, 85.83, 103.86, 60.98, 82.69, 250.2, 128.97, 84.31, 74.8, 97.06, 77.54, 92.78, 173.43, 79.08, 106.18, 114.21, 91.08, 105.77, 74.88, 123.15, 184.25, 117.69, 55.26, 106.51, 55.27, 98.42, 99.2, 98.92, 92.7, 106.7, 152.81, 82.59, 91.0, 93.88, 76.99, 254.6, 93.99, 109.68, 92.04, 111.41, 97.92, 65.61, 62.37, 101.28, 88.31, 103.55, 60.26, 79.39, 122.01, 78.09, 89.7, 95.1, 112.64, 79.8, 82.2, 108.89, 114.32, 116.14, 122.74, 94.04, 86.6, 82.32, 83.83, 106.98, 93.88, 70.53, 212.01, 65.88, 106.97, 126.35, 129.16, 88.66, 112.95, 81.59, 76.82, 73.75, 91.56, 104.55, 84.84, 86.06, 109.1, 68.35, 121.04, 160.83, 85.62, 74.23, 110.76, 79.44, 119.52, 90.42, 109.32, 78.16, 79.13, 84.06, 89.3, 69.21, 186.45, 58.47, 189.49, 99.6, 126.18, 186.32, 62.49, 74.51, 94.63, 91.98, 56.77, 75.87, 77.19, 135.75, 100.15, 95.08, 125.38, 111.71, 94.64, 226.7, 112.96, 183.1, 105.36, 84.13, 102.47, 77.04, 83.23, 87.01, 56.99, 73.01, 106.35, 80.63, 103.61, 91.35, 194.04, 111.99, 57.51, 68.49, 60.2, 160.0, 86.96, 237.15, 99.06, 56.31, 84.31, 90.92, 104.33, 62.61, 231.19, 94.3, 104.48, 72.62, 81.64, 90.78, 70.71, 72.36, 59.76, 83.76, 63.64, 76.26, 82.06, 110.91, 77.16, 69.58, 96.26, 87.27, 65.36, 109.51, 89.03, 91.34, 57.82, 81.15, 115.29, 111.02, 111.61, 109.02, 106.51, 207.32, 87.11, 61.68, 119.04, 86.05, 70.03, 207.64, 236.84, 78.11, 100.97, 99.21, 113.21, 92.95, 110.16, 142.57, 92.87, 111.48, 123.0, 100.54, 106.68, 86.4, 61.81, 128.28, 204.63, 89.98, 232.89, 98.58, 57.94, 123.21, 76.34, 92.98, 92.81, 85.16, 90.1, 65.15, 104.62, 113.25, 59.28, 93.07, 77.42, 73.69, 74.9, 88.27, 58.39, 102.05, 112.47, 72.84, 195.03, 170.95, 87.98, 65.81, 124.6, 83.65, 88.81, 86.75, 123.36, 89.68, 69.87, 109.22, 157.57, 110.73, 99.14, 59.15, 165.11, 77.44, 100.33, 57.93, 148.24, 91.96, 72.93, 84.27, 124.45, 90.51, 118.87, 56.42, 73.67, 89.11, 74.04, 145.23, 100.8, 85.22, 72.49, 82.61, 72.07, 79.85, 84.86, 131.89, 89.17, 227.91, 131.77, 102.01, 128.63, 144.1, 143.15, 116.67, 85.6, 142.12, 100.81, 69.17, 58.38, 86.34, 95.44, 94.78, 109.59, 79.26, 78.46, 85.29, 156.18, 69.52, 65.32, 108.47, 105.63, 77.93, 95.2, 78.52, 114.89, 95.43, 84.08, 110.55, 82.21, 82.38, 93.89, 75.08, 76.72, 84.93, 76.5, 65.47, 99.16, 63.53, 78.65, 63.78, 77.52, 111.64, 97.84, 113.01, 56.48, 204.5, 96.02, 206.25, 115.52, 60.69, 93.67, 67.79, 56.07, 254.63, 96.63, 84.3, 246.34, 195.16, 93.34, 162.3, 106.4, 110.25, 69.7, 87.03, 112.98, 82.47, 75.88, 84.63, 109.56, 89.45, 91.65, 121.14, 87.77, 106.56, 93.88, 153.76, 88.65, 111.22, 223.68, 55.86, 63.73, 103.94, 92.49, 229.2, 75.06, 85.57, 68.61, 56.3, 193.22, 65.98, 204.57, 64.99, 66.12, 73.4, 82.83, 93.55, 90.4, 98.1, 142.02, 251.46, 89.96, 71.73, 82.44, 80.85, 220.52, 86.73, 76.93, 113.1, 96.84, 100.91, 116.5, 57.26, 129.31, 56.47, 86.06, 86.97, 78.78, 195.04, 103.25, 134.59, 93.74, 90.66, 91.68, 75.79, 91.68, 106.68, 82.31, 90.06, 65.47, 58.03, 83.09, 88.6, 63.18, 78.42, 65.08, 79.47, 95.52, 73.0, 138.07, 86.99, 112.07, 105.76, 55.67, 90.55, 218.65, 111.21, 83.56, 116.76, 83.5, 69.3, 67.55, 80.28, 211.49, 67.96, 99.29, 140.52, 75.62, 120.06, 117.45, 224.71, 122.75, 82.39, 57.02, 115.98, 226.11, 97.59, 82.57, 79.34, 125.68, 102.06, 65.59, 120.85, 101.65, 210.94, 77.92, 230.68, 62.68, 55.22, 78.94, 109.69, 79.63, 79.33, 79.91, 84.46, 68.4, 78.43, 198.02, 85.35, 204.17, 82.71, 121.19, 106.02, 66.36, 267.76, 107.18, 74.58, 80.92, 90.77, 90.84, 59.2, 217.71, 133.76, 61.36, 118.62, 77.91, 68.98, 112.08, 96.2, 93.11, 115.54, 88.57, 180.76, 83.12, 94.89, 239.52, 99.15, 124.16, 86.38, 93.68, 229.86, 78.73, 115.92, 93.71, 76.66, 112.38, 89.3, 103.44, 79.69, 61.61, 94.12, 62.4, 210.96, 76.25, 103.48, 96.42, 78.59, 195.25, 103.76, 68.52, 92.17, 81.02, 94.33, 78.43, 217.39, 82.77, 88.13, 102.77, 101.75, 113.34, 63.33, 69.34, 118.81, 66.13, 67.53, 96.58, 57.89, 78.38, 94.15, 89.53, 127.75, 76.79, 141.15, 88.63, 201.25, 130.15, 108.03, 104.07, 88.83, 197.79, 150.45, 100.39, 79.92, 96.79, 86.84, 61.27, 72.61, 82.41, 74.72, 57.37, 73.72, 88.34, 101.34, 119.01, 71.98, 84.91, 91.63, 214.77, 145.71, 167.31, 63.65, 79.63, 87.49, 98.74, 92.82, 72.2, 181.23, 63.37, 74.82, 97.6, 93.04, 97.12, 82.81, 134.45, 98.67, 85.82, 189.45, 144.16, 82.56, 206.4, 67.97, 84.86, 71.7, 72.02, 61.81, 103.09, 73.75, 156.7, 70.87, 138.47, 64.66, 91.88, 74.79, 78.18, 77.82, 112.23, 178.76, 121.43, 94.22, 67.27, 197.58, 86.37, 112.09, 199.96, 85.33, 86.33, 80.47, 62.46, 78.85, 72.09, 103.81, 78.04, 94.67, 62.25, 155.17, 83.28, 132.41, 62.78, 89.96, 103.25, 126.99, 102.27, 113.63, 86.09, 108.08, 108.34, 56.07, 82.91, 94.75, 101.79, 88.41, 101.05, 85.07, 108.1, 93.17, 158.89, 205.77, 112.34, 119.03, 237.21, 89.68, 246.53, 89.05, 81.74, 98.12, 105.59, 86.0, 65.51, 61.78, 109.56, 65.82, 90.16, 64.45, 91.85, 97.89, 206.33, 74.29, 107.4, 87.72, 85.99, 100.84, 124.61, 86.55, 90.42, 100.85, 87.74, 80.15, 107.29, 206.98, 227.28, 80.43, 228.7, 120.07, 93.47, 80.77, 150.27, 81.94, 70.75, 83.83, 73.66, 102.37, 77.83, 70.01, 119.88, 78.29, 169.97, 123.79, 80.98, 84.21, 101.31, 86.26, 92.86, 140.28, 244.28, 124.16, 93.55, 99.34, 59.87, 72.76, 68.34, 61.1, 120.77, 60.39, 126.34, 93.24, 154.75, 62.81, 65.96, 79.53, 96.85, 251.99, 115.13, 102.3, 78.99, 191.79, 68.8, 83.84, 94.66, 107.98, 61.01, 135.64, 92.65, 121.11, 163.56, 107.69, 216.88, 70.15, 83.02, 87.94, 222.29, 139.43, 213.11, 77.23, 58.48, 87.33, 102.34, 151.3, 144.23, 110.6, 80.28, 111.02, 114.88, 227.51, 111.65, 201.01, 129.01, 124.08, 107.91, 95.4, 65.9, 78.98, 111.33, 104.36, 123.87, 210.0, 86.86, 113.96, 81.28, 102.5, 78.05, 237.58, 86.07, 59.05, 95.88, 70.18, 111.13, 79.3, 65.84, 123.49, 207.45, 143.45, 89.11, 58.3, 78.68, 98.91, 67.92, 73.0, 97.5, 108.43, 90.43, 76.3, 121.27, 119.67, 226.93, 76.11, 93.23, 253.16, 101.02, 238.53, 79.18, 207.79, 196.2, 231.76, 93.3, 110.47, 77.52, 91.23, 216.92, 157.01, 93.51, 102.54, 87.78, 126.67, 93.6, 194.98, 99.96, 58.87, 77.67, 83.14, 69.18, 218.54, 71.22, 82.41, 82.07, 73.0, 127.25, 72.63, 108.2, 123.95, 58.71, 98.46, 68.78, 133.63, 101.43, 65.3, 72.49, 65.49, 63.4, 105.29, 64.08, 78.34, 66.32, 168.15, 93.48, 79.2, 107.45, 83.86, 119.96, 70.58, 87.7, 65.29, 97.14, 110.68, 91.93, 88.54, 183.0, 115.93, 99.13, 69.24, 102.28, 71.31, 89.75, 87.66, 237.17, 81.11, 178.33, 81.38, 109.56, 70.45, 73.44, 146.44, 65.04, 151.25, 106.41, 197.09, 93.58, 122.04, 80.06, 84.93, 68.4, 62.99, 139.67, 113.4, 101.92, 65.98, 84.3, 61.42, 85.52, 83.79, 73.83, 69.38, 66.11, 149.62, 242.84, 202.66, 216.9, 103.78, 114.88, 75.94, 55.51, 93.74, 71.44, 58.29, 115.83, 102.71, 99.69, 102.89, 79.05, 56.63, 87.34, 109.51, 81.43, 78.59, 101.22, 78.26, 105.47, 68.19, 210.0, 114.47, 66.85, 94.71, 208.05, 222.6, 80.81, 64.51, 151.56, 199.14, 73.41, 109.65, 69.11, 114.41, 103.46, 95.36, 57.33, 191.48, 71.63, 94.0, 93.77, 84.75, 89.24, 70.13, 82.26, 200.16, 80.73, 75.09, 80.57, 77.04, 145.26, 190.4, 82.08, 103.35, 97.46, 123.65, 87.96, 85.92, 80.8, 99.3, 62.56, 144.2, 71.38, 95.5, 67.06, 70.16, 104.24, 122.48, 215.9, 108.56, 69.88, 91.54, 65.85, 60.74, 233.52, 110.7, 78.93, 124.5, 57.95, 92.82, 58.25, 213.54, 74.86, 78.35, 101.26, 86.87, 124.01, 83.41, 188.69, 86.51, 70.65, 92.4, 73.36, 219.5, 105.73, 83.79, 58.02, 61.94, 99.71, 63.19, 107.11, 56.84, 217.66, 77.19, 76.22, 155.32, 70.67, 227.16, 58.69, 88.85, 137.94, 60.6, 93.67, 79.56, 122.46, 92.32, 80.63, 92.32, 59.89, 80.57, 88.52, 88.82, 102.08, 71.38, 84.9, 82.21, 209.9, 74.05, 90.46, 176.48, 94.07, 85.12, 71.81, 111.93, 94.4, 70.0, 95.57, 91.98, 66.29, 211.88, 76.55, 56.67, 100.52, 58.96, 81.66, 96.77, 91.63, 97.51, 225.6, 95.58, 210.23, 92.82, 234.82, 65.67, 74.51, 81.99, 87.69, 125.29, 111.64, 70.93, 89.93, 137.45, 72.06, 97.9, 84.85, 230.59, 92.81, 168.15, 224.63, 108.12, 85.17, 84.14, 85.57, 82.81, 110.53, 61.88, 85.04, 140.4, 62.27, 99.44, 88.9, 64.1, 97.58, 58.66, 88.24, 61.32, 185.71, 62.99, 86.04, 83.3, 208.17, 133.2, 81.54, 146.61, 79.33, 84.56, 103.44, 185.31, 102.53, 65.78, 62.6, 81.18, 76.68, 92.86, 90.95, 85.66, 88.2, 203.04, 68.37, 77.32, 187.87, 213.87, 119.62, 222.85, 100.82, 136.1, 149.42, 79.99, 118.21, 56.3, 84.49, 89.61, 100.09, 198.36, 93.61, 75.43, 100.31, 105.63, 82.84, 58.88, 92.27, 115.23, 196.25, 85.97, 114.33, 72.52, 99.87, 63.47, 90.58, 92.26, 113.74, 72.79, 94.71, 194.53, 72.65, 86.68, 140.39, 77.87, 104.7, 95.82, 204.05, 130.56, 67.78, 105.29, 135.19, 116.12, 59.63, 56.43, 199.18, 209.26, 91.21, 95.16, 217.11, 222.46, 70.96, 82.44, 74.11, 131.23, 187.52, 83.26, 99.07, 76.63, 65.09, 142.31, 80.99, 237.74, 74.26, 154.08, 78.29, 164.67, 59.61, 67.75, 92.73, 90.35, 77.86, 71.88, 118.82, 67.33, 121.66, 111.92, 92.82, 95.46, 59.99, 68.96, 90.26, 91.9, 91.08, 118.55, 102.04, 65.52, 82.09, 149.9, 100.33, 91.25, 89.81, 97.32, 75.53, 121.44, 83.52, 57.92, 75.27, 80.24, 88.69, 69.09, 62.67, 98.74, 56.51, 65.95, 129.07, 62.47, 69.82, 99.68, 223.35, 74.36, 102.97, 153.38, 87.1, 113.4, 94.88, 82.73, 67.8, 84.85, 135.89, 106.13, 74.33, 109.4, 75.4, 87.69, 95.85, 90.36, 63.45, 201.07, 122.91, 55.41, 60.99, 111.77, 77.63, 70.61, 124.34, 103.44, 124.5, 208.06, 75.5, 98.85, 96.06, 93.74, 65.6, 113.24, 94.77, 145.22, 112.92, 84.79, 103.28, 109.0, 96.18, 186.95, 68.66, 128.72, 85.04, 146.97, 65.69, 97.52, 90.43, 81.71, 198.24, 90.51, 97.78, 80.74, 57.02, 93.0, 95.37, 96.25, 86.74, 63.08, 129.16, 99.79, 83.34, 95.01, 229.21, 80.08, 62.0, 118.69, 77.57, 108.75, 108.23, 151.33, 82.43, 107.17, 91.46, 81.05, 73.02, 114.37, 100.29, 68.37, 87.95, 73.27, 131.43, 107.29, 68.24, 74.01, 95.4, 95.75, 104.51, 108.87, 209.06, 86.57, 120.25, 85.51, 84.18, 82.37, 96.15, 74.55, 114.45, 113.68, 107.91, 83.85, 101.3, 72.13, 94.98, 228.42, 93.9, 93.13, 121.6, 84.4, 82.13, 73.33, 75.88, 212.97, 100.41, 202.05, 71.42, 107.5, 55.57, 58.14, 78.53, 78.79, 96.62, 65.28, 92.67, 206.25, 114.18, 231.69, 101.89, 107.22, 101.99, 72.56, 94.47, 98.76, 116.93, 219.96, 75.77, 124.35, 88.97, 72.49, 107.27, 97.96, 197.69, 112.3, 75.77, 76.51, 93.14, 80.84, 199.88, 77.48, 65.34, 81.96, 98.71, 170.22, 73.5, 72.39, 102.96, 80.72, 74.19, 77.12, 81.2, 114.76, 109.97, 92.87, 113.05, 68.24, 74.35, 91.08, 88.83, 134.33, 208.78, 66.17, 222.29, 114.16, 61.67, 220.36, 76.03, 73.06, 187.88, 79.89, 79.02, 191.66, 76.74, 72.29, 92.59, 80.42, 62.47, 63.94, 77.73, 115.79, 96.3, 107.46, 108.33, 89.37, 93.64, 217.75, 83.44, 93.88, 55.34, 102.61, 62.08, 81.76, 59.2, 55.61, 226.88, 65.66, 58.7, 186.4, 122.32, 59.05, 149.13, 82.39, 169.49, 80.25, 203.81, 170.76, 80.85, 120.58, 86.57, 90.01, 68.84, 155.14, 158.48, 92.56, 90.15, 80.09, 189.44, 70.03, 249.29, 72.52, 96.93, 211.35, 85.87, 60.96, 120.09, 92.13, 83.07, 77.67, 109.51, 97.24, 127.29, 134.8, 74.65, 85.84, 90.43, 74.35, 206.59, 196.33, 70.23, 242.94, 103.06, 80.86, 114.32, 83.91, 152.02, 75.19, 60.61, 89.14, 97.23, 135.19, 78.48, 97.24, 75.92, 93.3, 97.39, 134.61, 104.02, 56.9, 112.66, 226.75, 76.28, 90.01, 107.84, 71.06, 185.0, 104.42, 89.57, 136.2, 128.23, 104.23, 133.82, 80.82, 102.35, 88.48, 88.81, 75.09, 199.83, 73.69, 111.27, 68.44, 65.36, 94.12, 96.24, 91.25, 77.29, 125.09, 107.18, 130.07, 57.3, 101.35, 94.03, 227.81, 66.67, 240.81, 88.02, 152.87, 96.04, 60.35, 118.66, 89.03, 58.51, 96.04, 110.92, 92.72, 108.23, 56.34, 61.83, 131.99, 136.81, 239.28, 131.3, 117.75, 78.46, 83.53, 145.5, 88.33, 101.25, 131.43, 231.5, 82.89, 192.37, 79.64, 82.88, 99.4, 77.75, 75.03, 220.47, 196.91, 180.8, 247.48, 216.0, 75.64, 95.07, 129.97, 124.26, 87.92, 85.15, 95.36, 87.16, 219.39, 71.92, 167.66, 87.21, 220.47, 80.47, 89.95, 111.32, 65.01, 110.07, 60.56, 89.83, 90.35, 71.5, 71.71, 173.96, 96.06, 113.2, 106.03, 111.38, 73.29, 65.71, 60.41, 89.11, 63.32, 85.68, 162.93, 89.22, 91.68, 198.33, 85.81, 79.59, 106.74, 191.33, 59.52, 206.52, 80.07, 64.92, 80.0, 75.06, 112.2, 91.18, 85.81, 148.37, 64.55, 97.31, 111.15, 80.97, 89.88, 62.66, 122.25, 87.08, 85.0, 100.49, 145.37, 112.19, 79.73, 101.13, 101.98, 98.39, 128.04, 98.12, 216.96, 94.92, 83.27, 96.86, 99.73, 91.71, 65.77, 161.57, 74.32, 170.93, 74.43, 86.36, 97.06, 110.38, 79.03, 62.48, 55.62, 84.9, 232.81, 86.55, 118.61, 80.21, 65.96, 61.34, 116.6, 85.13, 86.32, 69.22, 140.93, 83.43, 207.95, 134.29, 115.12, 86.25, 112.94, 73.54, 80.86, 83.91, 69.91, 95.62, 63.95, 122.5, 86.0, 120.27, 56.71, 131.63, 79.36, 120.77, 100.42, 155.86, 66.01, 86.99, 90.55, 229.58, 60.06, 65.66, 104.7, 113.86, 99.49, 165.99, 114.99, 79.58, 77.37, 93.55, 187.22, 167.59, 98.03, 88.79, 92.9, 117.34, 80.75, 77.51, 105.63, 114.34, 227.04, 87.56, 84.47, 96.26, 116.64, 79.57, 78.44, 64.15, 74.5, 70.32, 84.48, 144.08, 78.14, 133.58, 214.42, 80.63, 233.71, 96.0, 74.52, 131.4, 216.4, 108.8, 97.06, 266.59, 55.58, 65.87, 89.28, 56.12, 74.7, 83.06, 227.94, 84.88, 64.2, 137.22, 81.44, 90.26, 68.48, 100.02, 100.61, 156.82, 81.66, 112.22, 90.62, 72.49, 107.47, 92.11, 70.54, 205.0, 126.39, 89.72, 92.08, 85.38, 95.25, 75.91, 203.44, 243.73, 88.23, 97.47, 59.28, 101.15, 68.38, 55.46, 113.87, 67.03, 96.35, 127.21, 78.9, 59.91, 160.94, 59.61, 87.94, 97.55, 116.02, 127.32, 75.5, 79.35, 176.25, 108.56, 168.06, 75.52, 82.15, 200.28, 62.44, 84.31, 221.43, 165.47, 96.69, 63.98, 145.03, 98.53, 105.55, 134.23, 62.48, 213.38, 70.52, 93.21, 82.39, 88.29, 80.18, 84.02, 69.72, 192.16, 82.27, 101.87, 77.55, 215.72, 87.84, 91.93, 58.63, 173.14, 106.83, 84.44, 92.16, 85.96, 202.57, 65.41, 102.51, 62.6, 150.1, 94.15, 65.5, 81.31, 78.96, 123.47, 90.4, 71.59, 209.5, 86.6, 57.43, 87.93, 203.16, 112.12, 92.02, 60.98, 86.35, 71.26, 72.61, 110.78, 99.78, 201.45, 127.78, 121.32, 83.89, 74.06, 206.15, 102.9, 65.48, 123.23, 71.3, 79.05, 102.21, 105.22, 84.58, 77.3, 74.79, 88.75, 97.97, 79.18, 81.33, 126.68, 196.61, 219.92, 79.16, 99.68, 79.55, 87.86, 76.92, 77.24, 120.94, 77.66, 231.95, 111.48, 84.25, 216.38, 95.01, 105.74, 58.41, 56.89, 86.25, 86.49, 115.47, 92.22, 83.16, 110.68, 70.06, 213.33, 93.52, 87.62, 77.67, 95.66, 172.33, 106.59, 87.06, 93.02, 243.59, 86.7, 97.81, 116.04, 169.43, 68.41, 94.44, 73.48, 183.87, 66.08, 72.19, 101.09, 88.83, 69.99, 102.4, 87.26, 146.59, 59.0, 76.83, 101.83, 90.92, 67.5, 97.16, 85.62, 129.43, 106.01, 114.82, 121.39, 227.98, 78.97, 84.12, 95.04, 103.15, 82.91, 70.93, 153.6, 129.43, 81.0, 71.81, 84.46, 101.32, 62.56, 208.2, 199.42, 91.28, 77.99, 190.13, 149.68, 92.3, 235.54, 84.46, 68.7, 178.89, 227.74, 100.66, 73.62, 100.05, 213.8, 103.94, 84.2, 250.8, 112.29, 65.98, 99.1, 217.84, 104.34, 217.0, 57.47, 78.24, 94.38, 100.31, 74.29, 103.43, 99.83, 217.4, 71.81, 79.79, 190.92, 94.76, 101.43, 115.86, 95.27, 89.02, 77.55, 75.86, 93.62, 72.71, 94.45, 88.57, 84.12, 89.11, 99.83, 150.03, 69.67, 77.46, 100.54, 142.38, 110.87, 73.6, 59.52, 142.68, 182.9, 75.28, 100.75, 163.82, 110.42, 105.18, 79.59, 107.99, 90.22, 143.45, 78.57, 79.82, 95.88, 123.04, 92.34, 116.84, 90.04, 255.17, 217.55, 123.66, 112.16, 88.43, 86.03, 227.96, 85.6, 111.68, 73.49, 87.82, 99.29, 63.73, 85.55, 79.2, 105.93, 94.19, 231.71, 69.28, 71.37, 110.18, 59.68, 94.24, 82.1, 62.62, 107.83, 107.59, 116.98, 84.1, 160.64, 84.4, 81.13, 88.19, 127.13, 119.61, 143.47, 84.6, 110.72, 158.93, 68.94, 69.38, 72.0, 57.76, 108.65, 65.42, 78.93, 98.34, 82.57, 124.37, 100.96, 75.22, 59.85, 104.75, 70.98, 92.77, 82.12, 106.35, 77.33, 96.01, 107.49, 88.47, 87.92, 91.13, 80.72, 59.83, 67.02, 60.22, 82.41, 75.78, 102.42, 98.45, 93.51, 113.68, 97.41, 58.65, 81.68, 148.52, 77.55, 142.12, 125.3, 118.81, 84.16, 78.74, 57.51, 61.11, 78.3, 76.19, 115.99, 100.8, 98.27, 93.85, 94.69, 136.23, 56.12, 93.03, 196.81, 87.81, 222.66, 223.58, 85.77, 88.23, 73.65, 141.8, 92.65, 198.79, 61.04, 102.88, 123.39, 67.07, 69.88, 57.02, 123.81, 73.36, 90.54, 69.24, 192.39, 233.3, 74.35, 71.94, 82.35, 73.28, 97.57, 83.3, 85.07, 60.4, 79.96, 70.96, 82.86, 97.87, 201.38, 91.82, 91.85, 99.23, 68.13, 93.76, 103.89, 87.39, 89.53, 66.61, 236.14, 99.76, 87.09, 193.81, 97.27, 137.77, 105.19, 82.72, 58.35, 68.79, 94.19, 121.17, 106.41, 104.79, 82.18, 96.81, 107.42, 69.2, 92.73, 86.11, 111.78, 122.26, 78.16, 105.77, 102.97, 77.53, 77.35, 82.36, 239.95, 61.96, 72.1, 107.97, 60.77, 71.06, 60.36, 83.33, 65.33, 113.28, 170.88, 103.34, 106.08, 156.45, 60.05, 114.05, 202.21, 57.28, 99.49, 63.6, 80.01, 58.42, 67.38, 73.58, 103.92, 80.22, 103.76, 77.06, 90.22, 181.3, 85.29, 107.59, 87.72, 70.73, 72.75, 95.47, 70.54, 100.03, 59.78, 198.79, 90.39, 147.04, 202.55, 64.92, 154.6, 95.98, 102.51, 96.52, 232.12, 78.12, 70.04, 97.61, 113.11, 71.06, 104.95, 81.94, 96.37, 114.16, 93.58, 73.89, 107.83, 107.21, 99.35, 203.57, 81.51, 69.26, 111.47, 86.09, 72.94, 76.77, 60.32, 133.24, 65.01, 74.63, 230.78, 72.5, 68.48, 85.03, 80.76, 204.98, 95.36, 110.33, 89.18, 91.53, 65.16, 74.53, 93.29, 227.89, 121.46, 69.35, 216.71, 74.96, 75.25, 91.82, 56.37, 149.15, 202.67, 65.38, 90.31, 221.8, 73.39, 147.12, 109.85, 103.21, 81.25, 84.69, 87.1, 81.92, 90.91, 64.4, 85.48, 67.29, 124.48, 62.89, 87.51, 93.15, 64.87, 90.68, 104.64, 92.44, 120.46, 89.87, 105.28, 131.8, 66.33, 101.07, 83.37, 79.8, 103.17, 62.52, 75.78, 110.36, 140.07, 84.86, 106.85, 102.07, 202.38, 67.07, 73.7, 77.59, 69.16, 91.44, 215.81, 65.4, 139.72, 72.81, 149.17, 125.74, 90.21, 139.48, 90.77, 220.24, 81.42, 102.36, 82.85, 102.11, 195.61, 80.92, 71.8, 88.47, 67.68, 98.65, 83.58, 104.04, 69.4, 106.22, 112.46, 72.42, 96.73, 107.4, 267.61, 109.46, 120.05, 106.33, 97.28, 83.13, 97.35, 79.54, 76.55, 56.11, 91.36, 79.27, 113.21, 105.99, 59.93, 88.83, 73.37, 115.42, 71.93, 96.43, 161.95, 104.55, 71.25, 160.87, 82.02, 78.02, 115.21, 65.12, 143.33, 80.55, 88.2, 147.42, 86.53, 91.95, 63.72, 63.78, 55.64, 88.88, 114.61, 56.08, 59.62, 75.85, 176.71, 80.07, 56.33, 87.16, 102.46, 84.1, 161.0, 70.7, 81.26, 157.67, 89.59, 64.02, 110.69, 71.97, 82.07, 65.07, 207.62, 108.64, 201.58, 116.2, 231.43, 112.62, 220.26, 84.37, 82.83, 102.48, 69.12, 211.12, 95.38, 108.72, 88.65, 177.91, 90.19, 73.78, 82.85, 59.48, 75.77, 80.96, 82.4, 78.93, 80.59, 70.59, 98.57, 61.87, 68.88, 66.25, 84.18, 69.23, 73.2, 103.45, 104.86, 90.3, 90.87, 76.21, 74.14, 87.25, 215.33, 88.38, 104.4, 104.92, 106.54, 62.91, 61.47, 88.5, 107.61, 90.77, 137.91, 212.02, 228.2, 92.15, 126.32, 94.96, 89.52, 66.59, 80.1, 73.72, 90.49, 92.99, 62.57, 65.51, 95.29, 83.7, 63.16, 87.77, 87.23, 260.85, 104.45, 87.52, 113.65, 65.93, 93.78, 223.9, 77.54, 93.18, 169.74, 101.93, 125.03, 82.25, 85.81, 85.27, 86.06, 104.36, 78.29, 93.55, 207.96, 105.52, 109.27, 91.34, 176.78, 67.73, 73.27, 70.29, 91.47, 205.01, 73.87, 64.44, 111.65, 90.65, 94.2, 56.95, 92.37, 127.23, 191.78, 86.36, 82.72, 113.57, 89.58, 91.85, 88.89, 79.55, 108.62, 78.24, 88.49, 91.85, 72.01, 81.96, 70.56, 71.02, 99.75, 127.2, 69.76, 74.63, 102.27, 73.56, 57.77, 151.25, 78.32, 71.5, 84.7, 127.28, 80.72, 73.92, 93.24, 72.6, 69.77, 84.43, 84.13, 81.54, 57.17, 86.15, 163.02, 110.41, 102.58, 90.97, 140.96, 70.33, 64.18, 127.57, 109.23, 124.49, 142.82, 75.69, 74.08, 75.98, 57.8, 76.44, 214.43, 79.03, 66.46, 56.42, 112.72, 114.02, 72.33, 55.59, 73.48, 105.05, 84.78, 164.77, 220.64, 159.39, 69.53, 81.42, 83.93, 98.9, 82.64, 112.54, 75.25, 204.77, 63.86, 72.2, 80.08, 101.61, 114.32, 80.82, 90.6, 93.67, 87.15, 80.72, 83.16, 98.14, 83.13, 134.24, 248.37, 61.75, 70.55, 124.38, 92.21, 148.72, 79.25, 82.09, 194.53, 98.84, 135.74, 66.55, 115.69, 67.76, 88.65, 106.11, 95.49, 59.07, 228.92, 62.89, 96.84, 81.25, 92.71, 85.59, 89.06, 87.44, 64.07, 79.39, 67.84, 81.73, 105.52, 77.55, 127.42, 227.68, 226.73, 89.74, 219.17, 74.85, 55.96, 215.92, 84.4, 104.05, 62.54, 87.54, 76.81, 198.12, 78.0, 79.44, 75.82, 240.86, 89.28, 263.56, 81.13, 118.44, 97.37, 80.51, 78.88, 83.61, 73.19, 68.91, 104.3, 87.87, 96.7, 91.05, 200.14, 73.04, 85.81, 65.41, 108.68, 88.79, 107.82, 97.39, 141.09, 122.38, 77.91, 103.6, 159.7, 118.22, 84.5, 85.59, 84.42, 100.98, 81.11, 235.45, 79.2, 207.71, 99.84, 98.05, 105.9, 107.55, 146.21, 79.94, 72.28, 123.1, 67.06, 82.68, 125.89, 228.05, 98.23, 90.06, 119.9, 94.53, 64.66, 103.79, 88.51, 97.26, 92.59, 102.89, 92.26, 80.0, 56.75, 104.66, 60.39, 223.14, 105.51, 83.42, 71.06, 101.24, 91.19, 174.43, 214.51, 72.64, 62.69, 141.16, 89.61, 76.42, 124.38, 111.81, 57.57, 77.82, 60.09, 91.02, 65.46, 131.19, 79.89, 74.54, 231.31, 91.57, 238.78, 87.18, 78.94, 69.01, 110.28, 71.66, 62.57, 83.64, 107.18, 233.59, 84.88, 97.95, 58.19, 70.11, 112.77, 75.46, 63.63, 100.22, 81.77, 94.25, 188.13, 164.7, 68.27, 79.81, 100.12, 151.23, 112.41, 205.97, 112.19, 71.93, 190.89, 138.02, 66.16, 105.73, 78.34, 102.1, 97.37, 193.87, 78.32, 130.0, 74.0, 111.04, 214.77, 97.25, 79.95, 162.24, 74.36, 69.68, 98.35, 75.73, 85.86, 80.34, 73.76, 94.96, 108.18, 85.23, 189.88, 197.11, 100.08, 68.62, 84.07, 99.65, 82.33, 94.49, 108.71, 64.94, 98.22, 83.5, 192.47, 125.89, 87.72, 68.94, 66.51, 85.82, 87.47, 87.74, 85.12, 103.37, 81.68, 76.51, 110.17, 65.12, 76.66, 109.88, 199.38, 65.77, 55.72, 75.67, 88.18, 95.94, 86.93, 85.17, 111.1, 92.0, 97.47, 79.21, 83.97, 98.55, 202.98, 60.7, 92.22, 79.94, 83.68, 69.92, 136.96, 95.32, 107.78, 198.32, 100.16, 96.02, 112.69, 60.61, 79.77, 87.41, 226.38, 124.64, 69.42, 77.68, 112.79, 236.79, 219.82, 82.05, 104.08, 101.57, 71.32, 143.97, 239.19, 78.45, 61.11, 87.29, 82.49, 83.15, 83.26, 78.7, 111.94, 104.77, 104.26, 113.84, 114.71, 61.54, 133.62, 111.96, 112.44, 123.61, 84.68, 206.62, 114.54, 216.88, 110.38, 99.23, 204.92, 56.74, 68.35, 83.52, 59.74, 81.59, 123.83, 226.84, 93.2, 85.84, 74.64, 80.17, 85.03, 234.35, 116.25, 66.55, 88.38, 81.05, 68.4, 96.95, 66.24, 91.81, 84.86, 118.88, 85.91, 115.4, 75.34, 100.19, 200.73, 114.09, 67.3, 96.91, 116.2, 72.54, 96.01, 89.16, 108.64, 83.66, 81.21, 86.96, 92.95, 95.86, 85.52, 159.39, 202.51, 82.24, 109.81, 91.85, 123.49, 105.49, 101.53, 89.45, 126.04, 95.49, 89.38, 82.3, 218.0, 79.7, 209.15, 70.22, 83.57, 60.6, 97.24, 162.72, 73.27, 92.62, 90.0, 78.28, 87.81, 202.66, 196.5, 142.31, 94.96, 83.78, 86.1, 74.5, 66.96, 76.7, 103.12, 84.03, 74.15, 73.29, 115.16, 83.55, 61.53, 100.74, 59.31, 63.22, 209.5, 64.51, 90.07, 113.95, 119.32, 99.12, 152.84, 78.23, 68.8, 76.05, 116.49, 99.91, 76.1, 121.99, 116.21, 55.28, 219.81, 103.73, 153.08, 98.69, 94.11, 117.03, 91.35, 82.48, 99.76, 111.1, 122.25, 84.19, 84.6, 126.35, 87.5, 77.52, 133.13, 96.1, 108.61, 205.23, 76.74, 138.55, 234.27, 75.16, 77.08, 101.19, 107.74, 62.32, 56.32, 131.28, 67.02, 76.72, 125.98, 72.09, 88.05, 55.47, 145.94, 239.21, 196.08, 93.93, 76.74, 83.74, 119.58, 68.66, 65.79, 176.38, 175.74, 193.45, 85.84, 93.85, 86.21, 75.41, 95.28, 95.87, 180.45, 95.39, 60.77, 102.84, 130.37, 65.44, 79.84, 62.61, 70.07, 108.8, 112.11, 92.35, 76.57, 69.5, 219.38, 69.48, 89.18, 68.09, 92.71, 56.21, 72.08, 82.56, 78.24, 84.66, 90.35, 68.12, 59.14, 85.64, 56.08, 99.0, 93.6, 105.75, 114.09, 57.42, 100.01, 62.0, 103.61, 118.46, 94.77, 72.12, 155.23, 90.6, 81.92, 67.1, 58.01, 173.9, 106.27, 60.57, 105.34, 96.28, 122.73, 104.12, 69.74, 106.95, 94.63, 86.97, 76.12, 99.94, 91.53, 145.46, 74.86, 74.42, 70.07, 89.85, 104.21, 157.77, 101.81, 103.0, 101.85, 85.92, 56.85, 89.04, 63.01, 65.48, 68.6, 81.68, 65.21, 72.53, 81.78, 116.85, 80.83, 96.21, 117.04, 78.26, 58.24, 82.53, 71.25, 129.73, 115.47, 56.79, 100.16, 97.6, 90.54, 105.88, 217.94, 69.89, 93.28, 111.27, 91.04, 87.2, 109.12, 216.64, 74.28, 57.6, 173.97, 65.25, 80.92, 124.37, 102.39, 90.42, 79.17, 71.08, 81.54, 159.67, 93.96, 103.01, 92.49, 208.85, 122.39, 65.91, 70.25, 219.7, 65.7, 67.08, 107.58, 208.05, 95.87, 68.17, 95.37, 90.0, 106.1, 56.13, 104.03, 157.01, 84.35, 67.99, 118.93, 185.28, 82.08, 88.32, 85.16, 69.54, 62.12, 198.3, 100.06, 101.13, 91.09, 61.54, 62.02, 103.11, 77.57, 97.34, 78.76, 67.1, 79.89, 206.66, 95.79, 83.88, 93.51, 116.78, 117.63, 60.01, 64.6, 92.43, 71.63, 87.79, 99.64, 86.53, 200.68, 98.37, 117.98, 218.6, 101.3, 79.51, 223.26, 97.22, 172.27, 221.83, 74.61, 60.91, 69.79, 83.6, 83.95, 77.5, 64.29, 61.1, 100.71, 65.21, 119.77, 102.39, 59.67, 83.16, 218.1, 76.45, 200.46, 95.7, 70.23, 75.15, 95.8, 90.67, 84.79, 147.5, 134.12, 82.62, 125.11, 92.14, 217.79, 95.62, 93.8, 90.61, 139.2, 77.01, 105.26, 68.35, 99.07, 147.74, 61.29, 98.92, 90.74, 159.79, 233.47, 85.53, 76.7, 67.87, 77.26, 91.28, 129.19, 97.86, 112.33, 110.41, 91.58, 58.86, 76.88, 109.52, 181.23, 103.58, 81.96, 104.55, 76.12, 64.27, 200.98, 101.96, 84.17, 85.79, 71.46, 95.49, 87.62, 118.55, 82.14, 219.67, 135.84, 74.83, 60.37, 67.28, 77.79, 88.51, 90.38, 156.69, 207.6, 158.9, 247.97, 114.71, 58.55, 231.15, 68.18, 118.75, 186.54, 96.14, 69.52, 101.93, 71.58, 83.1, 110.96, 122.83, 91.65, 84.1, 118.85, 89.32, 128.72, 98.05, 102.1, 108.62, 96.19, 98.07, 71.4, 82.27, 158.33, 102.5, 72.18, 95.94, 87.15, 82.59, 89.31, 64.84, 107.52, 92.76, 79.16, 87.0, 145.25, 125.14, 88.6, 57.59, 59.43, 65.43, 154.03, 139.81, 111.81, 106.84, 221.06, 69.97, 77.07, 59.49, 109.39, 93.97, 163.17, 124.39, 212.62, 128.63, 84.1, 77.6, 70.51, 109.19, 55.23, 120.15, 72.16, 95.89, 64.68, 70.51, 81.77, 66.47, 146.08, 91.68, 108.96, 113.41, 111.08, 217.74, 78.5, 89.06, 74.8, 80.2, 76.52, 208.99, 99.72, 102.97, 197.36, 98.56, 86.06, 123.08, 75.0, 105.9, 73.87, 78.04, 107.74, 60.64, 82.57, 115.98, 110.38, 92.59, 82.64, 70.28, 106.54, 59.11, 58.89, 129.66, 73.57, 72.04, 125.63, 77.94, 68.99, 111.76, 65.36, 80.27, 81.73, 79.22, 142.63, 97.05, 222.52, 70.38, 114.46, 64.62, 94.12, 70.19, 55.35, 115.52, 60.7, 69.24, 103.29, 92.74, 232.64, 82.46, 63.57, 73.24, 78.43, 57.46, 104.16, 110.42, 119.4, 119.13, 120.22, 80.8, 57.96, 81.24, 88.79, 70.91, 87.12, 126.09, 76.42, 56.33, 131.81, 95.23, 71.18, 87.71, 115.68, 207.37, 74.43, 75.1, 69.72, 111.84, 111.08, 201.96, 68.68, 56.9, 91.16, 99.44, 78.85, 123.89, 90.44, 138.44, 75.06, 85.66, 102.76, 71.79, 167.16, 131.05, 86.92, 59.62, 103.72, 77.1, 94.75, 77.72, 76.09, 61.8, 92.97, 83.73, 79.33, 108.32, 103.65, 86.19, 131.42, 69.46, 76.78, 103.78, 213.43, 93.52, 115.07, 69.45, 81.0, 83.16, 108.63, 88.06, 80.57, 248.24, 57.79, 87.4, 76.63, 58.01, 77.43, 101.12, 64.45, 79.42, 82.94, 81.58, 62.21, 229.94, 116.06, 117.77, 66.69, 122.23, 168.68, 119.9, 110.33, 77.95, 80.35, 57.38, 96.47, 70.66, 202.06, 91.3, 67.56, 126.12, 86.4, 103.22, 88.85, 63.9, 81.32, 253.93, 78.11, 134.65, 194.75, 77.94, 56.94, 117.03, 207.84, 228.26, 84.43, 57.09, 94.89, 132.46, 75.13, 76.64, 91.32, 85.9, 76.19, 85.77, 63.42, 112.02, 203.76, 98.44, 79.57, 63.98, 101.46, 74.66, 68.66, 205.78, 111.24, 134.76, 110.1, 100.8, 113.08, 56.48, 77.77, 104.02, 83.59, 179.67, 91.89, 78.9, 230.74, 216.19, 83.7, 200.66, 73.99, 228.5, 70.43, 74.39, 102.92, 87.91, 118.55, 232.29, 125.32, 78.98, 100.2, 200.91, 95.24, 56.64, 80.48, 112.96, 236.04, 73.0, 61.13, 88.56, 66.16, 88.98, 94.39, 87.39, 77.91, 86.85, 94.37, 76.64, 254.95, 107.33, 80.94, 112.02, 196.58, 89.14, 69.94, 55.79, 73.08, 96.02, 189.82, 89.68, 101.06, 62.66, 84.03, 108.38, 78.79, 76.12, 68.01, 90.11, 193.61, 195.74, 94.77, 85.0, 141.37, 90.71, 106.8, 121.66, 85.18, 130.07, 74.24, 79.98, 106.76, 76.34, 221.24, 80.55, 63.98, 55.93, 73.94, 65.58, 83.8, 95.87, 112.83, 84.93, 103.08, 85.98, 83.75, 125.43, 101.58, 149.8, 112.55, 70.87, 92.96, 112.19, 85.08, 112.37, 151.26, 73.81, 77.2, 76.08, 123.98, 108.51, 98.07, 85.82, 86.21, 99.01, 79.53, 80.08, 69.47, 85.07, 88.0, 144.14, 78.8, 86.78, 105.72, 64.37, 146.1, 58.66, 192.5, 103.5, 89.42, 212.92, 60.73, 73.18, 82.26, 87.4, 86.95, 74.0, 73.98, 124.78, 191.94, 247.87, 83.2, 88.62, 81.51, 101.76, 115.71, 229.73, 57.4, 100.47, 81.36, 261.67, 110.2, 98.9, 95.19, 105.28, 83.03, 89.41, 70.56, 78.79, 70.13, 62.68, 71.77, 77.99, 256.74, 93.72, 63.74, 60.67, 112.08, 221.08, 101.81, 60.17, 65.29, 153.24, 61.42, 86.67, 82.42, 100.54, 111.48, 85.33, 126.57, 81.51, 67.97, 77.92, 80.54, 76.47, 87.15, 86.07, 106.52, 94.24, 89.73, 208.39, 128.61, 57.56, 227.23, 77.76, 72.76, 90.11, 203.27, 234.5, 71.12, 190.67, 116.04, 82.95, 112.75, 82.63, 92.75, 117.63, 197.06, 216.07, 76.03, 62.44, 108.82, 101.66, 121.15, 116.44, 116.62, 93.3, 144.33, 98.02, 80.67, 94.27, 76.35, 57.56, 179.14, 63.49, 145.18, 66.3, 120.56, 69.2, 150.74, 81.38, 78.48, 203.87, 87.0, 84.68, 91.89, 88.97, 116.98, 135.82, 96.62, 106.53, 58.42, 79.62, 141.84, 78.05, 77.16, 86.3, 83.55, 102.0, 68.07, 81.77, 82.62, 102.03, 235.06, 57.52, 76.98, 82.31, 83.84, 98.14, 84.04, 92.24, 94.92, 112.7, 74.34, 72.99, 104.9, 99.96, 85.27, 60.32, 94.14, 195.43, 200.25, 90.31, 95.33, 85.65, 223.64, 76.43, 98.66, 75.84, 85.46, 81.33, 199.78, 176.42, 101.56, 84.48, 93.21, 72.88, 84.1, 72.84, 70.89, 108.14, 244.3, 88.04, 65.84, 106.73, 106.03, 80.88, 140.1, 127.4, 87.72, 58.23, 69.37, 58.64, 59.67, 78.08, 105.08, 89.3, 61.38, 56.11, 223.16, 75.53, 107.47, 76.0, 90.28, 65.22, 86.24, 166.38, 78.91, 226.28, 90.73, 172.86, 213.92, 92.23, 79.81, 81.78, 102.0, 68.42, 94.68, 125.33, 212.19, 89.0, 60.98, 58.19, 67.68, 84.99, 62.13, 57.1, 97.95, 94.06, 93.88, 90.3, 83.14, 118.66, 100.47, 90.78, 66.46, 73.56, 200.8, 57.28, 92.87, 96.47, 99.44, 77.96, 60.13, 88.17, 84.41, 72.34, 68.72, 222.58, 66.06, 156.43, 105.76, 73.07, 99.48, 79.6, 70.0, 112.98, 61.07, 63.43, 73.2, 102.73, 74.88, 122.43, 84.21, 80.42, 80.44, 80.63, 206.53, 104.12, 96.82, 88.1, 64.85, 102.87, 83.75, 97.68, 97.58, 74.16, 86.0, 100.93, 232.78, 86.96, 67.5, 81.21, 110.14, 120.44, 187.47, 94.62, 89.57, 95.31, 75.07, 106.65, 234.06, 144.15, 58.81, 242.62, 93.04, 65.68, 150.0, 63.56, 96.98, 66.7, 79.66, 90.16, 104.09, 90.96, 152.38, 114.54, 174.54, 106.47, 73.63, 98.52, 62.93, 67.87, 120.43, 76.56, 108.03, 83.16, 67.9, 115.46, 123.94, 231.54, 219.8, 187.99, 234.45, 75.47, 98.24, 66.2, 94.67, 75.95, 111.79, 80.89, 86.91, 59.36, 240.69, 66.67, 87.54, 139.87, 67.92, 83.62, 110.97, 70.53, 115.91, 59.74, 62.64, 84.81, 78.68, 217.57, 79.76, 63.28, 78.48, 70.48, 120.96, 77.29, 108.51, 113.85, 97.65, 121.83, 81.53, 58.35, 65.42, 69.34, 109.09, 66.71, 114.92, 120.58, 165.36, 66.11, 126.34, 68.27, 92.86, 96.77, 89.24, 89.32, 107.06, 65.63, 123.66, 63.82, 108.06, 136.18, 71.29, 76.58, 119.58, 109.3, 111.94, 81.64, 97.64, 110.32, 79.0, 95.08, 137.27, 57.83, 84.08, 234.51, 142.64, 69.77, 71.4, 79.61, 77.46, 96.85, 182.22, 67.26, 60.02, 113.45, 112.31, 68.53, 57.15, 214.73, 91.82, 71.8, 63.41, 106.24, 83.01, 67.92, 74.99, 75.22, 61.88, 65.67, 110.18, 119.3, 208.69, 95.18, 107.72, 83.27, 90.29, 81.87, 153.31, 101.46, 72.49, 86.58, 113.26, 84.92, 128.17, 93.93, 99.87, 129.31, 89.43, 101.6, 66.55, 231.72, 96.69, 102.13, 100.88, 66.22, 109.33, 206.53, 83.91, 67.92, 73.48, 101.31, 103.66, 70.73, 77.45, 193.8, 114.34, 69.25, 88.44, 84.09, 87.06, 92.64, 99.36, 135.63, 82.44, 81.88, 95.44, 72.71, 65.45, 203.01, 110.84, 83.12, 55.12, 105.91, 61.57, 83.1, 66.32, 72.56, 97.99, 63.27, 79.6, 177.56, 81.31, 59.91, 132.85, 198.84, 77.12, 87.17, 96.03, 83.56, 80.93, 84.54, 70.51, 56.87, 67.55, 243.52, 108.63, 69.06, 73.89, 84.49, 73.71, 129.01, 72.96, 110.23, 79.49, 89.33, 68.38, 238.27, 135.79, 82.19, 93.2, 208.31, 111.33, 69.84, 121.71, 80.08, 84.4, 98.61, 86.61, 80.44, 107.02, 97.23, 91.21, 103.69, 74.12, 71.08, 58.39, 176.34, 73.76, 67.21, 87.98, 94.23, 111.36, 84.07, 117.31, 84.94, 68.86, 132.88, 211.83, 124.92, 57.42, 215.69, 154.67, 67.66, 153.48, 62.63, 77.93, 80.3, 106.69, 83.07, 140.14, 92.65, 111.37, 99.0, 78.24, 83.88, 86.21, 57.06, 112.25, 81.06, 104.37, 124.31, 101.95, 116.95, 99.76, 105.48, 100.6, 65.05, 75.9, 267.6, 215.07, 109.03, 225.35, 196.26, 95.42, 123.04, 85.88, 107.43, 56.85, 102.15, 88.68, 182.52, 93.97, 104.03, 67.99, 83.37, 124.66, 212.87, 96.75, 63.28, 82.64, 71.34, 183.43, 101.19, 88.51, 126.85, 74.17, 76.04, 73.87, 99.07, 82.93, 133.24, 69.88, 69.12, 86.05, 185.27, 97.46, 81.9, 99.58, 124.54, 153.34, 112.35, 160.76, 73.29, 108.08, 206.49, 77.42, 117.59, 61.94, 116.68, 253.86, 203.36, 125.87, 64.09, 65.33, 70.15, 96.84, 175.92, 100.65, 112.39, 81.1, 98.3, 89.68, 95.16, 191.15, 91.04, 101.87, 96.86, 91.05, 55.84, 84.04, 92.06, 89.61, 69.92, 89.29, 120.23, 60.22, 223.78, 211.58, 179.38, 193.88, 89.01, 118.41, 138.51, 120.03, 91.01, 61.98, 135.32, 58.72, 90.42, 104.0, 102.5, 174.37, 106.56, 76.31, 77.28, 90.52, 108.35, 72.03, 90.57, 97.04, 83.89, 152.56, 75.93, 76.89, 62.13, 100.85, 95.05, 82.35, 95.02, 82.38, 79.15, 76.62, 91.68, 71.88, 83.94, 71.97, 97.95, 77.93, 82.85, 103.08, 83.75, 125.2, 82.99, 166.29, 85.28], \"x0\": \" \", \"xaxis\": \"x\", \"y0\": \" \", \"yaxis\": \"y\"}],                        {\"boxmode\": \"group\", \"height\": 300, \"legend\": {\"tracegroupgap\": 0}, \"margin\": {\"t\": 60}, \"template\": {\"data\": {\"bar\": [{\"error_x\": {\"color\": \"#f2f5fa\"}, \"error_y\": {\"color\": \"#f2f5fa\"}, \"marker\": {\"line\": {\"color\": \"rgb(17,17,17)\", \"width\": 0.5}}, \"type\": \"bar\"}], \"barpolar\": [{\"marker\": {\"line\": {\"color\": \"rgb(17,17,17)\", \"width\": 0.5}}, \"type\": \"barpolar\"}], \"carpet\": [{\"aaxis\": {\"endlinecolor\": \"#A2B1C6\", \"gridcolor\": \"#506784\", \"linecolor\": \"#506784\", \"minorgridcolor\": \"#506784\", \"startlinecolor\": \"#A2B1C6\"}, \"baxis\": {\"endlinecolor\": \"#A2B1C6\", \"gridcolor\": \"#506784\", \"linecolor\": \"#506784\", \"minorgridcolor\": \"#506784\", \"startlinecolor\": \"#A2B1C6\"}, \"type\": \"carpet\"}], \"choropleth\": [{\"colorbar\": {\"outlinewidth\": 0, \"ticks\": \"\"}, \"type\": \"choropleth\"}], \"contour\": [{\"colorbar\": {\"outlinewidth\": 0, \"ticks\": \"\"}, \"colorscale\": [[0.0, \"#0d0887\"], [0.1111111111111111, \"#46039f\"], [0.2222222222222222, \"#7201a8\"], [0.3333333333333333, \"#9c179e\"], [0.4444444444444444, \"#bd3786\"], [0.5555555555555556, \"#d8576b\"], [0.6666666666666666, \"#ed7953\"], [0.7777777777777778, \"#fb9f3a\"], [0.8888888888888888, \"#fdca26\"], [1.0, \"#f0f921\"]], \"type\": \"contour\"}], \"contourcarpet\": [{\"colorbar\": {\"outlinewidth\": 0, \"ticks\": \"\"}, \"type\": \"contourcarpet\"}], \"heatmap\": [{\"colorbar\": {\"outlinewidth\": 0, \"ticks\": \"\"}, \"colorscale\": [[0.0, \"#0d0887\"], [0.1111111111111111, \"#46039f\"], [0.2222222222222222, \"#7201a8\"], [0.3333333333333333, \"#9c179e\"], [0.4444444444444444, \"#bd3786\"], [0.5555555555555556, \"#d8576b\"], [0.6666666666666666, \"#ed7953\"], [0.7777777777777778, \"#fb9f3a\"], [0.8888888888888888, \"#fdca26\"], [1.0, \"#f0f921\"]], \"type\": \"heatmap\"}], \"heatmapgl\": [{\"colorbar\": {\"outlinewidth\": 0, \"ticks\": \"\"}, \"colorscale\": [[0.0, \"#0d0887\"], [0.1111111111111111, \"#46039f\"], [0.2222222222222222, \"#7201a8\"], [0.3333333333333333, \"#9c179e\"], [0.4444444444444444, \"#bd3786\"], [0.5555555555555556, \"#d8576b\"], [0.6666666666666666, \"#ed7953\"], [0.7777777777777778, \"#fb9f3a\"], [0.8888888888888888, \"#fdca26\"], [1.0, \"#f0f921\"]], \"type\": \"heatmapgl\"}], \"histogram\": [{\"marker\": {\"colorbar\": {\"outlinewidth\": 0, \"ticks\": \"\"}}, \"type\": \"histogram\"}], \"histogram2d\": [{\"colorbar\": {\"outlinewidth\": 0, \"ticks\": \"\"}, \"colorscale\": [[0.0, \"#0d0887\"], [0.1111111111111111, \"#46039f\"], [0.2222222222222222, \"#7201a8\"], [0.3333333333333333, \"#9c179e\"], [0.4444444444444444, \"#bd3786\"], [0.5555555555555556, \"#d8576b\"], [0.6666666666666666, \"#ed7953\"], [0.7777777777777778, \"#fb9f3a\"], [0.8888888888888888, \"#fdca26\"], [1.0, \"#f0f921\"]], \"type\": \"histogram2d\"}], \"histogram2dcontour\": [{\"colorbar\": {\"outlinewidth\": 0, \"ticks\": \"\"}, \"colorscale\": [[0.0, \"#0d0887\"], [0.1111111111111111, \"#46039f\"], [0.2222222222222222, \"#7201a8\"], [0.3333333333333333, \"#9c179e\"], [0.4444444444444444, \"#bd3786\"], [0.5555555555555556, \"#d8576b\"], [0.6666666666666666, \"#ed7953\"], [0.7777777777777778, \"#fb9f3a\"], [0.8888888888888888, \"#fdca26\"], [1.0, \"#f0f921\"]], \"type\": \"histogram2dcontour\"}], \"mesh3d\": [{\"colorbar\": {\"outlinewidth\": 0, \"ticks\": \"\"}, \"type\": \"mesh3d\"}], \"parcoords\": [{\"line\": {\"colorbar\": {\"outlinewidth\": 0, \"ticks\": \"\"}}, \"type\": \"parcoords\"}], \"pie\": [{\"automargin\": true, \"type\": \"pie\"}], \"scatter\": [{\"marker\": {\"line\": {\"color\": \"#283442\"}}, \"type\": \"scatter\"}], \"scatter3d\": [{\"line\": {\"colorbar\": {\"outlinewidth\": 0, \"ticks\": \"\"}}, \"marker\": {\"colorbar\": {\"outlinewidth\": 0, \"ticks\": \"\"}}, \"type\": \"scatter3d\"}], \"scattercarpet\": [{\"marker\": {\"colorbar\": {\"outlinewidth\": 0, \"ticks\": \"\"}}, \"type\": \"scattercarpet\"}], \"scattergeo\": [{\"marker\": {\"colorbar\": {\"outlinewidth\": 0, \"ticks\": \"\"}}, \"type\": \"scattergeo\"}], \"scattergl\": [{\"marker\": {\"line\": {\"color\": \"#283442\"}}, \"type\": \"scattergl\"}], \"scattermapbox\": [{\"marker\": {\"colorbar\": {\"outlinewidth\": 0, \"ticks\": \"\"}}, \"type\": \"scattermapbox\"}], \"scatterpolar\": [{\"marker\": {\"colorbar\": {\"outlinewidth\": 0, \"ticks\": \"\"}}, \"type\": \"scatterpolar\"}], \"scatterpolargl\": [{\"marker\": {\"colorbar\": {\"outlinewidth\": 0, \"ticks\": \"\"}}, \"type\": \"scatterpolargl\"}], \"scatterternary\": [{\"marker\": {\"colorbar\": {\"outlinewidth\": 0, \"ticks\": \"\"}}, \"type\": \"scatterternary\"}], \"surface\": [{\"colorbar\": {\"outlinewidth\": 0, \"ticks\": \"\"}, \"colorscale\": [[0.0, \"#0d0887\"], [0.1111111111111111, \"#46039f\"], [0.2222222222222222, \"#7201a8\"], [0.3333333333333333, \"#9c179e\"], [0.4444444444444444, \"#bd3786\"], [0.5555555555555556, \"#d8576b\"], [0.6666666666666666, \"#ed7953\"], [0.7777777777777778, \"#fb9f3a\"], [0.8888888888888888, \"#fdca26\"], [1.0, \"#f0f921\"]], \"type\": \"surface\"}], \"table\": [{\"cells\": {\"fill\": {\"color\": \"#506784\"}, \"line\": {\"color\": \"rgb(17,17,17)\"}}, \"header\": {\"fill\": {\"color\": \"#2a3f5f\"}, \"line\": {\"color\": \"rgb(17,17,17)\"}}, \"type\": \"table\"}]}, \"layout\": {\"annotationdefaults\": {\"arrowcolor\": \"#f2f5fa\", \"arrowhead\": 0, \"arrowwidth\": 1}, \"autotypenumbers\": \"strict\", \"coloraxis\": {\"colorbar\": {\"outlinewidth\": 0, \"ticks\": \"\"}}, \"colorscale\": {\"diverging\": [[0, \"#8e0152\"], [0.1, \"#c51b7d\"], [0.2, \"#de77ae\"], [0.3, \"#f1b6da\"], [0.4, \"#fde0ef\"], [0.5, \"#f7f7f7\"], [0.6, \"#e6f5d0\"], [0.7, \"#b8e186\"], [0.8, \"#7fbc41\"], [0.9, \"#4d9221\"], [1, \"#276419\"]], \"sequential\": [[0.0, \"#0d0887\"], [0.1111111111111111, \"#46039f\"], [0.2222222222222222, \"#7201a8\"], [0.3333333333333333, \"#9c179e\"], [0.4444444444444444, \"#bd3786\"], [0.5555555555555556, \"#d8576b\"], [0.6666666666666666, \"#ed7953\"], [0.7777777777777778, \"#fb9f3a\"], [0.8888888888888888, \"#fdca26\"], [1.0, \"#f0f921\"]], \"sequentialminus\": [[0.0, \"#0d0887\"], [0.1111111111111111, \"#46039f\"], [0.2222222222222222, \"#7201a8\"], [0.3333333333333333, \"#9c179e\"], [0.4444444444444444, \"#bd3786\"], [0.5555555555555556, \"#d8576b\"], [0.6666666666666666, \"#ed7953\"], [0.7777777777777778, \"#fb9f3a\"], [0.8888888888888888, \"#fdca26\"], [1.0, \"#f0f921\"]]}, \"colorway\": [\"#636efa\", \"#EF553B\", \"#00cc96\", \"#ab63fa\", \"#FFA15A\", \"#19d3f3\", \"#FF6692\", \"#B6E880\", \"#FF97FF\", \"#FECB52\"], \"font\": {\"color\": \"#f2f5fa\"}, \"geo\": {\"bgcolor\": \"rgb(17,17,17)\", \"lakecolor\": \"rgb(17,17,17)\", \"landcolor\": \"rgb(17,17,17)\", \"showlakes\": true, \"showland\": true, \"subunitcolor\": \"#506784\"}, \"hoverlabel\": {\"align\": \"left\"}, \"hovermode\": \"closest\", \"mapbox\": {\"style\": \"dark\"}, \"paper_bgcolor\": \"rgb(17,17,17)\", \"plot_bgcolor\": \"rgb(17,17,17)\", \"polar\": {\"angularaxis\": {\"gridcolor\": \"#506784\", \"linecolor\": \"#506784\", \"ticks\": \"\"}, \"bgcolor\": \"rgb(17,17,17)\", \"radialaxis\": {\"gridcolor\": \"#506784\", \"linecolor\": \"#506784\", \"ticks\": \"\"}}, \"scene\": {\"xaxis\": {\"backgroundcolor\": \"rgb(17,17,17)\", \"gridcolor\": \"#506784\", \"gridwidth\": 2, \"linecolor\": \"#506784\", \"showbackground\": true, \"ticks\": \"\", \"zerolinecolor\": \"#C8D4E3\"}, \"yaxis\": {\"backgroundcolor\": \"rgb(17,17,17)\", \"gridcolor\": \"#506784\", \"gridwidth\": 2, \"linecolor\": \"#506784\", \"showbackground\": true, \"ticks\": \"\", \"zerolinecolor\": \"#C8D4E3\"}, \"zaxis\": {\"backgroundcolor\": \"rgb(17,17,17)\", \"gridcolor\": \"#506784\", \"gridwidth\": 2, \"linecolor\": \"#506784\", \"showbackground\": true, \"ticks\": \"\", \"zerolinecolor\": \"#C8D4E3\"}}, \"shapedefaults\": {\"line\": {\"color\": \"#f2f5fa\"}}, \"sliderdefaults\": {\"bgcolor\": \"#C8D4E3\", \"bordercolor\": \"rgb(17,17,17)\", \"borderwidth\": 1, \"tickwidth\": 0}, \"ternary\": {\"aaxis\": {\"gridcolor\": \"#506784\", \"linecolor\": \"#506784\", \"ticks\": \"\"}, \"baxis\": {\"gridcolor\": \"#506784\", \"linecolor\": \"#506784\", \"ticks\": \"\"}, \"bgcolor\": \"rgb(17,17,17)\", \"caxis\": {\"gridcolor\": \"#506784\", \"linecolor\": \"#506784\", \"ticks\": \"\"}}, \"title\": {\"x\": 0.05}, \"updatemenudefaults\": {\"bgcolor\": \"#506784\", \"borderwidth\": 0}, \"xaxis\": {\"automargin\": true, \"gridcolor\": \"#283442\", \"linecolor\": \"#506784\", \"ticks\": \"\", \"title\": {\"standoff\": 15}, \"zerolinecolor\": \"#283442\", \"zerolinewidth\": 2}, \"yaxis\": {\"automargin\": true, \"gridcolor\": \"#283442\", \"linecolor\": \"#506784\", \"ticks\": \"\", \"title\": {\"standoff\": 15}, \"zerolinecolor\": \"#283442\", \"zerolinewidth\": 2}}}, \"width\": 800, \"xaxis\": {\"anchor\": \"y\", \"domain\": [0.0, 1.0], \"title\": {\"text\": \"avg_glucose_level\"}}, \"yaxis\": {\"anchor\": \"x\", \"domain\": [0.0, 1.0]}},                        {\"responsive\": true}                    ).then(function(){\n",
       "                            \n",
       "var gd = document.getElementById('ae369041-3ccf-4745-a620-a7ec7cfc1883');\n",
       "var x = new MutationObserver(function (mutations, observer) {{\n",
       "        var display = window.getComputedStyle(gd).display;\n",
       "        if (!display || display === 'none') {{\n",
       "            console.log([gd, 'removed!']);\n",
       "            Plotly.purge(gd);\n",
       "            observer.disconnect();\n",
       "        }}\n",
       "}});\n",
       "\n",
       "// Listen for the removal of the full notebook cells\n",
       "var notebookContainer = gd.closest('#notebook-container');\n",
       "if (notebookContainer) {{\n",
       "    x.observe(notebookContainer, {childList: true});\n",
       "}}\n",
       "\n",
       "// Listen for the clearing of the current output cell\n",
       "var outputEl = gd.closest('.output');\n",
       "if (outputEl) {{\n",
       "    x.observe(outputEl, {childList: true});\n",
       "}}\n",
       "\n",
       "                        })                };                });            </script>        </div>"
      ]
     },
     "metadata": {},
     "output_type": "display_data"
    }
   ],
   "source": [
    "fig = px.box(data_frame = df,\n",
    "            x = \"avg_glucose_level\",\n",
    "            width = 800,\n",
    "            height = 300)\n",
    "fig.update_layout({\"template\":\"plotly_dark\"})\n",
    "fig.show()"
   ]
  },
  {
   "cell_type": "markdown",
   "id": "adaptive-converter",
   "metadata": {
    "papermill": {
     "duration": 0.058046,
     "end_time": "2021-05-13T12:01:17.118709",
     "exception": false,
     "start_time": "2021-05-13T12:01:17.060663",
     "status": "completed"
    },
    "tags": []
   },
   "source": [
    "**Observation:**\n",
    "\n",
    "avg_glucose_level has large number of outliers present in the dataset."
   ]
  },
  {
   "cell_type": "code",
   "execution_count": 16,
   "id": "photographic-nepal",
   "metadata": {
    "execution": {
     "iopub.execute_input": "2021-05-13T12:01:17.247593Z",
     "iopub.status.busy": "2021-05-13T12:01:17.246532Z",
     "iopub.status.idle": "2021-05-13T12:01:17.255627Z",
     "shell.execute_reply": "2021-05-13T12:01:17.254936Z"
    },
    "papermill": {
     "duration": 0.078705,
     "end_time": "2021-05-13T12:01:17.255775",
     "exception": false,
     "start_time": "2021-05-13T12:01:17.177070",
     "status": "completed"
    },
    "tags": []
   },
   "outputs": [],
   "source": [
    "## binning of numerical variables\n",
    "\n",
    "df['bmi_cat'] = pd.cut(df['bmi'], bins = [0, 19, 25,30,10000], labels = ['Underweight', 'Ideal', 'Overweight', 'Obesity'])\n",
    "df['age_cat'] = pd.cut(df['age'], bins = [0,13,18, 45,60,200], labels = ['Children', 'Teens', 'Adults','Mid Adults','Elderly'])\n",
    "df['glucose_cat'] = pd.cut(df['avg_glucose_level'], bins = [0,90,160,230,500], labels = ['Low', 'Normal', 'High', 'Very High'])"
   ]
  },
  {
   "cell_type": "markdown",
   "id": "abstract-stock",
   "metadata": {
    "papermill": {
     "duration": 0.057108,
     "end_time": "2021-05-13T12:01:17.370589",
     "exception": false,
     "start_time": "2021-05-13T12:01:17.313481",
     "status": "completed"
    },
    "tags": []
   },
   "source": [
    "The above section of the code has been taken from Bhuvan Chennoju's notebook https://www.kaggle.com/bhuvanchennoju/data-stroytelling-auc-focus-on-strokes"
   ]
  },
  {
   "cell_type": "code",
   "execution_count": 17,
   "id": "vietnamese-williams",
   "metadata": {
    "execution": {
     "iopub.execute_input": "2021-05-13T12:01:17.493712Z",
     "iopub.status.busy": "2021-05-13T12:01:17.492650Z",
     "iopub.status.idle": "2021-05-13T12:01:17.639291Z",
     "shell.execute_reply": "2021-05-13T12:01:17.638322Z"
    },
    "papermill": {
     "duration": 0.210528,
     "end_time": "2021-05-13T12:01:17.639509",
     "exception": false,
     "start_time": "2021-05-13T12:01:17.428981",
     "status": "completed"
    },
    "tags": []
   },
   "outputs": [
    {
     "data": {
      "text/plain": [
       "<AxesSubplot:xlabel='stroke', ylabel='count'>"
      ]
     },
     "execution_count": 17,
     "metadata": {},
     "output_type": "execute_result"
    },
    {
     "data": {
      "image/png": "[encoded data removed]",
      "text/plain": [
       "<Figure size 432x288 with 1 Axes>"
      ]
     },
     "metadata": {},
     "output_type": "display_data"
    }
   ],
   "source": [
    "sns.countplot(x='stroke', data=df)"
   ]
  },
  {
   "cell_type": "markdown",
   "id": "subject-thomson",
   "metadata": {
    "papermill": {
     "duration": 0.059194,
     "end_time": "2021-05-13T12:01:17.772463",
     "exception": false,
     "start_time": "2021-05-13T12:01:17.713269",
     "status": "completed"
    },
    "tags": []
   },
   "source": [
    "**Observation:**\n",
    "\n",
    "* The number of people have heart stroke is actually negligible as compared to the ones not having it.\n",
    "* The data is higly unbalanced.\n",
    "* So, while modeling and training data, either over sampling or under sampling has to be done to obtain best results."
   ]
  },
  {
   "cell_type": "code",
   "execution_count": 18,
   "id": "growing-period",
   "metadata": {
    "execution": {
     "iopub.execute_input": "2021-05-13T12:01:17.915783Z",
     "iopub.status.busy": "2021-05-13T12:01:17.905450Z",
     "iopub.status.idle": "2021-05-13T12:01:28.148072Z",
     "shell.execute_reply": "2021-05-13T12:01:28.147502Z"
    },
    "papermill": {
     "duration": 10.317258,
     "end_time": "2021-05-13T12:01:28.148216",
     "exception": false,
     "start_time": "2021-05-13T12:01:17.830958",
     "status": "completed"
    },
    "tags": []
   },
   "outputs": [
    {
     "name": "stdout",
     "output_type": "stream",
     "text": [
      "Collecting pywaffle\r\n",
      "  Downloading pywaffle-0.6.1-py2.py3-none-any.whl (526 kB)\r\n",
      "\u001b[K     |████████████████████████████████| 526 kB 1.3 MB/s \r\n",
      "\u001b[?25hRequirement already satisfied: matplotlib in /opt/conda/lib/python3.7/site-packages (from pywaffle) (3.4.1)\r\n",
      "Requirement already satisfied: numpy>=1.16 in /opt/conda/lib/python3.7/site-packages (from matplotlib->pywaffle) (1.19.5)\r\n",
      "Requirement already satisfied: python-dateutil>=2.7 in /opt/conda/lib/python3.7/site-packages (from matplotlib->pywaffle) (2.8.1)\r\n",
      "Requirement already satisfied: kiwisolver>=1.0.1 in /opt/conda/lib/python3.7/site-packages (from matplotlib->pywaffle) (1.3.1)\r\n",
      "Requirement already satisfied: pillow>=6.2.0 in /opt/conda/lib/python3.7/site-packages (from matplotlib->pywaffle) (7.2.0)\r\n",
      "Requirement already satisfied: pyparsing>=2.2.1 in /opt/conda/lib/python3.7/site-packages (from matplotlib->pywaffle) (2.4.7)\r\n",
      "Requirement already satisfied: cycler>=0.10 in /opt/conda/lib/python3.7/site-packages (from matplotlib->pywaffle) (0.10.0)\r\n",
      "Requirement already satisfied: six in /opt/conda/lib/python3.7/site-packages (from cycler>=0.10->matplotlib->pywaffle) (1.15.0)\r\n",
      "Installing collected packages: pywaffle\r\n",
      "Successfully installed pywaffle-0.6.1\r\n"
     ]
    },
    {
     "data": {
      "image/png": "[encoded data removed]",
      "text/plain": [
       "<Waffle size 700x700 with 2 Axes>"
      ]
     },
     "metadata": {},
     "output_type": "display_data"
    }
   ],
   "source": [
    "!pip install pywaffle\n",
    "from pywaffle import Waffle\n",
    "\n",
    "stroke_gen = df[df['stroke'] == 1]['gender'].value_counts()\n",
    "healthy_gen = df[df['stroke'] == 0]['gender'].value_counts()\n",
    "\n",
    "female = df['gender'].value_counts().values[0]\n",
    "male =  df['gender'].value_counts().values[1]\n",
    "\n",
    "stroke_female = int(round (stroke_gen.values[0] / female * 100, 0))\n",
    "stroke_male = int(round( stroke_gen.values[1] / male *100, 0))\n",
    "healthy_female = int(round(healthy_gen.values[0] / female * 100, 0))\n",
    "healthy_male = int(round(healthy_gen.values[1] / male *100, 0))\n",
    "\n",
    "\n",
    "female_per = int(round(female/(female+male) * 100, 0))\n",
    "male_per = int(round(male/(female+male)* 100, 0))\n",
    "\n",
    "\n",
    "\n",
    "fig = plt.figure(FigureClass = Waffle, \n",
    "                 constrained_layout = True,\n",
    "                 figsize = (7,7),\n",
    "                 facecolor = '#f6f5f5',dpi = 100,\n",
    "                 \n",
    "                 plots = {'121':\n",
    "                          {     \n",
    "                           'rows':7,\n",
    "                           'columns': 7,\n",
    "                           'values' : [healthy_male,stroke_male],\n",
    "                            'colors' : ['#512b58','#fe346e'],\n",
    "                              'vertical' : True,\n",
    "                              'interval_ratio_y': 0.1,\n",
    "                              'interval_ratio_x': 0.1,\n",
    "                              'icons' : 'male',\n",
    "                              'icon_legend': False,\n",
    "                               'icon_size':20,\n",
    "                              'plot_anchor':'C',\n",
    "                              'alpha':0.1\n",
    "                          },\n",
    "                          \n",
    "                          '122' :\n",
    "                          { \n",
    "                            'rows': 7,\n",
    "                            'columns':7,\n",
    "                            'values':[healthy_female,stroke_female],         \n",
    "                              'colors' : ['#512b58','#fe346e'],\n",
    "                              'vertical': True,\n",
    "                              'interval_ratio_y': 0.1,\n",
    "                              'interval_ratio_x': 0.1,\n",
    "                              'icons' : 'female',\n",
    "                              'icon_legend' :False,\n",
    "                              'icon_size':20,\n",
    "                              'plot_anchor':'C',\n",
    "                              'alpha':0.1\n",
    "                                                      \n",
    "                           }\n",
    "                         },\n",
    "                   \n",
    ")\n",
    "#fig.text ('asdfasdfasd0', {'font':'Serif', 'size':35, 'color':'black'} )\n",
    "\n",
    "\n",
    "fig.text(0., 0.8, 'Gender Risk for Stroke - effect of gender on strokes?', {'font':'Serif', 'size':20, 'color':'black', 'weight':'bold'})\n",
    "fig.text(0., 0.73, 'Risk of stroke in both male and female are same,\\nprove our initial assumption is wrong. ', {'font':'Serif', 'size':13, 'color':'black', 'weight':'normal'}, alpha = 0.7)\n",
    "fig.text(0.24, 0.22, 'ooo', {'font':'Serif', 'size':16,'weight':'bold' ,'color':'#f6f5f5'})\n",
    "fig.text(0.65, 0.22, 'ooo', {'font':'Serif', 'size':16,'weight':'bold', 'color':'#f6f5f5'})\n",
    "fig.text(0.23, 0.28, '{}%'.format(healthy_male), {'font':'Serif', 'size':20,'weight':'bold' ,'color':'#512b58'},alpha = 1,)\n",
    "fig.text(0.65, 0.28, '{}%'.format(healthy_female), {'font':'Serif', 'size':20,'weight':'bold', 'color':'#512b58'}, alpha = 1)\n",
    "fig.text(0.21, 0.67, 'Male ({}%)'.format(male_per), {'font':'Serif', 'size':14,'weight':'bold' ,'color':'black'},alpha = 0.5,)\n",
    "fig.text(0.61, 0.67, 'Female({}%)'.format(female_per), {'font':'Serif', 'size':14,'weight':'bold', 'color':'black'}, alpha = 0.5)\n",
    "#fig.text(0., 0.8, 'Assumption was proven wrong', {'font':'Serif', 'size':24, 'color':'black', 'weight':'bold'})\n",
    "\n",
    "fig.text(0.9,0.73, 'Stroke ', {'font': 'Serif','weight':'bold','Size': '16','weight':'bold','style':'normal', 'color':'#fe346e'})\n",
    "fig.text(1.02,0.73, '|', {'color':'black' , 'size':'16', 'weight': 'bold'})\n",
    "fig.text(1.035,0.73, 'No Stroke', {'font': 'Serif','weight':'bold', 'Size': '16','style':'normal', 'weight':'bold','color':'#512b58'},alpha = 1)\n",
    "\n",
    "\n",
    "fig.show()"
   ]
  },
  {
   "cell_type": "markdown",
   "id": "static-testing",
   "metadata": {
    "papermill": {
     "duration": 0.062997,
     "end_time": "2021-05-13T12:01:28.275664",
     "exception": false,
     "start_time": "2021-05-13T12:01:28.212667",
     "status": "completed"
    },
    "tags": []
   },
   "source": [
    "**Observation:**\n",
    "\n",
    "* It is interesting to note that although the number of males and females are different in the dataset, but, both of them are at equal risk to heart stroke.\n",
    "* Hence proving that our assumption that males are more susciptible to stroke due to work load, as wrong.\n",
    "* Please note that the above figure has been taken from Bhuvan's notebook. https://www.kaggle.com/bhuvanchennoju/data-stroytelling-auc-focus-on-strokes"
   ]
  },
  {
   "cell_type": "code",
   "execution_count": 19,
   "id": "english-joyce",
   "metadata": {
    "execution": {
     "iopub.execute_input": "2021-05-13T12:01:28.408166Z",
     "iopub.status.busy": "2021-05-13T12:01:28.407478Z",
     "iopub.status.idle": "2021-05-13T12:01:28.409466Z",
     "shell.execute_reply": "2021-05-13T12:01:28.409906Z"
    },
    "papermill": {
     "duration": 0.070949,
     "end_time": "2021-05-13T12:01:28.410099",
     "exception": false,
     "start_time": "2021-05-13T12:01:28.339150",
     "status": "completed"
    },
    "tags": []
   },
   "outputs": [],
   "source": [
    "cat_cols = [\"gender\",\"hypertension\",\"heart_disease\",\"ever_married\",\"work_type\",\"Residence_type\",\"smoking_status\",\"stroke\"]\n",
    "cont_cols = [\"age\",\"avg_glucose_level\",\"bmi\"]"
   ]
  },
  {
   "cell_type": "code",
   "execution_count": 20,
   "id": "disciplinary-found",
   "metadata": {
    "execution": {
     "iopub.execute_input": "2021-05-13T12:01:28.540836Z",
     "iopub.status.busy": "2021-05-13T12:01:28.540214Z",
     "iopub.status.idle": "2021-05-13T12:01:28.867501Z",
     "shell.execute_reply": "2021-05-13T12:01:28.866919Z"
    },
    "papermill": {
     "duration": 0.39363,
     "end_time": "2021-05-13T12:01:28.867656",
     "exception": false,
     "start_time": "2021-05-13T12:01:28.474026",
     "status": "completed"
    },
    "tags": []
   },
   "outputs": [
    {
     "data": {
      "image/png": "[encoded data removed]",
      "text/plain": [
       "<Figure size 720x720 with 2 Axes>"
      ]
     },
     "metadata": {},
     "output_type": "display_data"
    }
   ],
   "source": [
    "cr = df[cont_cols].corr()\n",
    "plt.figure(figsize = (10,10))\n",
    "sns.heatmap(cr,cmap=\"viridis\", annot = True)\n",
    "plt.show()"
   ]
  },
  {
   "cell_type": "markdown",
   "id": "solved-retro",
   "metadata": {
    "papermill": {
     "duration": 0.064551,
     "end_time": "2021-05-13T12:01:28.996867",
     "exception": false,
     "start_time": "2021-05-13T12:01:28.932316",
     "status": "completed"
    },
    "tags": []
   },
   "source": [
    "**Observation:** We cannot see any noteworthy correlation between the given features!"
   ]
  },
  {
   "cell_type": "code",
   "execution_count": 21,
   "id": "qualified-danish",
   "metadata": {
    "execution": {
     "iopub.execute_input": "2021-05-13T12:01:29.144902Z",
     "iopub.status.busy": "2021-05-13T12:01:29.144238Z",
     "iopub.status.idle": "2021-05-13T12:01:29.398228Z",
     "shell.execute_reply": "2021-05-13T12:01:29.398742Z"
    },
    "papermill": {
     "duration": 0.337499,
     "end_time": "2021-05-13T12:01:29.398915",
     "exception": false,
     "start_time": "2021-05-13T12:01:29.061416",
     "status": "completed"
    },
    "tags": []
   },
   "outputs": [
    {
     "data": {
      "text/html": [
       "<div>                            <div id=\"e4d8a6ee-6953-4b23-9170-47d81bcba7d4\" class=\"plotly-graph-div\" style=\"height:525px; width:100%;\"></div>            <script type=\"text/javascript\">                require([\"plotly\"], function(Plotly) {                    window.PLOTLYENV=window.PLOTLYENV || {};                                    if (document.getElementById(\"e4d8a6ee-6953-4b23-9170-47d81bcba7d4\")) {                    Plotly.newPlot(                        \"e4d8a6ee-6953-4b23-9170-47d81bcba7d4\",                        [{\"autobinx\": false, \"histnorm\": \"probability density\", \"legendgroup\": \"bmi\", \"marker\": {\"color\": \"Red\"}, \"name\": \"bmi\", \"opacity\": 0.7, \"type\": \"histogram\", \"x\": [36.6, 28.893236911794666, 32.5, 34.4, 24.0, 29.0, 27.4, 22.8, 28.893236911794666, 24.2, 29.7, 36.8, 27.3, 28.893236911794666, 28.2, 30.9, 37.5, 25.8, 37.8, 28.893236911794666, 22.4, 48.9, 26.6, 32.5, 27.2, 23.5, 28.2, 28.893236911794666, 28.3, 28.893236911794666, 44.2, 25.4, 22.2, 30.5, 29.7, 26.5, 33.7, 23.1, 32.0, 29.9, 23.9, 28.5, 26.4, 28.893236911794666, 20.2, 33.6, 28.893236911794666, 38.6, 33.7, 39.2, 28.893236911794666, 28.893236911794666, 27.7, 31.4, 28.893236911794666, 36.5, 33.2, 28.893236911794666, 32.8, 27.7, 40.4, 22.2, 25.3, 30.2, 28.893236911794666, 24.0, 47.5, 20.3, 30.0, 28.9, 28.893236911794666, 28.1, 31.1, 27.4, 26.4, 21.7, 27.0, 24.1, 28.893236911794666, 45.9, 44.1, 28.893236911794666, 22.9, 29.7, 28.893236911794666, 29.1, 27.3, 32.3, 41.1, 25.6, 29.8, 26.3, 37.5, 26.2, 29.4, 32.3, 24.4, 31.4, 27.7, 28.0, 28.8, 31.4, 34.6, 19.4, 28.5, 28.893236911794666, 30.3, 40.4, 24.2, 41.5, 22.6, 24.2, 28.893236911794666, 56.6, 27.1, 30.9, 27.3, 31.3, 24.0, 31.0, 28.0, 30.3, 31.7, 35.8, 28.893236911794666, 28.4, 28.893236911794666, 24.0, 29.0, 28.893236911794666, 36.5, 20.1, 36.5, 28.893236911794666, 26.7, 38.7, 29.9, 34.9, 27.0, 26.6, 25.0, 23.8, 21.8, 36.8, 30.0, 27.5, 28.893236911794666, 24.6, 32.9, 26.1, 28.893236911794666, 31.9, 34.1, 27.5, 25.6, 36.9, 31.4, 37.3, 34.1, 25.0, 28.893236911794666, 28.893236911794666, 28.893236911794666, 45.7, 34.2, 23.6, 27.3, 28.893236911794666, 22.3, 31.4, 28.893236911794666, 28.893236911794666, 26.4, 32.9, 28.893236911794666, 37.1, 45.0, 25.5, 28.893236911794666, 26.1, 30.8, 32.0, 29.9, 28.893236911794666, 37.4, 31.7, 34.5, 27.9, 29.5, 28.893236911794666, 46.0, 42.5, 35.5, 31.1, 26.9, 35.8, 45.5, 28.5, 28.893236911794666, 26.6, 28.893236911794666, 31.5, 32.0, 30.8, 31.1, 33.0, 23.4, 26.9, 33.6, 23.9, 26.3, 27.3, 30.7, 20.5, 21.5, 31.0, 27.1, 40.0, 28.893236911794666, 28.6, 28.1, 28.4, 42.2, 25.8, 31.9, 31.0, 27.5, 28.893236911794666, 29.6, 35.4, 16.9, 21.5, 34.4, 28.0, 26.8, 39.3, 31.7, 32.6, 28.4, 35.9, 21.2, 34.5, 42.4, 40.5, 36.7, 30.9, 29.3, 28.893236911794666, 19.6, 18.0, 39.2, 17.6, 35.9, 19.1, 50.1, 17.7, 27.0, 32.3, 54.6, 35.0, 22.0, 39.4, 26.1, 42.4, 33.0, 19.7, 22.5, 24.6, 25.2, 41.8, 60.9, 31.5, 27.3, 23.7, 24.5, 28.4, 26.9, 26.7, 31.2, 25.0, 25.4, 27.5, 16.0, 27.0, 31.6, 25.1, 30.9, 24.8, 23.4, 29.4, 18.3, 20.0, 19.5, 36.0, 27.7, 27.5, 28.5, 26.8, 33.6, 29.1, 28.5, 34.9, 25.1, 35.3, 26.4, 31.5, 40.1, 43.1, 36.7, 29.3, 21.2, 31.2, 21.4, 27.9, 34.3, 31.0, 27.7, 36.0, 38.7, 27.6, 25.1, 16.5, 22.8, 35.4, 24.3, 34.3, 40.1, 25.7, 21.9, 38.4, 26.1, 30.5, 25.9, 54.7, 29.9, 18.6, 27.1, 24.9, 25.2, 19.4, 29.0, 48.2, 28.893236911794666, 34.6, 24.6, 25.8, 26.1, 29.0, 27.2, 20.7, 30.0, 37.3, 34.1, 23.6, 25.2, 39.5, 23.5, 23.3, 64.8, 28.1, 28.893236911794666, 24.4, 29.8, 24.9, 35.1, 32.3, 43.6, 21.0, 47.3, 16.6, 37.5, 24.2, 31.6, 21.6, 31.0, 31.1, 15.5, 27.3, 20.5, 35.6, 16.7, 41.8, 41.9, 16.4, 17.1, 29.2, 27.1, 37.9, 44.6, 22.8, 33.2, 22.3, 26.4, 39.6, 28.1, 39.2, 36.0, 37.8, 40.3, 41.5, 17.7, 21.2, 41.6, 23.8, 23.7, 24.8, 39.0, 37.9, 31.1, 23.2, 18.9, 36.1, 36.3, 40.5, 25.4, 46.5, 16.8, 46.6, 26.4, 26.2, 35.2, 20.9, 36.8, 34.4, 22.2, 13.8, 40.3, 28.4, 31.7, 34.2, 54.7, 24.6, 28.893236911794666, 36.9, 31.1, 31.9, 31.8, 18.0, 28.5, 29.5, 22.0, 29.4, 28.8, 26.2, 26.9, 23.2, 27.9, 36.8, 28.9, 31.0, 29.4, 15.3, 37.1, 30.5, 38.2, 23.2, 30.2, 45.2, 21.8, 24.4, 17.0, 19.5, 49.8, 27.8, 25.1, 26.8, 60.2, 27.5, 28.1, 27.3, 27.4, 22.2, 22.9, 26.6, 23.0, 32.6, 22.1, 28.893236911794666, 22.5, 28.893236911794666, 25.5, 31.4, 26.0, 20.0, 31.6, 31.2, 21.7, 24.2, 25.0, 36.7, 28.9, 29.7, 44.3, 51.0, 39.7, 34.7, 35.0, 21.3, 29.1, 23.9, 36.0, 41.2, 27.1, 33.2, 25.4, 30.7, 34.8, 19.2, 31.7, 35.7, 37.8, 29.7, 35.8, 23.6, 39.7, 40.5, 21.4, 40.8, 24.7, 21.0, 45.0, 26.2, 28.893236911794666, 28.3, 41.6, 19.0, 32.4, 34.0, 39.4, 28.7, 31.8, 31.2, 20.9, 32.1, 31.0, 23.1, 26.7, 27.9, 27.3, 51.5, 20.4, 29.6, 30.6, 33.6, 71.9, 24.2, 17.7, 22.6, 28.1, 26.5, 28.7, 39.5, 35.1, 27.9, 19.3, 28.4, 26.7, 40.9, 17.2, 28.3, 16.1, 27.6, 16.5, 35.8, 16.2, 24.6, 32.0, 35.3, 19.2, 40.4, 30.7, 24.3, 26.4, 34.7, 31.7, 35.6, 22.8, 28.0, 35.6, 40.6, 29.3, 21.0, 20.0, 26.7, 18.4, 34.5, 27.7, 21.1, 24.4, 19.4, 42.3, 32.2, 26.8, 25.4, 23.5, 50.2, 26.1, 17.5, 24.2, 30.8, 23.4, 30.9, 23.6, 18.7, 27.7, 16.7, 31.2, 17.0, 29.8, 19.7, 29.1, 27.2, 22.3, 27.0, 42.1, 34.2, 40.9, 29.4, 32.8, 21.9, 39.6, 28.3, 47.8, 39.3, 28.0, 27.1, 31.2, 23.1, 20.8, 34.1, 30.1, 35.8, 34.6, 29.8, 26.7, 30.2, 29.7, 54.6, 23.3, 35.6, 27.0, 21.6, 29.4, 22.8, 17.3, 29.8, 36.4, 34.7, 28.7, 26.7, 22.1, 27.7, 40.5, 23.0, 25.3, 22.1, 28.0, 12.0, 28.4, 29.6, 36.2, 22.8, 55.7, 24.3, 26.9, 25.3, 35.3, 18.3, 28.893236911794666, 26.0, 21.0, 28.893236911794666, 55.7, 27.6, 20.5, 30.2, 21.9, 28.8, 36.2, 25.9, 28.893236911794666, 21.4, 20.4, 31.6, 14.4, 23.7, 30.2, 19.5, 32.6, 34.2, 43.0, 42.2, 19.7, 41.7, 21.6, 24.2, 19.2, 25.8, 23.2, 20.8, 28.4, 30.2, 23.1, 16.7, 39.5, 33.8, 34.6, 25.0, 43.9, 27.1, 25.9, 22.7, 27.1, 25.6, 28.4, 57.5, 35.8, 19.5, 31.2, 43.6, 31.2, 23.5, 18.7, 24.4, 29.4, 37.0, 29.4, 38.5, 23.5, 28.893236911794666, 16.3, 35.9, 35.9, 20.3, 32.3, 27.9, 22.3, 31.8, 29.7, 27.1, 24.5, 28.9, 28.893236911794666, 24.6, 31.6, 32.3, 41.1, 30.0, 26.4, 30.0, 20.8, 44.0, 30.6, 17.2, 29.1, 27.4, 23.5, 31.8, 23.5, 28.5, 32.7, 54.2, 25.6, 41.2, 27.0, 21.3, 34.3, 29.5, 31.6, 26.1, 27.5, 26.5, 33.2, 40.2, 32.5, 23.4, 32.5, 23.9, 29.5, 24.0, 17.7, 26.2, 33.3, 17.4, 29.0, 21.7, 37.8, 41.8, 24.2, 31.1, 23.1, 25.1, 41.3, 22.7, 24.0, 20.5, 20.4, 27.6, 27.0, 26.4, 34.9, 35.0, 28.5, 32.3, 23.9, 52.3, 26.4, 20.9, 23.3, 32.7, 26.5, 27.9, 30.3, 27.6, 14.6, 40.9, 28.4, 23.7, 27.9, 25.2, 34.4, 36.7, 22.2, 27.2, 27.3, 27.3, 42.2, 26.4, 39.4, 34.8, 20.0, 34.1, 31.4, 17.8, 46.1, 28.1, 24.7, 22.7, 34.6, 21.4, 27.4, 36.6, 32.9, 24.7, 21.4, 33.1, 26.7, 24.4, 25.8, 34.3, 18.1, 43.8, 26.9, 36.6, 24.9, 27.6, 20.9, 30.3, 37.4, 35.9, 50.3, 31.5, 24.4, 38.9, 28.6, 28.893236911794666, 27.5, 28.893236911794666, 43.7, 27.0, 29.3, 34.7, 28.893236911794666, 39.9, 26.7, 24.8, 29.7, 15.9, 31.4, 28.893236911794666, 27.8, 35.5, 31.7, 33.2, 27.7, 31.9, 25.8, 27.7, 23.4, 24.3, 30.3, 29.1, 20.1, 21.2, 31.6, 41.6, 36.4, 30.5, 32.8, 32.3, 30.1, 34.7, 29.7, 28.893236911794666, 31.3, 35.6, 35.2, 27.6, 35.2, 28.1, 31.8, 23.3, 28.8, 19.5, 30.0, 25.5, 28.8, 40.2, 32.9, 22.4, 36.9, 19.8, 12.3, 32.4, 24.8, 16.4, 35.9, 23.0, 78.0, 30.5, 26.8, 35.3, 27.9, 22.1, 38.3, 41.0, 28.893236911794666, 22.8, 30.1, 20.8, 31.7, 30.1, 30.8, 42.6, 37.1, 34.2, 43.4, 18.7, 34.0, 23.2, 41.7, 15.1, 20.6, 18.9, 26.6, 30.1, 32.1, 15.1, 33.5, 23.4, 43.2, 19.1, 26.1, 17.3, 32.1, 28.893236911794666, 30.4, 29.9, 32.8, 22.7, 28.7, 35.2, 22.4, 32.3, 18.6, 42.1, 38.0, 22.3, 33.4, 23.2, 18.0, 20.1, 19.2, 28.7, 28.1, 22.6, 18.0, 21.4, 27.8, 27.6, 32.2, 24.9, 27.1, 24.6, 24.6, 18.9, 16.3, 31.8, 21.0, 20.1, 29.1, 32.3, 29.4, 50.2, 44.9, 28.5, 19.5, 45.0, 22.8, 25.5, 31.5, 31.6, 31.0, 29.5, 23.1, 30.7, 44.7, 33.5, 25.9, 28.3, 26.8, 27.8, 36.0, 22.1, 38.4, 30.1, 26.2, 26.6, 32.6, 27.0, 25.3, 31.9, 18.4, 30.4, 28.2, 35.7, 35.0, 27.2, 23.0, 25.0, 24.5, 30.9, 26.0, 27.2, 30.4, 21.7, 29.1, 17.6, 29.2, 28.1, 26.6, 26.9, 36.2, 25.9, 40.9, 31.5, 23.3, 37.6, 39.8, 35.1, 21.9, 53.4, 34.4, 24.0, 29.3, 26.0, 31.3, 31.0, 26.5, 16.0, 21.1, 42.2, 27.7, 23.6, 18.3, 44.3, 27.3, 55.2, 44.7, 33.1, 30.0, 40.1, 23.1, 30.3, 30.5, 22.8, 42.0, 29.9, 24.0, 36.7, 22.2, 25.5, 34.3, 16.0, 25.6, 23.3, 41.6, 35.6, 22.0, 26.8, 31.9, 19.7, 28.893236911794666, 31.1, 34.4, 33.2, 28.893236911794666, 21.6, 25.4, 41.6, 33.1, 21.8, 30.0, 35.2, 35.6, 28.893236911794666, 27.8, 29.3, 37.2, 26.1, 21.6, 22.7, 30.2, 18.0, 27.8, 23.5, 41.2, 22.7, 29.2, 42.2, 24.0, 45.5, 19.4, 28.2, 20.1, 27.2, 26.5, 17.6, 42.8, 29.3, 21.3, 29.8, 24.1, 35.2, 18.8, 17.4, 31.5, 29.9, 27.3, 28.1, 28.9, 25.2, 24.3, 37.9, 28.2, 18.4, 23.1, 39.4, 29.5, 18.3, 28.7, 32.9, 26.7, 20.1, 17.6, 43.7, 41.1, 26.8, 31.2, 27.4, 25.1, 33.0, 30.7, 42.9, 14.3, 33.2, 43.0, 22.3, 32.8, 30.5, 36.0, 26.5, 20.1, 28.893236911794666, 28.1, 16.2, 30.0, 31.3, 26.7, 37.7, 35.8, 27.0, 20.7, 22.2, 28.893236911794666, 41.5, 33.5, 21.8, 22.1, 30.2, 38.7, 32.1, 41.3, 20.1, 22.1, 24.9, 23.0, 29.3, 22.8, 31.6, 19.4, 22.5, 31.6, 29.1, 28.893236911794666, 43.4, 26.5, 29.7, 21.8, 23.4, 23.0, 21.5, 14.6, 28.5, 29.0, 26.9, 29.6, 28.5, 25.5, 30.5, 23.0, 22.8, 31.4, 35.2, 23.3, 28.893236911794666, 31.2, 24.8, 25.8, 48.4, 43.1, 28.893236911794666, 27.8, 21.4, 22.1, 31.8, 20.1, 29.1, 22.6, 25.1, 33.3, 15.9, 20.8, 19.5, 39.0, 23.1, 18.8, 50.6, 36.3, 32.8, 35.8, 26.7, 26.3, 26.5, 43.7, 24.7, 46.2, 49.5, 43.3, 30.9, 38.7, 28.6, 30.2, 30.5, 33.9, 28.6, 24.5, 28.893236911794666, 17.2, 27.2, 19.3, 18.5, 32.0, 44.5, 37.0, 30.8, 24.7, 18.3, 44.0, 27.6, 45.4, 28.5, 17.6, 28.893236911794666, 27.5, 32.8, 29.5, 36.4, 26.1, 35.3, 28.893236911794666, 18.1, 27.1, 23.0, 55.0, 26.6, 28.893236911794666, 24.1, 30.3, 32.2, 26.5, 30.6, 25.8, 41.9, 29.2, 44.3, 29.1, 17.5, 31.9, 32.2, 26.0, 25.4, 54.8, 27.9, 28.893236911794666, 32.8, 34.0, 25.5, 35.6, 28.3, 36.9, 22.1, 31.5, 26.7, 24.9, 32.4, 32.2, 30.3, 28.7, 24.1, 25.3, 24.8, 28.893236911794666, 34.8, 39.2, 24.7, 28.6, 27.7, 33.1, 27.3, 20.3, 33.9, 28.893236911794666, 28.3, 32.4, 19.7, 33.7, 35.5, 20.0, 16.3, 36.4, 28.1, 26.9, 29.4, 17.2, 26.5, 19.5, 30.6, 31.9, 26.6, 19.9, 18.0, 26.7, 25.3, 31.4, 21.1, 17.9, 27.5, 37.6, 24.1, 18.1, 31.0, 26.6, 38.7, 27.2, 27.8, 28.3, 27.5, 43.3, 20.1, 25.9, 25.8, 16.4, 29.4, 28.9, 26.7, 27.8, 38.7, 26.8, 36.1, 26.7, 27.0, 21.2, 21.0, 37.4, 26.5, 28.9, 29.5, 17.7, 34.9, 28.1, 36.8, 33.3, 29.2, 34.0, 33.9, 28.7, 21.1, 38.2, 27.7, 35.8, 27.1, 20.5, 35.6, 15.6, 43.0, 17.8, 28.893236911794666, 25.8, 20.5, 19.9, 24.4, 18.3, 35.1, 35.1, 37.1, 29.4, 31.7, 31.4, 33.1, 28.5, 24.0, 18.0, 27.6, 16.9, 16.4, 35.1, 28.8, 17.6, 21.3, 19.7, 37.3, 35.5, 25.5, 30.0, 21.9, 45.5, 28.893236911794666, 34.9, 19.3, 32.1, 26.9, 32.5, 19.5, 31.7, 21.0, 28.893236911794666, 20.3, 28.893236911794666, 21.5, 40.4, 28.893236911794666, 30.1, 40.2, 34.7, 25.9, 23.7, 34.3, 34.3, 26.3, 22.1, 33.3, 37.3, 20.5, 19.1, 34.7, 16.3, 28.0, 17.2, 41.1, 25.0, 27.5, 21.5, 15.1, 29.6, 30.2, 34.9, 30.7, 36.5, 21.5, 33.2, 50.2, 22.3, 28.893236911794666, 27.3, 28.3, 31.9, 24.9, 32.7, 26.4, 24.8, 30.7, 25.4, 32.0, 24.4, 20.4, 29.5, 24.4, 22.8, 20.0, 36.3, 32.8, 34.4, 30.5, 29.7, 36.9, 34.2, 37.0, 28.893236911794666, 47.5, 24.2, 30.6, 52.8, 38.6, 32.8, 42.9, 25.9, 24.7, 35.8, 28.893236911794666, 31.2, 26.1, 30.8, 40.5, 25.2, 28.7, 28.893236911794666, 30.4, 15.2, 36.6, 34.5, 23.7, 35.7, 38.9, 40.0, 18.4, 29.0, 20.6, 28.2, 66.8, 26.2, 34.8, 34.5, 30.6, 55.1, 18.8, 29.1, 22.1, 28.9, 34.7, 20.3, 25.1, 18.2, 25.5, 34.4, 48.5, 25.2, 32.5, 42.1, 19.5, 27.7, 25.1, 29.6, 32.9, 55.9, 25.1, 24.7, 17.5, 20.8, 23.3, 22.8, 26.6, 25.5, 25.8, 25.4, 57.3, 28.893236911794666, 20.2, 27.7, 23.1, 14.3, 23.3, 23.4, 22.8, 30.9, 28.4, 41.9, 34.3, 25.1, 10.3, 31.8, 31.8, 23.0, 25.4, 14.1, 35.1, 26.9, 33.0, 22.1, 20.8, 30.0, 44.0, 16.6, 28.4, 26.3, 39.4, 15.7, 34.1, 29.8, 23.6, 18.3, 28.3, 18.5, 18.4, 24.1, 25.5, 25.3, 39.9, 28.8, 37.2, 28.893236911794666, 49.8, 34.3, 29.0, 28.893236911794666, 37.2, 28.893236911794666, 19.4, 26.2, 21.1, 28.893236911794666, 31.6, 29.3, 28.4, 35.3, 40.1, 39.0, 31.5, 28.5, 28.5, 56.0, 28.6, 35.2, 32.5, 35.9, 25.1, 16.8, 27.9, 16.3, 28.893236911794666, 28.893236911794666, 21.4, 32.7, 23.6, 19.8, 33.1, 28.1, 38.9, 23.8, 33.8, 26.7, 28.893236911794666, 32.2, 28.1, 21.3, 44.0, 21.5, 37.3, 44.8, 21.4, 32.3, 35.4, 19.7, 31.3, 35.5, 25.8, 32.8, 35.9, 41.8, 27.3, 27.7, 13.4, 17.0, 20.0, 40.9, 38.5, 30.9, 33.4, 17.1, 28.6, 24.0, 32.0, 28.4, 20.3, 33.8, 43.2, 22.7, 29.9, 28.893236911794666, 28.893236911794666, 29.9, 22.7, 16.1, 33.8, 22.6, 25.5, 22.5, 27.9, 23.5, 32.2, 28.893236911794666, 29.9, 28.7, 37.2, 22.2, 26.6, 24.6, 41.7, 26.2, 27.1, 41.8, 34.2, 19.2, 25.2, 18.7, 43.0, 28.2, 34.7, 25.5, 39.8, 20.8, 28.2, 31.0, 28.893236911794666, 21.6, 26.2, 28.893236911794666, 26.0, 22.5, 24.0, 31.5, 36.3, 25.4, 32.2, 39.8, 18.6, 30.7, 16.4, 20.5, 28.7, 29.0, 24.4, 29.9, 25.3, 23.5, 20.5, 33.5, 22.0, 29.0, 28.893236911794666, 30.7, 37.4, 51.8, 16.6, 29.5, 27.3, 27.5, 33.9, 27.9, 22.9, 32.1, 18.2, 30.2, 31.3, 20.3, 23.2, 30.8, 22.9, 42.8, 22.2, 28.7, 32.3, 24.2, 23.9, 34.2, 29.0, 29.9, 23.0, 17.3, 21.0, 34.3, 19.8, 24.3, 16.4, 32.6, 23.7, 28.893236911794666, 27.0, 25.6, 34.0, 24.9, 26.3, 43.1, 39.6, 15.2, 41.8, 20.1, 39.3, 28.3, 27.5, 33.9, 20.0, 34.8, 20.7, 24.6, 39.4, 28.893236911794666, 28.893236911794666, 29.4, 24.8, 32.3, 25.3, 39.0, 29.4, 31.9, 26.4, 20.6, 26.3, 23.6, 18.0, 26.4, 22.0, 30.5, 29.1, 24.9, 36.4, 31.2, 32.8, 31.6, 35.8, 35.2, 28.0, 24.9, 35.7, 30.7, 33.9, 28.893236911794666, 27.8, 23.2, 17.1, 31.6, 23.8, 29.6, 45.0, 25.6, 27.7, 25.5, 18.3, 21.0, 28.6, 23.5, 36.1, 29.2, 27.6, 36.0, 20.4, 19.9, 29.2, 27.9, 38.1, 24.1, 37.8, 29.1, 35.7, 28.893236911794666, 34.5, 34.1, 21.1, 57.7, 22.2, 20.5, 26.2, 23.5, 29.1, 39.8, 21.2, 28.893236911794666, 20.2, 30.8, 33.8, 17.1, 21.3, 28.893236911794666, 22.3, 28.9, 26.7, 41.0, 16.7, 29.1, 23.6, 27.8, 31.4, 28.2, 30.8, 36.1, 32.7, 26.4, 20.7, 18.5, 33.5, 14.1, 23.4, 23.2, 36.0, 35.6, 21.8, 34.9, 20.4, 25.0, 22.3, 27.3, 28.9, 30.4, 36.9, 27.7, 44.4, 28.2, 35.0, 20.6, 26.5, 25.1, 22.2, 27.3, 27.3, 41.9, 38.8, 18.3, 19.5, 17.2, 20.8, 23.8, 24.7, 23.1, 22.4, 29.9, 20.0, 28.7, 26.2, 29.6, 30.8, 32.7, 21.8, 35.7, 25.4, 32.8, 21.1, 31.7, 20.0, 34.7, 28.0, 16.4, 28.893236911794666, 24.6, 24.6, 30.3, 23.7, 33.5, 24.9, 48.9, 31.4, 18.4, 24.2, 34.3, 28.893236911794666, 25.1, 33.3, 22.6, 26.3, 29.7, 18.5, 21.4, 45.5, 34.2, 32.7, 38.1, 26.7, 22.6, 27.7, 20.7, 25.7, 17.3, 23.3, 16.2, 20.5, 33.6, 20.2, 49.3, 26.2, 30.1, 25.1, 32.7, 26.4, 21.0, 24.1, 20.4, 30.9, 39.1, 27.7, 29.5, 30.3, 28.893236911794666, 37.8, 30.2, 24.2, 25.2, 22.2, 17.7, 29.6, 32.2, 28.7, 19.5, 38.5, 20.6, 21.5, 43.8, 18.0, 28.2, 26.6, 35.5, 30.7, 18.7, 22.4, 25.2, 24.2, 20.5, 24.5, 24.8, 42.6, 23.8, 42.3, 42.2, 26.1, 22.8, 42.3, 28.5, 23.0, 32.8, 49.8, 23.8, 31.7, 34.9, 54.0, 26.8, 21.3, 19.8, 42.4, 16.4, 28.2, 26.3, 17.0, 23.3, 56.1, 25.1, 35.3, 36.3, 30.4, 43.9, 26.4, 28.3, 42.3, 38.0, 32.7, 28.8, 38.5, 30.1, 31.3, 28.4, 26.6, 20.4, 34.7, 32.5, 30.7, 29.6, 28.893236911794666, 39.4, 28.893236911794666, 26.1, 27.2, 41.3, 28.893236911794666, 20.9, 41.5, 31.1, 24.5, 23.0, 24.7, 19.3, 37.0, 31.0, 33.1, 26.6, 27.7, 40.3, 19.5, 26.7, 26.1, 38.2, 21.3, 97.6, 40.9, 27.3, 20.9, 29.2, 17.9, 38.0, 26.1, 53.9, 22.2, 24.6, 33.4, 34.4, 17.6, 19.2, 31.8, 28.1, 32.1, 17.4, 20.2, 23.4, 39.5, 21.5, 24.3, 15.3, 32.4, 16.1, 34.3, 43.8, 19.6, 36.7, 33.7, 38.9, 28.0, 23.9, 16.6, 42.9, 17.1, 27.2, 30.3, 33.9, 20.0, 19.4, 21.5, 28.5, 34.4, 43.7, 13.7, 33.7, 18.0, 27.9, 21.8, 35.8, 23.1, 30.3, 32.0, 25.0, 30.7, 24.3, 11.5, 30.7, 33.7, 26.5, 17.6, 28.893236911794666, 22.5, 18.5, 22.4, 25.3, 37.3, 39.7, 28.0, 41.4, 25.3, 28.1, 41.2, 28.8, 31.0, 28.3, 23.9, 44.2, 27.6, 35.7, 37.4, 27.5, 23.4, 25.8, 28.893236911794666, 22.8, 19.5, 38.0, 23.4, 29.5, 28.2, 14.2, 28.9, 31.4, 32.4, 22.0, 26.4, 26.1, 37.6, 18.8, 23.8, 49.4, 23.8, 20.4, 40.3, 23.6, 34.3, 32.7, 28.7, 24.5, 24.8, 23.2, 23.0, 39.3, 20.1, 25.4, 23.8, 28.4, 15.4, 28.2, 26.0, 41.5, 32.2, 25.7, 33.0, 35.0, 27.4, 16.4, 31.5, 29.2, 25.9, 32.3, 28.893236911794666, 30.4, 45.1, 25.9, 36.6, 18.6, 27.5, 31.3, 37.5, 23.1, 35.0, 27.0, 29.8, 23.5, 48.5, 31.8, 20.0, 29.4, 24.3, 45.4, 29.5, 49.2, 28.893236911794666, 29.4, 29.1, 38.8, 23.4, 48.7, 19.7, 20.3, 33.5, 36.7, 24.4, 38.8, 44.2, 33.4, 32.5, 15.1, 21.5, 30.4, 33.4, 18.2, 18.7, 38.4, 36.4, 20.6, 48.9, 18.2, 17.0, 31.8, 33.0, 24.7, 28.1, 40.3, 35.2, 31.2, 37.6, 38.7, 28.893236911794666, 28.893236911794666, 28.1, 29.2, 31.1, 24.1, 18.7, 39.6, 15.7, 53.8, 32.4, 42.7, 18.6, 31.4, 33.7, 24.5, 33.7, 35.4, 28.893236911794666, 22.5, 33.6, 29.7, 28.893236911794666, 25.7, 20.2, 22.7, 17.4, 22.2, 23.8, 28.7, 33.1, 28.0, 16.7, 27.1, 26.4, 23.7, 33.3, 18.9, 25.5, 35.9, 23.2, 22.2, 34.0, 20.4, 34.5, 31.9, 19.8, 29.0, 36.7, 21.3, 23.7, 25.7, 34.0, 30.7, 44.8, 27.7, 23.2, 30.1, 29.3, 29.5, 25.8, 26.2, 28.8, 29.8, 26.5, 27.8, 29.0, 19.1, 17.1, 24.6, 18.3, 42.8, 46.5, 38.4, 26.0, 26.8, 21.1, 29.0, 43.0, 36.6, 27.5, 40.2, 37.1, 32.0, 32.2, 20.6, 24.1, 25.0, 25.2, 27.6, 48.8, 27.6, 39.5, 27.2, 26.3, 28.9, 30.0, 23.7, 25.5, 24.6, 20.7, 36.4, 23.4, 32.3, 18.8, 15.5, 21.4, 31.7, 29.7, 34.3, 22.1, 21.5, 30.4, 21.6, 30.9, 21.9, 19.2, 30.3, 23.0, 24.1, 52.7, 27.6, 23.9, 26.9, 23.9, 40.5, 32.0, 20.5, 44.5, 16.2, 35.8, 24.0, 33.9, 36.0, 22.9, 44.5, 17.5, 32.3, 30.3, 33.5, 30.9, 25.5, 30.0, 32.2, 21.7, 24.7, 28.8, 27.0, 26.0, 27.1, 18.5, 18.8, 31.5, 18.1, 24.3, 28.0, 28.893236911794666, 17.3, 17.2, 26.9, 22.4, 25.8, 21.3, 43.0, 24.4, 30.1, 21.3, 17.8, 28.4, 23.4, 24.3, 27.8, 30.5, 28.893236911794666, 25.8, 26.7, 28.1, 22.2, 25.1, 20.9, 28.9, 28.893236911794666, 35.9, 29.8, 26.7, 28.4, 26.7, 32.5, 43.8, 28.3, 36.6, 33.1, 27.0, 23.6, 28.893236911794666, 21.8, 23.5, 28.7, 31.6, 31.9, 25.2, 25.9, 32.5, 28.1, 27.4, 21.2, 26.8, 18.5, 28.893236911794666, 30.6, 19.9, 28.893236911794666, 26.5, 43.8, 31.8, 36.6, 22.9, 18.7, 29.6, 43.6, 28.893236911794666, 20.3, 21.3, 39.2, 52.8, 30.2, 35.3, 37.0, 32.1, 30.5, 22.8, 34.5, 37.4, 19.5, 55.7, 30.4, 25.3, 23.1, 30.7, 18.8, 28.6, 27.5, 26.5, 40.3, 37.9, 17.1, 53.5, 33.6, 43.4, 30.5, 38.1, 29.9, 32.7, 28.6, 38.5, 22.9, 38.0, 43.8, 20.8, 26.8, 25.5, 28.893236911794666, 25.4, 26.7, 50.5, 21.3, 34.7, 17.9, 36.3, 18.4, 34.5, 33.4, 19.4, 25.6, 24.5, 30.0, 28.9, 28.1, 23.0, 33.5, 34.8, 17.6, 21.1, 29.0, 15.8, 41.2, 29.7, 40.8, 33.2, 37.0, 24.5, 34.5, 28.0, 26.8, 21.0, 23.8, 29.3, 24.4, 22.6, 22.8, 29.7, 32.4, 35.8, 31.1, 31.9, 33.7, 25.6, 19.9, 45.3, 15.5, 28.3, 40.2, 24.3, 24.6, 26.6, 30.9, 23.5, 23.9, 34.2, 34.9, 26.2, 36.2, 22.4, 19.3, 41.7, 46.0, 26.9, 40.1, 27.7, 29.5, 26.0, 22.7, 16.0, 27.7, 33.1, 33.1, 29.7, 34.0, 33.3, 27.0, 14.2, 19.4, 15.3, 28.7, 21.0, 28.9, 20.3, 28.0, 29.6, 30.2, 22.2, 28.4, 29.6, 28.6, 32.6, 29.0, 30.1, 31.2, 20.7, 45.1, 14.8, 37.4, 19.9, 16.0, 27.4, 33.4, 18.5, 33.4, 20.8, 22.0, 32.5, 19.2, 32.9, 23.5, 21.7, 29.1, 28.893236911794666, 30.3, 29.4, 30.1, 32.9, 34.0, 38.6, 29.3, 43.6, 22.7, 36.6, 22.6, 25.6, 31.4, 26.0, 27.0, 33.3, 17.3, 26.9, 24.8, 20.0, 35.8, 36.9, 29.6, 31.1, 25.1, 51.9, 36.3, 28.2, 35.8, 30.9, 22.1, 17.6, 29.5, 27.0, 33.2, 24.4, 34.4, 36.7, 27.2, 27.5, 32.6, 28.893236911794666, 28.4, 25.5, 28.7, 23.8, 34.4, 26.1, 28.5, 29.6, 29.4, 28.2, 28.7, 38.1, 28.893236911794666, 22.2, 25.7, 17.7, 26.4, 32.8, 34.5, 39.5, 23.5, 38.8, 21.2, 32.0, 63.3, 32.6, 25.2, 27.4, 28.893236911794666, 38.6, 32.9, 26.0, 29.2, 29.2, 26.4, 23.1, 21.2, 26.2, 23.4, 19.8, 20.4, 25.9, 34.1, 18.3, 35.0, 26.4, 27.6, 27.0, 28.893236911794666, 31.3, 18.0, 22.1, 34.4, 33.2, 23.1, 39.7, 40.7, 30.9, 27.5, 28.3, 33.4, 33.1, 41.5, 17.1, 30.0, 24.9, 32.5, 26.1, 19.2, 38.7, 29.5, 28.1, 14.1, 33.9, 26.0, 52.8, 28.893236911794666, 29.2, 26.3, 23.6, 18.6, 29.7, 30.9, 22.8, 25.5, 25.6, 23.0, 20.6, 28.893236911794666, 28.4, 29.7, 26.0, 37.5, 42.3, 21.4, 29.3, 31.0, 22.0, 20.9, 45.9, 61.2, 29.1, 28.4, 22.6, 24.2, 16.3, 35.9, 29.8, 37.0, 35.8, 21.1, 37.6, 24.8, 31.9, 17.5, 28.893236911794666, 17.6, 38.9, 15.2, 27.4, 27.9, 16.1, 39.0, 36.6, 33.7, 27.6, 31.0, 28.893236911794666, 28.5, 31.4, 25.3, 17.2, 26.9, 32.0, 22.5, 17.3, 27.0, 33.1, 25.0, 28.893236911794666, 31.1, 19.6, 24.7, 48.0, 38.0, 24.0, 30.0, 24.6, 23.1, 17.4, 43.1, 27.1, 14.3, 46.8, 26.0, 29.3, 50.1, 28.893236911794666, 18.6, 27.0, 25.7, 25.5, 27.3, 24.1, 42.7, 41.2, 20.2, 30.9, 27.7, 22.3, 39.4, 34.2, 20.1, 36.8, 28.893236911794666, 33.9, 27.7, 22.7, 32.2, 22.0, 23.2, 26.7, 23.0, 23.4, 24.1, 31.5, 26.1, 23.7, 20.8, 18.8, 32.5, 24.3, 24.1, 32.5, 39.3, 23.9, 22.0, 37.3, 33.0, 24.7, 32.8, 29.8, 24.1, 21.6, 27.1, 27.0, 18.7, 35.8, 27.1, 33.1, 25.9, 26.7, 22.2, 26.0, 23.5, 23.5, 15.9, 24.9, 26.5, 35.7, 28.893236911794666, 32.1, 28.5, 40.1, 26.6, 21.7, 28.8, 32.0, 31.4, 32.1, 19.8, 25.3, 28.8, 26.0, 30.7, 43.3, 35.2, 20.9, 35.3, 27.0, 26.1, 29.1, 32.6, 21.8, 32.3, 28.1, 32.3, 21.7, 25.0, 28.9, 21.7, 45.3, 40.2, 22.5, 21.3, 26.1, 28.8, 28.893236911794666, 32.4, 20.4, 25.9, 38.8, 30.8, 24.6, 20.6, 38.8, 40.4, 28.893236911794666, 36.2, 18.8, 27.6, 28.3, 39.4, 33.5, 40.4, 25.9, 27.6, 44.7, 30.8, 22.3, 27.9, 22.9, 27.3, 25.0, 48.3, 22.7, 39.1, 27.8, 28.893236911794666, 36.7, 38.5, 29.4, 30.5, 23.6, 20.6, 31.7, 24.9, 33.4, 22.2, 26.5, 27.1, 30.3, 18.6, 26.4, 17.8, 37.4, 32.1, 38.2, 28.893236911794666, 39.1, 29.5, 28.6, 40.1, 31.8, 34.6, 24.5, 26.2, 33.0, 22.3, 28.893236911794666, 58.1, 36.9, 43.9, 18.2, 23.1, 32.6, 41.2, 28.6, 26.0, 36.8, 35.8, 24.2, 22.9, 23.1, 28.893236911794666, 28.9, 26.5, 29.3, 24.8, 20.1, 18.2, 34.7, 24.0, 29.0, 27.3, 27.6, 20.4, 17.7, 27.9, 41.5, 27.4, 27.8, 17.8, 32.0, 37.3, 28.1, 29.1, 22.9, 38.8, 29.0, 28.6, 29.8, 28.9, 29.1, 28.893236911794666, 16.7, 34.1, 25.7, 30.8, 23.9, 18.8, 28.893236911794666, 41.8, 36.4, 28.7, 28.3, 22.4, 15.1, 22.7, 26.6, 20.8, 23.0, 35.8, 29.9, 43.4, 36.3, 40.1, 35.9, 32.4, 20.3, 33.2, 22.3, 18.1, 28.2, 29.7, 28.893236911794666, 29.0, 25.4, 26.5, 22.7, 27.5, 23.8, 35.6, 27.2, 30.4, 21.5, 31.8, 29.5, 30.6, 27.6, 23.0, 24.8, 28.0, 22.2, 27.8, 30.2, 26.8, 22.0, 34.3, 29.2, 30.3, 28.893236911794666, 28.893236911794666, 21.4, 28.893236911794666, 26.6, 30.0, 33.7, 30.9, 31.1, 23.0, 20.2, 31.6, 23.9, 26.1, 15.8, 28.893236911794666, 28.7, 28.9, 25.1, 19.8, 30.8, 22.1, 20.4, 31.2, 24.9, 27.0, 20.1, 24.4, 22.6, 22.4, 26.2, 22.9, 32.6, 31.3, 43.9, 41.8, 28.893236911794666, 37.7, 20.8, 21.6, 22.1, 39.2, 36.7, 32.0, 25.9, 28.9, 29.3, 32.3, 33.2, 31.6, 20.6, 23.3, 30.8, 28.893236911794666, 28.893236911794666, 28.893236911794666, 23.7, 49.3, 30.3, 24.4, 28.2, 33.8, 42.6, 31.9, 34.0, 19.8, 30.5, 21.7, 24.6, 38.1, 19.2, 30.1, 23.3, 34.5, 30.8, 43.8, 29.9, 50.4, 22.6, 19.5, 33.4, 24.2, 52.7, 25.6, 26.9, 35.2, 22.1, 34.4, 26.0, 26.9, 20.1, 24.7, 32.1, 29.8, 27.5, 22.8, 27.6, 33.0, 33.7, 25.1, 15.3, 22.2, 21.4, 26.0, 29.9, 28.6, 21.2, 16.0, 22.7, 25.3, 31.6, 38.9, 27.1, 24.1, 31.5, 32.0, 31.8, 34.0, 23.4, 29.3, 17.2, 31.9, 31.6, 23.2, 30.0, 26.3, 31.8, 25.5, 21.3, 29.6, 28.7, 30.8, 32.1, 34.0, 16.9, 32.1, 22.6, 31.3, 29.0, 27.6, 17.7, 35.9, 33.8, 17.6, 48.3, 39.9, 11.3, 31.5, 29.6, 19.4, 18.1, 36.2, 17.9, 33.0, 20.4, 33.6, 34.5, 30.0, 12.8, 26.2, 13.5, 25.6, 18.8, 14.5, 23.4, 39.7, 40.8, 29.5, 33.0, 25.6, 33.1, 28.1, 49.3, 16.9, 35.9, 32.1, 34.1, 15.1, 42.0, 16.8, 28.8, 32.2, 16.2, 44.2, 23.4, 31.0, 28.7, 23.6, 35.7, 39.5, 27.3, 31.3, 33.4, 29.2, 26.0, 18.1, 22.4, 29.4, 21.6, 27.9, 29.6, 30.2, 43.4, 30.5, 33.2, 27.7, 33.5, 28.0, 31.5, 24.0, 27.4, 37.9, 26.2, 22.4, 28.893236911794666, 43.7, 28.4, 29.8, 24.8, 34.8, 27.4, 28.893236911794666, 33.5, 35.0, 24.4, 28.3, 29.1, 31.3, 32.8, 29.1, 31.9, 14.2, 26.3, 22.8, 24.8, 34.1, 21.5, 26.1, 21.4, 33.5, 23.0, 18.5, 23.4, 31.4, 31.1, 37.7, 25.3, 35.6, 24.8, 32.7, 24.9, 26.0, 22.8, 24.0, 20.3, 30.3, 23.7, 25.7, 21.9, 15.8, 30.5, 25.7, 19.0, 28.8, 28.893236911794666, 22.4, 32.4, 36.6, 27.9, 27.7, 28.893236911794666, 34.3, 26.7, 19.0, 20.6, 26.7, 29.2, 21.3, 51.9, 14.1, 28.9, 30.9, 36.1, 25.0, 28.6, 20.5, 16.7, 36.6, 26.4, 33.1, 27.5, 26.9, 23.9, 26.9, 27.8, 32.7, 28.7, 22.6, 26.5, 28.3, 24.3, 24.0, 32.4, 28.7, 36.7, 27.7, 24.8, 31.2, 26.1, 26.8, 26.7, 19.6, 25.8, 32.5, 28.3, 24.5, 25.2, 32.3, 30.1, 35.7, 20.0, 23.5, 23.4, 22.3, 28.7, 20.9, 29.4, 27.6, 43.9, 28.7, 34.7, 37.1, 24.2, 22.7, 29.3, 20.0, 22.7, 25.4, 37.6, 44.7, 26.3, 25.0, 28.893236911794666, 32.3, 24.9, 33.7, 26.6, 53.4, 41.7, 22.0, 20.3, 42.7, 28.2, 32.5, 22.5, 26.5, 41.0, 27.0, 25.9, 23.7, 30.0, 15.0, 21.5, 25.9, 24.3, 39.2, 14.4, 26.6, 30.7, 35.4, 29.2, 26.7, 21.5, 19.1, 25.4, 34.0, 23.9, 20.9, 18.2, 27.6, 50.3, 24.5, 16.6, 24.0, 18.8, 34.0, 25.8, 30.3, 28.9, 21.3, 26.8, 29.2, 25.0, 21.5, 17.1, 32.5, 26.9, 30.4, 29.8, 20.3, 41.1, 28.893236911794666, 33.9, 39.0, 31.2, 38.2, 44.7, 33.5, 27.0, 31.1, 29.2, 26.6, 17.9, 24.2, 19.5, 28.5, 21.3, 41.3, 31.3, 40.8, 36.6, 26.7, 18.7, 15.2, 26.8, 25.1, 31.3, 59.7, 29.8, 33.5, 24.5, 33.6, 39.7, 47.4, 26.4, 33.0, 31.4, 27.2, 35.7, 29.5, 21.0, 26.6, 24.3, 43.9, 28.893236911794666, 52.5, 27.0, 32.7, 29.4, 15.1, 32.1, 32.9, 27.6, 26.5, 19.2, 25.9, 21.9, 17.4, 13.2, 25.2, 28.2, 31.5, 25.2, 14.5, 28.0, 15.1, 31.4, 26.3, 28.893236911794666, 39.6, 28.9, 31.4, 34.3, 27.0, 27.2, 23.8, 25.3, 32.6, 31.8, 22.4, 28.0, 23.9, 25.3, 16.4, 26.9, 25.4, 18.7, 37.5, 41.4, 37.5, 15.8, 37.6, 30.5, 22.1, 19.2, 38.0, 18.7, 25.7, 30.1, 36.3, 20.4, 20.9, 28.4, 33.8, 24.0, 43.3, 36.4, 37.9, 32.6, 23.9, 18.1, 36.4, 29.2, 30.8, 23.8, 17.9, 31.8, 19.5, 31.5, 24.1, 28.893236911794666, 35.9, 31.6, 19.0, 18.8, 33.5, 25.0, 52.9, 24.8, 24.5, 40.4, 20.2, 31.9, 25.4, 15.4, 38.6, 31.0, 26.4, 28.893236911794666, 37.7, 35.2, 54.7, 21.6, 23.9, 28.893236911794666, 26.1, 39.7, 29.9, 31.4, 34.5, 29.4, 26.9, 22.4, 20.5, 18.6, 31.4, 18.5, 41.8, 21.2, 28.6, 16.0, 30.6, 29.0, 28.6, 34.8, 28.893236911794666, 42.0, 30.3, 30.9, 32.1, 19.6, 32.8, 31.5, 28.893236911794666, 34.7, 21.5, 27.6, 28.6, 21.1, 23.8, 33.5, 33.4, 23.3, 21.0, 21.2, 18.4, 26.9, 20.2, 21.9, 24.2, 29.6, 38.1, 22.0, 29.8, 24.0, 26.9, 38.0, 16.9, 23.4, 38.5, 21.6, 15.9, 25.1, 41.1, 21.5, 21.0, 24.1, 30.6, 19.8, 29.2, 33.7, 31.0, 21.5, 19.1, 21.4, 24.8, 35.1, 28.6, 35.7, 45.4, 34.5, 21.2, 22.7, 39.1, 21.9, 16.5, 23.0, 22.5, 20.4, 28.7, 22.4, 26.3, 23.6, 25.9, 30.7, 24.5, 24.0, 20.1, 38.0, 26.6, 24.5, 28.893236911794666, 41.3, 34.8, 35.5, 24.1, 19.0, 28.893236911794666, 16.6, 28.6, 22.4, 38.6, 32.0, 40.1, 32.0, 23.9, 25.0, 28.5, 19.8, 25.7, 28.0, 37.2, 24.8, 39.2, 61.6, 27.2, 38.0, 36.2, 16.6, 38.0, 31.4, 35.3, 35.8, 28.6, 34.0, 15.5, 31.1, 37.5, 37.7, 24.2, 33.4, 33.0, 25.7, 19.4, 33.4, 18.0, 40.1, 26.9, 22.5, 27.6, 23.3, 35.7, 28.4, 29.4, 31.9, 25.1, 35.6, 21.1, 17.8, 31.5, 26.6, 44.8, 31.3, 17.2, 25.3, 28.8, 49.9, 18.0, 23.5, 18.1, 41.7, 28.893236911794666, 20.7, 30.3, 27.8, 18.9, 20.4, 31.8, 44.8, 37.1, 39.9, 24.1, 18.1, 36.3, 19.1, 21.1, 28.9, 18.9, 43.3, 37.2, 32.2, 26.3, 25.4, 18.3, 21.4, 22.9, 16.2, 29.6, 21.5, 24.2, 37.3, 33.3, 33.1, 22.2, 24.4, 30.3, 28.2, 17.0, 53.8, 30.4, 22.3, 25.3, 28.893236911794666, 29.8, 43.8, 34.5, 25.5, 31.5, 39.2, 47.3, 17.0, 38.2, 31.1, 22.4, 32.0, 24.7, 36.3, 20.2, 27.4, 29.6, 54.3, 28.6, 43.9, 22.2, 28.4, 23.7, 18.3, 18.3, 28.9, 28.893236911794666, 27.1, 13.8, 21.9, 24.0, 28.893236911794666, 20.8, 39.8, 26.2, 43.9, 27.3, 28.893236911794666, 22.0, 40.0, 20.1, 42.2, 25.8, 27.2, 30.9, 47.9, 33.1, 37.8, 25.4, 28.4, 16.6, 35.1, 32.7, 29.8, 13.0, 27.5, 23.6, 36.9, 16.7, 26.5, 37.0, 27.7, 23.5, 40.4, 27.7, 28.3, 55.0, 28.7, 25.0, 24.8, 35.5, 25.0, 17.3, 37.8, 32.8, 28.7, 28.8, 28.4, 24.9, 29.6, 26.1, 29.5, 23.9, 25.8, 36.2, 31.3, 26.1, 19.1, 17.6, 21.4, 24.0, 25.5, 19.9, 19.9, 35.5, 26.9, 24.2, 30.0, 30.9, 26.5, 30.6, 19.1, 23.2, 30.5, 15.8, 16.9, 18.0, 13.9, 36.7, 30.8, 34.6, 16.3, 38.2, 27.3, 30.4, 34.5, 17.4, 32.0, 33.4, 40.2, 30.1, 46.2, 35.6, 29.4, 27.3, 17.4, 26.9, 17.7, 23.6, 27.7, 38.0, 35.2, 28.893236911794666, 32.4, 36.1, 30.6, 29.0, 22.3, 27.3, 17.4, 39.0, 26.7, 24.2, 22.8, 25.6, 21.9, 25.9, 30.6, 25.7, 33.3, 23.8, 17.2, 31.0, 24.7, 27.1, 28.893236911794666, 38.3, 50.9, 29.2, 23.6, 33.5, 16.3, 30.8, 31.1, 26.4, 18.6, 37.3, 26.6, 17.6, 22.3, 20.2, 30.9, 31.5, 29.7, 32.5, 32.8, 25.4, 27.2, 31.6, 39.6, 19.8, 29.6, 25.5, 25.8, 32.1, 25.6, 26.3, 39.4, 25.6, 34.0, 35.8, 24.9, 29.3, 23.4, 24.5, 29.8, 28.9, 27.3, 23.2, 34.2, 23.3, 26.9, 21.8, 26.9, 29.9, 22.4, 27.5, 35.0, 27.9, 25.5, 28.6, 34.8, 50.6, 30.9, 14.8, 31.4, 22.3, 19.1, 27.4, 17.5, 36.2, 25.4, 25.7, 28.6, 33.7, 37.9, 28.4, 20.0, 29.1, 27.6, 27.6, 24.2, 31.0, 34.5, 27.0, 20.7, 26.1, 19.2, 28.0, 23.6, 57.2, 33.0, 22.2, 24.8, 24.7, 27.9, 21.6, 34.8, 32.9, 28.0, 28.893236911794666, 25.0, 24.7, 27.3, 34.2, 39.1, 22.7, 33.9, 18.6, 16.7, 20.6, 20.1, 45.2, 25.3, 32.4, 34.9, 43.7, 23.0, 21.5, 24.9, 22.9, 25.0, 21.3, 46.1, 64.4, 37.0, 21.3, 28.3, 31.1, 25.1, 27.6, 29.4, 14.1, 35.2, 23.9, 34.0, 27.1, 29.5, 28.893236911794666, 20.7, 39.5, 33.7, 23.2, 30.1, 28.8, 92.0, 38.0, 27.7, 43.2, 24.1, 28.7, 34.8, 23.5, 28.5, 20.3, 43.0, 18.3, 27.2, 22.0, 50.8, 35.4, 55.9, 27.9, 19.8, 26.0, 26.8, 28.893236911794666, 32.5, 15.0, 14.2, 17.0, 26.2, 24.9, 26.6, 22.7, 32.7, 36.7, 31.5, 36.9, 27.6, 20.7, 20.2, 23.4, 25.3, 28.2, 27.0, 24.8, 34.8, 17.3, 27.8, 16.2, 28.893236911794666, 21.7, 21.4, 29.3, 36.2, 28.3, 23.5, 25.9, 27.1, 21.5, 30.5, 23.4, 37.6, 24.0, 25.1, 28.7, 41.8, 25.6, 27.2, 24.4, 20.7, 19.6, 24.8, 32.6, 20.5, 36.2, 45.4, 27.6, 28.893236911794666, 34.7, 32.4, 28.893236911794666, 28.7, 45.3, 40.3, 38.9, 46.0, 32.4, 19.4, 27.5, 26.2, 31.1, 34.6, 24.3, 34.6, 28.5, 32.1, 28.0, 20.9, 33.8, 25.8, 31.8, 26.8, 25.9, 29.2, 25.3, 41.7, 38.8, 29.1, 30.9, 39.3, 41.8, 26.2, 33.8, 26.1, 24.1, 30.7, 22.4, 23.0, 30.2, 30.3, 28.7, 36.3, 16.3, 34.5, 20.8, 31.0, 17.6, 22.7, 38.4, 40.8, 32.9, 31.3, 28.5, 27.6, 40.2, 24.7, 17.7, 25.4, 28.5, 26.2, 26.0, 45.3, 31.5, 20.6, 29.4, 57.9, 39.1, 23.8, 38.1, 19.5, 35.5, 26.4, 22.2, 29.1, 41.9, 22.6, 33.3, 21.3, 20.4, 28.7, 28.8, 38.7, 32.3, 37.9, 25.3, 27.7, 25.1, 16.8, 27.7, 28.6, 37.6, 32.7, 22.7, 16.0, 23.5, 45.8, 20.8, 16.7, 22.2, 33.1, 32.7, 41.4, 24.1, 28.0, 24.2, 23.5, 23.0, 20.3, 24.8, 26.1, 24.2, 19.3, 18.2, 24.2, 41.5, 28.0, 37.0, 32.2, 35.9, 47.6, 32.1, 55.7, 22.2, 20.1, 14.6, 28.4, 20.6, 19.8, 23.4, 25.1, 30.1, 33.3, 24.0, 27.8, 21.4, 25.5, 28.893236911794666, 21.8, 18.9, 21.9, 30.6, 29.8, 28.7, 35.5, 29.1, 32.8, 22.8, 31.3, 29.0, 19.0, 24.1, 21.4, 28.0, 27.6, 28.7, 24.5, 25.0, 29.6, 29.9, 35.6, 27.9, 42.6, 21.2, 28.5, 25.6, 28.893236911794666, 31.1, 30.4, 22.9, 31.9, 48.8, 43.0, 21.8, 35.5, 24.3, 23.1, 18.5, 42.4, 32.3, 22.6, 17.8, 18.4, 26.9, 32.0, 23.4, 31.4, 22.4, 28.9, 27.4, 57.2, 28.4, 23.5, 28.3, 38.2, 33.3, 33.3, 28.8, 32.1, 28.9, 25.5, 25.9, 19.5, 23.8, 24.9, 18.5, 30.6, 16.1, 32.5, 27.4, 30.2, 23.5, 36.0, 24.8, 27.5, 40.0, 18.1, 18.8, 23.6, 29.7, 43.7, 27.3, 20.2, 23.8, 21.4, 25.1, 17.9, 34.5, 27.1, 26.1, 43.4, 33.2, 37.2, 41.3, 35.4, 26.1, 24.5, 28.893236911794666, 32.7, 29.2, 20.4, 33.5, 14.0, 33.5, 27.5, 35.3, 30.1, 32.6, 47.5, 31.6, 23.5, 40.3, 34.1, 16.1, 26.4, 19.0, 34.7, 23.3, 32.6, 26.0, 35.1, 18.6, 30.4, 32.8, 21.6, 23.3, 31.4, 26.3, 20.1, 28.3, 40.4, 18.6, 44.7, 25.3, 28.3, 39.9, 28.893236911794666, 34.7, 31.9, 35.0, 32.7, 30.6, 27.9, 20.4, 29.6, 23.5, 46.4, 27.4, 25.2, 25.8, 33.3, 27.7, 28.9, 33.1, 38.1, 27.9, 17.4, 27.1, 22.7, 28.3, 21.5, 30.0, 18.6, 45.2, 39.7, 31.5, 23.2, 27.3, 26.5, 19.3, 26.1, 19.8, 25.1, 37.3, 30.3, 16.1, 25.1, 26.7, 29.3, 38.7, 35.8, 21.7, 31.4, 26.9, 33.0, 24.5, 44.9, 25.5, 22.1, 24.3, 32.4, 28.893236911794666, 33.1, 26.7, 37.9, 39.6, 19.8, 30.0, 23.1, 34.3, 38.4, 32.8, 34.4, 44.6, 32.8, 26.4, 27.3, 32.4, 43.2, 33.6, 26.4, 46.9, 36.3, 34.9, 29.6, 16.5, 35.4, 23.6, 33.1, 40.2, 14.8, 34.8, 33.5, 31.9, 16.1, 50.2, 35.9, 39.6, 27.5, 32.3, 15.4, 28.4, 19.5, 25.0, 26.3, 39.6, 38.6, 33.9, 32.2, 25.1, 37.4, 30.1, 27.0, 32.4, 26.8, 27.2, 36.7, 36.0, 37.2, 19.1, 21.8, 26.5, 35.0, 32.6, 23.9, 33.7, 29.4, 29.0, 20.2, 28.893236911794666, 27.4, 25.0, 30.7, 23.0, 26.6, 18.1, 47.1, 29.7, 19.9, 13.3, 32.7, 31.8, 31.4, 20.4, 33.2, 30.5, 30.3, 34.2, 34.4, 48.1, 22.8, 30.5, 35.9, 33.7, 24.1, 25.4, 25.5, 29.2, 28.893236911794666, 17.4, 29.9, 21.5, 24.7, 25.1, 34.4, 27.9, 31.5, 31.8, 30.1, 26.4, 27.2, 22.5, 29.8, 26.1, 24.9, 23.5, 30.1, 37.3, 25.5, 35.3, 27.6, 28.7, 29.9, 34.2, 24.9, 36.8, 24.5, 34.6, 30.0, 28.8, 28.6, 23.6, 20.1, 21.1, 34.1, 28.893236911794666, 29.5, 37.8, 31.2, 31.1, 34.2, 17.7, 39.2, 22.2, 29.5, 27.0, 16.8, 23.3, 33.5, 15.6, 28.2, 22.6, 20.2, 22.2, 22.6, 26.7, 22.9, 21.5, 30.3, 14.8, 24.3, 17.4, 29.0, 26.3, 51.7, 29.2, 18.3, 21.9, 16.3, 27.4, 20.4, 23.2, 30.3, 16.7, 31.0, 28.893236911794666, 33.5, 17.0, 19.4, 14.6, 32.2, 37.7, 27.4, 25.0, 20.1, 21.7, 38.2, 17.0, 28.4, 30.0, 34.1, 19.3, 21.6, 32.9, 27.2, 27.8, 29.9, 28.4, 24.1, 24.0, 23.4, 32.6, 33.1, 33.8, 30.3, 36.9, 29.7, 38.8, 30.9, 36.9, 18.8, 25.5, 32.3, 25.8, 31.1, 27.9, 18.6, 20.1, 26.7, 30.3, 30.4, 30.0, 24.9, 60.9, 24.3, 38.7, 18.6, 17.1, 29.4, 16.9, 34.2, 27.6, 47.8, 18.9, 24.4, 25.2, 30.7, 26.1, 25.3, 32.8, 45.7, 24.6, 32.3, 47.6, 34.4, 18.2, 44.5, 36.6, 19.4, 22.9, 20.0, 36.1, 27.3, 42.2, 26.4, 23.6, 18.6, 18.0, 31.1, 30.0, 43.8, 23.8, 36.2, 32.6, 18.0, 25.5, 29.9, 32.1, 25.4, 23.4, 23.4, 21.8, 30.8, 37.9, 42.5, 23.4, 35.4, 32.3, 27.0, 46.3, 30.1, 34.7, 18.3, 16.2, 33.2, 18.6, 25.1, 24.1, 33.1, 24.8, 23.4, 54.1, 28.9, 38.1, 37.2, 19.6, 29.0, 26.7, 20.5, 34.1, 42.4, 37.7, 39.1, 28.9, 30.7, 33.8, 28.893236911794666, 32.1, 40.5, 24.8, 31.8, 27.0, 13.7, 23.4, 16.4, 14.9, 38.8, 38.6, 32.2, 28.893236911794666, 30.6, 28.1, 35.2, 21.8, 28.1, 28.2, 28.4, 37.4, 21.8, 19.8, 16.2, 33.6, 21.2, 28.4, 28.893236911794666, 41.1, 24.9, 56.6, 28.8, 33.7, 38.6, 33.8, 22.4, 37.3, 23.4, 39.1, 21.2, 31.2, 28.0, 21.1, 15.7, 29.1, 26.1, 16.2, 27.1, 28.8, 37.9, 21.6, 30.1, 29.7, 26.4, 46.0, 26.1, 23.2, 28.4, 20.5, 24.6, 32.2, 30.5, 28.893236911794666, 24.9, 26.5, 34.5, 21.5, 15.9, 17.7, 26.5, 24.4, 26.6, 23.9, 30.1, 23.6, 18.4, 32.1, 24.4, 27.3, 34.8, 28.4, 40.2, 31.1, 24.0, 38.1, 29.9, 24.5, 49.5, 35.5, 29.5, 28.8, 22.1, 29.4, 45.0, 27.1, 28.3, 20.1, 31.3, 17.6, 24.5, 24.1, 31.3, 31.5, 29.9, 30.2, 27.8, 15.6, 26.3, 24.8, 17.1, 20.3, 18.7, 28.8, 28.7, 24.6, 25.3, 29.7, 28.893236911794666, 21.1, 26.9, 26.2, 26.3, 24.8, 25.0, 34.6, 42.7, 28.893236911794666, 24.5, 19.3, 29.3, 22.1, 27.8, 24.7, 25.3, 41.2, 47.6, 23.4, 22.7, 29.7, 32.3, 36.9, 27.7, 24.3, 37.4, 25.1, 24.3, 24.3, 28.7, 16.8, 35.8, 40.0, 24.3, 25.6, 37.8, 23.0, 21.0, 15.5, 17.1, 28.0, 40.8, 37.5, 24.2, 26.9, 33.1, 21.8, 34.7, 30.2, 16.8, 21.0, 30.9, 38.9, 28.893236911794666, 24.3, 17.4, 28.2, 40.8, 17.5, 28.893236911794666, 28.3, 24.5, 21.7, 46.9, 18.6, 28.893236911794666, 40.0, 30.6, 25.6, 26.2], \"xaxis\": \"x\", \"xbins\": {\"end\": 97.6, \"size\": 1.0, \"start\": 10.3}, \"yaxis\": \"y\"}, {\"legendgroup\": \"bmi\", \"marker\": {\"color\": \"Red\"}, \"mode\": \"lines\", \"name\": \"bmi\", \"showlegend\": false, \"type\": \"scatter\", \"x\": [10.3, 10.4746, 10.6492, 10.8238, 10.9984, 11.173, 11.3476, 11.522200000000002, 11.696800000000001, 11.871400000000001, 12.046000000000001, 12.220600000000001, 12.3952, 12.5698, 12.7444, 12.919, 13.0936, 13.2682, 13.4428, 13.6174, 13.792000000000002, 13.9666, 14.141200000000001, 14.3158, 14.490400000000001, 14.665000000000001, 14.8396, 15.0142, 15.1888, 15.3634, 15.538, 15.7126, 15.8872, 16.0618, 16.2364, 16.411, 16.5856, 16.7602, 16.934800000000003, 17.1094, 17.284, 17.4586, 17.633200000000002, 17.8078, 17.9824, 18.157, 18.3316, 18.5062, 18.680799999999998, 18.8554, 19.03, 19.2046, 19.379199999999997, 19.553800000000003, 19.7284, 19.903, 20.0776, 20.252200000000002, 20.4268, 20.601399999999998, 20.776000000000003, 20.9506, 21.1252, 21.299799999999998, 21.474400000000003, 21.649, 21.8236, 21.998199999999997, 22.172800000000002, 22.3474, 22.522, 22.696600000000004, 22.8712, 23.0458, 23.220399999999998, 23.395000000000003, 23.5696, 23.7442, 23.918799999999997, 24.093400000000003, 24.268, 24.4426, 24.6172, 24.791800000000002, 24.9664, 25.141, 25.315600000000003, 25.4902, 25.6648, 25.839399999999998, 26.014000000000003, 26.1886, 26.3632, 26.5378, 26.7124, 26.887, 27.0616, 27.2362, 27.4108, 27.5854, 27.76, 27.9346, 28.1092, 28.2838, 28.458399999999997, 28.633, 28.8076, 28.982200000000002, 29.1568, 29.3314, 29.506, 29.6806, 29.8552, 30.0298, 30.2044, 30.379, 30.5536, 30.7282, 30.9028, 31.077399999999997, 31.252000000000002, 31.4266, 31.601200000000002, 31.7758, 31.9504, 32.125, 32.2996, 32.474199999999996, 32.6488, 32.8234, 32.998000000000005, 33.1726, 33.3472, 33.5218, 33.6964, 33.871, 34.0456, 34.220200000000006, 34.394800000000004, 34.5694, 34.744, 34.9186, 35.0932, 35.2678, 35.4424, 35.617000000000004, 35.7916, 35.9662, 36.1408, 36.3154, 36.49, 36.6646, 36.839200000000005, 37.0138, 37.1884, 37.363, 37.5376, 37.7122, 37.8868, 38.0614, 38.236000000000004, 38.4106, 38.5852, 38.7598, 38.9344, 39.109, 39.2836, 39.458200000000005, 39.6328, 39.8074, 39.982, 40.1566, 40.3312, 40.5058, 40.6804, 40.855000000000004, 41.0296, 41.2042, 41.3788, 41.553399999999996, 41.728, 41.9026, 42.077200000000005, 42.2518, 42.4264, 42.601, 42.7756, 42.950199999999995, 43.12479999999999, 43.299400000000006, 43.474000000000004, 43.6486, 43.8232, 43.9978, 44.172399999999996, 44.346999999999994, 44.52159999999999, 44.696200000000005, 44.8708, 45.0454, 45.22, 45.3946, 45.569199999999995, 45.74379999999999, 45.918400000000005, 46.093, 46.2676, 46.4422, 46.6168, 46.791399999999996, 46.965999999999994, 47.140600000000006, 47.315200000000004, 47.4898, 47.6644, 47.839, 48.0136, 48.188199999999995, 48.36279999999999, 48.537400000000005, 48.712, 48.8866, 49.0612, 49.2358, 49.410399999999996, 49.584999999999994, 49.759600000000006, 49.934200000000004, 50.1088, 50.2834, 50.458, 50.6326, 50.807199999999995, 50.98179999999999, 51.156400000000005, 51.331, 51.5056, 51.6802, 51.8548, 52.029399999999995, 52.20400000000001, 52.378600000000006, 52.553200000000004, 52.7278, 52.9024, 53.077, 53.251599999999996, 53.426199999999994, 53.60079999999999, 53.775400000000005, 53.95, 54.1246, 54.2992, 54.4738, 54.648399999999995, 54.82300000000001, 54.997600000000006, 55.172200000000004, 55.3468, 55.5214, 55.696, 55.870599999999996, 56.045199999999994, 56.21979999999999, 56.394400000000005, 56.569, 56.7436, 56.9182, 57.0928, 57.26740000000001, 57.44200000000001, 57.616600000000005, 57.7912, 57.9658, 58.1404, 58.315, 58.489599999999996, 58.664199999999994, 58.83879999999999, 59.013400000000004, 59.188, 59.3626, 59.5372, 59.7118, 59.88640000000001, 60.06100000000001, 60.235600000000005, 60.4102, 60.5848, 60.7594, 60.934, 61.108599999999996, 61.283199999999994, 61.45779999999999, 61.632400000000004, 61.807, 61.9816, 62.1562, 62.330799999999996, 62.50540000000001, 62.68000000000001, 62.854600000000005, 63.0292, 63.2038, 63.3784, 63.553, 63.727599999999995, 63.90219999999999, 64.07679999999999, 64.2514, 64.426, 64.6006, 64.7752, 64.9498, 65.12440000000001, 65.299, 65.4736, 65.6482, 65.8228, 65.9974, 66.172, 66.3466, 66.5212, 66.69579999999999, 66.8704, 67.045, 67.2196, 67.3942, 67.5688, 67.74340000000001, 67.918, 68.0926, 68.2672, 68.4418, 68.6164, 68.791, 68.9656, 69.1402, 69.31479999999999, 69.4894, 69.664, 69.8386, 70.0132, 70.1878, 70.36240000000001, 70.537, 70.7116, 70.8862, 71.0608, 71.2354, 71.41, 71.5846, 71.75919999999999, 71.93379999999999, 72.1084, 72.283, 72.4576, 72.6322, 72.8068, 72.98140000000001, 73.156, 73.3306, 73.5052, 73.6798, 73.8544, 74.029, 74.2036, 74.37819999999999, 74.55279999999999, 74.7274, 74.902, 75.0766, 75.2512, 75.4258, 75.6004, 75.77499999999999, 75.94959999999999, 76.12419999999999, 76.2988, 76.4734, 76.648, 76.8226, 76.99719999999999, 77.1718, 77.34639999999999, 77.521, 77.69559999999998, 77.8702, 78.0448, 78.2194, 78.39399999999999, 78.56859999999999, 78.74319999999999, 78.9178, 79.0924, 79.267, 79.4416, 79.61619999999999, 79.7908, 79.96539999999999, 80.14, 80.31459999999998, 80.4892, 80.6638, 80.8384, 81.01299999999999, 81.18759999999999, 81.36219999999999, 81.5368, 81.7114, 81.886, 82.0606, 82.23519999999999, 82.4098, 82.58439999999999, 82.759, 82.93359999999998, 83.1082, 83.2828, 83.45739999999999, 83.63199999999999, 83.80659999999999, 83.9812, 84.1558, 84.3304, 84.505, 84.6796, 84.85419999999999, 85.0288, 85.20339999999999, 85.378, 85.55259999999998, 85.7272, 85.9018, 86.07639999999999, 86.25099999999999, 86.42559999999999, 86.6002, 86.7748, 86.9494, 87.124, 87.2986, 87.47319999999999, 87.6478, 87.82239999999999, 87.997, 88.17159999999998, 88.3462, 88.5208, 88.69539999999999, 88.86999999999999, 89.04459999999999, 89.2192, 89.3938, 89.5684, 89.743, 89.9176, 90.09219999999999, 90.2668, 90.44139999999999, 90.616, 90.79059999999998, 90.9652, 91.1398, 91.31439999999999, 91.48899999999999, 91.66359999999999, 91.8382, 92.0128, 92.1874, 92.362, 92.53659999999999, 92.71119999999999, 92.8858, 93.06039999999999, 93.235, 93.40959999999998, 93.5842, 93.7588, 93.93339999999999, 94.108, 94.28259999999999, 94.4572, 94.6318, 94.8064, 94.981, 95.15559999999999, 95.33019999999999, 95.5048, 95.67939999999999, 95.854, 96.02859999999998, 96.2032, 96.3778, 96.55239999999999, 96.727, 96.90159999999999, 97.0762, 97.2508, 97.4254], \"xaxis\": \"x\", \"y\": [0.00026341890820206186, 0.0003056081373642871, 0.00035408107839435645, 0.000409957530872944, 0.00047455006424133194, 0.0005493654121814182, 0.0006360959554466703, 0.0007366007036997888, 0.0008528761790122819, 0.000987018686475672, 0.0011411804803279535, 0.0013175231241766268, 0.0015181717334734784, 0.001745173647772186, 0.0020004643510036016, 0.0022858421781680387, 0.002602951662267511, 0.0029532735308531364, 0.003338117671139547, 0.003758614180302076, 0.004215697197144647, 0.004710076765336578, 0.005242195549029903, 0.005812169675190996, 0.006419716009809569, 0.007064071352966423, 0.0077439118627312285, 0.008457283012224311, 0.009201551173854374, 0.009973387306510631, 0.010768791199297263, 0.011583161508645102, 0.012411412789958946, 0.013248136345011827, 0.014087797475743487, 0.014924958091874713, 0.01575451089198367, 0.016571909720260274, 0.017373380263128804, 0.01815609596547222, 0.018918305834788658, 0.01965940356139122, 0.020379931004682356, 0.02108151345232116, 0.02176672897401081, 0.022438919399370334, 0.023101955568020097, 0.023759974031521996, 0.024417105757555378, 0.025077219028548942, 0.02574369818645708, 0.026419276927778713, 0.027105939592876518, 0.027804896775601, 0.028516633390632207, 0.029241019101324157, 0.029977463840060906, 0.0307250960624412, 0.03148293911714097, 0.03225006204126629, 0.033025685105680117, 0.03380922699418887, 0.034600288710581295, 0.03539857806446839, 0.03620378674471665, 0.037015438522263806, 0.0378327312584804, 0.03865439669271889, 0.03947860037079204, 0.040302899828012155, 0.041124272815830906, 0.04193921972226955, 0.04274393625221358, 0.04353454478522317, 0.04430736642080161, 0.04505921120889052, 0.04578766189028107, 0.046491326825986196, 0.047170040583206334, 0.047824995489151485, 0.048458793720812195, 0.049075416320607336, 0.04968011195390935, 0.05027921331248813, 0.05087989205233692, 0.051489863613366334, 0.05211705126797032, 0.052769214923159516, 0.05345354575116058, 0.05417622425548942, 0.05494193864383673, 0.055753363885328165, 0.05661061041856523, 0.057510664935096184, 0.058446862485512445, 0.05940844655031103, 0.060380287911027605, 0.06134283999630477, 0.06227240415416376, 0.06314176065074767, 0.0639211898734953, 0.06457986556244286, 0.06508755281584537, 0.06541649503613284, 0.06554333378127347, 0.06545088113030338, 0.06512956126735947, 0.06457835907948675, 0.06380515743041974, 0.06282640641854713, 0.061666139282044695, 0.06035442083865276, 0.058925375487911644, 0.05741498446867055, 0.05585886079766143, 0.054290203402695025, 0.05273810155033671, 0.051226312187866926, 0.04977257390708276, 0.04838846035142219, 0.0470797209321659, 0.045847013909557324, 0.04468691003801381, 0.04359303523616412, 0.042557226861331884, 0.0415705970158035, 0.04062442363906659, 0.03971082135240522, 0.038823174860246744, 0.037956344745632635, 0.03710667639956959, 0.0362718564442968, 0.03545066727077775, 0.03464268999224805, 0.03384800058511705, 0.033066894914156986, 0.032299667432635494, 0.03154645715831758, 0.030807164295193857, 0.030081432458477865, 0.029368685332820398, 0.028668202862332095, 0.027979220568691884, 0.02730103596767078, 0.026633107858788342, 0.025975137035573536, 0.025327120280362426, 0.02468937300859576, 0.02406251932692197, 0.023447451348158222, 0.022845262202983538, 0.022257159191237604, 0.021684364858509903, 0.021128014444175745, 0.020589058145457362, 0.02006817603565772, 0.019565712347689352, 0.019081634284987548, 0.01861551865312915, 0.018166567517616295, 0.01773365188881052, 0.01731538022807586, 0.016910186497730188, 0.016516430709185004, 0.016132503649973002, 0.015756926883077633, 0.015388439365887128, 0.015026063204388474, 0.014669143093082614, 0.014317356703099332, 0.013970696347486098, 0.013629425259232244, 0.013294014327569466, 0.012965066776537549, 0.012643238803221246, 0.012329163584544568, 0.012023384485818146, 0.01172630111620213, 0.011438129537314384, 0.011158875909880827, 0.010888321532459163, 0.010626016782059544, 0.010371281888742865, 0.010123213540152264, 0.009880697647705512, 0.009642429792312808, 0.009406945533279115, 0.009172662676650938, 0.00893793671418043, 0.008701129108364987, 0.008460686208837448, 0.008215224711030868, 0.00796361806718715, 0.007705077401062165, 0.007439220392496142, 0.007166122269385328, 0.0068863443313813, 0.0066009371154848355, 0.006311417164310964, 0.006019718170531627, 0.005728118904478312, 0.005439151711272065, 0.005155496464900929, 0.004879865688070064, 0.004614887082488001, 0.004362989937306899, 0.00412630174527422, 0.003906560803900176, 0.0037050495826592513, 0.0035225522182996574, 0.0033593377503401385, 0.00321516879137937, 0.003089333459057474, 0.002980696813211232, 0.002887766950069145, 0.0028087704404317357, 0.0027417319919843123, 0.002684553983254104, 0.0026350926720874576, 0.002591229171989989, 0.002550934446495317, 0.002512328365843803, 0.0024737331605286152, 0.0024337213698845564, 0.002391157722027825, 0.0023452334985737495, 0.0022954910983268772, 0.00224183598664304, 0.0021845332142827584, 0.002124186320793466, 0.002061697681452025, 0.00199821106084009, 0.0019350390427562388, 0.0018735798018669305, 0.0018152290583573311, 0.0017612937687391161, 0.0017129140218106313, 0.001670998733204786, 0.0016361792038710992, 0.0016087826715854103, 0.0015888259416913244, 0.001576027334986838, 0.0015698337833440082, 0.0015694590879602559, 0.0015739291664198475, 0.0015821304771108551, 0.0015928585612477806, 0.0016048645759908042, 0.0016168985981274652, 0.0016277491874641674, 0.0016362791119370038, 0.0016414572325935295, 0.0016423863815349165, 0.0016383267508427377, 0.0016287139834349773, 0.00161317095090655, 0.0015915122191111494, 0.0015637404874754483, 0.0015300348297581235, 0.0014907312913043753, 0.0014462971955858236, 0.001397301242397371, 0.0013443820044764156, 0.0012882176377820443, 0.0012294994496056513, 0.0011689114151406219, 0.0011071168587639812, 0.0010447524404681452, 0.000982428470685597, 0.0009207335938699148, 0.0008602411948485976, 0.0008015146126495673, 0.000745108450853, 0.0006915639325744518, 0.0006413972687006943, 0.0005950812368498441, 0.0005530214176965698, 0.0005155296128133173, 0.00048279770916554555, 0.0004548755476727704, 0.00043165615300053974, 0.00041287101726892304, 0.0003980970940704618, 0.0003867758904762636, 0.0003782437074491203, 0.000371770838063939, 0.00036660653290727707, 0.00036202589190537256, 0.0003573746051995703, 0.00035210765753438474, 0.00034581869941589815, 0.0003382577022527973, 0.00032933565107339863, 0.00031911626493895666, 0.00030779594273439075, 0.00029567418785649886, 0.000283117565664094, 0.0002705207184130483, 0.00025826806717165504, 0.0002466995729513072, 0.0002360833529920422, 0.0002265971282352914, 0.00021831951201711154, 0.0002112311450648773, 0.0002052247420779277, 0.0002001223305337594, 0.00019569740067737883, 0.0001916993877911664, 0.00018787788633833343, 0.00018400423586014495, 0.0001798885820478643, 0.00017539114509514957, 0.00017042714897269967, 0.00016496559954211364, 0.00015902276589689697, 0.0001526517452563732, 0.00014592982071840878, 0.00013894542070413122, 0.0001317863557566526, 0.00012453067009644486, 0.00011724095741231543, 0.00010996242824814279, 0.00010272446401555358, 9.554492923478301e-05, 8.843620056231714e-05, 8.14117427169536e-05, 7.449211991027883e-05, 6.770954862108839e-05, 6.111042164166271e-05, 5.475559957647233e-05, 4.87186094618412e-05, 4.3082157432399784e-05, 3.7933519987543784e-05, 3.335941713916597e-05, 2.9440904521584124e-05, 2.6248682394466234e-05, 2.383904918857634e-05, 2.2250568222996666e-05, 2.1501402910419624e-05, 2.1587228437052496e-05, 2.2479649648954992e-05, 2.4125132128056496e-05, 2.6444559659058795e-05, 2.933363297735026e-05, 3.266438855348458e-05, 3.6288116110016874e-05, 4.003987625947916e-05, 4.374466774498212e-05, 4.722508607036788e-05, 5.0310083914911875e-05, 5.284422848020485e-05, 5.469669219499074e-05, 5.576914433297907e-05, 5.600175181223756e-05, 5.53766496967915e-05, 5.3918488923519605e-05, 5.169197751192459e-05, 4.8796658268889855e-05, 4.5359463861178164e-05, 4.152581695826655e-05, 3.74501685095206e-05, 3.328687695743471e-05, 2.918222892496711e-05, 2.5268207380418955e-05, 2.165835805392525e-05, 1.8445826562046947e-05, 1.5703374799702367e-05, 1.3484967789334427e-05, 1.18283743645378e-05, 1.0758159036344643e-05, 1.0288459665969039e-05, 1.04250383969343e-05, 1.1166246799758084e-05, 1.2502740608257001e-05, 1.4415992193593419e-05, 1.6875856288709884e-05, 1.9837623023411036e-05, 2.3239120506506018e-05, 2.6998489140465007e-05, 3.1013229581387324e-05, 3.516102190460476e-05, 3.9302631290804236e-05, 4.32869725586964e-05, 4.695812958813435e-05, 5.016385126611502e-05, 5.2764811476466255e-05, 5.464376277179473e-05, 5.571365903137603e-05, 5.592388507479561e-05, 5.526390723801043e-05, 5.3763927266271186e-05, 5.149244685649982e-05, 4.855098705901534e-05, 4.506650906845165e-05, 4.118231018589741e-05, 3.704829287594082e-05, 3.28115144261586e-05, 2.8607825908905352e-05, 2.4555223587805196e-05, 2.0749296030803438e-05, 1.726089303679611e-05, 1.4135903376909476e-05, 1.1396835557297562e-05, 9.045767071329394e-06, 7.068168949224259e-06, 5.437119084886529e-06, 4.1174768850339235e-06, 3.0696855900206753e-06, 2.252978369334237e-06, 1.6278731106493492e-06, 1.1579357904176635e-06, 8.108654697725607e-07, 5.590022253469554e-07, 3.7938370143556984e-07, 2.5348029797723767e-07, 1.667286261303782e-07, 1.0796341492806697e-07, 6.882460537673739e-08, 4.319288488083335e-08, 2.6686061247457246e-08, 1.6231887385109147e-08, 9.720657306716652e-09, 5.732826705490443e-09, 3.3323809239818853e-09, 1.9148285827855634e-09, 1.0987032262715715e-09, 6.505930579683176e-10, 4.3544663838710793e-10, 3.8585445098973353e-10, 4.85973890657953e-10, 7.676633938397543e-10, 1.3182205577065864e-09, 2.3009275908218925e-09, 3.9914555894705355e-09, 6.83510357997739e-09, 1.1531825458654862e-08, 1.9157906172644878e-08, 3.133473053379568e-08, 5.0455920739389604e-08, 7.998359943337785e-08, 1.2482190059579883e-07, 1.91770243626137e-07, 2.9004948676127755e-07, 4.3188030372806845e-07, 6.330749070366564e-07, 9.135813046813016e-07, 1.297895446643762e-06, 1.8152339908398972e-06, 2.4993433581948306e-06, 3.3878145869309038e-06, 4.52078389577692e-06, 5.93893081208009e-06, 7.680742267133083e-06, 9.77909198725186e-06, 1.2257285186196644e-05, 1.5124829358146801e-05, 1.8373298502258283e-05, 2.1972742589435925e-05, 2.586913772964711e-05, 2.9983358821985434e-05, 3.4212074893402126e-05, 3.8430816461514814e-05, 4.249925399653029e-05, 4.62684783843105e-05, 4.958981929451972e-05, 5.2324512075512306e-05, 5.435336442591992e-05, 5.5585510032094796e-05, 5.5965384381697245e-05, 5.5477218243073865e-05, 5.414659928101908e-05, 5.203896877230567e-05, 4.9255254642752666e-05, 4.592514691753644e-05, 4.219875445903082e-05, 3.8237511382129256e-05, 3.420521306104373e-05, 3.025995884835921e-05, 2.6547582315390533e-05, 2.3196893835717904e-05, 2.0316785591771e-05, 1.799499690965859e-05, 1.629814373129622e-05, 1.5272504895770326e-05, 1.4945041105438796e-05, 1.5324197117529037e-05, 1.6400187860055076e-05, 1.8144668483645325e-05, 2.0509903924995645e-05, 2.3427750329671507e-05, 2.6808906094488297e-05, 3.0542958645892005e-05, 3.449972928523245e-05, 3.853230065274454e-05, 4.248191201191728e-05, 4.618465241752046e-05, 4.9479607025919315e-05, 5.2217858851233e-05, 5.427155779224239e-05, 5.554217382610389e-05], \"yaxis\": \"y\"}, {\"legendgroup\": \"bmi\", \"marker\": {\"color\": \"Red\", \"symbol\": \"line-ns-open\"}, \"mode\": \"markers\", \"name\": \"bmi\", \"showlegend\": false, \"type\": \"scatter\", \"x\": [36.6, 28.893236911794666, 32.5, 34.4, 24.0, 29.0, 27.4, 22.8, 28.893236911794666, 24.2, 29.7, 36.8, 27.3, 28.893236911794666, 28.2, 30.9, 37.5, 25.8, 37.8, 28.893236911794666, 22.4, 48.9, 26.6, 32.5, 27.2, 23.5, 28.2, 28.893236911794666, 28.3, 28.893236911794666, 44.2, 25.4, 22.2, 30.5, 29.7, 26.5, 33.7, 23.1, 32.0, 29.9, 23.9, 28.5, 26.4, 28.893236911794666, 20.2, 33.6, 28.893236911794666, 38.6, 33.7, 39.2, 28.893236911794666, 28.893236911794666, 27.7, 31.4, 28.893236911794666, 36.5, 33.2, 28.893236911794666, 32.8, 27.7, 40.4, 22.2, 25.3, 30.2, 28.893236911794666, 24.0, 47.5, 20.3, 30.0, 28.9, 28.893236911794666, 28.1, 31.1, 27.4, 26.4, 21.7, 27.0, 24.1, 28.893236911794666, 45.9, 44.1, 28.893236911794666, 22.9, 29.7, 28.893236911794666, 29.1, 27.3, 32.3, 41.1, 25.6, 29.8, 26.3, 37.5, 26.2, 29.4, 32.3, 24.4, 31.4, 27.7, 28.0, 28.8, 31.4, 34.6, 19.4, 28.5, 28.893236911794666, 30.3, 40.4, 24.2, 41.5, 22.6, 24.2, 28.893236911794666, 56.6, 27.1, 30.9, 27.3, 31.3, 24.0, 31.0, 28.0, 30.3, 31.7, 35.8, 28.893236911794666, 28.4, 28.893236911794666, 24.0, 29.0, 28.893236911794666, 36.5, 20.1, 36.5, 28.893236911794666, 26.7, 38.7, 29.9, 34.9, 27.0, 26.6, 25.0, 23.8, 21.8, 36.8, 30.0, 27.5, 28.893236911794666, 24.6, 32.9, 26.1, 28.893236911794666, 31.9, 34.1, 27.5, 25.6, 36.9, 31.4, 37.3, 34.1, 25.0, 28.893236911794666, 28.893236911794666, 28.893236911794666, 45.7, 34.2, 23.6, 27.3, 28.893236911794666, 22.3, 31.4, 28.893236911794666, 28.893236911794666, 26.4, 32.9, 28.893236911794666, 37.1, 45.0, 25.5, 28.893236911794666, 26.1, 30.8, 32.0, 29.9, 28.893236911794666, 37.4, 31.7, 34.5, 27.9, 29.5, 28.893236911794666, 46.0, 42.5, 35.5, 31.1, 26.9, 35.8, 45.5, 28.5, 28.893236911794666, 26.6, 28.893236911794666, 31.5, 32.0, 30.8, 31.1, 33.0, 23.4, 26.9, 33.6, 23.9, 26.3, 27.3, 30.7, 20.5, 21.5, 31.0, 27.1, 40.0, 28.893236911794666, 28.6, 28.1, 28.4, 42.2, 25.8, 31.9, 31.0, 27.5, 28.893236911794666, 29.6, 35.4, 16.9, 21.5, 34.4, 28.0, 26.8, 39.3, 31.7, 32.6, 28.4, 35.9, 21.2, 34.5, 42.4, 40.5, 36.7, 30.9, 29.3, 28.893236911794666, 19.6, 18.0, 39.2, 17.6, 35.9, 19.1, 50.1, 17.7, 27.0, 32.3, 54.6, 35.0, 22.0, 39.4, 26.1, 42.4, 33.0, 19.7, 22.5, 24.6, 25.2, 41.8, 60.9, 31.5, 27.3, 23.7, 24.5, 28.4, 26.9, 26.7, 31.2, 25.0, 25.4, 27.5, 16.0, 27.0, 31.6, 25.1, 30.9, 24.8, 23.4, 29.4, 18.3, 20.0, 19.5, 36.0, 27.7, 27.5, 28.5, 26.8, 33.6, 29.1, 28.5, 34.9, 25.1, 35.3, 26.4, 31.5, 40.1, 43.1, 36.7, 29.3, 21.2, 31.2, 21.4, 27.9, 34.3, 31.0, 27.7, 36.0, 38.7, 27.6, 25.1, 16.5, 22.8, 35.4, 24.3, 34.3, 40.1, 25.7, 21.9, 38.4, 26.1, 30.5, 25.9, 54.7, 29.9, 18.6, 27.1, 24.9, 25.2, 19.4, 29.0, 48.2, 28.893236911794666, 34.6, 24.6, 25.8, 26.1, 29.0, 27.2, 20.7, 30.0, 37.3, 34.1, 23.6, 25.2, 39.5, 23.5, 23.3, 64.8, 28.1, 28.893236911794666, 24.4, 29.8, 24.9, 35.1, 32.3, 43.6, 21.0, 47.3, 16.6, 37.5, 24.2, 31.6, 21.6, 31.0, 31.1, 15.5, 27.3, 20.5, 35.6, 16.7, 41.8, 41.9, 16.4, 17.1, 29.2, 27.1, 37.9, 44.6, 22.8, 33.2, 22.3, 26.4, 39.6, 28.1, 39.2, 36.0, 37.8, 40.3, 41.5, 17.7, 21.2, 41.6, 23.8, 23.7, 24.8, 39.0, 37.9, 31.1, 23.2, 18.9, 36.1, 36.3, 40.5, 25.4, 46.5, 16.8, 46.6, 26.4, 26.2, 35.2, 20.9, 36.8, 34.4, 22.2, 13.8, 40.3, 28.4, 31.7, 34.2, 54.7, 24.6, 28.893236911794666, 36.9, 31.1, 31.9, 31.8, 18.0, 28.5, 29.5, 22.0, 29.4, 28.8, 26.2, 26.9, 23.2, 27.9, 36.8, 28.9, 31.0, 29.4, 15.3, 37.1, 30.5, 38.2, 23.2, 30.2, 45.2, 21.8, 24.4, 17.0, 19.5, 49.8, 27.8, 25.1, 26.8, 60.2, 27.5, 28.1, 27.3, 27.4, 22.2, 22.9, 26.6, 23.0, 32.6, 22.1, 28.893236911794666, 22.5, 28.893236911794666, 25.5, 31.4, 26.0, 20.0, 31.6, 31.2, 21.7, 24.2, 25.0, 36.7, 28.9, 29.7, 44.3, 51.0, 39.7, 34.7, 35.0, 21.3, 29.1, 23.9, 36.0, 41.2, 27.1, 33.2, 25.4, 30.7, 34.8, 19.2, 31.7, 35.7, 37.8, 29.7, 35.8, 23.6, 39.7, 40.5, 21.4, 40.8, 24.7, 21.0, 45.0, 26.2, 28.893236911794666, 28.3, 41.6, 19.0, 32.4, 34.0, 39.4, 28.7, 31.8, 31.2, 20.9, 32.1, 31.0, 23.1, 26.7, 27.9, 27.3, 51.5, 20.4, 29.6, 30.6, 33.6, 71.9, 24.2, 17.7, 22.6, 28.1, 26.5, 28.7, 39.5, 35.1, 27.9, 19.3, 28.4, 26.7, 40.9, 17.2, 28.3, 16.1, 27.6, 16.5, 35.8, 16.2, 24.6, 32.0, 35.3, 19.2, 40.4, 30.7, 24.3, 26.4, 34.7, 31.7, 35.6, 22.8, 28.0, 35.6, 40.6, 29.3, 21.0, 20.0, 26.7, 18.4, 34.5, 27.7, 21.1, 24.4, 19.4, 42.3, 32.2, 26.8, 25.4, 23.5, 50.2, 26.1, 17.5, 24.2, 30.8, 23.4, 30.9, 23.6, 18.7, 27.7, 16.7, 31.2, 17.0, 29.8, 19.7, 29.1, 27.2, 22.3, 27.0, 42.1, 34.2, 40.9, 29.4, 32.8, 21.9, 39.6, 28.3, 47.8, 39.3, 28.0, 27.1, 31.2, 23.1, 20.8, 34.1, 30.1, 35.8, 34.6, 29.8, 26.7, 30.2, 29.7, 54.6, 23.3, 35.6, 27.0, 21.6, 29.4, 22.8, 17.3, 29.8, 36.4, 34.7, 28.7, 26.7, 22.1, 27.7, 40.5, 23.0, 25.3, 22.1, 28.0, 12.0, 28.4, 29.6, 36.2, 22.8, 55.7, 24.3, 26.9, 25.3, 35.3, 18.3, 28.893236911794666, 26.0, 21.0, 28.893236911794666, 55.7, 27.6, 20.5, 30.2, 21.9, 28.8, 36.2, 25.9, 28.893236911794666, 21.4, 20.4, 31.6, 14.4, 23.7, 30.2, 19.5, 32.6, 34.2, 43.0, 42.2, 19.7, 41.7, 21.6, 24.2, 19.2, 25.8, 23.2, 20.8, 28.4, 30.2, 23.1, 16.7, 39.5, 33.8, 34.6, 25.0, 43.9, 27.1, 25.9, 22.7, 27.1, 25.6, 28.4, 57.5, 35.8, 19.5, 31.2, 43.6, 31.2, 23.5, 18.7, 24.4, 29.4, 37.0, 29.4, 38.5, 23.5, 28.893236911794666, 16.3, 35.9, 35.9, 20.3, 32.3, 27.9, 22.3, 31.8, 29.7, 27.1, 24.5, 28.9, 28.893236911794666, 24.6, 31.6, 32.3, 41.1, 30.0, 26.4, 30.0, 20.8, 44.0, 30.6, 17.2, 29.1, 27.4, 23.5, 31.8, 23.5, 28.5, 32.7, 54.2, 25.6, 41.2, 27.0, 21.3, 34.3, 29.5, 31.6, 26.1, 27.5, 26.5, 33.2, 40.2, 32.5, 23.4, 32.5, 23.9, 29.5, 24.0, 17.7, 26.2, 33.3, 17.4, 29.0, 21.7, 37.8, 41.8, 24.2, 31.1, 23.1, 25.1, 41.3, 22.7, 24.0, 20.5, 20.4, 27.6, 27.0, 26.4, 34.9, 35.0, 28.5, 32.3, 23.9, 52.3, 26.4, 20.9, 23.3, 32.7, 26.5, 27.9, 30.3, 27.6, 14.6, 40.9, 28.4, 23.7, 27.9, 25.2, 34.4, 36.7, 22.2, 27.2, 27.3, 27.3, 42.2, 26.4, 39.4, 34.8, 20.0, 34.1, 31.4, 17.8, 46.1, 28.1, 24.7, 22.7, 34.6, 21.4, 27.4, 36.6, 32.9, 24.7, 21.4, 33.1, 26.7, 24.4, 25.8, 34.3, 18.1, 43.8, 26.9, 36.6, 24.9, 27.6, 20.9, 30.3, 37.4, 35.9, 50.3, 31.5, 24.4, 38.9, 28.6, 28.893236911794666, 27.5, 28.893236911794666, 43.7, 27.0, 29.3, 34.7, 28.893236911794666, 39.9, 26.7, 24.8, 29.7, 15.9, 31.4, 28.893236911794666, 27.8, 35.5, 31.7, 33.2, 27.7, 31.9, 25.8, 27.7, 23.4, 24.3, 30.3, 29.1, 20.1, 21.2, 31.6, 41.6, 36.4, 30.5, 32.8, 32.3, 30.1, 34.7, 29.7, 28.893236911794666, 31.3, 35.6, 35.2, 27.6, 35.2, 28.1, 31.8, 23.3, 28.8, 19.5, 30.0, 25.5, 28.8, 40.2, 32.9, 22.4, 36.9, 19.8, 12.3, 32.4, 24.8, 16.4, 35.9, 23.0, 78.0, 30.5, 26.8, 35.3, 27.9, 22.1, 38.3, 41.0, 28.893236911794666, 22.8, 30.1, 20.8, 31.7, 30.1, 30.8, 42.6, 37.1, 34.2, 43.4, 18.7, 34.0, 23.2, 41.7, 15.1, 20.6, 18.9, 26.6, 30.1, 32.1, 15.1, 33.5, 23.4, 43.2, 19.1, 26.1, 17.3, 32.1, 28.893236911794666, 30.4, 29.9, 32.8, 22.7, 28.7, 35.2, 22.4, 32.3, 18.6, 42.1, 38.0, 22.3, 33.4, 23.2, 18.0, 20.1, 19.2, 28.7, 28.1, 22.6, 18.0, 21.4, 27.8, 27.6, 32.2, 24.9, 27.1, 24.6, 24.6, 18.9, 16.3, 31.8, 21.0, 20.1, 29.1, 32.3, 29.4, 50.2, 44.9, 28.5, 19.5, 45.0, 22.8, 25.5, 31.5, 31.6, 31.0, 29.5, 23.1, 30.7, 44.7, 33.5, 25.9, 28.3, 26.8, 27.8, 36.0, 22.1, 38.4, 30.1, 26.2, 26.6, 32.6, 27.0, 25.3, 31.9, 18.4, 30.4, 28.2, 35.7, 35.0, 27.2, 23.0, 25.0, 24.5, 30.9, 26.0, 27.2, 30.4, 21.7, 29.1, 17.6, 29.2, 28.1, 26.6, 26.9, 36.2, 25.9, 40.9, 31.5, 23.3, 37.6, 39.8, 35.1, 21.9, 53.4, 34.4, 24.0, 29.3, 26.0, 31.3, 31.0, 26.5, 16.0, 21.1, 42.2, 27.7, 23.6, 18.3, 44.3, 27.3, 55.2, 44.7, 33.1, 30.0, 40.1, 23.1, 30.3, 30.5, 22.8, 42.0, 29.9, 24.0, 36.7, 22.2, 25.5, 34.3, 16.0, 25.6, 23.3, 41.6, 35.6, 22.0, 26.8, 31.9, 19.7, 28.893236911794666, 31.1, 34.4, 33.2, 28.893236911794666, 21.6, 25.4, 41.6, 33.1, 21.8, 30.0, 35.2, 35.6, 28.893236911794666, 27.8, 29.3, 37.2, 26.1, 21.6, 22.7, 30.2, 18.0, 27.8, 23.5, 41.2, 22.7, 29.2, 42.2, 24.0, 45.5, 19.4, 28.2, 20.1, 27.2, 26.5, 17.6, 42.8, 29.3, 21.3, 29.8, 24.1, 35.2, 18.8, 17.4, 31.5, 29.9, 27.3, 28.1, 28.9, 25.2, 24.3, 37.9, 28.2, 18.4, 23.1, 39.4, 29.5, 18.3, 28.7, 32.9, 26.7, 20.1, 17.6, 43.7, 41.1, 26.8, 31.2, 27.4, 25.1, 33.0, 30.7, 42.9, 14.3, 33.2, 43.0, 22.3, 32.8, 30.5, 36.0, 26.5, 20.1, 28.893236911794666, 28.1, 16.2, 30.0, 31.3, 26.7, 37.7, 35.8, 27.0, 20.7, 22.2, 28.893236911794666, 41.5, 33.5, 21.8, 22.1, 30.2, 38.7, 32.1, 41.3, 20.1, 22.1, 24.9, 23.0, 29.3, 22.8, 31.6, 19.4, 22.5, 31.6, 29.1, 28.893236911794666, 43.4, 26.5, 29.7, 21.8, 23.4, 23.0, 21.5, 14.6, 28.5, 29.0, 26.9, 29.6, 28.5, 25.5, 30.5, 23.0, 22.8, 31.4, 35.2, 23.3, 28.893236911794666, 31.2, 24.8, 25.8, 48.4, 43.1, 28.893236911794666, 27.8, 21.4, 22.1, 31.8, 20.1, 29.1, 22.6, 25.1, 33.3, 15.9, 20.8, 19.5, 39.0, 23.1, 18.8, 50.6, 36.3, 32.8, 35.8, 26.7, 26.3, 26.5, 43.7, 24.7, 46.2, 49.5, 43.3, 30.9, 38.7, 28.6, 30.2, 30.5, 33.9, 28.6, 24.5, 28.893236911794666, 17.2, 27.2, 19.3, 18.5, 32.0, 44.5, 37.0, 30.8, 24.7, 18.3, 44.0, 27.6, 45.4, 28.5, 17.6, 28.893236911794666, 27.5, 32.8, 29.5, 36.4, 26.1, 35.3, 28.893236911794666, 18.1, 27.1, 23.0, 55.0, 26.6, 28.893236911794666, 24.1, 30.3, 32.2, 26.5, 30.6, 25.8, 41.9, 29.2, 44.3, 29.1, 17.5, 31.9, 32.2, 26.0, 25.4, 54.8, 27.9, 28.893236911794666, 32.8, 34.0, 25.5, 35.6, 28.3, 36.9, 22.1, 31.5, 26.7, 24.9, 32.4, 32.2, 30.3, 28.7, 24.1, 25.3, 24.8, 28.893236911794666, 34.8, 39.2, 24.7, 28.6, 27.7, 33.1, 27.3, 20.3, 33.9, 28.893236911794666, 28.3, 32.4, 19.7, 33.7, 35.5, 20.0, 16.3, 36.4, 28.1, 26.9, 29.4, 17.2, 26.5, 19.5, 30.6, 31.9, 26.6, 19.9, 18.0, 26.7, 25.3, 31.4, 21.1, 17.9, 27.5, 37.6, 24.1, 18.1, 31.0, 26.6, 38.7, 27.2, 27.8, 28.3, 27.5, 43.3, 20.1, 25.9, 25.8, 16.4, 29.4, 28.9, 26.7, 27.8, 38.7, 26.8, 36.1, 26.7, 27.0, 21.2, 21.0, 37.4, 26.5, 28.9, 29.5, 17.7, 34.9, 28.1, 36.8, 33.3, 29.2, 34.0, 33.9, 28.7, 21.1, 38.2, 27.7, 35.8, 27.1, 20.5, 35.6, 15.6, 43.0, 17.8, 28.893236911794666, 25.8, 20.5, 19.9, 24.4, 18.3, 35.1, 35.1, 37.1, 29.4, 31.7, 31.4, 33.1, 28.5, 24.0, 18.0, 27.6, 16.9, 16.4, 35.1, 28.8, 17.6, 21.3, 19.7, 37.3, 35.5, 25.5, 30.0, 21.9, 45.5, 28.893236911794666, 34.9, 19.3, 32.1, 26.9, 32.5, 19.5, 31.7, 21.0, 28.893236911794666, 20.3, 28.893236911794666, 21.5, 40.4, 28.893236911794666, 30.1, 40.2, 34.7, 25.9, 23.7, 34.3, 34.3, 26.3, 22.1, 33.3, 37.3, 20.5, 19.1, 34.7, 16.3, 28.0, 17.2, 41.1, 25.0, 27.5, 21.5, 15.1, 29.6, 30.2, 34.9, 30.7, 36.5, 21.5, 33.2, 50.2, 22.3, 28.893236911794666, 27.3, 28.3, 31.9, 24.9, 32.7, 26.4, 24.8, 30.7, 25.4, 32.0, 24.4, 20.4, 29.5, 24.4, 22.8, 20.0, 36.3, 32.8, 34.4, 30.5, 29.7, 36.9, 34.2, 37.0, 28.893236911794666, 47.5, 24.2, 30.6, 52.8, 38.6, 32.8, 42.9, 25.9, 24.7, 35.8, 28.893236911794666, 31.2, 26.1, 30.8, 40.5, 25.2, 28.7, 28.893236911794666, 30.4, 15.2, 36.6, 34.5, 23.7, 35.7, 38.9, 40.0, 18.4, 29.0, 20.6, 28.2, 66.8, 26.2, 34.8, 34.5, 30.6, 55.1, 18.8, 29.1, 22.1, 28.9, 34.7, 20.3, 25.1, 18.2, 25.5, 34.4, 48.5, 25.2, 32.5, 42.1, 19.5, 27.7, 25.1, 29.6, 32.9, 55.9, 25.1, 24.7, 17.5, 20.8, 23.3, 22.8, 26.6, 25.5, 25.8, 25.4, 57.3, 28.893236911794666, 20.2, 27.7, 23.1, 14.3, 23.3, 23.4, 22.8, 30.9, 28.4, 41.9, 34.3, 25.1, 10.3, 31.8, 31.8, 23.0, 25.4, 14.1, 35.1, 26.9, 33.0, 22.1, 20.8, 30.0, 44.0, 16.6, 28.4, 26.3, 39.4, 15.7, 34.1, 29.8, 23.6, 18.3, 28.3, 18.5, 18.4, 24.1, 25.5, 25.3, 39.9, 28.8, 37.2, 28.893236911794666, 49.8, 34.3, 29.0, 28.893236911794666, 37.2, 28.893236911794666, 19.4, 26.2, 21.1, 28.893236911794666, 31.6, 29.3, 28.4, 35.3, 40.1, 39.0, 31.5, 28.5, 28.5, 56.0, 28.6, 35.2, 32.5, 35.9, 25.1, 16.8, 27.9, 16.3, 28.893236911794666, 28.893236911794666, 21.4, 32.7, 23.6, 19.8, 33.1, 28.1, 38.9, 23.8, 33.8, 26.7, 28.893236911794666, 32.2, 28.1, 21.3, 44.0, 21.5, 37.3, 44.8, 21.4, 32.3, 35.4, 19.7, 31.3, 35.5, 25.8, 32.8, 35.9, 41.8, 27.3, 27.7, 13.4, 17.0, 20.0, 40.9, 38.5, 30.9, 33.4, 17.1, 28.6, 24.0, 32.0, 28.4, 20.3, 33.8, 43.2, 22.7, 29.9, 28.893236911794666, 28.893236911794666, 29.9, 22.7, 16.1, 33.8, 22.6, 25.5, 22.5, 27.9, 23.5, 32.2, 28.893236911794666, 29.9, 28.7, 37.2, 22.2, 26.6, 24.6, 41.7, 26.2, 27.1, 41.8, 34.2, 19.2, 25.2, 18.7, 43.0, 28.2, 34.7, 25.5, 39.8, 20.8, 28.2, 31.0, 28.893236911794666, 21.6, 26.2, 28.893236911794666, 26.0, 22.5, 24.0, 31.5, 36.3, 25.4, 32.2, 39.8, 18.6, 30.7, 16.4, 20.5, 28.7, 29.0, 24.4, 29.9, 25.3, 23.5, 20.5, 33.5, 22.0, 29.0, 28.893236911794666, 30.7, 37.4, 51.8, 16.6, 29.5, 27.3, 27.5, 33.9, 27.9, 22.9, 32.1, 18.2, 30.2, 31.3, 20.3, 23.2, 30.8, 22.9, 42.8, 22.2, 28.7, 32.3, 24.2, 23.9, 34.2, 29.0, 29.9, 23.0, 17.3, 21.0, 34.3, 19.8, 24.3, 16.4, 32.6, 23.7, 28.893236911794666, 27.0, 25.6, 34.0, 24.9, 26.3, 43.1, 39.6, 15.2, 41.8, 20.1, 39.3, 28.3, 27.5, 33.9, 20.0, 34.8, 20.7, 24.6, 39.4, 28.893236911794666, 28.893236911794666, 29.4, 24.8, 32.3, 25.3, 39.0, 29.4, 31.9, 26.4, 20.6, 26.3, 23.6, 18.0, 26.4, 22.0, 30.5, 29.1, 24.9, 36.4, 31.2, 32.8, 31.6, 35.8, 35.2, 28.0, 24.9, 35.7, 30.7, 33.9, 28.893236911794666, 27.8, 23.2, 17.1, 31.6, 23.8, 29.6, 45.0, 25.6, 27.7, 25.5, 18.3, 21.0, 28.6, 23.5, 36.1, 29.2, 27.6, 36.0, 20.4, 19.9, 29.2, 27.9, 38.1, 24.1, 37.8, 29.1, 35.7, 28.893236911794666, 34.5, 34.1, 21.1, 57.7, 22.2, 20.5, 26.2, 23.5, 29.1, 39.8, 21.2, 28.893236911794666, 20.2, 30.8, 33.8, 17.1, 21.3, 28.893236911794666, 22.3, 28.9, 26.7, 41.0, 16.7, 29.1, 23.6, 27.8, 31.4, 28.2, 30.8, 36.1, 32.7, 26.4, 20.7, 18.5, 33.5, 14.1, 23.4, 23.2, 36.0, 35.6, 21.8, 34.9, 20.4, 25.0, 22.3, 27.3, 28.9, 30.4, 36.9, 27.7, 44.4, 28.2, 35.0, 20.6, 26.5, 25.1, 22.2, 27.3, 27.3, 41.9, 38.8, 18.3, 19.5, 17.2, 20.8, 23.8, 24.7, 23.1, 22.4, 29.9, 20.0, 28.7, 26.2, 29.6, 30.8, 32.7, 21.8, 35.7, 25.4, 32.8, 21.1, 31.7, 20.0, 34.7, 28.0, 16.4, 28.893236911794666, 24.6, 24.6, 30.3, 23.7, 33.5, 24.9, 48.9, 31.4, 18.4, 24.2, 34.3, 28.893236911794666, 25.1, 33.3, 22.6, 26.3, 29.7, 18.5, 21.4, 45.5, 34.2, 32.7, 38.1, 26.7, 22.6, 27.7, 20.7, 25.7, 17.3, 23.3, 16.2, 20.5, 33.6, 20.2, 49.3, 26.2, 30.1, 25.1, 32.7, 26.4, 21.0, 24.1, 20.4, 30.9, 39.1, 27.7, 29.5, 30.3, 28.893236911794666, 37.8, 30.2, 24.2, 25.2, 22.2, 17.7, 29.6, 32.2, 28.7, 19.5, 38.5, 20.6, 21.5, 43.8, 18.0, 28.2, 26.6, 35.5, 30.7, 18.7, 22.4, 25.2, 24.2, 20.5, 24.5, 24.8, 42.6, 23.8, 42.3, 42.2, 26.1, 22.8, 42.3, 28.5, 23.0, 32.8, 49.8, 23.8, 31.7, 34.9, 54.0, 26.8, 21.3, 19.8, 42.4, 16.4, 28.2, 26.3, 17.0, 23.3, 56.1, 25.1, 35.3, 36.3, 30.4, 43.9, 26.4, 28.3, 42.3, 38.0, 32.7, 28.8, 38.5, 30.1, 31.3, 28.4, 26.6, 20.4, 34.7, 32.5, 30.7, 29.6, 28.893236911794666, 39.4, 28.893236911794666, 26.1, 27.2, 41.3, 28.893236911794666, 20.9, 41.5, 31.1, 24.5, 23.0, 24.7, 19.3, 37.0, 31.0, 33.1, 26.6, 27.7, 40.3, 19.5, 26.7, 26.1, 38.2, 21.3, 97.6, 40.9, 27.3, 20.9, 29.2, 17.9, 38.0, 26.1, 53.9, 22.2, 24.6, 33.4, 34.4, 17.6, 19.2, 31.8, 28.1, 32.1, 17.4, 20.2, 23.4, 39.5, 21.5, 24.3, 15.3, 32.4, 16.1, 34.3, 43.8, 19.6, 36.7, 33.7, 38.9, 28.0, 23.9, 16.6, 42.9, 17.1, 27.2, 30.3, 33.9, 20.0, 19.4, 21.5, 28.5, 34.4, 43.7, 13.7, 33.7, 18.0, 27.9, 21.8, 35.8, 23.1, 30.3, 32.0, 25.0, 30.7, 24.3, 11.5, 30.7, 33.7, 26.5, 17.6, 28.893236911794666, 22.5, 18.5, 22.4, 25.3, 37.3, 39.7, 28.0, 41.4, 25.3, 28.1, 41.2, 28.8, 31.0, 28.3, 23.9, 44.2, 27.6, 35.7, 37.4, 27.5, 23.4, 25.8, 28.893236911794666, 22.8, 19.5, 38.0, 23.4, 29.5, 28.2, 14.2, 28.9, 31.4, 32.4, 22.0, 26.4, 26.1, 37.6, 18.8, 23.8, 49.4, 23.8, 20.4, 40.3, 23.6, 34.3, 32.7, 28.7, 24.5, 24.8, 23.2, 23.0, 39.3, 20.1, 25.4, 23.8, 28.4, 15.4, 28.2, 26.0, 41.5, 32.2, 25.7, 33.0, 35.0, 27.4, 16.4, 31.5, 29.2, 25.9, 32.3, 28.893236911794666, 30.4, 45.1, 25.9, 36.6, 18.6, 27.5, 31.3, 37.5, 23.1, 35.0, 27.0, 29.8, 23.5, 48.5, 31.8, 20.0, 29.4, 24.3, 45.4, 29.5, 49.2, 28.893236911794666, 29.4, 29.1, 38.8, 23.4, 48.7, 19.7, 20.3, 33.5, 36.7, 24.4, 38.8, 44.2, 33.4, 32.5, 15.1, 21.5, 30.4, 33.4, 18.2, 18.7, 38.4, 36.4, 20.6, 48.9, 18.2, 17.0, 31.8, 33.0, 24.7, 28.1, 40.3, 35.2, 31.2, 37.6, 38.7, 28.893236911794666, 28.893236911794666, 28.1, 29.2, 31.1, 24.1, 18.7, 39.6, 15.7, 53.8, 32.4, 42.7, 18.6, 31.4, 33.7, 24.5, 33.7, 35.4, 28.893236911794666, 22.5, 33.6, 29.7, 28.893236911794666, 25.7, 20.2, 22.7, 17.4, 22.2, 23.8, 28.7, 33.1, 28.0, 16.7, 27.1, 26.4, 23.7, 33.3, 18.9, 25.5, 35.9, 23.2, 22.2, 34.0, 20.4, 34.5, 31.9, 19.8, 29.0, 36.7, 21.3, 23.7, 25.7, 34.0, 30.7, 44.8, 27.7, 23.2, 30.1, 29.3, 29.5, 25.8, 26.2, 28.8, 29.8, 26.5, 27.8, 29.0, 19.1, 17.1, 24.6, 18.3, 42.8, 46.5, 38.4, 26.0, 26.8, 21.1, 29.0, 43.0, 36.6, 27.5, 40.2, 37.1, 32.0, 32.2, 20.6, 24.1, 25.0, 25.2, 27.6, 48.8, 27.6, 39.5, 27.2, 26.3, 28.9, 30.0, 23.7, 25.5, 24.6, 20.7, 36.4, 23.4, 32.3, 18.8, 15.5, 21.4, 31.7, 29.7, 34.3, 22.1, 21.5, 30.4, 21.6, 30.9, 21.9, 19.2, 30.3, 23.0, 24.1, 52.7, 27.6, 23.9, 26.9, 23.9, 40.5, 32.0, 20.5, 44.5, 16.2, 35.8, 24.0, 33.9, 36.0, 22.9, 44.5, 17.5, 32.3, 30.3, 33.5, 30.9, 25.5, 30.0, 32.2, 21.7, 24.7, 28.8, 27.0, 26.0, 27.1, 18.5, 18.8, 31.5, 18.1, 24.3, 28.0, 28.893236911794666, 17.3, 17.2, 26.9, 22.4, 25.8, 21.3, 43.0, 24.4, 30.1, 21.3, 17.8, 28.4, 23.4, 24.3, 27.8, 30.5, 28.893236911794666, 25.8, 26.7, 28.1, 22.2, 25.1, 20.9, 28.9, 28.893236911794666, 35.9, 29.8, 26.7, 28.4, 26.7, 32.5, 43.8, 28.3, 36.6, 33.1, 27.0, 23.6, 28.893236911794666, 21.8, 23.5, 28.7, 31.6, 31.9, 25.2, 25.9, 32.5, 28.1, 27.4, 21.2, 26.8, 18.5, 28.893236911794666, 30.6, 19.9, 28.893236911794666, 26.5, 43.8, 31.8, 36.6, 22.9, 18.7, 29.6, 43.6, 28.893236911794666, 20.3, 21.3, 39.2, 52.8, 30.2, 35.3, 37.0, 32.1, 30.5, 22.8, 34.5, 37.4, 19.5, 55.7, 30.4, 25.3, 23.1, 30.7, 18.8, 28.6, 27.5, 26.5, 40.3, 37.9, 17.1, 53.5, 33.6, 43.4, 30.5, 38.1, 29.9, 32.7, 28.6, 38.5, 22.9, 38.0, 43.8, 20.8, 26.8, 25.5, 28.893236911794666, 25.4, 26.7, 50.5, 21.3, 34.7, 17.9, 36.3, 18.4, 34.5, 33.4, 19.4, 25.6, 24.5, 30.0, 28.9, 28.1, 23.0, 33.5, 34.8, 17.6, 21.1, 29.0, 15.8, 41.2, 29.7, 40.8, 33.2, 37.0, 24.5, 34.5, 28.0, 26.8, 21.0, 23.8, 29.3, 24.4, 22.6, 22.8, 29.7, 32.4, 35.8, 31.1, 31.9, 33.7, 25.6, 19.9, 45.3, 15.5, 28.3, 40.2, 24.3, 24.6, 26.6, 30.9, 23.5, 23.9, 34.2, 34.9, 26.2, 36.2, 22.4, 19.3, 41.7, 46.0, 26.9, 40.1, 27.7, 29.5, 26.0, 22.7, 16.0, 27.7, 33.1, 33.1, 29.7, 34.0, 33.3, 27.0, 14.2, 19.4, 15.3, 28.7, 21.0, 28.9, 20.3, 28.0, 29.6, 30.2, 22.2, 28.4, 29.6, 28.6, 32.6, 29.0, 30.1, 31.2, 20.7, 45.1, 14.8, 37.4, 19.9, 16.0, 27.4, 33.4, 18.5, 33.4, 20.8, 22.0, 32.5, 19.2, 32.9, 23.5, 21.7, 29.1, 28.893236911794666, 30.3, 29.4, 30.1, 32.9, 34.0, 38.6, 29.3, 43.6, 22.7, 36.6, 22.6, 25.6, 31.4, 26.0, 27.0, 33.3, 17.3, 26.9, 24.8, 20.0, 35.8, 36.9, 29.6, 31.1, 25.1, 51.9, 36.3, 28.2, 35.8, 30.9, 22.1, 17.6, 29.5, 27.0, 33.2, 24.4, 34.4, 36.7, 27.2, 27.5, 32.6, 28.893236911794666, 28.4, 25.5, 28.7, 23.8, 34.4, 26.1, 28.5, 29.6, 29.4, 28.2, 28.7, 38.1, 28.893236911794666, 22.2, 25.7, 17.7, 26.4, 32.8, 34.5, 39.5, 23.5, 38.8, 21.2, 32.0, 63.3, 32.6, 25.2, 27.4, 28.893236911794666, 38.6, 32.9, 26.0, 29.2, 29.2, 26.4, 23.1, 21.2, 26.2, 23.4, 19.8, 20.4, 25.9, 34.1, 18.3, 35.0, 26.4, 27.6, 27.0, 28.893236911794666, 31.3, 18.0, 22.1, 34.4, 33.2, 23.1, 39.7, 40.7, 30.9, 27.5, 28.3, 33.4, 33.1, 41.5, 17.1, 30.0, 24.9, 32.5, 26.1, 19.2, 38.7, 29.5, 28.1, 14.1, 33.9, 26.0, 52.8, 28.893236911794666, 29.2, 26.3, 23.6, 18.6, 29.7, 30.9, 22.8, 25.5, 25.6, 23.0, 20.6, 28.893236911794666, 28.4, 29.7, 26.0, 37.5, 42.3, 21.4, 29.3, 31.0, 22.0, 20.9, 45.9, 61.2, 29.1, 28.4, 22.6, 24.2, 16.3, 35.9, 29.8, 37.0, 35.8, 21.1, 37.6, 24.8, 31.9, 17.5, 28.893236911794666, 17.6, 38.9, 15.2, 27.4, 27.9, 16.1, 39.0, 36.6, 33.7, 27.6, 31.0, 28.893236911794666, 28.5, 31.4, 25.3, 17.2, 26.9, 32.0, 22.5, 17.3, 27.0, 33.1, 25.0, 28.893236911794666, 31.1, 19.6, 24.7, 48.0, 38.0, 24.0, 30.0, 24.6, 23.1, 17.4, 43.1, 27.1, 14.3, 46.8, 26.0, 29.3, 50.1, 28.893236911794666, 18.6, 27.0, 25.7, 25.5, 27.3, 24.1, 42.7, 41.2, 20.2, 30.9, 27.7, 22.3, 39.4, 34.2, 20.1, 36.8, 28.893236911794666, 33.9, 27.7, 22.7, 32.2, 22.0, 23.2, 26.7, 23.0, 23.4, 24.1, 31.5, 26.1, 23.7, 20.8, 18.8, 32.5, 24.3, 24.1, 32.5, 39.3, 23.9, 22.0, 37.3, 33.0, 24.7, 32.8, 29.8, 24.1, 21.6, 27.1, 27.0, 18.7, 35.8, 27.1, 33.1, 25.9, 26.7, 22.2, 26.0, 23.5, 23.5, 15.9, 24.9, 26.5, 35.7, 28.893236911794666, 32.1, 28.5, 40.1, 26.6, 21.7, 28.8, 32.0, 31.4, 32.1, 19.8, 25.3, 28.8, 26.0, 30.7, 43.3, 35.2, 20.9, 35.3, 27.0, 26.1, 29.1, 32.6, 21.8, 32.3, 28.1, 32.3, 21.7, 25.0, 28.9, 21.7, 45.3, 40.2, 22.5, 21.3, 26.1, 28.8, 28.893236911794666, 32.4, 20.4, 25.9, 38.8, 30.8, 24.6, 20.6, 38.8, 40.4, 28.893236911794666, 36.2, 18.8, 27.6, 28.3, 39.4, 33.5, 40.4, 25.9, 27.6, 44.7, 30.8, 22.3, 27.9, 22.9, 27.3, 25.0, 48.3, 22.7, 39.1, 27.8, 28.893236911794666, 36.7, 38.5, 29.4, 30.5, 23.6, 20.6, 31.7, 24.9, 33.4, 22.2, 26.5, 27.1, 30.3, 18.6, 26.4, 17.8, 37.4, 32.1, 38.2, 28.893236911794666, 39.1, 29.5, 28.6, 40.1, 31.8, 34.6, 24.5, 26.2, 33.0, 22.3, 28.893236911794666, 58.1, 36.9, 43.9, 18.2, 23.1, 32.6, 41.2, 28.6, 26.0, 36.8, 35.8, 24.2, 22.9, 23.1, 28.893236911794666, 28.9, 26.5, 29.3, 24.8, 20.1, 18.2, 34.7, 24.0, 29.0, 27.3, 27.6, 20.4, 17.7, 27.9, 41.5, 27.4, 27.8, 17.8, 32.0, 37.3, 28.1, 29.1, 22.9, 38.8, 29.0, 28.6, 29.8, 28.9, 29.1, 28.893236911794666, 16.7, 34.1, 25.7, 30.8, 23.9, 18.8, 28.893236911794666, 41.8, 36.4, 28.7, 28.3, 22.4, 15.1, 22.7, 26.6, 20.8, 23.0, 35.8, 29.9, 43.4, 36.3, 40.1, 35.9, 32.4, 20.3, 33.2, 22.3, 18.1, 28.2, 29.7, 28.893236911794666, 29.0, 25.4, 26.5, 22.7, 27.5, 23.8, 35.6, 27.2, 30.4, 21.5, 31.8, 29.5, 30.6, 27.6, 23.0, 24.8, 28.0, 22.2, 27.8, 30.2, 26.8, 22.0, 34.3, 29.2, 30.3, 28.893236911794666, 28.893236911794666, 21.4, 28.893236911794666, 26.6, 30.0, 33.7, 30.9, 31.1, 23.0, 20.2, 31.6, 23.9, 26.1, 15.8, 28.893236911794666, 28.7, 28.9, 25.1, 19.8, 30.8, 22.1, 20.4, 31.2, 24.9, 27.0, 20.1, 24.4, 22.6, 22.4, 26.2, 22.9, 32.6, 31.3, 43.9, 41.8, 28.893236911794666, 37.7, 20.8, 21.6, 22.1, 39.2, 36.7, 32.0, 25.9, 28.9, 29.3, 32.3, 33.2, 31.6, 20.6, 23.3, 30.8, 28.893236911794666, 28.893236911794666, 28.893236911794666, 23.7, 49.3, 30.3, 24.4, 28.2, 33.8, 42.6, 31.9, 34.0, 19.8, 30.5, 21.7, 24.6, 38.1, 19.2, 30.1, 23.3, 34.5, 30.8, 43.8, 29.9, 50.4, 22.6, 19.5, 33.4, 24.2, 52.7, 25.6, 26.9, 35.2, 22.1, 34.4, 26.0, 26.9, 20.1, 24.7, 32.1, 29.8, 27.5, 22.8, 27.6, 33.0, 33.7, 25.1, 15.3, 22.2, 21.4, 26.0, 29.9, 28.6, 21.2, 16.0, 22.7, 25.3, 31.6, 38.9, 27.1, 24.1, 31.5, 32.0, 31.8, 34.0, 23.4, 29.3, 17.2, 31.9, 31.6, 23.2, 30.0, 26.3, 31.8, 25.5, 21.3, 29.6, 28.7, 30.8, 32.1, 34.0, 16.9, 32.1, 22.6, 31.3, 29.0, 27.6, 17.7, 35.9, 33.8, 17.6, 48.3, 39.9, 11.3, 31.5, 29.6, 19.4, 18.1, 36.2, 17.9, 33.0, 20.4, 33.6, 34.5, 30.0, 12.8, 26.2, 13.5, 25.6, 18.8, 14.5, 23.4, 39.7, 40.8, 29.5, 33.0, 25.6, 33.1, 28.1, 49.3, 16.9, 35.9, 32.1, 34.1, 15.1, 42.0, 16.8, 28.8, 32.2, 16.2, 44.2, 23.4, 31.0, 28.7, 23.6, 35.7, 39.5, 27.3, 31.3, 33.4, 29.2, 26.0, 18.1, 22.4, 29.4, 21.6, 27.9, 29.6, 30.2, 43.4, 30.5, 33.2, 27.7, 33.5, 28.0, 31.5, 24.0, 27.4, 37.9, 26.2, 22.4, 28.893236911794666, 43.7, 28.4, 29.8, 24.8, 34.8, 27.4, 28.893236911794666, 33.5, 35.0, 24.4, 28.3, 29.1, 31.3, 32.8, 29.1, 31.9, 14.2, 26.3, 22.8, 24.8, 34.1, 21.5, 26.1, 21.4, 33.5, 23.0, 18.5, 23.4, 31.4, 31.1, 37.7, 25.3, 35.6, 24.8, 32.7, 24.9, 26.0, 22.8, 24.0, 20.3, 30.3, 23.7, 25.7, 21.9, 15.8, 30.5, 25.7, 19.0, 28.8, 28.893236911794666, 22.4, 32.4, 36.6, 27.9, 27.7, 28.893236911794666, 34.3, 26.7, 19.0, 20.6, 26.7, 29.2, 21.3, 51.9, 14.1, 28.9, 30.9, 36.1, 25.0, 28.6, 20.5, 16.7, 36.6, 26.4, 33.1, 27.5, 26.9, 23.9, 26.9, 27.8, 32.7, 28.7, 22.6, 26.5, 28.3, 24.3, 24.0, 32.4, 28.7, 36.7, 27.7, 24.8, 31.2, 26.1, 26.8, 26.7, 19.6, 25.8, 32.5, 28.3, 24.5, 25.2, 32.3, 30.1, 35.7, 20.0, 23.5, 23.4, 22.3, 28.7, 20.9, 29.4, 27.6, 43.9, 28.7, 34.7, 37.1, 24.2, 22.7, 29.3, 20.0, 22.7, 25.4, 37.6, 44.7, 26.3, 25.0, 28.893236911794666, 32.3, 24.9, 33.7, 26.6, 53.4, 41.7, 22.0, 20.3, 42.7, 28.2, 32.5, 22.5, 26.5, 41.0, 27.0, 25.9, 23.7, 30.0, 15.0, 21.5, 25.9, 24.3, 39.2, 14.4, 26.6, 30.7, 35.4, 29.2, 26.7, 21.5, 19.1, 25.4, 34.0, 23.9, 20.9, 18.2, 27.6, 50.3, 24.5, 16.6, 24.0, 18.8, 34.0, 25.8, 30.3, 28.9, 21.3, 26.8, 29.2, 25.0, 21.5, 17.1, 32.5, 26.9, 30.4, 29.8, 20.3, 41.1, 28.893236911794666, 33.9, 39.0, 31.2, 38.2, 44.7, 33.5, 27.0, 31.1, 29.2, 26.6, 17.9, 24.2, 19.5, 28.5, 21.3, 41.3, 31.3, 40.8, 36.6, 26.7, 18.7, 15.2, 26.8, 25.1, 31.3, 59.7, 29.8, 33.5, 24.5, 33.6, 39.7, 47.4, 26.4, 33.0, 31.4, 27.2, 35.7, 29.5, 21.0, 26.6, 24.3, 43.9, 28.893236911794666, 52.5, 27.0, 32.7, 29.4, 15.1, 32.1, 32.9, 27.6, 26.5, 19.2, 25.9, 21.9, 17.4, 13.2, 25.2, 28.2, 31.5, 25.2, 14.5, 28.0, 15.1, 31.4, 26.3, 28.893236911794666, 39.6, 28.9, 31.4, 34.3, 27.0, 27.2, 23.8, 25.3, 32.6, 31.8, 22.4, 28.0, 23.9, 25.3, 16.4, 26.9, 25.4, 18.7, 37.5, 41.4, 37.5, 15.8, 37.6, 30.5, 22.1, 19.2, 38.0, 18.7, 25.7, 30.1, 36.3, 20.4, 20.9, 28.4, 33.8, 24.0, 43.3, 36.4, 37.9, 32.6, 23.9, 18.1, 36.4, 29.2, 30.8, 23.8, 17.9, 31.8, 19.5, 31.5, 24.1, 28.893236911794666, 35.9, 31.6, 19.0, 18.8, 33.5, 25.0, 52.9, 24.8, 24.5, 40.4, 20.2, 31.9, 25.4, 15.4, 38.6, 31.0, 26.4, 28.893236911794666, 37.7, 35.2, 54.7, 21.6, 23.9, 28.893236911794666, 26.1, 39.7, 29.9, 31.4, 34.5, 29.4, 26.9, 22.4, 20.5, 18.6, 31.4, 18.5, 41.8, 21.2, 28.6, 16.0, 30.6, 29.0, 28.6, 34.8, 28.893236911794666, 42.0, 30.3, 30.9, 32.1, 19.6, 32.8, 31.5, 28.893236911794666, 34.7, 21.5, 27.6, 28.6, 21.1, 23.8, 33.5, 33.4, 23.3, 21.0, 21.2, 18.4, 26.9, 20.2, 21.9, 24.2, 29.6, 38.1, 22.0, 29.8, 24.0, 26.9, 38.0, 16.9, 23.4, 38.5, 21.6, 15.9, 25.1, 41.1, 21.5, 21.0, 24.1, 30.6, 19.8, 29.2, 33.7, 31.0, 21.5, 19.1, 21.4, 24.8, 35.1, 28.6, 35.7, 45.4, 34.5, 21.2, 22.7, 39.1, 21.9, 16.5, 23.0, 22.5, 20.4, 28.7, 22.4, 26.3, 23.6, 25.9, 30.7, 24.5, 24.0, 20.1, 38.0, 26.6, 24.5, 28.893236911794666, 41.3, 34.8, 35.5, 24.1, 19.0, 28.893236911794666, 16.6, 28.6, 22.4, 38.6, 32.0, 40.1, 32.0, 23.9, 25.0, 28.5, 19.8, 25.7, 28.0, 37.2, 24.8, 39.2, 61.6, 27.2, 38.0, 36.2, 16.6, 38.0, 31.4, 35.3, 35.8, 28.6, 34.0, 15.5, 31.1, 37.5, 37.7, 24.2, 33.4, 33.0, 25.7, 19.4, 33.4, 18.0, 40.1, 26.9, 22.5, 27.6, 23.3, 35.7, 28.4, 29.4, 31.9, 25.1, 35.6, 21.1, 17.8, 31.5, 26.6, 44.8, 31.3, 17.2, 25.3, 28.8, 49.9, 18.0, 23.5, 18.1, 41.7, 28.893236911794666, 20.7, 30.3, 27.8, 18.9, 20.4, 31.8, 44.8, 37.1, 39.9, 24.1, 18.1, 36.3, 19.1, 21.1, 28.9, 18.9, 43.3, 37.2, 32.2, 26.3, 25.4, 18.3, 21.4, 22.9, 16.2, 29.6, 21.5, 24.2, 37.3, 33.3, 33.1, 22.2, 24.4, 30.3, 28.2, 17.0, 53.8, 30.4, 22.3, 25.3, 28.893236911794666, 29.8, 43.8, 34.5, 25.5, 31.5, 39.2, 47.3, 17.0, 38.2, 31.1, 22.4, 32.0, 24.7, 36.3, 20.2, 27.4, 29.6, 54.3, 28.6, 43.9, 22.2, 28.4, 23.7, 18.3, 18.3, 28.9, 28.893236911794666, 27.1, 13.8, 21.9, 24.0, 28.893236911794666, 20.8, 39.8, 26.2, 43.9, 27.3, 28.893236911794666, 22.0, 40.0, 20.1, 42.2, 25.8, 27.2, 30.9, 47.9, 33.1, 37.8, 25.4, 28.4, 16.6, 35.1, 32.7, 29.8, 13.0, 27.5, 23.6, 36.9, 16.7, 26.5, 37.0, 27.7, 23.5, 40.4, 27.7, 28.3, 55.0, 28.7, 25.0, 24.8, 35.5, 25.0, 17.3, 37.8, 32.8, 28.7, 28.8, 28.4, 24.9, 29.6, 26.1, 29.5, 23.9, 25.8, 36.2, 31.3, 26.1, 19.1, 17.6, 21.4, 24.0, 25.5, 19.9, 19.9, 35.5, 26.9, 24.2, 30.0, 30.9, 26.5, 30.6, 19.1, 23.2, 30.5, 15.8, 16.9, 18.0, 13.9, 36.7, 30.8, 34.6, 16.3, 38.2, 27.3, 30.4, 34.5, 17.4, 32.0, 33.4, 40.2, 30.1, 46.2, 35.6, 29.4, 27.3, 17.4, 26.9, 17.7, 23.6, 27.7, 38.0, 35.2, 28.893236911794666, 32.4, 36.1, 30.6, 29.0, 22.3, 27.3, 17.4, 39.0, 26.7, 24.2, 22.8, 25.6, 21.9, 25.9, 30.6, 25.7, 33.3, 23.8, 17.2, 31.0, 24.7, 27.1, 28.893236911794666, 38.3, 50.9, 29.2, 23.6, 33.5, 16.3, 30.8, 31.1, 26.4, 18.6, 37.3, 26.6, 17.6, 22.3, 20.2, 30.9, 31.5, 29.7, 32.5, 32.8, 25.4, 27.2, 31.6, 39.6, 19.8, 29.6, 25.5, 25.8, 32.1, 25.6, 26.3, 39.4, 25.6, 34.0, 35.8, 24.9, 29.3, 23.4, 24.5, 29.8, 28.9, 27.3, 23.2, 34.2, 23.3, 26.9, 21.8, 26.9, 29.9, 22.4, 27.5, 35.0, 27.9, 25.5, 28.6, 34.8, 50.6, 30.9, 14.8, 31.4, 22.3, 19.1, 27.4, 17.5, 36.2, 25.4, 25.7, 28.6, 33.7, 37.9, 28.4, 20.0, 29.1, 27.6, 27.6, 24.2, 31.0, 34.5, 27.0, 20.7, 26.1, 19.2, 28.0, 23.6, 57.2, 33.0, 22.2, 24.8, 24.7, 27.9, 21.6, 34.8, 32.9, 28.0, 28.893236911794666, 25.0, 24.7, 27.3, 34.2, 39.1, 22.7, 33.9, 18.6, 16.7, 20.6, 20.1, 45.2, 25.3, 32.4, 34.9, 43.7, 23.0, 21.5, 24.9, 22.9, 25.0, 21.3, 46.1, 64.4, 37.0, 21.3, 28.3, 31.1, 25.1, 27.6, 29.4, 14.1, 35.2, 23.9, 34.0, 27.1, 29.5, 28.893236911794666, 20.7, 39.5, 33.7, 23.2, 30.1, 28.8, 92.0, 38.0, 27.7, 43.2, 24.1, 28.7, 34.8, 23.5, 28.5, 20.3, 43.0, 18.3, 27.2, 22.0, 50.8, 35.4, 55.9, 27.9, 19.8, 26.0, 26.8, 28.893236911794666, 32.5, 15.0, 14.2, 17.0, 26.2, 24.9, 26.6, 22.7, 32.7, 36.7, 31.5, 36.9, 27.6, 20.7, 20.2, 23.4, 25.3, 28.2, 27.0, 24.8, 34.8, 17.3, 27.8, 16.2, 28.893236911794666, 21.7, 21.4, 29.3, 36.2, 28.3, 23.5, 25.9, 27.1, 21.5, 30.5, 23.4, 37.6, 24.0, 25.1, 28.7, 41.8, 25.6, 27.2, 24.4, 20.7, 19.6, 24.8, 32.6, 20.5, 36.2, 45.4, 27.6, 28.893236911794666, 34.7, 32.4, 28.893236911794666, 28.7, 45.3, 40.3, 38.9, 46.0, 32.4, 19.4, 27.5, 26.2, 31.1, 34.6, 24.3, 34.6, 28.5, 32.1, 28.0, 20.9, 33.8, 25.8, 31.8, 26.8, 25.9, 29.2, 25.3, 41.7, 38.8, 29.1, 30.9, 39.3, 41.8, 26.2, 33.8, 26.1, 24.1, 30.7, 22.4, 23.0, 30.2, 30.3, 28.7, 36.3, 16.3, 34.5, 20.8, 31.0, 17.6, 22.7, 38.4, 40.8, 32.9, 31.3, 28.5, 27.6, 40.2, 24.7, 17.7, 25.4, 28.5, 26.2, 26.0, 45.3, 31.5, 20.6, 29.4, 57.9, 39.1, 23.8, 38.1, 19.5, 35.5, 26.4, 22.2, 29.1, 41.9, 22.6, 33.3, 21.3, 20.4, 28.7, 28.8, 38.7, 32.3, 37.9, 25.3, 27.7, 25.1, 16.8, 27.7, 28.6, 37.6, 32.7, 22.7, 16.0, 23.5, 45.8, 20.8, 16.7, 22.2, 33.1, 32.7, 41.4, 24.1, 28.0, 24.2, 23.5, 23.0, 20.3, 24.8, 26.1, 24.2, 19.3, 18.2, 24.2, 41.5, 28.0, 37.0, 32.2, 35.9, 47.6, 32.1, 55.7, 22.2, 20.1, 14.6, 28.4, 20.6, 19.8, 23.4, 25.1, 30.1, 33.3, 24.0, 27.8, 21.4, 25.5, 28.893236911794666, 21.8, 18.9, 21.9, 30.6, 29.8, 28.7, 35.5, 29.1, 32.8, 22.8, 31.3, 29.0, 19.0, 24.1, 21.4, 28.0, 27.6, 28.7, 24.5, 25.0, 29.6, 29.9, 35.6, 27.9, 42.6, 21.2, 28.5, 25.6, 28.893236911794666, 31.1, 30.4, 22.9, 31.9, 48.8, 43.0, 21.8, 35.5, 24.3, 23.1, 18.5, 42.4, 32.3, 22.6, 17.8, 18.4, 26.9, 32.0, 23.4, 31.4, 22.4, 28.9, 27.4, 57.2, 28.4, 23.5, 28.3, 38.2, 33.3, 33.3, 28.8, 32.1, 28.9, 25.5, 25.9, 19.5, 23.8, 24.9, 18.5, 30.6, 16.1, 32.5, 27.4, 30.2, 23.5, 36.0, 24.8, 27.5, 40.0, 18.1, 18.8, 23.6, 29.7, 43.7, 27.3, 20.2, 23.8, 21.4, 25.1, 17.9, 34.5, 27.1, 26.1, 43.4, 33.2, 37.2, 41.3, 35.4, 26.1, 24.5, 28.893236911794666, 32.7, 29.2, 20.4, 33.5, 14.0, 33.5, 27.5, 35.3, 30.1, 32.6, 47.5, 31.6, 23.5, 40.3, 34.1, 16.1, 26.4, 19.0, 34.7, 23.3, 32.6, 26.0, 35.1, 18.6, 30.4, 32.8, 21.6, 23.3, 31.4, 26.3, 20.1, 28.3, 40.4, 18.6, 44.7, 25.3, 28.3, 39.9, 28.893236911794666, 34.7, 31.9, 35.0, 32.7, 30.6, 27.9, 20.4, 29.6, 23.5, 46.4, 27.4, 25.2, 25.8, 33.3, 27.7, 28.9, 33.1, 38.1, 27.9, 17.4, 27.1, 22.7, 28.3, 21.5, 30.0, 18.6, 45.2, 39.7, 31.5, 23.2, 27.3, 26.5, 19.3, 26.1, 19.8, 25.1, 37.3, 30.3, 16.1, 25.1, 26.7, 29.3, 38.7, 35.8, 21.7, 31.4, 26.9, 33.0, 24.5, 44.9, 25.5, 22.1, 24.3, 32.4, 28.893236911794666, 33.1, 26.7, 37.9, 39.6, 19.8, 30.0, 23.1, 34.3, 38.4, 32.8, 34.4, 44.6, 32.8, 26.4, 27.3, 32.4, 43.2, 33.6, 26.4, 46.9, 36.3, 34.9, 29.6, 16.5, 35.4, 23.6, 33.1, 40.2, 14.8, 34.8, 33.5, 31.9, 16.1, 50.2, 35.9, 39.6, 27.5, 32.3, 15.4, 28.4, 19.5, 25.0, 26.3, 39.6, 38.6, 33.9, 32.2, 25.1, 37.4, 30.1, 27.0, 32.4, 26.8, 27.2, 36.7, 36.0, 37.2, 19.1, 21.8, 26.5, 35.0, 32.6, 23.9, 33.7, 29.4, 29.0, 20.2, 28.893236911794666, 27.4, 25.0, 30.7, 23.0, 26.6, 18.1, 47.1, 29.7, 19.9, 13.3, 32.7, 31.8, 31.4, 20.4, 33.2, 30.5, 30.3, 34.2, 34.4, 48.1, 22.8, 30.5, 35.9, 33.7, 24.1, 25.4, 25.5, 29.2, 28.893236911794666, 17.4, 29.9, 21.5, 24.7, 25.1, 34.4, 27.9, 31.5, 31.8, 30.1, 26.4, 27.2, 22.5, 29.8, 26.1, 24.9, 23.5, 30.1, 37.3, 25.5, 35.3, 27.6, 28.7, 29.9, 34.2, 24.9, 36.8, 24.5, 34.6, 30.0, 28.8, 28.6, 23.6, 20.1, 21.1, 34.1, 28.893236911794666, 29.5, 37.8, 31.2, 31.1, 34.2, 17.7, 39.2, 22.2, 29.5, 27.0, 16.8, 23.3, 33.5, 15.6, 28.2, 22.6, 20.2, 22.2, 22.6, 26.7, 22.9, 21.5, 30.3, 14.8, 24.3, 17.4, 29.0, 26.3, 51.7, 29.2, 18.3, 21.9, 16.3, 27.4, 20.4, 23.2, 30.3, 16.7, 31.0, 28.893236911794666, 33.5, 17.0, 19.4, 14.6, 32.2, 37.7, 27.4, 25.0, 20.1, 21.7, 38.2, 17.0, 28.4, 30.0, 34.1, 19.3, 21.6, 32.9, 27.2, 27.8, 29.9, 28.4, 24.1, 24.0, 23.4, 32.6, 33.1, 33.8, 30.3, 36.9, 29.7, 38.8, 30.9, 36.9, 18.8, 25.5, 32.3, 25.8, 31.1, 27.9, 18.6, 20.1, 26.7, 30.3, 30.4, 30.0, 24.9, 60.9, 24.3, 38.7, 18.6, 17.1, 29.4, 16.9, 34.2, 27.6, 47.8, 18.9, 24.4, 25.2, 30.7, 26.1, 25.3, 32.8, 45.7, 24.6, 32.3, 47.6, 34.4, 18.2, 44.5, 36.6, 19.4, 22.9, 20.0, 36.1, 27.3, 42.2, 26.4, 23.6, 18.6, 18.0, 31.1, 30.0, 43.8, 23.8, 36.2, 32.6, 18.0, 25.5, 29.9, 32.1, 25.4, 23.4, 23.4, 21.8, 30.8, 37.9, 42.5, 23.4, 35.4, 32.3, 27.0, 46.3, 30.1, 34.7, 18.3, 16.2, 33.2, 18.6, 25.1, 24.1, 33.1, 24.8, 23.4, 54.1, 28.9, 38.1, 37.2, 19.6, 29.0, 26.7, 20.5, 34.1, 42.4, 37.7, 39.1, 28.9, 30.7, 33.8, 28.893236911794666, 32.1, 40.5, 24.8, 31.8, 27.0, 13.7, 23.4, 16.4, 14.9, 38.8, 38.6, 32.2, 28.893236911794666, 30.6, 28.1, 35.2, 21.8, 28.1, 28.2, 28.4, 37.4, 21.8, 19.8, 16.2, 33.6, 21.2, 28.4, 28.893236911794666, 41.1, 24.9, 56.6, 28.8, 33.7, 38.6, 33.8, 22.4, 37.3, 23.4, 39.1, 21.2, 31.2, 28.0, 21.1, 15.7, 29.1, 26.1, 16.2, 27.1, 28.8, 37.9, 21.6, 30.1, 29.7, 26.4, 46.0, 26.1, 23.2, 28.4, 20.5, 24.6, 32.2, 30.5, 28.893236911794666, 24.9, 26.5, 34.5, 21.5, 15.9, 17.7, 26.5, 24.4, 26.6, 23.9, 30.1, 23.6, 18.4, 32.1, 24.4, 27.3, 34.8, 28.4, 40.2, 31.1, 24.0, 38.1, 29.9, 24.5, 49.5, 35.5, 29.5, 28.8, 22.1, 29.4, 45.0, 27.1, 28.3, 20.1, 31.3, 17.6, 24.5, 24.1, 31.3, 31.5, 29.9, 30.2, 27.8, 15.6, 26.3, 24.8, 17.1, 20.3, 18.7, 28.8, 28.7, 24.6, 25.3, 29.7, 28.893236911794666, 21.1, 26.9, 26.2, 26.3, 24.8, 25.0, 34.6, 42.7, 28.893236911794666, 24.5, 19.3, 29.3, 22.1, 27.8, 24.7, 25.3, 41.2, 47.6, 23.4, 22.7, 29.7, 32.3, 36.9, 27.7, 24.3, 37.4, 25.1, 24.3, 24.3, 28.7, 16.8, 35.8, 40.0, 24.3, 25.6, 37.8, 23.0, 21.0, 15.5, 17.1, 28.0, 40.8, 37.5, 24.2, 26.9, 33.1, 21.8, 34.7, 30.2, 16.8, 21.0, 30.9, 38.9, 28.893236911794666, 24.3, 17.4, 28.2, 40.8, 17.5, 28.893236911794666, 28.3, 24.5, 21.7, 46.9, 18.6, 28.893236911794666, 40.0, 30.6, 25.6, 26.2], \"xaxis\": \"x\", \"y\": [\"bmi\", \"bmi\", \"bmi\", \"bmi\", \"bmi\", \"bmi\", \"bmi\", \"bmi\", \"bmi\", \"bmi\", \"bmi\", \"bmi\", \"bmi\", \"bmi\", \"bmi\", \"bmi\", \"bmi\", \"bmi\", \"bmi\", \"bmi\", \"bmi\", \"bmi\", \"bmi\", \"bmi\", \"bmi\", \"bmi\", \"bmi\", \"bmi\", \"bmi\", \"bmi\", \"bmi\", \"bmi\", \"bmi\", \"bmi\", \"bmi\", \"bmi\", \"bmi\", \"bmi\", \"bmi\", \"bmi\", \"bmi\", \"bmi\", \"bmi\", \"bmi\", \"bmi\", \"bmi\", \"bmi\", \"bmi\", \"bmi\", \"bmi\", \"bmi\", \"bmi\", \"bmi\", \"bmi\", \"bmi\", \"bmi\", \"bmi\", \"bmi\", \"bmi\", \"bmi\", \"bmi\", \"bmi\", \"bmi\", \"bmi\", \"bmi\", \"bmi\", \"bmi\", \"bmi\", \"bmi\", \"bmi\", \"bmi\", \"bmi\", \"bmi\", \"bmi\", \"bmi\", \"bmi\", \"bmi\", \"bmi\", \"bmi\", \"bmi\", \"bmi\", \"bmi\", \"bmi\", \"bmi\", \"bmi\", \"bmi\", \"bmi\", \"bmi\", \"bmi\", \"bmi\", \"bmi\", \"bmi\", \"bmi\", \"bmi\", \"bmi\", \"bmi\", \"bmi\", \"bmi\", \"bmi\", \"bmi\", \"bmi\", \"bmi\", \"bmi\", \"bmi\", \"bmi\", \"bmi\", \"bmi\", \"bmi\", \"bmi\", \"bmi\", \"bmi\", \"bmi\", \"bmi\", \"bmi\", \"bmi\", \"bmi\", \"bmi\", \"bmi\", \"bmi\", \"bmi\", \"bmi\", \"bmi\", \"bmi\", \"bmi\", \"bmi\", \"bmi\", \"bmi\", \"bmi\", \"bmi\", \"bmi\", \"bmi\", \"bmi\", \"bmi\", \"bmi\", \"bmi\", \"bmi\", \"bmi\", \"bmi\", \"bmi\", \"bmi\", \"bmi\", \"bmi\", \"bmi\", \"bmi\", \"bmi\", \"bmi\", \"bmi\", \"bmi\", \"bmi\", \"bmi\", \"bmi\", \"bmi\", \"bmi\", \"bmi\", \"bmi\", \"bmi\", \"bmi\", \"bmi\", \"bmi\", \"bmi\", \"bmi\", \"bmi\", \"bmi\", \"bmi\", \"bmi\", \"bmi\", \"bmi\", \"bmi\", \"bmi\", \"bmi\", \"bmi\", \"bmi\", \"bmi\", \"bmi\", \"bmi\", \"bmi\", \"bmi\", \"bmi\", \"bmi\", \"bmi\", \"bmi\", \"bmi\", \"bmi\", \"bmi\", \"bmi\", \"bmi\", \"bmi\", \"bmi\", \"bmi\", \"bmi\", \"bmi\", \"bmi\", \"bmi\", \"bmi\", \"bmi\", \"bmi\", \"bmi\", \"bmi\", \"bmi\", \"bmi\", \"bmi\", \"bmi\", \"bmi\", \"bmi\", \"bmi\", \"bmi\", \"bmi\", \"bmi\", \"bmi\", \"bmi\", \"bmi\", \"bmi\", \"bmi\", \"bmi\", \"bmi\", \"bmi\", \"bmi\", \"bmi\", \"bmi\", \"bmi\", \"bmi\", \"bmi\", \"bmi\", \"bmi\", \"bmi\", \"bmi\", \"bmi\", \"bmi\", \"bmi\", \"bmi\", \"bmi\", \"bmi\", \"bmi\", \"bmi\", \"bmi\", \"bmi\", \"bmi\", \"bmi\", \"bmi\", \"bmi\", \"bmi\", \"bmi\", \"bmi\", \"bmi\", \"bmi\", \"bmi\", \"bmi\", \"bmi\", \"bmi\", \"bmi\", \"bmi\", \"bmi\", \"bmi\", \"bmi\", \"bmi\", \"bmi\", \"bmi\", \"bmi\", \"bmi\", \"bmi\", \"bmi\", \"bmi\", \"bmi\", \"bmi\", \"bmi\", \"bmi\", \"bmi\", \"bmi\", \"bmi\", \"bmi\", \"bmi\", \"bmi\", \"bmi\", \"bmi\", \"bmi\", \"bmi\", \"bmi\", \"bmi\", \"bmi\", \"bmi\", \"bmi\", \"bmi\", \"bmi\", \"bmi\", \"bmi\", \"bmi\", \"bmi\", \"bmi\", \"bmi\", \"bmi\", \"bmi\", \"bmi\", \"bmi\", \"bmi\", \"bmi\", \"bmi\", \"bmi\", \"bmi\", \"bmi\", \"bmi\", \"bmi\", \"bmi\", \"bmi\", \"bmi\", \"bmi\", \"bmi\", \"bmi\", \"bmi\", \"bmi\", \"bmi\", \"bmi\", \"bmi\", \"bmi\", \"bmi\", \"bmi\", \"bmi\", \"bmi\", \"bmi\", \"bmi\", \"bmi\", \"bmi\", \"bmi\", \"bmi\", \"bmi\", \"bmi\", \"bmi\", \"bmi\", \"bmi\", \"bmi\", \"bmi\", \"bmi\", \"bmi\", \"bmi\", \"bmi\", \"bmi\", \"bmi\", \"bmi\", \"bmi\", \"bmi\", \"bmi\", \"bmi\", \"bmi\", \"bmi\", \"bmi\", \"bmi\", \"bmi\", \"bmi\", \"bmi\", \"bmi\", \"bmi\", \"bmi\", \"bmi\", \"bmi\", \"bmi\", \"bmi\", \"bmi\", \"bmi\", \"bmi\", \"bmi\", \"bmi\", \"bmi\", \"bmi\", \"bmi\", \"bmi\", \"bmi\", \"bmi\", \"bmi\", \"bmi\", \"bmi\", \"bmi\", \"bmi\", \"bmi\", \"bmi\", \"bmi\", \"bmi\", \"bmi\", \"bmi\", \"bmi\", \"bmi\", \"bmi\", \"bmi\", \"bmi\", \"bmi\", \"bmi\", \"bmi\", \"bmi\", \"bmi\", \"bmi\", \"bmi\", \"bmi\", \"bmi\", \"bmi\", \"bmi\", \"bmi\", \"bmi\", \"bmi\", \"bmi\", \"bmi\", \"bmi\", \"bmi\", \"bmi\", \"bmi\", \"bmi\", \"bmi\", \"bmi\", \"bmi\", \"bmi\", \"bmi\", \"bmi\", \"bmi\", \"bmi\", \"bmi\", \"bmi\", \"bmi\", \"bmi\", \"bmi\", \"bmi\", \"bmi\", \"bmi\", \"bmi\", \"bmi\", \"bmi\", \"bmi\", \"bmi\", \"bmi\", \"bmi\", \"bmi\", \"bmi\", \"bmi\", \"bmi\", \"bmi\", \"bmi\", \"bmi\", \"bmi\", \"bmi\", \"bmi\", \"bmi\", \"bmi\", \"bmi\", \"bmi\", \"bmi\", \"bmi\", \"bmi\", \"bmi\", \"bmi\", \"bmi\", \"bmi\", \"bmi\", \"bmi\", \"bmi\", \"bmi\", \"bmi\", \"bmi\", \"bmi\", \"bmi\", \"bmi\", \"bmi\", \"bmi\", \"bmi\", \"bmi\", \"bmi\", \"bmi\", \"bmi\", \"bmi\", \"bmi\", \"bmi\", \"bmi\", \"bmi\", \"bmi\", \"bmi\", \"bmi\", \"bmi\", \"bmi\", \"bmi\", \"bmi\", \"bmi\", \"bmi\", \"bmi\", \"bmi\", \"bmi\", \"bmi\", \"bmi\", \"bmi\", \"bmi\", \"bmi\", \"bmi\", \"bmi\", \"bmi\", \"bmi\", \"bmi\", \"bmi\", \"bmi\", \"bmi\", \"bmi\", \"bmi\", \"bmi\", \"bmi\", \"bmi\", \"bmi\", \"bmi\", \"bmi\", \"bmi\", \"bmi\", \"bmi\", \"bmi\", \"bmi\", \"bmi\", \"bmi\", \"bmi\", \"bmi\", \"bmi\", \"bmi\", \"bmi\", \"bmi\", \"bmi\", \"bmi\", \"bmi\", \"bmi\", \"bmi\", \"bmi\", \"bmi\", \"bmi\", \"bmi\", \"bmi\", \"bmi\", \"bmi\", \"bmi\", \"bmi\", \"bmi\", \"bmi\", \"bmi\", \"bmi\", \"bmi\", \"bmi\", \"bmi\", \"bmi\", \"bmi\", \"bmi\", \"bmi\", \"bmi\", \"bmi\", \"bmi\", \"bmi\", \"bmi\", \"bmi\", \"bmi\", \"bmi\", \"bmi\", \"bmi\", \"bmi\", \"bmi\", \"bmi\", \"bmi\", \"bmi\", \"bmi\", \"bmi\", \"bmi\", \"bmi\", \"bmi\", \"bmi\", \"bmi\", \"bmi\", \"bmi\", \"bmi\", \"bmi\", \"bmi\", \"bmi\", \"bmi\", \"bmi\", \"bmi\", \"bmi\", \"bmi\", \"bmi\", \"bmi\", \"bmi\", \"bmi\", \"bmi\", \"bmi\", \"bmi\", \"bmi\", \"bmi\", \"bmi\", \"bmi\", \"bmi\", \"bmi\", \"bmi\", \"bmi\", \"bmi\", \"bmi\", \"bmi\", \"bmi\", \"bmi\", \"bmi\", \"bmi\", \"bmi\", \"bmi\", \"bmi\", \"bmi\", \"bmi\", \"bmi\", \"bmi\", \"bmi\", \"bmi\", \"bmi\", \"bmi\", \"bmi\", \"bmi\", \"bmi\", \"bmi\", \"bmi\", \"bmi\", \"bmi\", \"bmi\", \"bmi\", \"bmi\", \"bmi\", \"bmi\", \"bmi\", \"bmi\", \"bmi\", \"bmi\", \"bmi\", \"bmi\", \"bmi\", \"bmi\", \"bmi\", \"bmi\", \"bmi\", \"bmi\", \"bmi\", \"bmi\", \"bmi\", \"bmi\", \"bmi\", \"bmi\", \"bmi\", \"bmi\", \"bmi\", \"bmi\", \"bmi\", \"bmi\", \"bmi\", \"bmi\", \"bmi\", \"bmi\", \"bmi\", \"bmi\", \"bmi\", \"bmi\", \"bmi\", \"bmi\", \"bmi\", \"bmi\", \"bmi\", \"bmi\", \"bmi\", \"bmi\", \"bmi\", \"bmi\", \"bmi\", \"bmi\", \"bmi\", \"bmi\", \"bmi\", \"bmi\", \"bmi\", \"bmi\", \"bmi\", \"bmi\", \"bmi\", \"bmi\", \"bmi\", \"bmi\", \"bmi\", \"bmi\", \"bmi\", \"bmi\", \"bmi\", \"bmi\", \"bmi\", \"bmi\", \"bmi\", \"bmi\", \"bmi\", \"bmi\", \"bmi\", \"bmi\", \"bmi\", \"bmi\", \"bmi\", \"bmi\", \"bmi\", \"bmi\", \"bmi\", \"bmi\", \"bmi\", \"bmi\", \"bmi\", \"bmi\", \"bmi\", \"bmi\", \"bmi\", \"bmi\", \"bmi\", \"bmi\", \"bmi\", \"bmi\", \"bmi\", \"bmi\", \"bmi\", \"bmi\", \"bmi\", \"bmi\", \"bmi\", \"bmi\", \"bmi\", \"bmi\", \"bmi\", \"bmi\", \"bmi\", \"bmi\", \"bmi\", \"bmi\", \"bmi\", \"bmi\", \"bmi\", \"bmi\", \"bmi\", \"bmi\", \"bmi\", \"bmi\", \"bmi\", \"bmi\", \"bmi\", \"bmi\", \"bmi\", \"bmi\", \"bmi\", \"bmi\", \"bmi\", \"bmi\", \"bmi\", \"bmi\", \"bmi\", \"bmi\", \"bmi\", \"bmi\", \"bmi\", \"bmi\", \"bmi\", \"bmi\", \"bmi\", \"bmi\", \"bmi\", \"bmi\", \"bmi\", \"bmi\", \"bmi\", \"bmi\", \"bmi\", \"bmi\", \"bmi\", \"bmi\", \"bmi\", \"bmi\", \"bmi\", \"bmi\", \"bmi\", \"bmi\", \"bmi\", \"bmi\", \"bmi\", \"bmi\", \"bmi\", \"bmi\", \"bmi\", \"bmi\", \"bmi\", \"bmi\", \"bmi\", \"bmi\", \"bmi\", \"bmi\", \"bmi\", \"bmi\", \"bmi\", \"bmi\", \"bmi\", \"bmi\", \"bmi\", \"bmi\", \"bmi\", \"bmi\", \"bmi\", \"bmi\", \"bmi\", \"bmi\", \"bmi\", \"bmi\", \"bmi\", \"bmi\", \"bmi\", \"bmi\", \"bmi\", \"bmi\", \"bmi\", \"bmi\", \"bmi\", \"bmi\", \"bmi\", \"bmi\", \"bmi\", \"bmi\", \"bmi\", \"bmi\", \"bmi\", \"bmi\", \"bmi\", \"bmi\", \"bmi\", \"bmi\", \"bmi\", \"bmi\", \"bmi\", \"bmi\", \"bmi\", \"bmi\", \"bmi\", \"bmi\", \"bmi\", \"bmi\", \"bmi\", \"bmi\", \"bmi\", \"bmi\", \"bmi\", \"bmi\", \"bmi\", \"bmi\", \"bmi\", \"bmi\", \"bmi\", \"bmi\", \"bmi\", \"bmi\", \"bmi\", \"bmi\", \"bmi\", \"bmi\", \"bmi\", \"bmi\", \"bmi\", \"bmi\", \"bmi\", \"bmi\", \"bmi\", \"bmi\", \"bmi\", \"bmi\", \"bmi\", \"bmi\", \"bmi\", \"bmi\", \"bmi\", \"bmi\", \"bmi\", \"bmi\", \"bmi\", \"bmi\", \"bmi\", \"bmi\", \"bmi\", \"bmi\", \"bmi\", \"bmi\", \"bmi\", \"bmi\", \"bmi\", \"bmi\", \"bmi\", \"bmi\", \"bmi\", \"bmi\", \"bmi\", \"bmi\", \"bmi\", \"bmi\", \"bmi\", \"bmi\", \"bmi\", \"bmi\", \"bmi\", \"bmi\", \"bmi\", \"bmi\", \"bmi\", \"bmi\", \"bmi\", \"bmi\", \"bmi\", \"bmi\", \"bmi\", \"bmi\", \"bmi\", \"bmi\", \"bmi\", \"bmi\", \"bmi\", \"bmi\", \"bmi\", \"bmi\", \"bmi\", \"bmi\", \"bmi\", \"bmi\", \"bmi\", \"bmi\", \"bmi\", \"bmi\", \"bmi\", \"bmi\", \"bmi\", \"bmi\", \"bmi\", \"bmi\", \"bmi\", \"bmi\", \"bmi\", \"bmi\", \"bmi\", \"bmi\", \"bmi\", \"bmi\", \"bmi\", \"bmi\", \"bmi\", \"bmi\", \"bmi\", \"bmi\", \"bmi\", \"bmi\", \"bmi\", \"bmi\", \"bmi\", \"bmi\", \"bmi\", \"bmi\", \"bmi\", \"bmi\", \"bmi\", \"bmi\", \"bmi\", \"bmi\", \"bmi\", \"bmi\", \"bmi\", \"bmi\", \"bmi\", \"bmi\", \"bmi\", \"bmi\", \"bmi\", \"bmi\", \"bmi\", \"bmi\", \"bmi\", \"bmi\", \"bmi\", \"bmi\", \"bmi\", \"bmi\", \"bmi\", \"bmi\", \"bmi\", \"bmi\", \"bmi\", \"bmi\", \"bmi\", \"bmi\", \"bmi\", \"bmi\", \"bmi\", \"bmi\", \"bmi\", \"bmi\", \"bmi\", \"bmi\", \"bmi\", \"bmi\", \"bmi\", \"bmi\", \"bmi\", \"bmi\", \"bmi\", \"bmi\", \"bmi\", \"bmi\", \"bmi\", \"bmi\", \"bmi\", \"bmi\", \"bmi\", \"bmi\", \"bmi\", \"bmi\", \"bmi\", \"bmi\", \"bmi\", \"bmi\", \"bmi\", \"bmi\", \"bmi\", \"bmi\", \"bmi\", \"bmi\", \"bmi\", \"bmi\", \"bmi\", \"bmi\", \"bmi\", \"bmi\", \"bmi\", \"bmi\", \"bmi\", \"bmi\", \"bmi\", \"bmi\", \"bmi\", \"bmi\", \"bmi\", \"bmi\", \"bmi\", \"bmi\", \"bmi\", \"bmi\", \"bmi\", \"bmi\", \"bmi\", \"bmi\", \"bmi\", \"bmi\", \"bmi\", \"bmi\", \"bmi\", \"bmi\", \"bmi\", \"bmi\", \"bmi\", \"bmi\", \"bmi\", \"bmi\", \"bmi\", \"bmi\", \"bmi\", \"bmi\", \"bmi\", \"bmi\", \"bmi\", \"bmi\", \"bmi\", \"bmi\", \"bmi\", \"bmi\", \"bmi\", \"bmi\", \"bmi\", \"bmi\", \"bmi\", \"bmi\", \"bmi\", \"bmi\", \"bmi\", \"bmi\", \"bmi\", \"bmi\", \"bmi\", \"bmi\", \"bmi\", \"bmi\", \"bmi\", \"bmi\", \"bmi\", \"bmi\", \"bmi\", \"bmi\", \"bmi\", \"bmi\", \"bmi\", \"bmi\", \"bmi\", \"bmi\", \"bmi\", \"bmi\", \"bmi\", \"bmi\", \"bmi\", \"bmi\", \"bmi\", \"bmi\", \"bmi\", \"bmi\", \"bmi\", \"bmi\", \"bmi\", \"bmi\", \"bmi\", \"bmi\", \"bmi\", \"bmi\", \"bmi\", \"bmi\", \"bmi\", \"bmi\", \"bmi\", \"bmi\", \"bmi\", \"bmi\", \"bmi\", \"bmi\", \"bmi\", \"bmi\", \"bmi\", \"bmi\", \"bmi\", \"bmi\", \"bmi\", \"bmi\", \"bmi\", \"bmi\", \"bmi\", \"bmi\", \"bmi\", \"bmi\", \"bmi\", \"bmi\", \"bmi\", \"bmi\", \"bmi\", \"bmi\", \"bmi\", \"bmi\", \"bmi\", \"bmi\", \"bmi\", \"bmi\", \"bmi\", \"bmi\", \"bmi\", \"bmi\", \"bmi\", \"bmi\", \"bmi\", \"bmi\", \"bmi\", \"bmi\", \"bmi\", \"bmi\", \"bmi\", \"bmi\", \"bmi\", \"bmi\", \"bmi\", \"bmi\", \"bmi\", \"bmi\", \"bmi\", \"bmi\", \"bmi\", \"bmi\", \"bmi\", \"bmi\", \"bmi\", \"bmi\", \"bmi\", \"bmi\", \"bmi\", \"bmi\", \"bmi\", \"bmi\", \"bmi\", \"bmi\", \"bmi\", \"bmi\", \"bmi\", \"bmi\", \"bmi\", \"bmi\", \"bmi\", \"bmi\", \"bmi\", \"bmi\", \"bmi\", \"bmi\", \"bmi\", \"bmi\", \"bmi\", \"bmi\", \"bmi\", \"bmi\", \"bmi\", \"bmi\", \"bmi\", \"bmi\", \"bmi\", \"bmi\", \"bmi\", \"bmi\", \"bmi\", \"bmi\", \"bmi\", \"bmi\", \"bmi\", \"bmi\", \"bmi\", \"bmi\", \"bmi\", \"bmi\", \"bmi\", \"bmi\", \"bmi\", \"bmi\", \"bmi\", \"bmi\", \"bmi\", \"bmi\", \"bmi\", \"bmi\", \"bmi\", \"bmi\", \"bmi\", \"bmi\", \"bmi\", \"bmi\", \"bmi\", \"bmi\", \"bmi\", \"bmi\", \"bmi\", \"bmi\", \"bmi\", \"bmi\", \"bmi\", \"bmi\", \"bmi\", \"bmi\", \"bmi\", \"bmi\", \"bmi\", \"bmi\", \"bmi\", \"bmi\", \"bmi\", \"bmi\", \"bmi\", \"bmi\", \"bmi\", \"bmi\", \"bmi\", \"bmi\", \"bmi\", \"bmi\", \"bmi\", \"bmi\", \"bmi\", \"bmi\", \"bmi\", \"bmi\", \"bmi\", \"bmi\", \"bmi\", \"bmi\", \"bmi\", \"bmi\", \"bmi\", \"bmi\", \"bmi\", \"bmi\", \"bmi\", \"bmi\", \"bmi\", \"bmi\", \"bmi\", \"bmi\", \"bmi\", \"bmi\", \"bmi\", \"bmi\", \"bmi\", \"bmi\", \"bmi\", \"bmi\", \"bmi\", \"bmi\", \"bmi\", \"bmi\", \"bmi\", \"bmi\", \"bmi\", \"bmi\", \"bmi\", \"bmi\", \"bmi\", \"bmi\", \"bmi\", \"bmi\", \"bmi\", \"bmi\", \"bmi\", \"bmi\", \"bmi\", \"bmi\", \"bmi\", \"bmi\", \"bmi\", \"bmi\", \"bmi\", \"bmi\", \"bmi\", \"bmi\", \"bmi\", \"bmi\", \"bmi\", \"bmi\", \"bmi\", \"bmi\", \"bmi\", \"bmi\", \"bmi\", \"bmi\", \"bmi\", \"bmi\", \"bmi\", \"bmi\", \"bmi\", \"bmi\", \"bmi\", \"bmi\", \"bmi\", \"bmi\", \"bmi\", \"bmi\", \"bmi\", \"bmi\", \"bmi\", \"bmi\", \"bmi\", \"bmi\", \"bmi\", \"bmi\", \"bmi\", \"bmi\", \"bmi\", \"bmi\", \"bmi\", \"bmi\", \"bmi\", \"bmi\", \"bmi\", \"bmi\", \"bmi\", \"bmi\", \"bmi\", \"bmi\", \"bmi\", \"bmi\", \"bmi\", \"bmi\", \"bmi\", \"bmi\", \"bmi\", \"bmi\", \"bmi\", \"bmi\", \"bmi\", \"bmi\", \"bmi\", \"bmi\", \"bmi\", \"bmi\", \"bmi\", \"bmi\", \"bmi\", \"bmi\", \"bmi\", \"bmi\", \"bmi\", \"bmi\", \"bmi\", \"bmi\", \"bmi\", \"bmi\", \"bmi\", \"bmi\", \"bmi\", \"bmi\", \"bmi\", \"bmi\", \"bmi\", \"bmi\", \"bmi\", \"bmi\", \"bmi\", \"bmi\", \"bmi\", \"bmi\", \"bmi\", \"bmi\", \"bmi\", \"bmi\", \"bmi\", \"bmi\", \"bmi\", \"bmi\", \"bmi\", \"bmi\", \"bmi\", \"bmi\", \"bmi\", \"bmi\", \"bmi\", \"bmi\", \"bmi\", \"bmi\", \"bmi\", \"bmi\", \"bmi\", \"bmi\", \"bmi\", \"bmi\", \"bmi\", \"bmi\", \"bmi\", \"bmi\", \"bmi\", \"bmi\", \"bmi\", \"bmi\", \"bmi\", \"bmi\", \"bmi\", \"bmi\", \"bmi\", \"bmi\", \"bmi\", \"bmi\", \"bmi\", \"bmi\", \"bmi\", \"bmi\", \"bmi\", \"bmi\", \"bmi\", \"bmi\", \"bmi\", \"bmi\", \"bmi\", \"bmi\", \"bmi\", \"bmi\", \"bmi\", \"bmi\", \"bmi\", \"bmi\", \"bmi\", \"bmi\", \"bmi\", \"bmi\", \"bmi\", \"bmi\", \"bmi\", \"bmi\", \"bmi\", \"bmi\", \"bmi\", \"bmi\", \"bmi\", \"bmi\", \"bmi\", \"bmi\", \"bmi\", \"bmi\", \"bmi\", \"bmi\", \"bmi\", \"bmi\", \"bmi\", \"bmi\", \"bmi\", \"bmi\", \"bmi\", \"bmi\", \"bmi\", \"bmi\", \"bmi\", \"bmi\", \"bmi\", \"bmi\", \"bmi\", \"bmi\", \"bmi\", \"bmi\", \"bmi\", \"bmi\", \"bmi\", \"bmi\", \"bmi\", \"bmi\", \"bmi\", \"bmi\", \"bmi\", \"bmi\", \"bmi\", \"bmi\", \"bmi\", \"bmi\", \"bmi\", \"bmi\", \"bmi\", \"bmi\", \"bmi\", \"bmi\", \"bmi\", \"bmi\", \"bmi\", \"bmi\", \"bmi\", \"bmi\", \"bmi\", \"bmi\", \"bmi\", \"bmi\", \"bmi\", \"bmi\", \"bmi\", \"bmi\", \"bmi\", \"bmi\", \"bmi\", \"bmi\", \"bmi\", \"bmi\", \"bmi\", \"bmi\", \"bmi\", \"bmi\", \"bmi\", \"bmi\", \"bmi\", \"bmi\", \"bmi\", \"bmi\", \"bmi\", \"bmi\", \"bmi\", \"bmi\", \"bmi\", \"bmi\", \"bmi\", \"bmi\", \"bmi\", \"bmi\", \"bmi\", \"bmi\", \"bmi\", \"bmi\", \"bmi\", \"bmi\", \"bmi\", \"bmi\", \"bmi\", \"bmi\", \"bmi\", \"bmi\", \"bmi\", \"bmi\", \"bmi\", \"bmi\", \"bmi\", \"bmi\", \"bmi\", \"bmi\", \"bmi\", \"bmi\", \"bmi\", \"bmi\", \"bmi\", \"bmi\", \"bmi\", \"bmi\", \"bmi\", \"bmi\", \"bmi\", \"bmi\", \"bmi\", \"bmi\", \"bmi\", \"bmi\", \"bmi\", \"bmi\", \"bmi\", \"bmi\", \"bmi\", \"bmi\", \"bmi\", \"bmi\", \"bmi\", \"bmi\", \"bmi\", \"bmi\", \"bmi\", \"bmi\", \"bmi\", \"bmi\", \"bmi\", \"bmi\", \"bmi\", \"bmi\", \"bmi\", \"bmi\", \"bmi\", \"bmi\", \"bmi\", \"bmi\", \"bmi\", \"bmi\", \"bmi\", \"bmi\", \"bmi\", \"bmi\", \"bmi\", \"bmi\", \"bmi\", \"bmi\", \"bmi\", \"bmi\", \"bmi\", \"bmi\", \"bmi\", \"bmi\", \"bmi\", \"bmi\", \"bmi\", \"bmi\", \"bmi\", \"bmi\", \"bmi\", \"bmi\", \"bmi\", \"bmi\", \"bmi\", \"bmi\", \"bmi\", \"bmi\", \"bmi\", \"bmi\", \"bmi\", \"bmi\", \"bmi\", \"bmi\", \"bmi\", \"bmi\", \"bmi\", \"bmi\", \"bmi\", \"bmi\", \"bmi\", \"bmi\", \"bmi\", \"bmi\", \"bmi\", \"bmi\", \"bmi\", \"bmi\", \"bmi\", \"bmi\", \"bmi\", \"bmi\", \"bmi\", \"bmi\", \"bmi\", \"bmi\", \"bmi\", \"bmi\", \"bmi\", \"bmi\", \"bmi\", \"bmi\", \"bmi\", \"bmi\", \"bmi\", \"bmi\", \"bmi\", \"bmi\", \"bmi\", \"bmi\", \"bmi\", \"bmi\", \"bmi\", \"bmi\", \"bmi\", \"bmi\", \"bmi\", \"bmi\", \"bmi\", \"bmi\", \"bmi\", \"bmi\", \"bmi\", \"bmi\", \"bmi\", \"bmi\", \"bmi\", \"bmi\", \"bmi\", \"bmi\", \"bmi\", \"bmi\", \"bmi\", \"bmi\", \"bmi\", \"bmi\", \"bmi\", \"bmi\", \"bmi\", \"bmi\", \"bmi\", \"bmi\", \"bmi\", \"bmi\", \"bmi\", \"bmi\", \"bmi\", \"bmi\", \"bmi\", \"bmi\", \"bmi\", \"bmi\", \"bmi\", \"bmi\", \"bmi\", \"bmi\", \"bmi\", \"bmi\", \"bmi\", \"bmi\", \"bmi\", \"bmi\", \"bmi\", \"bmi\", \"bmi\", \"bmi\", \"bmi\", \"bmi\", \"bmi\", \"bmi\", \"bmi\", \"bmi\", \"bmi\", \"bmi\", \"bmi\", \"bmi\", \"bmi\", \"bmi\", \"bmi\", \"bmi\", \"bmi\", \"bmi\", \"bmi\", \"bmi\", \"bmi\", \"bmi\", \"bmi\", \"bmi\", \"bmi\", \"bmi\", \"bmi\", \"bmi\", \"bmi\", \"bmi\", \"bmi\", \"bmi\", \"bmi\", \"bmi\", \"bmi\", \"bmi\", \"bmi\", \"bmi\", \"bmi\", \"bmi\", \"bmi\", \"bmi\", \"bmi\", \"bmi\", \"bmi\", \"bmi\", \"bmi\", \"bmi\", \"bmi\", \"bmi\", \"bmi\", \"bmi\", \"bmi\", \"bmi\", \"bmi\", \"bmi\", \"bmi\", \"bmi\", \"bmi\", \"bmi\", \"bmi\", \"bmi\", \"bmi\", \"bmi\", \"bmi\", \"bmi\", \"bmi\", \"bmi\", \"bmi\", \"bmi\", \"bmi\", \"bmi\", \"bmi\", \"bmi\", \"bmi\", \"bmi\", \"bmi\", \"bmi\", \"bmi\", \"bmi\", \"bmi\", \"bmi\", \"bmi\", \"bmi\", \"bmi\", \"bmi\", \"bmi\", \"bmi\", \"bmi\", \"bmi\", \"bmi\", \"bmi\", \"bmi\", \"bmi\", \"bmi\", \"bmi\", \"bmi\", \"bmi\", \"bmi\", \"bmi\", \"bmi\", \"bmi\", \"bmi\", \"bmi\", \"bmi\", \"bmi\", \"bmi\", \"bmi\", \"bmi\", \"bmi\", \"bmi\", \"bmi\", \"bmi\", \"bmi\", \"bmi\", \"bmi\", \"bmi\", \"bmi\", \"bmi\", \"bmi\", \"bmi\", \"bmi\", \"bmi\", \"bmi\", \"bmi\", \"bmi\", \"bmi\", \"bmi\", \"bmi\", \"bmi\", \"bmi\", \"bmi\", \"bmi\", \"bmi\", \"bmi\", \"bmi\", \"bmi\", \"bmi\", \"bmi\", \"bmi\", \"bmi\", \"bmi\", \"bmi\", \"bmi\", \"bmi\", \"bmi\", \"bmi\", \"bmi\", \"bmi\", \"bmi\", \"bmi\", \"bmi\", \"bmi\", \"bmi\", \"bmi\", \"bmi\", \"bmi\", \"bmi\", \"bmi\", \"bmi\", \"bmi\", \"bmi\", \"bmi\", \"bmi\", \"bmi\", \"bmi\", \"bmi\", \"bmi\", \"bmi\", \"bmi\", \"bmi\", \"bmi\", \"bmi\", \"bmi\", \"bmi\", \"bmi\", \"bmi\", \"bmi\", \"bmi\", \"bmi\", \"bmi\", \"bmi\", \"bmi\", \"bmi\", \"bmi\", \"bmi\", \"bmi\", \"bmi\", \"bmi\", \"bmi\", \"bmi\", \"bmi\", \"bmi\", \"bmi\", \"bmi\", \"bmi\", \"bmi\", \"bmi\", \"bmi\", \"bmi\", \"bmi\", \"bmi\", \"bmi\", \"bmi\", \"bmi\", \"bmi\", \"bmi\", \"bmi\", \"bmi\", \"bmi\", \"bmi\", \"bmi\", \"bmi\", \"bmi\", \"bmi\", \"bmi\", \"bmi\", \"bmi\", \"bmi\", \"bmi\", \"bmi\", \"bmi\", \"bmi\", \"bmi\", \"bmi\", \"bmi\", \"bmi\", \"bmi\", \"bmi\", \"bmi\", \"bmi\", \"bmi\", \"bmi\", \"bmi\", \"bmi\", \"bmi\", \"bmi\", \"bmi\", \"bmi\", \"bmi\", \"bmi\", \"bmi\", \"bmi\", \"bmi\", \"bmi\", \"bmi\", \"bmi\", \"bmi\", \"bmi\", \"bmi\", \"bmi\", \"bmi\", \"bmi\", \"bmi\", \"bmi\", \"bmi\", \"bmi\", \"bmi\", \"bmi\", \"bmi\", \"bmi\", \"bmi\", \"bmi\", \"bmi\", \"bmi\", \"bmi\", \"bmi\", \"bmi\", \"bmi\", \"bmi\", \"bmi\", \"bmi\", \"bmi\", \"bmi\", \"bmi\", \"bmi\", \"bmi\", \"bmi\", \"bmi\", \"bmi\", \"bmi\", \"bmi\", \"bmi\", \"bmi\", \"bmi\", \"bmi\", \"bmi\", \"bmi\", \"bmi\", \"bmi\", \"bmi\", \"bmi\", \"bmi\", \"bmi\", \"bmi\", \"bmi\", \"bmi\", \"bmi\", \"bmi\", \"bmi\", \"bmi\", \"bmi\", \"bmi\", \"bmi\", \"bmi\", \"bmi\", \"bmi\", \"bmi\", \"bmi\", \"bmi\", \"bmi\", \"bmi\", \"bmi\", \"bmi\", \"bmi\", \"bmi\", \"bmi\", \"bmi\", \"bmi\", \"bmi\", \"bmi\", \"bmi\", \"bmi\", \"bmi\", \"bmi\", \"bmi\", \"bmi\", \"bmi\", \"bmi\", \"bmi\", \"bmi\", \"bmi\", \"bmi\", \"bmi\", \"bmi\", \"bmi\", \"bmi\", \"bmi\", \"bmi\", \"bmi\", \"bmi\", \"bmi\", \"bmi\", \"bmi\", \"bmi\", \"bmi\", \"bmi\", \"bmi\", \"bmi\", \"bmi\", \"bmi\", \"bmi\", \"bmi\", \"bmi\", \"bmi\", \"bmi\", \"bmi\", \"bmi\", \"bmi\", \"bmi\", \"bmi\", \"bmi\", \"bmi\", \"bmi\", \"bmi\", \"bmi\", \"bmi\", \"bmi\", \"bmi\", \"bmi\", \"bmi\", \"bmi\", \"bmi\", \"bmi\", \"bmi\", \"bmi\", \"bmi\", \"bmi\", \"bmi\", \"bmi\", \"bmi\", \"bmi\", \"bmi\", \"bmi\", \"bmi\", \"bmi\", \"bmi\", \"bmi\", \"bmi\", \"bmi\", \"bmi\", \"bmi\", \"bmi\", \"bmi\", \"bmi\", \"bmi\", \"bmi\", \"bmi\", \"bmi\", \"bmi\", \"bmi\", \"bmi\", \"bmi\", \"bmi\", \"bmi\", \"bmi\", \"bmi\", \"bmi\", \"bmi\", \"bmi\", \"bmi\", \"bmi\", \"bmi\", \"bmi\", \"bmi\", \"bmi\", \"bmi\", \"bmi\", \"bmi\", \"bmi\", \"bmi\", \"bmi\", \"bmi\", \"bmi\", \"bmi\", \"bmi\", \"bmi\", \"bmi\", \"bmi\", \"bmi\", \"bmi\", \"bmi\", \"bmi\", \"bmi\", \"bmi\", \"bmi\", \"bmi\", \"bmi\", \"bmi\", \"bmi\", \"bmi\", \"bmi\", \"bmi\", \"bmi\", \"bmi\", \"bmi\", \"bmi\", \"bmi\", \"bmi\", \"bmi\", \"bmi\", \"bmi\", \"bmi\", \"bmi\", \"bmi\", \"bmi\", \"bmi\", \"bmi\", \"bmi\", \"bmi\", \"bmi\", \"bmi\", \"bmi\", \"bmi\", \"bmi\", \"bmi\", \"bmi\", \"bmi\", \"bmi\", \"bmi\", \"bmi\", \"bmi\", \"bmi\", \"bmi\", \"bmi\", \"bmi\", \"bmi\", \"bmi\", \"bmi\", \"bmi\", \"bmi\", \"bmi\", \"bmi\", \"bmi\", \"bmi\", \"bmi\", \"bmi\", \"bmi\", \"bmi\", \"bmi\", \"bmi\", \"bmi\", \"bmi\", \"bmi\", \"bmi\", \"bmi\", \"bmi\", \"bmi\", \"bmi\", \"bmi\", \"bmi\", \"bmi\", \"bmi\", \"bmi\", \"bmi\", \"bmi\", \"bmi\", \"bmi\", \"bmi\", \"bmi\", \"bmi\", \"bmi\", \"bmi\", \"bmi\", \"bmi\", \"bmi\", \"bmi\", \"bmi\", \"bmi\", \"bmi\", \"bmi\", \"bmi\", \"bmi\", \"bmi\", \"bmi\", \"bmi\", \"bmi\", \"bmi\", \"bmi\", \"bmi\", \"bmi\", \"bmi\", \"bmi\", \"bmi\", \"bmi\", \"bmi\", \"bmi\", \"bmi\", \"bmi\", \"bmi\", \"bmi\", \"bmi\", \"bmi\", \"bmi\", \"bmi\", \"bmi\", \"bmi\", \"bmi\", \"bmi\", \"bmi\", \"bmi\", \"bmi\", \"bmi\", \"bmi\", \"bmi\", \"bmi\", \"bmi\", \"bmi\", \"bmi\", \"bmi\", \"bmi\", \"bmi\", \"bmi\", \"bmi\", \"bmi\", \"bmi\", \"bmi\", \"bmi\", \"bmi\", \"bmi\", \"bmi\", \"bmi\", \"bmi\", \"bmi\", \"bmi\", \"bmi\", \"bmi\", \"bmi\", \"bmi\", \"bmi\", \"bmi\", \"bmi\", \"bmi\", \"bmi\", \"bmi\", \"bmi\", \"bmi\", \"bmi\", \"bmi\", \"bmi\", \"bmi\", \"bmi\", \"bmi\", \"bmi\", \"bmi\", \"bmi\", \"bmi\", \"bmi\", \"bmi\", \"bmi\", \"bmi\", \"bmi\", \"bmi\", \"bmi\", \"bmi\", \"bmi\", \"bmi\", \"bmi\", \"bmi\", \"bmi\", \"bmi\", \"bmi\", \"bmi\", \"bmi\", \"bmi\", \"bmi\", \"bmi\", \"bmi\", \"bmi\", \"bmi\", \"bmi\", \"bmi\", \"bmi\", \"bmi\", \"bmi\", \"bmi\", \"bmi\", \"bmi\", \"bmi\", \"bmi\", \"bmi\", \"bmi\", \"bmi\", \"bmi\", \"bmi\", \"bmi\", \"bmi\", \"bmi\", \"bmi\", \"bmi\", \"bmi\", \"bmi\", \"bmi\", \"bmi\", \"bmi\", \"bmi\", \"bmi\", \"bmi\", \"bmi\", \"bmi\", \"bmi\", \"bmi\", \"bmi\", \"bmi\", \"bmi\", \"bmi\", \"bmi\", \"bmi\", \"bmi\", \"bmi\", \"bmi\", \"bmi\", \"bmi\", \"bmi\", \"bmi\", \"bmi\", \"bmi\", \"bmi\", \"bmi\", \"bmi\", \"bmi\", \"bmi\", \"bmi\", \"bmi\", \"bmi\", \"bmi\", \"bmi\", \"bmi\", \"bmi\", \"bmi\", \"bmi\", \"bmi\", \"bmi\", \"bmi\", \"bmi\", \"bmi\", \"bmi\", \"bmi\", \"bmi\", \"bmi\", \"bmi\", \"bmi\", \"bmi\", \"bmi\", \"bmi\", \"bmi\", \"bmi\", \"bmi\", \"bmi\", \"bmi\", \"bmi\", \"bmi\", \"bmi\", \"bmi\", \"bmi\", \"bmi\", \"bmi\", \"bmi\", \"bmi\", \"bmi\", \"bmi\", \"bmi\", \"bmi\", \"bmi\", \"bmi\", \"bmi\", \"bmi\", \"bmi\", \"bmi\", \"bmi\", \"bmi\", \"bmi\", \"bmi\", \"bmi\", \"bmi\", \"bmi\", \"bmi\", \"bmi\", \"bmi\", \"bmi\", \"bmi\", \"bmi\", \"bmi\", \"bmi\", \"bmi\", \"bmi\", \"bmi\", \"bmi\", \"bmi\", \"bmi\", \"bmi\", \"bmi\", \"bmi\", \"bmi\", \"bmi\", \"bmi\", \"bmi\", \"bmi\", \"bmi\", \"bmi\", \"bmi\", \"bmi\", \"bmi\", \"bmi\", \"bmi\", \"bmi\", \"bmi\", \"bmi\", \"bmi\", \"bmi\", \"bmi\", \"bmi\", \"bmi\", \"bmi\", \"bmi\", \"bmi\", \"bmi\", \"bmi\", \"bmi\", \"bmi\", \"bmi\", \"bmi\", \"bmi\", \"bmi\", \"bmi\", \"bmi\", \"bmi\", \"bmi\", \"bmi\", \"bmi\", \"bmi\", \"bmi\", \"bmi\", \"bmi\", \"bmi\", \"bmi\", \"bmi\", \"bmi\", \"bmi\", \"bmi\", \"bmi\", \"bmi\", \"bmi\", \"bmi\", \"bmi\", \"bmi\", \"bmi\", \"bmi\", \"bmi\", \"bmi\", \"bmi\", \"bmi\", \"bmi\", \"bmi\", \"bmi\", \"bmi\", \"bmi\", \"bmi\", \"bmi\", \"bmi\", \"bmi\", \"bmi\", \"bmi\", \"bmi\", \"bmi\", \"bmi\", \"bmi\", \"bmi\", \"bmi\", \"bmi\", \"bmi\", \"bmi\", \"bmi\", \"bmi\", \"bmi\", \"bmi\", \"bmi\", \"bmi\", \"bmi\", \"bmi\", \"bmi\", \"bmi\", \"bmi\", \"bmi\", \"bmi\", \"bmi\", \"bmi\", \"bmi\", \"bmi\", \"bmi\", \"bmi\", \"bmi\", \"bmi\", \"bmi\", \"bmi\", \"bmi\", \"bmi\", \"bmi\", \"bmi\", \"bmi\", \"bmi\", \"bmi\", \"bmi\", \"bmi\", \"bmi\", \"bmi\", \"bmi\", \"bmi\", \"bmi\", \"bmi\", \"bmi\", \"bmi\", \"bmi\", \"bmi\", \"bmi\", \"bmi\", \"bmi\", \"bmi\", \"bmi\", \"bmi\", \"bmi\", \"bmi\", \"bmi\", \"bmi\", \"bmi\", \"bmi\", \"bmi\", \"bmi\", \"bmi\", \"bmi\", \"bmi\", \"bmi\", \"bmi\", \"bmi\", \"bmi\", \"bmi\", \"bmi\", \"bmi\", \"bmi\", \"bmi\", \"bmi\", \"bmi\", \"bmi\", \"bmi\", \"bmi\", \"bmi\", \"bmi\", \"bmi\", \"bmi\", \"bmi\", \"bmi\", \"bmi\", \"bmi\", \"bmi\", \"bmi\", \"bmi\", \"bmi\", \"bmi\", \"bmi\", \"bmi\", \"bmi\", \"bmi\", \"bmi\", \"bmi\", \"bmi\", \"bmi\", \"bmi\", \"bmi\", \"bmi\", \"bmi\", \"bmi\", \"bmi\", \"bmi\", \"bmi\", \"bmi\", \"bmi\", \"bmi\", \"bmi\", \"bmi\", \"bmi\", \"bmi\", \"bmi\", \"bmi\", \"bmi\", \"bmi\", \"bmi\", \"bmi\", \"bmi\", \"bmi\", \"bmi\", \"bmi\", \"bmi\", \"bmi\", \"bmi\", \"bmi\", \"bmi\", \"bmi\", \"bmi\", \"bmi\", \"bmi\", \"bmi\", \"bmi\", \"bmi\", \"bmi\", \"bmi\", \"bmi\", \"bmi\", \"bmi\", \"bmi\", \"bmi\", \"bmi\", \"bmi\", \"bmi\", \"bmi\", \"bmi\", \"bmi\", \"bmi\", \"bmi\", \"bmi\", \"bmi\", \"bmi\", \"bmi\", \"bmi\", \"bmi\", \"bmi\", \"bmi\", \"bmi\", \"bmi\", \"bmi\", \"bmi\", \"bmi\", \"bmi\", \"bmi\", \"bmi\", \"bmi\", \"bmi\", \"bmi\", \"bmi\", \"bmi\", \"bmi\", \"bmi\", \"bmi\", \"bmi\", \"bmi\", \"bmi\", \"bmi\", \"bmi\", \"bmi\", \"bmi\", \"bmi\", \"bmi\", \"bmi\", \"bmi\", \"bmi\", \"bmi\", \"bmi\", \"bmi\", \"bmi\", \"bmi\", \"bmi\", \"bmi\", \"bmi\", \"bmi\", \"bmi\", \"bmi\", \"bmi\", \"bmi\", \"bmi\", \"bmi\", \"bmi\", \"bmi\", \"bmi\", \"bmi\", \"bmi\", \"bmi\", \"bmi\", \"bmi\", \"bmi\", \"bmi\", \"bmi\", \"bmi\", \"bmi\", \"bmi\", \"bmi\", \"bmi\", \"bmi\", \"bmi\", \"bmi\", \"bmi\", \"bmi\", \"bmi\", \"bmi\", \"bmi\", \"bmi\", \"bmi\", \"bmi\", \"bmi\", \"bmi\", \"bmi\", \"bmi\", \"bmi\", \"bmi\", \"bmi\", \"bmi\", \"bmi\", \"bmi\", \"bmi\", \"bmi\", \"bmi\", \"bmi\", \"bmi\", \"bmi\", \"bmi\", \"bmi\", \"bmi\", \"bmi\", \"bmi\", \"bmi\", \"bmi\", \"bmi\", \"bmi\", \"bmi\", \"bmi\", \"bmi\", \"bmi\", \"bmi\", \"bmi\", \"bmi\", \"bmi\", \"bmi\", \"bmi\", \"bmi\", \"bmi\", \"bmi\", \"bmi\", \"bmi\", \"bmi\", \"bmi\", \"bmi\", \"bmi\", \"bmi\", \"bmi\", \"bmi\", \"bmi\", \"bmi\", \"bmi\", \"bmi\", \"bmi\", \"bmi\", \"bmi\", \"bmi\", \"bmi\", \"bmi\", \"bmi\", \"bmi\", \"bmi\", \"bmi\", \"bmi\", \"bmi\", \"bmi\", \"bmi\", \"bmi\", \"bmi\", \"bmi\", \"bmi\", \"bmi\", \"bmi\", \"bmi\", \"bmi\", \"bmi\", \"bmi\", \"bmi\", \"bmi\", \"bmi\", \"bmi\", \"bmi\", \"bmi\", \"bmi\", \"bmi\", \"bmi\", \"bmi\", \"bmi\", \"bmi\", \"bmi\", \"bmi\", \"bmi\", \"bmi\", \"bmi\", \"bmi\", \"bmi\", \"bmi\", \"bmi\", \"bmi\", \"bmi\", \"bmi\", \"bmi\", \"bmi\", \"bmi\", \"bmi\", \"bmi\", \"bmi\", \"bmi\", \"bmi\", \"bmi\", \"bmi\", \"bmi\", \"bmi\", \"bmi\", \"bmi\", \"bmi\", \"bmi\", \"bmi\", \"bmi\", \"bmi\", \"bmi\", \"bmi\", \"bmi\", \"bmi\", \"bmi\", \"bmi\", \"bmi\", \"bmi\", \"bmi\", \"bmi\", \"bmi\", \"bmi\", \"bmi\", \"bmi\", \"bmi\", \"bmi\", \"bmi\", \"bmi\", \"bmi\", \"bmi\", \"bmi\", \"bmi\", \"bmi\", \"bmi\", \"bmi\", \"bmi\", \"bmi\", \"bmi\", \"bmi\", \"bmi\", \"bmi\", \"bmi\", \"bmi\", \"bmi\", \"bmi\", \"bmi\", \"bmi\", \"bmi\", \"bmi\", \"bmi\", \"bmi\", \"bmi\", \"bmi\", \"bmi\", \"bmi\", \"bmi\", \"bmi\", \"bmi\", \"bmi\", \"bmi\", \"bmi\", \"bmi\", \"bmi\", \"bmi\", \"bmi\", \"bmi\", \"bmi\", \"bmi\", \"bmi\", \"bmi\", \"bmi\", \"bmi\", \"bmi\", \"bmi\", \"bmi\", \"bmi\", \"bmi\", \"bmi\", \"bmi\", \"bmi\", \"bmi\", \"bmi\", \"bmi\", \"bmi\", \"bmi\", \"bmi\", \"bmi\", \"bmi\", \"bmi\", \"bmi\", \"bmi\", \"bmi\", \"bmi\", \"bmi\", \"bmi\", \"bmi\", \"bmi\", \"bmi\", \"bmi\", \"bmi\", \"bmi\", \"bmi\", \"bmi\", \"bmi\", \"bmi\", \"bmi\", \"bmi\", \"bmi\", \"bmi\", \"bmi\", \"bmi\", \"bmi\", \"bmi\", \"bmi\", \"bmi\", \"bmi\", \"bmi\", \"bmi\", \"bmi\", \"bmi\", \"bmi\", \"bmi\", \"bmi\", \"bmi\", \"bmi\", \"bmi\", \"bmi\", \"bmi\", \"bmi\", \"bmi\", \"bmi\", \"bmi\", \"bmi\", \"bmi\", \"bmi\", \"bmi\", \"bmi\", \"bmi\", \"bmi\", \"bmi\", \"bmi\", \"bmi\", \"bmi\", \"bmi\", \"bmi\", \"bmi\", \"bmi\", \"bmi\", \"bmi\", \"bmi\", \"bmi\", \"bmi\", \"bmi\", \"bmi\", \"bmi\", \"bmi\", \"bmi\", \"bmi\", \"bmi\", \"bmi\", \"bmi\", \"bmi\", \"bmi\", \"bmi\", \"bmi\", \"bmi\", \"bmi\", \"bmi\", \"bmi\", \"bmi\", \"bmi\", \"bmi\", \"bmi\", \"bmi\", \"bmi\", \"bmi\", \"bmi\", \"bmi\", \"bmi\", \"bmi\", \"bmi\", \"bmi\", \"bmi\", \"bmi\", \"bmi\", \"bmi\", \"bmi\", \"bmi\", \"bmi\", \"bmi\", \"bmi\", \"bmi\", \"bmi\", \"bmi\", \"bmi\", \"bmi\", \"bmi\", \"bmi\", \"bmi\", \"bmi\", \"bmi\", \"bmi\", \"bmi\", \"bmi\", \"bmi\", \"bmi\", \"bmi\", \"bmi\", \"bmi\", \"bmi\", \"bmi\", \"bmi\", \"bmi\", \"bmi\", \"bmi\", \"bmi\", \"bmi\", \"bmi\", \"bmi\", \"bmi\", \"bmi\", \"bmi\", \"bmi\", \"bmi\", \"bmi\", \"bmi\", \"bmi\", \"bmi\", \"bmi\", \"bmi\", \"bmi\", \"bmi\", \"bmi\", \"bmi\", \"bmi\", \"bmi\", \"bmi\", \"bmi\", \"bmi\", \"bmi\", \"bmi\", \"bmi\", \"bmi\", \"bmi\", \"bmi\", \"bmi\", \"bmi\", \"bmi\", \"bmi\", \"bmi\", \"bmi\", \"bmi\", \"bmi\", \"bmi\", \"bmi\", \"bmi\", \"bmi\", \"bmi\", \"bmi\", \"bmi\", \"bmi\", \"bmi\", \"bmi\", \"bmi\", \"bmi\", \"bmi\", \"bmi\", \"bmi\", \"bmi\", \"bmi\", \"bmi\", \"bmi\", \"bmi\", \"bmi\", \"bmi\", \"bmi\", \"bmi\", \"bmi\", \"bmi\", \"bmi\", \"bmi\", \"bmi\", \"bmi\", \"bmi\", \"bmi\", \"bmi\", \"bmi\", \"bmi\", \"bmi\", \"bmi\", \"bmi\", \"bmi\", \"bmi\", \"bmi\", \"bmi\", \"bmi\", \"bmi\", \"bmi\", \"bmi\", \"bmi\", \"bmi\", \"bmi\", \"bmi\", \"bmi\", \"bmi\", \"bmi\", \"bmi\", \"bmi\", \"bmi\", \"bmi\", \"bmi\", \"bmi\", \"bmi\", \"bmi\", \"bmi\", \"bmi\", \"bmi\", \"bmi\", \"bmi\", \"bmi\", \"bmi\", \"bmi\", \"bmi\", \"bmi\", \"bmi\", \"bmi\", \"bmi\", \"bmi\", \"bmi\", \"bmi\", \"bmi\", \"bmi\", \"bmi\", \"bmi\", \"bmi\", \"bmi\", \"bmi\", \"bmi\", \"bmi\", \"bmi\", \"bmi\", \"bmi\", \"bmi\", \"bmi\", \"bmi\", \"bmi\", \"bmi\", \"bmi\", \"bmi\", \"bmi\", \"bmi\", \"bmi\", \"bmi\", \"bmi\", \"bmi\", \"bmi\", \"bmi\", \"bmi\", \"bmi\", \"bmi\", \"bmi\", \"bmi\", \"bmi\", \"bmi\", \"bmi\", \"bmi\", \"bmi\", \"bmi\", \"bmi\", \"bmi\", \"bmi\", \"bmi\", \"bmi\", \"bmi\", \"bmi\", \"bmi\", \"bmi\", \"bmi\", \"bmi\", \"bmi\", \"bmi\", \"bmi\", \"bmi\", \"bmi\", \"bmi\", \"bmi\", \"bmi\", \"bmi\", \"bmi\", \"bmi\", \"bmi\", \"bmi\", \"bmi\", \"bmi\", \"bmi\", \"bmi\", \"bmi\", \"bmi\", \"bmi\", \"bmi\", \"bmi\", \"bmi\", \"bmi\", \"bmi\", \"bmi\", \"bmi\", \"bmi\", \"bmi\", \"bmi\", \"bmi\", \"bmi\", \"bmi\", \"bmi\", \"bmi\", \"bmi\", \"bmi\", \"bmi\", \"bmi\", \"bmi\", \"bmi\", \"bmi\", \"bmi\", \"bmi\", \"bmi\", \"bmi\", \"bmi\", \"bmi\", \"bmi\", \"bmi\", \"bmi\", \"bmi\", \"bmi\", \"bmi\", \"bmi\", \"bmi\", \"bmi\", \"bmi\", \"bmi\", \"bmi\", \"bmi\", \"bmi\", \"bmi\", \"bmi\", \"bmi\", \"bmi\", \"bmi\", \"bmi\", \"bmi\", \"bmi\", \"bmi\", \"bmi\", \"bmi\", \"bmi\", \"bmi\", \"bmi\", \"bmi\", \"bmi\", \"bmi\", \"bmi\", \"bmi\", \"bmi\", \"bmi\", \"bmi\", \"bmi\", \"bmi\", \"bmi\", \"bmi\", \"bmi\", \"bmi\", \"bmi\", \"bmi\", \"bmi\", \"bmi\", \"bmi\", \"bmi\", \"bmi\", \"bmi\", \"bmi\", \"bmi\", \"bmi\", \"bmi\", \"bmi\", \"bmi\", \"bmi\", \"bmi\", \"bmi\", \"bmi\", \"bmi\", \"bmi\", \"bmi\", \"bmi\", \"bmi\", \"bmi\", \"bmi\", \"bmi\", \"bmi\", \"bmi\", \"bmi\", \"bmi\", \"bmi\", \"bmi\", \"bmi\", \"bmi\", \"bmi\", \"bmi\", \"bmi\", \"bmi\", \"bmi\", \"bmi\", \"bmi\", \"bmi\", \"bmi\", \"bmi\", \"bmi\", \"bmi\", \"bmi\", \"bmi\", \"bmi\", \"bmi\", \"bmi\", \"bmi\", \"bmi\", \"bmi\", \"bmi\", \"bmi\", \"bmi\", \"bmi\", \"bmi\", \"bmi\", \"bmi\", \"bmi\", \"bmi\", \"bmi\", \"bmi\", \"bmi\", \"bmi\", \"bmi\", \"bmi\", \"bmi\", \"bmi\", \"bmi\", \"bmi\", \"bmi\", \"bmi\", \"bmi\", \"bmi\", \"bmi\", \"bmi\", \"bmi\", \"bmi\", \"bmi\", \"bmi\", \"bmi\", \"bmi\", \"bmi\", \"bmi\", \"bmi\", \"bmi\", \"bmi\", \"bmi\", \"bmi\", \"bmi\", \"bmi\", \"bmi\", \"bmi\", \"bmi\", \"bmi\", \"bmi\", \"bmi\", \"bmi\", \"bmi\", \"bmi\", \"bmi\", \"bmi\", \"bmi\", \"bmi\", \"bmi\", \"bmi\", \"bmi\", \"bmi\", \"bmi\", \"bmi\", \"bmi\", \"bmi\", \"bmi\", \"bmi\", \"bmi\", \"bmi\", \"bmi\", \"bmi\", \"bmi\", \"bmi\", \"bmi\", \"bmi\", \"bmi\", \"bmi\", \"bmi\", \"bmi\", \"bmi\", \"bmi\", \"bmi\", \"bmi\", \"bmi\", \"bmi\", \"bmi\", \"bmi\", \"bmi\", \"bmi\", \"bmi\", \"bmi\", \"bmi\", \"bmi\", \"bmi\", \"bmi\", \"bmi\", \"bmi\", \"bmi\", \"bmi\", \"bmi\", \"bmi\", \"bmi\", \"bmi\", \"bmi\", \"bmi\", \"bmi\", \"bmi\", \"bmi\", \"bmi\", \"bmi\", \"bmi\", \"bmi\", \"bmi\", \"bmi\", \"bmi\", \"bmi\", \"bmi\", \"bmi\", \"bmi\", \"bmi\", \"bmi\", \"bmi\", \"bmi\", \"bmi\", \"bmi\", \"bmi\", \"bmi\", \"bmi\", \"bmi\", \"bmi\", \"bmi\", \"bmi\", \"bmi\", \"bmi\", \"bmi\", \"bmi\", \"bmi\", \"bmi\", \"bmi\", \"bmi\", \"bmi\", \"bmi\", \"bmi\", \"bmi\", \"bmi\", \"bmi\", \"bmi\", \"bmi\", \"bmi\", \"bmi\", \"bmi\", \"bmi\", \"bmi\", \"bmi\", \"bmi\", \"bmi\", \"bmi\", \"bmi\", \"bmi\", \"bmi\", \"bmi\", \"bmi\", \"bmi\", \"bmi\", \"bmi\", \"bmi\", \"bmi\", \"bmi\", \"bmi\", \"bmi\", \"bmi\", \"bmi\", \"bmi\", \"bmi\", \"bmi\", \"bmi\", \"bmi\", \"bmi\", \"bmi\", \"bmi\", \"bmi\", \"bmi\", \"bmi\", \"bmi\", \"bmi\", \"bmi\", \"bmi\", \"bmi\", \"bmi\", \"bmi\", \"bmi\", \"bmi\", \"bmi\", \"bmi\", \"bmi\", \"bmi\", \"bmi\", \"bmi\", \"bmi\", \"bmi\", \"bmi\", \"bmi\", \"bmi\", \"bmi\", \"bmi\", \"bmi\", \"bmi\", \"bmi\", \"bmi\", \"bmi\", \"bmi\", \"bmi\", \"bmi\", \"bmi\", \"bmi\", \"bmi\", \"bmi\", \"bmi\", \"bmi\", \"bmi\", \"bmi\", \"bmi\", \"bmi\", \"bmi\", \"bmi\", \"bmi\", \"bmi\", \"bmi\", \"bmi\", \"bmi\", \"bmi\", \"bmi\", \"bmi\", \"bmi\", \"bmi\", \"bmi\", \"bmi\", \"bmi\", \"bmi\", \"bmi\", \"bmi\", \"bmi\", \"bmi\", \"bmi\", \"bmi\", \"bmi\", \"bmi\", \"bmi\", \"bmi\", \"bmi\", \"bmi\", \"bmi\", \"bmi\", \"bmi\", \"bmi\", \"bmi\", \"bmi\", \"bmi\", \"bmi\", \"bmi\", \"bmi\", \"bmi\", \"bmi\", \"bmi\", \"bmi\", \"bmi\", \"bmi\", \"bmi\", \"bmi\", \"bmi\", \"bmi\", \"bmi\", \"bmi\", \"bmi\", \"bmi\", \"bmi\", \"bmi\", \"bmi\", \"bmi\", \"bmi\", \"bmi\", \"bmi\", \"bmi\", \"bmi\", \"bmi\", \"bmi\", \"bmi\", \"bmi\", \"bmi\", \"bmi\", \"bmi\", \"bmi\", \"bmi\", \"bmi\", \"bmi\", \"bmi\", \"bmi\", \"bmi\", \"bmi\", \"bmi\", \"bmi\", \"bmi\", \"bmi\", \"bmi\", \"bmi\", \"bmi\", \"bmi\", \"bmi\", \"bmi\", \"bmi\", \"bmi\", \"bmi\", \"bmi\", \"bmi\", \"bmi\", \"bmi\", \"bmi\", \"bmi\", \"bmi\", \"bmi\", \"bmi\", \"bmi\", \"bmi\", \"bmi\", \"bmi\", \"bmi\", \"bmi\", \"bmi\", \"bmi\", \"bmi\", \"bmi\", \"bmi\", \"bmi\", \"bmi\", \"bmi\", \"bmi\", \"bmi\", \"bmi\", \"bmi\", \"bmi\", \"bmi\", \"bmi\", \"bmi\", \"bmi\", \"bmi\", \"bmi\", \"bmi\", \"bmi\", \"bmi\", \"bmi\", \"bmi\", \"bmi\", \"bmi\", \"bmi\", \"bmi\", \"bmi\", \"bmi\", \"bmi\", \"bmi\", \"bmi\", \"bmi\", \"bmi\", \"bmi\", \"bmi\", \"bmi\", \"bmi\", \"bmi\", \"bmi\", \"bmi\", \"bmi\", \"bmi\", \"bmi\", \"bmi\", \"bmi\", \"bmi\", \"bmi\", \"bmi\", \"bmi\", \"bmi\", \"bmi\", \"bmi\", \"bmi\", \"bmi\", \"bmi\", \"bmi\", \"bmi\", \"bmi\", \"bmi\", \"bmi\", \"bmi\", \"bmi\", \"bmi\", \"bmi\", \"bmi\", \"bmi\", \"bmi\", \"bmi\", \"bmi\", \"bmi\", \"bmi\", \"bmi\", \"bmi\", \"bmi\", \"bmi\", \"bmi\", \"bmi\", \"bmi\", \"bmi\", \"bmi\", \"bmi\", \"bmi\", \"bmi\", \"bmi\", \"bmi\", \"bmi\", \"bmi\", \"bmi\", \"bmi\", \"bmi\", \"bmi\", \"bmi\", \"bmi\", \"bmi\", \"bmi\", \"bmi\", \"bmi\", \"bmi\", \"bmi\", \"bmi\", \"bmi\", \"bmi\", \"bmi\", \"bmi\", \"bmi\", \"bmi\", \"bmi\", \"bmi\", \"bmi\", \"bmi\", \"bmi\", \"bmi\", \"bmi\", \"bmi\", \"bmi\", \"bmi\", \"bmi\", \"bmi\", \"bmi\", \"bmi\", \"bmi\", \"bmi\", \"bmi\", \"bmi\", \"bmi\", \"bmi\", \"bmi\", \"bmi\", \"bmi\", \"bmi\", \"bmi\", \"bmi\", \"bmi\", \"bmi\", \"bmi\", \"bmi\", \"bmi\", \"bmi\", \"bmi\", \"bmi\", \"bmi\", \"bmi\", \"bmi\", \"bmi\", \"bmi\", \"bmi\", \"bmi\", \"bmi\", \"bmi\", \"bmi\", \"bmi\", \"bmi\", \"bmi\", \"bmi\", \"bmi\", \"bmi\", \"bmi\", \"bmi\", \"bmi\", \"bmi\", \"bmi\", \"bmi\", \"bmi\", \"bmi\", \"bmi\", \"bmi\", \"bmi\", \"bmi\", \"bmi\", \"bmi\", \"bmi\", \"bmi\", \"bmi\", \"bmi\", \"bmi\", \"bmi\", \"bmi\", \"bmi\", \"bmi\", \"bmi\", \"bmi\", \"bmi\", \"bmi\", \"bmi\", \"bmi\", \"bmi\", \"bmi\", \"bmi\", \"bmi\", \"bmi\", \"bmi\", \"bmi\", \"bmi\", \"bmi\", \"bmi\", \"bmi\", \"bmi\", \"bmi\", \"bmi\", \"bmi\", \"bmi\", \"bmi\", \"bmi\", \"bmi\", \"bmi\", \"bmi\", \"bmi\", \"bmi\", \"bmi\", \"bmi\", \"bmi\", \"bmi\", \"bmi\", \"bmi\", \"bmi\", \"bmi\", \"bmi\", \"bmi\", \"bmi\", \"bmi\", \"bmi\", \"bmi\", \"bmi\", \"bmi\", \"bmi\", \"bmi\", \"bmi\", \"bmi\", \"bmi\", \"bmi\", \"bmi\", \"bmi\", \"bmi\", \"bmi\", \"bmi\", \"bmi\", \"bmi\", \"bmi\", \"bmi\", \"bmi\", \"bmi\", \"bmi\", \"bmi\", \"bmi\", \"bmi\", \"bmi\", \"bmi\", \"bmi\", \"bmi\", \"bmi\", \"bmi\", \"bmi\", \"bmi\", \"bmi\", \"bmi\", \"bmi\", \"bmi\", \"bmi\", \"bmi\", \"bmi\", \"bmi\", \"bmi\", \"bmi\", \"bmi\", \"bmi\", \"bmi\", \"bmi\", \"bmi\", \"bmi\", \"bmi\", \"bmi\", \"bmi\", \"bmi\", \"bmi\", \"bmi\", \"bmi\", \"bmi\", \"bmi\", \"bmi\", \"bmi\", \"bmi\", \"bmi\", \"bmi\", \"bmi\", \"bmi\", \"bmi\", \"bmi\", \"bmi\", \"bmi\", \"bmi\", \"bmi\", \"bmi\", \"bmi\", \"bmi\", \"bmi\", \"bmi\", \"bmi\", \"bmi\", \"bmi\", \"bmi\", \"bmi\", \"bmi\", \"bmi\", \"bmi\", \"bmi\", \"bmi\", \"bmi\", \"bmi\", \"bmi\", \"bmi\", \"bmi\", \"bmi\", \"bmi\", \"bmi\", \"bmi\", \"bmi\", \"bmi\", \"bmi\", \"bmi\", \"bmi\", \"bmi\", \"bmi\", \"bmi\", \"bmi\", \"bmi\", \"bmi\", \"bmi\", \"bmi\", \"bmi\", \"bmi\", \"bmi\", \"bmi\", \"bmi\", \"bmi\", \"bmi\", \"bmi\", \"bmi\", \"bmi\", \"bmi\", \"bmi\", \"bmi\", \"bmi\", \"bmi\", \"bmi\", \"bmi\", \"bmi\", \"bmi\", \"bmi\", \"bmi\", \"bmi\", \"bmi\", \"bmi\", \"bmi\", \"bmi\", \"bmi\", \"bmi\", \"bmi\", \"bmi\", \"bmi\", \"bmi\", \"bmi\", \"bmi\", \"bmi\", \"bmi\", \"bmi\", \"bmi\", \"bmi\", \"bmi\", \"bmi\", \"bmi\", \"bmi\", \"bmi\", \"bmi\", \"bmi\", \"bmi\", \"bmi\", \"bmi\", \"bmi\", \"bmi\", \"bmi\", \"bmi\", \"bmi\", \"bmi\", \"bmi\", \"bmi\", \"bmi\", \"bmi\", \"bmi\", \"bmi\", \"bmi\", \"bmi\", \"bmi\", \"bmi\", \"bmi\", \"bmi\", \"bmi\", \"bmi\", \"bmi\", \"bmi\", \"bmi\", \"bmi\", \"bmi\", \"bmi\", \"bmi\", \"bmi\", \"bmi\", \"bmi\", \"bmi\", \"bmi\", \"bmi\", \"bmi\", \"bmi\", \"bmi\", \"bmi\", \"bmi\", \"bmi\", \"bmi\", \"bmi\", \"bmi\", \"bmi\", \"bmi\", \"bmi\", \"bmi\", \"bmi\", \"bmi\", \"bmi\", \"bmi\", \"bmi\", \"bmi\", \"bmi\", \"bmi\", \"bmi\", \"bmi\", \"bmi\", \"bmi\", \"bmi\", \"bmi\", \"bmi\", \"bmi\", \"bmi\", \"bmi\", \"bmi\", \"bmi\", \"bmi\", \"bmi\", \"bmi\", \"bmi\", \"bmi\", \"bmi\", \"bmi\", \"bmi\", \"bmi\", \"bmi\", \"bmi\", \"bmi\", \"bmi\", \"bmi\", \"bmi\", \"bmi\", \"bmi\", \"bmi\", \"bmi\", \"bmi\", \"bmi\", \"bmi\", \"bmi\", \"bmi\", \"bmi\", \"bmi\", \"bmi\", \"bmi\", \"bmi\", \"bmi\", \"bmi\", \"bmi\", \"bmi\", \"bmi\", \"bmi\", \"bmi\", \"bmi\", \"bmi\", \"bmi\", \"bmi\", \"bmi\", \"bmi\", \"bmi\", \"bmi\", \"bmi\", \"bmi\", \"bmi\", \"bmi\", \"bmi\", \"bmi\", \"bmi\", \"bmi\", \"bmi\", \"bmi\", \"bmi\", \"bmi\", \"bmi\", \"bmi\", \"bmi\", \"bmi\", \"bmi\", \"bmi\", \"bmi\", \"bmi\", \"bmi\", \"bmi\", \"bmi\", \"bmi\", \"bmi\", \"bmi\", \"bmi\", \"bmi\", \"bmi\", \"bmi\", \"bmi\", \"bmi\", \"bmi\", \"bmi\", \"bmi\", \"bmi\", \"bmi\", \"bmi\", \"bmi\", \"bmi\", \"bmi\", \"bmi\", \"bmi\", \"bmi\", \"bmi\", \"bmi\", \"bmi\", \"bmi\", \"bmi\", \"bmi\", \"bmi\", \"bmi\", \"bmi\", \"bmi\", \"bmi\", \"bmi\", \"bmi\", \"bmi\", \"bmi\", \"bmi\", \"bmi\", \"bmi\", \"bmi\", \"bmi\", \"bmi\", \"bmi\", \"bmi\", \"bmi\", \"bmi\", \"bmi\", \"bmi\", \"bmi\", \"bmi\", \"bmi\", \"bmi\", \"bmi\", \"bmi\", \"bmi\", \"bmi\", \"bmi\", \"bmi\", \"bmi\", \"bmi\", \"bmi\", \"bmi\", \"bmi\", \"bmi\", \"bmi\", \"bmi\", \"bmi\", \"bmi\", \"bmi\", \"bmi\", \"bmi\", \"bmi\", \"bmi\", \"bmi\", \"bmi\", \"bmi\", \"bmi\", \"bmi\", \"bmi\", \"bmi\", \"bmi\", \"bmi\", \"bmi\", \"bmi\", \"bmi\", \"bmi\", \"bmi\", \"bmi\", \"bmi\", \"bmi\", \"bmi\", \"bmi\", \"bmi\", \"bmi\", \"bmi\", \"bmi\", \"bmi\", \"bmi\", \"bmi\", \"bmi\", \"bmi\", \"bmi\", \"bmi\", \"bmi\", \"bmi\", \"bmi\", \"bmi\", \"bmi\", \"bmi\", \"bmi\", \"bmi\", \"bmi\", \"bmi\", \"bmi\", \"bmi\", \"bmi\", \"bmi\", \"bmi\", \"bmi\", \"bmi\", \"bmi\", \"bmi\", \"bmi\", \"bmi\", \"bmi\", \"bmi\", \"bmi\", \"bmi\", \"bmi\", \"bmi\", \"bmi\", \"bmi\", \"bmi\", \"bmi\", \"bmi\", \"bmi\", \"bmi\", \"bmi\", \"bmi\", \"bmi\", \"bmi\", \"bmi\", \"bmi\", \"bmi\", \"bmi\", \"bmi\", \"bmi\", \"bmi\", \"bmi\", \"bmi\", \"bmi\", \"bmi\", \"bmi\", \"bmi\", \"bmi\", \"bmi\", \"bmi\", \"bmi\", \"bmi\", \"bmi\", \"bmi\", \"bmi\", \"bmi\", \"bmi\", \"bmi\", \"bmi\", \"bmi\", \"bmi\", \"bmi\", \"bmi\", \"bmi\", \"bmi\", \"bmi\", \"bmi\", \"bmi\", \"bmi\", \"bmi\", \"bmi\", \"bmi\", \"bmi\", \"bmi\", \"bmi\", \"bmi\", \"bmi\", \"bmi\", \"bmi\", \"bmi\", \"bmi\", \"bmi\", \"bmi\", \"bmi\", \"bmi\", \"bmi\", \"bmi\", \"bmi\", \"bmi\", \"bmi\", \"bmi\", \"bmi\", \"bmi\", \"bmi\", \"bmi\", \"bmi\", \"bmi\", \"bmi\", \"bmi\", \"bmi\", \"bmi\", \"bmi\", \"bmi\", \"bmi\", \"bmi\", \"bmi\", \"bmi\", \"bmi\", \"bmi\", \"bmi\", \"bmi\", \"bmi\", \"bmi\", \"bmi\", \"bmi\", \"bmi\", \"bmi\", \"bmi\", \"bmi\", \"bmi\", \"bmi\", \"bmi\", \"bmi\", \"bmi\", \"bmi\", \"bmi\", \"bmi\", \"bmi\", \"bmi\", \"bmi\", \"bmi\", \"bmi\", \"bmi\", \"bmi\", \"bmi\", \"bmi\", \"bmi\", \"bmi\", \"bmi\", \"bmi\", \"bmi\", \"bmi\", \"bmi\", \"bmi\", \"bmi\", \"bmi\", \"bmi\", \"bmi\", \"bmi\", \"bmi\", \"bmi\", \"bmi\", \"bmi\", \"bmi\", \"bmi\", \"bmi\", \"bmi\", \"bmi\", \"bmi\", \"bmi\", \"bmi\", \"bmi\", \"bmi\", \"bmi\", \"bmi\", \"bmi\", \"bmi\", \"bmi\", \"bmi\", \"bmi\", \"bmi\", \"bmi\", \"bmi\", \"bmi\", \"bmi\", \"bmi\", \"bmi\", \"bmi\", \"bmi\", \"bmi\", \"bmi\", \"bmi\", \"bmi\", \"bmi\", \"bmi\", \"bmi\", \"bmi\", \"bmi\", \"bmi\", \"bmi\", \"bmi\", \"bmi\", \"bmi\", \"bmi\", \"bmi\", \"bmi\", \"bmi\", \"bmi\", \"bmi\", \"bmi\", \"bmi\", \"bmi\", \"bmi\", \"bmi\", \"bmi\", \"bmi\", \"bmi\", \"bmi\", \"bmi\", \"bmi\", \"bmi\", \"bmi\", \"bmi\", \"bmi\", \"bmi\", \"bmi\", \"bmi\", \"bmi\", \"bmi\", \"bmi\", \"bmi\", \"bmi\", \"bmi\", \"bmi\", \"bmi\", \"bmi\", \"bmi\", \"bmi\", \"bmi\", \"bmi\", \"bmi\", \"bmi\", \"bmi\", \"bmi\", \"bmi\", \"bmi\", \"bmi\", \"bmi\", \"bmi\", \"bmi\", \"bmi\", \"bmi\", \"bmi\", \"bmi\", \"bmi\", \"bmi\", \"bmi\", \"bmi\", \"bmi\", \"bmi\", \"bmi\", \"bmi\", \"bmi\", \"bmi\", \"bmi\", \"bmi\", \"bmi\", \"bmi\", \"bmi\", \"bmi\", \"bmi\", \"bmi\", \"bmi\", \"bmi\", \"bmi\", \"bmi\", \"bmi\", \"bmi\", \"bmi\", \"bmi\", \"bmi\", \"bmi\", \"bmi\", \"bmi\", \"bmi\", \"bmi\", \"bmi\", \"bmi\", \"bmi\", \"bmi\", \"bmi\", \"bmi\", \"bmi\", \"bmi\", \"bmi\", \"bmi\", \"bmi\", \"bmi\", \"bmi\", \"bmi\", \"bmi\", \"bmi\", \"bmi\", \"bmi\", \"bmi\", \"bmi\", \"bmi\", \"bmi\", \"bmi\", \"bmi\", \"bmi\", \"bmi\", \"bmi\", \"bmi\", \"bmi\", \"bmi\", \"bmi\", \"bmi\", \"bmi\", \"bmi\", \"bmi\", \"bmi\", \"bmi\", \"bmi\", \"bmi\", \"bmi\", \"bmi\", \"bmi\", \"bmi\", \"bmi\", \"bmi\", \"bmi\", \"bmi\", \"bmi\", \"bmi\", \"bmi\", \"bmi\", \"bmi\", \"bmi\", \"bmi\", \"bmi\", \"bmi\", \"bmi\", \"bmi\", \"bmi\", \"bmi\", \"bmi\", \"bmi\", \"bmi\", \"bmi\", \"bmi\", \"bmi\", \"bmi\", \"bmi\", \"bmi\", \"bmi\", \"bmi\", \"bmi\", \"bmi\", \"bmi\", \"bmi\", \"bmi\", \"bmi\", \"bmi\", \"bmi\", \"bmi\", \"bmi\", \"bmi\", \"bmi\", \"bmi\", \"bmi\", \"bmi\", \"bmi\", \"bmi\", \"bmi\", \"bmi\", \"bmi\", \"bmi\", \"bmi\", \"bmi\", \"bmi\", \"bmi\", \"bmi\", \"bmi\", \"bmi\", \"bmi\", \"bmi\", \"bmi\", \"bmi\", \"bmi\", \"bmi\", \"bmi\", \"bmi\", \"bmi\", \"bmi\", \"bmi\", \"bmi\", \"bmi\", \"bmi\", \"bmi\", \"bmi\", \"bmi\", \"bmi\", \"bmi\", \"bmi\", \"bmi\", \"bmi\", \"bmi\", \"bmi\", \"bmi\", \"bmi\", \"bmi\", \"bmi\", \"bmi\", \"bmi\", \"bmi\", \"bmi\", \"bmi\", \"bmi\", \"bmi\", \"bmi\", \"bmi\", \"bmi\", \"bmi\", \"bmi\", \"bmi\", \"bmi\", \"bmi\", \"bmi\", \"bmi\", \"bmi\", \"bmi\", \"bmi\", \"bmi\", \"bmi\", \"bmi\", \"bmi\", \"bmi\", \"bmi\", \"bmi\", \"bmi\", \"bmi\", \"bmi\", \"bmi\", \"bmi\", \"bmi\", \"bmi\", \"bmi\", \"bmi\", \"bmi\", \"bmi\", \"bmi\", \"bmi\", \"bmi\", \"bmi\", \"bmi\", \"bmi\", \"bmi\", \"bmi\", \"bmi\", \"bmi\", \"bmi\", \"bmi\", \"bmi\", \"bmi\", \"bmi\", \"bmi\", \"bmi\", \"bmi\", \"bmi\", \"bmi\", \"bmi\", \"bmi\", \"bmi\", \"bmi\", \"bmi\", \"bmi\", \"bmi\", \"bmi\", \"bmi\", \"bmi\", \"bmi\", \"bmi\", \"bmi\", \"bmi\", \"bmi\", \"bmi\", \"bmi\", \"bmi\", \"bmi\", \"bmi\", \"bmi\", \"bmi\", \"bmi\", \"bmi\", \"bmi\", \"bmi\", \"bmi\", \"bmi\", \"bmi\", \"bmi\", \"bmi\", \"bmi\", \"bmi\", \"bmi\", \"bmi\", \"bmi\", \"bmi\", \"bmi\", \"bmi\", \"bmi\", \"bmi\", \"bmi\", \"bmi\", \"bmi\", \"bmi\", \"bmi\", \"bmi\", \"bmi\", \"bmi\", \"bmi\", \"bmi\", \"bmi\", \"bmi\", \"bmi\", \"bmi\", \"bmi\", \"bmi\", \"bmi\", \"bmi\", \"bmi\", \"bmi\", \"bmi\", \"bmi\", \"bmi\", \"bmi\", \"bmi\", \"bmi\", \"bmi\", \"bmi\", \"bmi\", \"bmi\", \"bmi\", \"bmi\", \"bmi\", \"bmi\", \"bmi\", \"bmi\", \"bmi\", \"bmi\", \"bmi\", \"bmi\", \"bmi\", \"bmi\", \"bmi\", \"bmi\", \"bmi\", \"bmi\", \"bmi\", \"bmi\", \"bmi\", \"bmi\", \"bmi\", \"bmi\", \"bmi\", \"bmi\", \"bmi\", \"bmi\", \"bmi\", \"bmi\", \"bmi\", \"bmi\", \"bmi\", \"bmi\", \"bmi\", \"bmi\", \"bmi\", \"bmi\", \"bmi\", \"bmi\", \"bmi\", \"bmi\", \"bmi\", \"bmi\", \"bmi\", \"bmi\", \"bmi\", \"bmi\", \"bmi\", \"bmi\", \"bmi\", \"bmi\", \"bmi\", \"bmi\", \"bmi\", \"bmi\", \"bmi\", \"bmi\", \"bmi\", \"bmi\", \"bmi\", \"bmi\", \"bmi\", \"bmi\", \"bmi\", \"bmi\", \"bmi\", \"bmi\", \"bmi\", \"bmi\", \"bmi\", \"bmi\", \"bmi\", \"bmi\", \"bmi\", \"bmi\", \"bmi\", \"bmi\", \"bmi\", \"bmi\", \"bmi\", \"bmi\", \"bmi\", \"bmi\", \"bmi\", \"bmi\", \"bmi\", \"bmi\", \"bmi\", \"bmi\", \"bmi\", \"bmi\", \"bmi\", \"bmi\", \"bmi\", \"bmi\", \"bmi\", \"bmi\", \"bmi\", \"bmi\", \"bmi\", \"bmi\", \"bmi\", \"bmi\", \"bmi\", \"bmi\", \"bmi\", \"bmi\", \"bmi\", \"bmi\", \"bmi\", \"bmi\", \"bmi\", \"bmi\", \"bmi\", \"bmi\", \"bmi\", \"bmi\", \"bmi\", \"bmi\", \"bmi\", \"bmi\", \"bmi\", \"bmi\", \"bmi\", \"bmi\", \"bmi\", \"bmi\", \"bmi\", \"bmi\", \"bmi\", \"bmi\", \"bmi\", \"bmi\", \"bmi\", \"bmi\", \"bmi\", \"bmi\", \"bmi\", \"bmi\", \"bmi\", \"bmi\", \"bmi\", \"bmi\", \"bmi\", \"bmi\", \"bmi\", \"bmi\", \"bmi\", \"bmi\", \"bmi\", \"bmi\", \"bmi\", \"bmi\", \"bmi\", \"bmi\", \"bmi\", \"bmi\", \"bmi\", \"bmi\", \"bmi\", \"bmi\", \"bmi\", \"bmi\", \"bmi\", \"bmi\", \"bmi\", \"bmi\", \"bmi\", \"bmi\", \"bmi\", \"bmi\", \"bmi\", \"bmi\", \"bmi\", \"bmi\", \"bmi\", \"bmi\", \"bmi\", \"bmi\", \"bmi\", \"bmi\", \"bmi\", \"bmi\", \"bmi\", \"bmi\", \"bmi\", \"bmi\", \"bmi\", \"bmi\", \"bmi\", \"bmi\", \"bmi\", \"bmi\", \"bmi\", \"bmi\", \"bmi\", \"bmi\", \"bmi\", \"bmi\", \"bmi\", \"bmi\", \"bmi\", \"bmi\", \"bmi\", \"bmi\", \"bmi\", \"bmi\", \"bmi\", \"bmi\", \"bmi\", \"bmi\"], \"yaxis\": \"y2\"}],                        {\"barmode\": \"overlay\", \"hovermode\": \"closest\", \"legend\": {\"traceorder\": \"reversed\"}, \"template\": {\"data\": {\"bar\": [{\"error_x\": {\"color\": \"#2a3f5f\"}, \"error_y\": {\"color\": \"#2a3f5f\"}, \"marker\": {\"line\": {\"color\": \"#E5ECF6\", \"width\": 0.5}}, \"type\": \"bar\"}], \"barpolar\": [{\"marker\": {\"line\": {\"color\": \"#E5ECF6\", \"width\": 0.5}}, \"type\": \"barpolar\"}], \"carpet\": [{\"aaxis\": {\"endlinecolor\": \"#2a3f5f\", \"gridcolor\": \"white\", \"linecolor\": \"white\", \"minorgridcolor\": \"white\", \"startlinecolor\": \"#2a3f5f\"}, \"baxis\": {\"endlinecolor\": \"#2a3f5f\", \"gridcolor\": \"white\", \"linecolor\": \"white\", \"minorgridcolor\": \"white\", \"startlinecolor\": \"#2a3f5f\"}, \"type\": \"carpet\"}], \"choropleth\": [{\"colorbar\": {\"outlinewidth\": 0, \"ticks\": \"\"}, \"type\": \"choropleth\"}], \"contour\": [{\"colorbar\": {\"outlinewidth\": 0, \"ticks\": \"\"}, \"colorscale\": [[0.0, \"#0d0887\"], [0.1111111111111111, \"#46039f\"], [0.2222222222222222, \"#7201a8\"], [0.3333333333333333, \"#9c179e\"], [0.4444444444444444, \"#bd3786\"], [0.5555555555555556, \"#d8576b\"], [0.6666666666666666, \"#ed7953\"], [0.7777777777777778, \"#fb9f3a\"], [0.8888888888888888, \"#fdca26\"], [1.0, \"#f0f921\"]], \"type\": \"contour\"}], \"contourcarpet\": [{\"colorbar\": {\"outlinewidth\": 0, \"ticks\": \"\"}, \"type\": \"contourcarpet\"}], \"heatmap\": [{\"colorbar\": {\"outlinewidth\": 0, \"ticks\": \"\"}, \"colorscale\": [[0.0, \"#0d0887\"], [0.1111111111111111, \"#46039f\"], [0.2222222222222222, \"#7201a8\"], [0.3333333333333333, \"#9c179e\"], [0.4444444444444444, \"#bd3786\"], [0.5555555555555556, \"#d8576b\"], [0.6666666666666666, \"#ed7953\"], [0.7777777777777778, \"#fb9f3a\"], [0.8888888888888888, \"#fdca26\"], [1.0, \"#f0f921\"]], \"type\": \"heatmap\"}], \"heatmapgl\": [{\"colorbar\": {\"outlinewidth\": 0, \"ticks\": \"\"}, \"colorscale\": [[0.0, \"#0d0887\"], [0.1111111111111111, \"#46039f\"], [0.2222222222222222, \"#7201a8\"], [0.3333333333333333, \"#9c179e\"], [0.4444444444444444, \"#bd3786\"], [0.5555555555555556, \"#d8576b\"], [0.6666666666666666, \"#ed7953\"], [0.7777777777777778, \"#fb9f3a\"], [0.8888888888888888, \"#fdca26\"], [1.0, \"#f0f921\"]], \"type\": \"heatmapgl\"}], \"histogram\": [{\"marker\": {\"colorbar\": {\"outlinewidth\": 0, \"ticks\": \"\"}}, \"type\": \"histogram\"}], \"histogram2d\": [{\"colorbar\": {\"outlinewidth\": 0, \"ticks\": \"\"}, \"colorscale\": [[0.0, \"#0d0887\"], [0.1111111111111111, \"#46039f\"], [0.2222222222222222, \"#7201a8\"], [0.3333333333333333, \"#9c179e\"], [0.4444444444444444, \"#bd3786\"], [0.5555555555555556, \"#d8576b\"], [0.6666666666666666, \"#ed7953\"], [0.7777777777777778, \"#fb9f3a\"], [0.8888888888888888, \"#fdca26\"], [1.0, \"#f0f921\"]], \"type\": \"histogram2d\"}], \"histogram2dcontour\": [{\"colorbar\": {\"outlinewidth\": 0, \"ticks\": \"\"}, \"colorscale\": [[0.0, \"#0d0887\"], [0.1111111111111111, \"#46039f\"], [0.2222222222222222, \"#7201a8\"], [0.3333333333333333, \"#9c179e\"], [0.4444444444444444, \"#bd3786\"], [0.5555555555555556, \"#d8576b\"], [0.6666666666666666, \"#ed7953\"], [0.7777777777777778, \"#fb9f3a\"], [0.8888888888888888, \"#fdca26\"], [1.0, \"#f0f921\"]], \"type\": \"histogram2dcontour\"}], \"mesh3d\": [{\"colorbar\": {\"outlinewidth\": 0, \"ticks\": \"\"}, \"type\": \"mesh3d\"}], \"parcoords\": [{\"line\": {\"colorbar\": {\"outlinewidth\": 0, \"ticks\": \"\"}}, \"type\": \"parcoords\"}], \"pie\": [{\"automargin\": true, \"type\": \"pie\"}], \"scatter\": [{\"marker\": {\"colorbar\": {\"outlinewidth\": 0, \"ticks\": \"\"}}, \"type\": \"scatter\"}], \"scatter3d\": [{\"line\": {\"colorbar\": {\"outlinewidth\": 0, \"ticks\": \"\"}}, \"marker\": {\"colorbar\": {\"outlinewidth\": 0, \"ticks\": \"\"}}, \"type\": \"scatter3d\"}], \"scattercarpet\": [{\"marker\": {\"colorbar\": {\"outlinewidth\": 0, \"ticks\": \"\"}}, \"type\": \"scattercarpet\"}], \"scattergeo\": [{\"marker\": {\"colorbar\": {\"outlinewidth\": 0, \"ticks\": \"\"}}, \"type\": \"scattergeo\"}], \"scattergl\": [{\"marker\": {\"colorbar\": {\"outlinewidth\": 0, \"ticks\": \"\"}}, \"type\": \"scattergl\"}], \"scattermapbox\": [{\"marker\": {\"colorbar\": {\"outlinewidth\": 0, \"ticks\": \"\"}}, \"type\": \"scattermapbox\"}], \"scatterpolar\": [{\"marker\": {\"colorbar\": {\"outlinewidth\": 0, \"ticks\": \"\"}}, \"type\": \"scatterpolar\"}], \"scatterpolargl\": [{\"marker\": {\"colorbar\": {\"outlinewidth\": 0, \"ticks\": \"\"}}, \"type\": \"scatterpolargl\"}], \"scatterternary\": [{\"marker\": {\"colorbar\": {\"outlinewidth\": 0, \"ticks\": \"\"}}, \"type\": \"scatterternary\"}], \"surface\": [{\"colorbar\": {\"outlinewidth\": 0, \"ticks\": \"\"}, \"colorscale\": [[0.0, \"#0d0887\"], [0.1111111111111111, \"#46039f\"], [0.2222222222222222, \"#7201a8\"], [0.3333333333333333, \"#9c179e\"], [0.4444444444444444, \"#bd3786\"], [0.5555555555555556, \"#d8576b\"], [0.6666666666666666, \"#ed7953\"], [0.7777777777777778, \"#fb9f3a\"], [0.8888888888888888, \"#fdca26\"], [1.0, \"#f0f921\"]], \"type\": \"surface\"}], \"table\": [{\"cells\": {\"fill\": {\"color\": \"#EBF0F8\"}, \"line\": {\"color\": \"white\"}}, \"header\": {\"fill\": {\"color\": \"#C8D4E3\"}, \"line\": {\"color\": \"white\"}}, \"type\": \"table\"}]}, \"layout\": {\"annotationdefaults\": {\"arrowcolor\": \"#2a3f5f\", \"arrowhead\": 0, \"arrowwidth\": 1}, \"autotypenumbers\": \"strict\", \"coloraxis\": {\"colorbar\": {\"outlinewidth\": 0, \"ticks\": \"\"}}, \"colorscale\": {\"diverging\": [[0, \"#8e0152\"], [0.1, \"#c51b7d\"], [0.2, \"#de77ae\"], [0.3, \"#f1b6da\"], [0.4, \"#fde0ef\"], [0.5, \"#f7f7f7\"], [0.6, \"#e6f5d0\"], [0.7, \"#b8e186\"], [0.8, \"#7fbc41\"], [0.9, \"#4d9221\"], [1, \"#276419\"]], \"sequential\": [[0.0, \"#0d0887\"], [0.1111111111111111, \"#46039f\"], [0.2222222222222222, \"#7201a8\"], [0.3333333333333333, \"#9c179e\"], [0.4444444444444444, \"#bd3786\"], [0.5555555555555556, \"#d8576b\"], [0.6666666666666666, \"#ed7953\"], [0.7777777777777778, \"#fb9f3a\"], [0.8888888888888888, \"#fdca26\"], [1.0, \"#f0f921\"]], \"sequentialminus\": [[0.0, \"#0d0887\"], [0.1111111111111111, \"#46039f\"], [0.2222222222222222, \"#7201a8\"], [0.3333333333333333, \"#9c179e\"], [0.4444444444444444, \"#bd3786\"], [0.5555555555555556, \"#d8576b\"], [0.6666666666666666, \"#ed7953\"], [0.7777777777777778, \"#fb9f3a\"], [0.8888888888888888, \"#fdca26\"], [1.0, \"#f0f921\"]]}, \"colorway\": [\"#636efa\", \"#EF553B\", \"#00cc96\", \"#ab63fa\", \"#FFA15A\", \"#19d3f3\", \"#FF6692\", \"#B6E880\", \"#FF97FF\", \"#FECB52\"], \"font\": {\"color\": \"#2a3f5f\"}, \"geo\": {\"bgcolor\": \"white\", \"lakecolor\": \"white\", \"landcolor\": \"#E5ECF6\", \"showlakes\": true, \"showland\": true, \"subunitcolor\": \"white\"}, \"hoverlabel\": {\"align\": \"left\"}, \"hovermode\": \"closest\", \"mapbox\": {\"style\": \"light\"}, \"paper_bgcolor\": \"white\", \"plot_bgcolor\": \"#E5ECF6\", \"polar\": {\"angularaxis\": {\"gridcolor\": \"white\", \"linecolor\": \"white\", \"ticks\": \"\"}, \"bgcolor\": \"#E5ECF6\", \"radialaxis\": {\"gridcolor\": \"white\", \"linecolor\": \"white\", \"ticks\": \"\"}}, \"scene\": {\"xaxis\": {\"backgroundcolor\": \"#E5ECF6\", \"gridcolor\": \"white\", \"gridwidth\": 2, \"linecolor\": \"white\", \"showbackground\": true, \"ticks\": \"\", \"zerolinecolor\": \"white\"}, \"yaxis\": {\"backgroundcolor\": \"#E5ECF6\", \"gridcolor\": \"white\", \"gridwidth\": 2, \"linecolor\": \"white\", \"showbackground\": true, \"ticks\": \"\", \"zerolinecolor\": \"white\"}, \"zaxis\": {\"backgroundcolor\": \"#E5ECF6\", \"gridcolor\": \"white\", \"gridwidth\": 2, \"linecolor\": \"white\", \"showbackground\": true, \"ticks\": \"\", \"zerolinecolor\": \"white\"}}, \"shapedefaults\": {\"line\": {\"color\": \"#2a3f5f\"}}, \"ternary\": {\"aaxis\": {\"gridcolor\": \"white\", \"linecolor\": \"white\", \"ticks\": \"\"}, \"baxis\": {\"gridcolor\": \"white\", \"linecolor\": \"white\", \"ticks\": \"\"}, \"bgcolor\": \"#E5ECF6\", \"caxis\": {\"gridcolor\": \"white\", \"linecolor\": \"white\", \"ticks\": \"\"}}, \"title\": {\"x\": 0.05}, \"xaxis\": {\"automargin\": true, \"gridcolor\": \"white\", \"linecolor\": \"white\", \"ticks\": \"\", \"title\": {\"standoff\": 15}, \"zerolinecolor\": \"white\", \"zerolinewidth\": 2}, \"yaxis\": {\"automargin\": true, \"gridcolor\": \"white\", \"linecolor\": \"white\", \"ticks\": \"\", \"title\": {\"standoff\": 15}, \"zerolinecolor\": \"white\", \"zerolinewidth\": 2}}}, \"xaxis\": {\"anchor\": \"y2\", \"domain\": [0.0, 1.0], \"zeroline\": false}, \"yaxis\": {\"anchor\": \"free\", \"domain\": [0.35, 1], \"position\": 0.0}, \"yaxis2\": {\"anchor\": \"x\", \"domain\": [0, 0.25], \"dtick\": 1, \"showticklabels\": false}},                        {\"responsive\": true}                    ).then(function(){\n",
       "                            \n",
       "var gd = document.getElementById('e4d8a6ee-6953-4b23-9170-47d81bcba7d4');\n",
       "var x = new MutationObserver(function (mutations, observer) {{\n",
       "        var display = window.getComputedStyle(gd).display;\n",
       "        if (!display || display === 'none') {{\n",
       "            console.log([gd, 'removed!']);\n",
       "            Plotly.purge(gd);\n",
       "            observer.disconnect();\n",
       "        }}\n",
       "}});\n",
       "\n",
       "// Listen for the removal of the full notebook cells\n",
       "var notebookContainer = gd.closest('#notebook-container');\n",
       "if (notebookContainer) {{\n",
       "    x.observe(notebookContainer, {childList: true});\n",
       "}}\n",
       "\n",
       "// Listen for the clearing of the current output cell\n",
       "var outputEl = gd.closest('.output');\n",
       "if (outputEl) {{\n",
       "    x.observe(outputEl, {childList: true});\n",
       "}}\n",
       "\n",
       "                        })                };                });            </script>        </div>"
      ]
     },
     "metadata": {},
     "output_type": "display_data"
    }
   ],
   "source": [
    "bmi = list(df['bmi'].values)\n",
    "hist_data = [bmi]\n",
    "group_labels = [\"bmi\"]\n",
    "colors = ['Red']\n",
    "fig = ff.create_distplot(hist_data,group_labels,show_hist = True,colors=colors)\n",
    "fig.show()\n"
   ]
  },
  {
   "cell_type": "markdown",
   "id": "bibliographic-metabolism",
   "metadata": {
    "papermill": {
     "duration": 0.068234,
     "end_time": "2021-05-13T12:01:29.536084",
     "exception": false,
     "start_time": "2021-05-13T12:01:29.467850",
     "status": "completed"
    },
    "tags": []
   },
   "source": [
    "**Observation:**\n",
    "\n",
    "* There are a lot of outliers in bmi\n",
    "* The outliers make the distribution curve highly skewed towards right\n",
    "* Either the outliers can be removed or the distribution curve can be made less-skewed by mapping the values with a log but both cases will lead to loss of the number of datapoints with Stroke = 1"
   ]
  },
  {
   "cell_type": "code",
   "execution_count": 22,
   "id": "furnished-evans",
   "metadata": {
    "execution": {
     "iopub.execute_input": "2021-05-13T12:01:29.676781Z",
     "iopub.status.busy": "2021-05-13T12:01:29.676139Z",
     "iopub.status.idle": "2021-05-13T12:01:29.683885Z",
     "shell.execute_reply": "2021-05-13T12:01:29.684461Z"
    },
    "papermill": {
     "duration": 0.079931,
     "end_time": "2021-05-13T12:01:29.684639",
     "exception": false,
     "start_time": "2021-05-13T12:01:29.604708",
     "status": "completed"
    },
    "tags": []
   },
   "outputs": [
    {
     "data": {
      "text/plain": [
       "Female    2994\n",
       "Male      2115\n",
       "Other        1\n",
       "Name: gender, dtype: int64"
      ]
     },
     "execution_count": 22,
     "metadata": {},
     "output_type": "execute_result"
    }
   ],
   "source": [
    "df['gender'].value_counts()\n"
   ]
  },
  {
   "cell_type": "markdown",
   "id": "prime-training",
   "metadata": {
    "papermill": {
     "duration": 0.071534,
     "end_time": "2021-05-13T12:01:29.826355",
     "exception": false,
     "start_time": "2021-05-13T12:01:29.754821",
     "status": "completed"
    },
    "tags": []
   },
   "source": [
    "**Observation:** Since there is only one 'Other' category in gender, we should remove it from our data."
   ]
  },
  {
   "cell_type": "code",
   "execution_count": 23,
   "id": "duplicate-training",
   "metadata": {
    "execution": {
     "iopub.execute_input": "2021-05-13T12:01:29.969002Z",
     "iopub.status.busy": "2021-05-13T12:01:29.968378Z",
     "iopub.status.idle": "2021-05-13T12:01:29.978264Z",
     "shell.execute_reply": "2021-05-13T12:01:29.978703Z"
    },
    "papermill": {
     "duration": 0.082856,
     "end_time": "2021-05-13T12:01:29.978881",
     "exception": false,
     "start_time": "2021-05-13T12:01:29.896025",
     "status": "completed"
    },
    "tags": []
   },
   "outputs": [
    {
     "data": {
      "text/plain": [
       "array(['Male', 'Female'], dtype=object)"
      ]
     },
     "execution_count": 23,
     "metadata": {},
     "output_type": "execute_result"
    }
   ],
   "source": [
    "df.drop(df[df['gender'] == 'Other'].index, inplace = True)\n",
    "df['gender'].unique()"
   ]
  },
  {
   "cell_type": "code",
   "execution_count": 24,
   "id": "isolated-hawaiian",
   "metadata": {
    "execution": {
     "iopub.execute_input": "2021-05-13T12:01:30.123377Z",
     "iopub.status.busy": "2021-05-13T12:01:30.122665Z",
     "iopub.status.idle": "2021-05-13T12:01:30.133978Z",
     "shell.execute_reply": "2021-05-13T12:01:30.133392Z"
    },
    "papermill": {
     "duration": 0.084889,
     "end_time": "2021-05-13T12:01:30.134146",
     "exception": false,
     "start_time": "2021-05-13T12:01:30.049257",
     "status": "completed"
    },
    "tags": []
   },
   "outputs": [
    {
     "name": "stdout",
     "output_type": "stream",
     "text": [
      "The shape before removing the BMI outliers :  (5109, 15)\n",
      "The shape after removing the BMI outliers :  (4992, 15)\n"
     ]
    }
   ],
   "source": [
    "print(\"The shape before removing the BMI outliers : \",df.shape)\n",
    "df.drop(df[df['bmi'] > 47].index, inplace = True)\n",
    "print(\"The shape after removing the BMI outliers : \",df.shape)"
   ]
  },
  {
   "cell_type": "markdown",
   "id": "matched-collaboration",
   "metadata": {
    "papermill": {
     "duration": 0.070571,
     "end_time": "2021-05-13T12:01:30.277118",
     "exception": false,
     "start_time": "2021-05-13T12:01:30.206547",
     "status": "completed"
    },
    "tags": []
   },
   "source": [
    "**Observation:** The outliers of BMI index have been removed. Let us plot the distribution to see if it is still skewed."
   ]
  },
  {
   "cell_type": "code",
   "execution_count": 25,
   "id": "logical-effect",
   "metadata": {
    "execution": {
     "iopub.execute_input": "2021-05-13T12:01:30.509027Z",
     "iopub.status.busy": "2021-05-13T12:01:30.483246Z",
     "iopub.status.idle": "2021-05-13T12:01:30.625003Z",
     "shell.execute_reply": "2021-05-13T12:01:30.625549Z"
    },
    "papermill": {
     "duration": 0.277633,
     "end_time": "2021-05-13T12:01:30.625751",
     "exception": false,
     "start_time": "2021-05-13T12:01:30.348118",
     "status": "completed"
    },
    "tags": []
   },
   "outputs": [
    {
     "data": {
      "text/html": [
       "<div>                            <div id=\"cf905e5f-6297-4815-ab11-e94bfb399a43\" class=\"plotly-graph-div\" style=\"height:525px; width:100%;\"></div>            <script type=\"text/javascript\">                require([\"plotly\"], function(Plotly) {                    window.PLOTLYENV=window.PLOTLYENV || {};                                    if (document.getElementById(\"cf905e5f-6297-4815-ab11-e94bfb399a43\")) {                    Plotly.newPlot(                        \"cf905e5f-6297-4815-ab11-e94bfb399a43\",                        [{\"autobinx\": false, \"histnorm\": \"probability density\", \"legendgroup\": \"bmi\", \"marker\": {\"color\": \"Red\"}, \"name\": \"bmi\", \"opacity\": 0.7, \"type\": \"histogram\", \"x\": [36.6, 28.893236911794666, 32.5, 34.4, 24.0, 29.0, 27.4, 22.8, 28.893236911794666, 24.2, 29.7, 36.8, 27.3, 28.893236911794666, 28.2, 30.9, 37.5, 25.8, 37.8, 28.893236911794666, 22.4, 26.6, 32.5, 27.2, 23.5, 28.2, 28.893236911794666, 28.3, 28.893236911794666, 44.2, 25.4, 22.2, 30.5, 29.7, 26.5, 33.7, 23.1, 32.0, 29.9, 23.9, 28.5, 26.4, 28.893236911794666, 20.2, 33.6, 28.893236911794666, 38.6, 33.7, 39.2, 28.893236911794666, 28.893236911794666, 27.7, 31.4, 28.893236911794666, 36.5, 33.2, 28.893236911794666, 32.8, 27.7, 40.4, 22.2, 25.3, 30.2, 28.893236911794666, 24.0, 20.3, 30.0, 28.9, 28.893236911794666, 28.1, 31.1, 27.4, 26.4, 21.7, 27.0, 24.1, 28.893236911794666, 45.9, 44.1, 28.893236911794666, 22.9, 29.7, 28.893236911794666, 29.1, 27.3, 32.3, 41.1, 25.6, 29.8, 26.3, 37.5, 26.2, 29.4, 32.3, 24.4, 31.4, 27.7, 28.0, 28.8, 31.4, 34.6, 19.4, 28.5, 28.893236911794666, 30.3, 40.4, 24.2, 41.5, 22.6, 24.2, 28.893236911794666, 27.1, 30.9, 27.3, 31.3, 24.0, 31.0, 28.0, 30.3, 31.7, 35.8, 28.893236911794666, 28.4, 28.893236911794666, 24.0, 29.0, 28.893236911794666, 36.5, 20.1, 36.5, 28.893236911794666, 26.7, 38.7, 29.9, 34.9, 27.0, 26.6, 25.0, 23.8, 21.8, 36.8, 30.0, 27.5, 28.893236911794666, 24.6, 32.9, 26.1, 28.893236911794666, 31.9, 34.1, 27.5, 25.6, 36.9, 31.4, 37.3, 34.1, 25.0, 28.893236911794666, 28.893236911794666, 28.893236911794666, 45.7, 34.2, 23.6, 27.3, 28.893236911794666, 22.3, 31.4, 28.893236911794666, 28.893236911794666, 26.4, 32.9, 28.893236911794666, 37.1, 45.0, 25.5, 28.893236911794666, 26.1, 30.8, 32.0, 29.9, 28.893236911794666, 37.4, 31.7, 34.5, 27.9, 29.5, 28.893236911794666, 46.0, 42.5, 35.5, 31.1, 26.9, 35.8, 45.5, 28.5, 28.893236911794666, 26.6, 28.893236911794666, 31.5, 32.0, 30.8, 31.1, 33.0, 23.4, 26.9, 33.6, 23.9, 26.3, 27.3, 30.7, 20.5, 21.5, 31.0, 27.1, 40.0, 28.893236911794666, 28.6, 28.1, 28.4, 42.2, 25.8, 31.9, 31.0, 27.5, 28.893236911794666, 29.6, 35.4, 16.9, 21.5, 34.4, 28.0, 26.8, 39.3, 31.7, 32.6, 28.4, 35.9, 21.2, 34.5, 42.4, 40.5, 36.7, 30.9, 29.3, 28.893236911794666, 19.6, 18.0, 39.2, 17.6, 35.9, 19.1, 17.7, 27.0, 32.3, 35.0, 22.0, 39.4, 26.1, 42.4, 33.0, 19.7, 22.5, 24.6, 25.2, 41.8, 31.5, 27.3, 23.7, 24.5, 28.4, 26.9, 26.7, 31.2, 25.0, 25.4, 27.5, 16.0, 27.0, 31.6, 25.1, 30.9, 24.8, 23.4, 29.4, 18.3, 20.0, 19.5, 36.0, 27.7, 27.5, 28.5, 26.8, 33.6, 29.1, 28.5, 34.9, 25.1, 35.3, 26.4, 31.5, 40.1, 43.1, 36.7, 29.3, 21.2, 31.2, 21.4, 27.9, 34.3, 31.0, 27.7, 36.0, 38.7, 27.6, 25.1, 16.5, 22.8, 35.4, 24.3, 34.3, 40.1, 25.7, 21.9, 38.4, 26.1, 30.5, 25.9, 29.9, 18.6, 27.1, 24.9, 25.2, 19.4, 29.0, 28.893236911794666, 34.6, 24.6, 25.8, 26.1, 29.0, 27.2, 20.7, 30.0, 37.3, 34.1, 23.6, 25.2, 39.5, 23.5, 23.3, 28.1, 28.893236911794666, 24.4, 29.8, 24.9, 35.1, 32.3, 43.6, 21.0, 16.6, 37.5, 24.2, 31.6, 21.6, 31.0, 31.1, 15.5, 27.3, 20.5, 35.6, 16.7, 41.8, 41.9, 16.4, 17.1, 29.2, 27.1, 37.9, 44.6, 22.8, 33.2, 22.3, 26.4, 39.6, 28.1, 39.2, 36.0, 37.8, 40.3, 41.5, 17.7, 21.2, 41.6, 23.8, 23.7, 24.8, 39.0, 37.9, 31.1, 23.2, 18.9, 36.1, 36.3, 40.5, 25.4, 46.5, 16.8, 46.6, 26.4, 26.2, 35.2, 20.9, 36.8, 34.4, 22.2, 13.8, 40.3, 28.4, 31.7, 34.2, 24.6, 28.893236911794666, 36.9, 31.1, 31.9, 31.8, 18.0, 28.5, 29.5, 22.0, 29.4, 28.8, 26.2, 26.9, 23.2, 27.9, 36.8, 28.9, 31.0, 29.4, 15.3, 37.1, 30.5, 38.2, 23.2, 30.2, 45.2, 21.8, 24.4, 17.0, 19.5, 27.8, 25.1, 26.8, 27.5, 28.1, 27.3, 27.4, 22.2, 22.9, 26.6, 23.0, 32.6, 22.1, 28.893236911794666, 22.5, 28.893236911794666, 25.5, 31.4, 26.0, 20.0, 31.6, 31.2, 21.7, 24.2, 25.0, 36.7, 28.9, 29.7, 44.3, 39.7, 34.7, 35.0, 21.3, 29.1, 23.9, 36.0, 41.2, 27.1, 33.2, 25.4, 30.7, 34.8, 19.2, 31.7, 35.7, 37.8, 29.7, 35.8, 23.6, 39.7, 40.5, 21.4, 40.8, 24.7, 21.0, 45.0, 26.2, 28.893236911794666, 28.3, 41.6, 19.0, 32.4, 34.0, 39.4, 28.7, 31.8, 31.2, 20.9, 32.1, 31.0, 23.1, 26.7, 27.9, 27.3, 20.4, 29.6, 30.6, 33.6, 24.2, 17.7, 22.6, 28.1, 26.5, 28.7, 39.5, 35.1, 27.9, 19.3, 28.4, 26.7, 40.9, 17.2, 28.3, 16.1, 27.6, 16.5, 35.8, 16.2, 24.6, 32.0, 35.3, 19.2, 40.4, 30.7, 24.3, 26.4, 34.7, 31.7, 35.6, 22.8, 28.0, 35.6, 40.6, 29.3, 21.0, 20.0, 26.7, 18.4, 34.5, 27.7, 21.1, 24.4, 19.4, 42.3, 32.2, 26.8, 25.4, 23.5, 26.1, 17.5, 24.2, 30.8, 23.4, 30.9, 23.6, 18.7, 27.7, 16.7, 31.2, 17.0, 29.8, 19.7, 29.1, 27.2, 22.3, 27.0, 42.1, 34.2, 40.9, 29.4, 32.8, 21.9, 39.6, 28.3, 39.3, 28.0, 27.1, 31.2, 23.1, 20.8, 34.1, 30.1, 35.8, 34.6, 29.8, 26.7, 30.2, 29.7, 23.3, 35.6, 27.0, 21.6, 29.4, 22.8, 17.3, 29.8, 36.4, 34.7, 28.7, 26.7, 22.1, 27.7, 40.5, 23.0, 25.3, 22.1, 28.0, 12.0, 28.4, 29.6, 36.2, 22.8, 24.3, 26.9, 25.3, 35.3, 18.3, 28.893236911794666, 26.0, 21.0, 28.893236911794666, 27.6, 20.5, 30.2, 21.9, 28.8, 36.2, 25.9, 28.893236911794666, 21.4, 20.4, 31.6, 14.4, 23.7, 30.2, 19.5, 32.6, 34.2, 43.0, 42.2, 19.7, 41.7, 21.6, 24.2, 19.2, 25.8, 23.2, 20.8, 28.4, 30.2, 23.1, 16.7, 39.5, 33.8, 34.6, 25.0, 43.9, 27.1, 25.9, 22.7, 27.1, 25.6, 28.4, 35.8, 19.5, 31.2, 43.6, 31.2, 23.5, 18.7, 24.4, 29.4, 37.0, 29.4, 38.5, 23.5, 28.893236911794666, 16.3, 35.9, 35.9, 20.3, 32.3, 27.9, 22.3, 31.8, 29.7, 27.1, 24.5, 28.9, 28.893236911794666, 24.6, 31.6, 32.3, 41.1, 30.0, 26.4, 30.0, 20.8, 44.0, 30.6, 17.2, 29.1, 27.4, 23.5, 31.8, 23.5, 28.5, 32.7, 25.6, 41.2, 27.0, 21.3, 34.3, 29.5, 31.6, 26.1, 27.5, 26.5, 33.2, 40.2, 32.5, 23.4, 32.5, 23.9, 29.5, 24.0, 17.7, 26.2, 33.3, 17.4, 29.0, 21.7, 37.8, 41.8, 24.2, 31.1, 23.1, 25.1, 41.3, 22.7, 24.0, 20.5, 20.4, 27.6, 27.0, 26.4, 34.9, 35.0, 28.5, 32.3, 23.9, 26.4, 20.9, 23.3, 32.7, 26.5, 27.9, 30.3, 27.6, 14.6, 40.9, 28.4, 23.7, 27.9, 25.2, 34.4, 36.7, 22.2, 27.2, 27.3, 27.3, 42.2, 26.4, 39.4, 34.8, 20.0, 34.1, 31.4, 17.8, 46.1, 28.1, 24.7, 22.7, 34.6, 21.4, 27.4, 36.6, 32.9, 24.7, 21.4, 33.1, 26.7, 24.4, 25.8, 34.3, 18.1, 43.8, 26.9, 36.6, 24.9, 27.6, 20.9, 30.3, 37.4, 35.9, 31.5, 24.4, 38.9, 28.6, 28.893236911794666, 27.5, 28.893236911794666, 43.7, 27.0, 29.3, 34.7, 28.893236911794666, 39.9, 26.7, 24.8, 29.7, 15.9, 31.4, 28.893236911794666, 27.8, 35.5, 31.7, 33.2, 27.7, 31.9, 25.8, 27.7, 23.4, 24.3, 30.3, 29.1, 20.1, 21.2, 31.6, 41.6, 36.4, 30.5, 32.8, 32.3, 30.1, 34.7, 29.7, 28.893236911794666, 31.3, 35.6, 35.2, 27.6, 35.2, 28.1, 31.8, 23.3, 28.8, 19.5, 30.0, 25.5, 28.8, 40.2, 32.9, 22.4, 36.9, 19.8, 12.3, 32.4, 24.8, 16.4, 35.9, 23.0, 30.5, 26.8, 35.3, 27.9, 22.1, 38.3, 41.0, 28.893236911794666, 22.8, 30.1, 20.8, 31.7, 30.1, 30.8, 42.6, 37.1, 34.2, 43.4, 18.7, 34.0, 23.2, 41.7, 15.1, 20.6, 18.9, 26.6, 30.1, 32.1, 15.1, 33.5, 23.4, 43.2, 19.1, 26.1, 17.3, 32.1, 28.893236911794666, 30.4, 29.9, 32.8, 22.7, 28.7, 35.2, 22.4, 32.3, 18.6, 42.1, 38.0, 22.3, 33.4, 23.2, 18.0, 20.1, 19.2, 28.7, 28.1, 22.6, 18.0, 21.4, 27.8, 27.6, 32.2, 24.9, 27.1, 24.6, 24.6, 18.9, 16.3, 31.8, 21.0, 20.1, 29.1, 32.3, 29.4, 44.9, 28.5, 19.5, 45.0, 22.8, 25.5, 31.5, 31.6, 31.0, 29.5, 23.1, 30.7, 44.7, 33.5, 25.9, 28.3, 26.8, 27.8, 36.0, 22.1, 38.4, 30.1, 26.2, 26.6, 32.6, 27.0, 25.3, 31.9, 18.4, 30.4, 28.2, 35.7, 35.0, 27.2, 23.0, 25.0, 24.5, 30.9, 26.0, 27.2, 30.4, 21.7, 29.1, 17.6, 29.2, 28.1, 26.6, 26.9, 36.2, 25.9, 40.9, 31.5, 23.3, 37.6, 39.8, 35.1, 21.9, 34.4, 24.0, 29.3, 26.0, 31.3, 31.0, 26.5, 16.0, 21.1, 42.2, 27.7, 23.6, 18.3, 44.3, 27.3, 44.7, 33.1, 30.0, 40.1, 23.1, 30.3, 30.5, 22.8, 42.0, 29.9, 24.0, 36.7, 22.2, 25.5, 34.3, 16.0, 25.6, 23.3, 41.6, 35.6, 22.0, 26.8, 31.9, 19.7, 28.893236911794666, 31.1, 34.4, 33.2, 28.893236911794666, 21.6, 25.4, 41.6, 33.1, 21.8, 30.0, 35.2, 35.6, 28.893236911794666, 27.8, 29.3, 37.2, 26.1, 21.6, 22.7, 30.2, 18.0, 27.8, 23.5, 41.2, 22.7, 29.2, 42.2, 24.0, 45.5, 19.4, 28.2, 20.1, 27.2, 26.5, 17.6, 42.8, 29.3, 21.3, 29.8, 24.1, 35.2, 18.8, 17.4, 31.5, 29.9, 27.3, 28.1, 28.9, 25.2, 24.3, 37.9, 28.2, 18.4, 23.1, 39.4, 29.5, 18.3, 28.7, 32.9, 26.7, 20.1, 17.6, 43.7, 41.1, 26.8, 31.2, 27.4, 25.1, 33.0, 30.7, 42.9, 14.3, 33.2, 43.0, 22.3, 32.8, 30.5, 36.0, 26.5, 20.1, 28.893236911794666, 28.1, 16.2, 30.0, 31.3, 26.7, 37.7, 35.8, 27.0, 20.7, 22.2, 28.893236911794666, 41.5, 33.5, 21.8, 22.1, 30.2, 38.7, 32.1, 41.3, 20.1, 22.1, 24.9, 23.0, 29.3, 22.8, 31.6, 19.4, 22.5, 31.6, 29.1, 28.893236911794666, 43.4, 26.5, 29.7, 21.8, 23.4, 23.0, 21.5, 14.6, 28.5, 29.0, 26.9, 29.6, 28.5, 25.5, 30.5, 23.0, 22.8, 31.4, 35.2, 23.3, 28.893236911794666, 31.2, 24.8, 25.8, 43.1, 28.893236911794666, 27.8, 21.4, 22.1, 31.8, 20.1, 29.1, 22.6, 25.1, 33.3, 15.9, 20.8, 19.5, 39.0, 23.1, 18.8, 36.3, 32.8, 35.8, 26.7, 26.3, 26.5, 43.7, 24.7, 46.2, 43.3, 30.9, 38.7, 28.6, 30.2, 30.5, 33.9, 28.6, 24.5, 28.893236911794666, 17.2, 27.2, 19.3, 18.5, 32.0, 44.5, 37.0, 30.8, 24.7, 18.3, 44.0, 27.6, 45.4, 28.5, 17.6, 28.893236911794666, 27.5, 32.8, 29.5, 36.4, 26.1, 35.3, 28.893236911794666, 18.1, 27.1, 23.0, 26.6, 28.893236911794666, 24.1, 30.3, 32.2, 26.5, 30.6, 25.8, 41.9, 29.2, 44.3, 29.1, 17.5, 31.9, 32.2, 26.0, 25.4, 27.9, 28.893236911794666, 32.8, 34.0, 25.5, 35.6, 28.3, 36.9, 22.1, 31.5, 26.7, 24.9, 32.4, 32.2, 30.3, 28.7, 24.1, 25.3, 24.8, 28.893236911794666, 34.8, 39.2, 24.7, 28.6, 27.7, 33.1, 27.3, 20.3, 33.9, 28.893236911794666, 28.3, 32.4, 19.7, 33.7, 35.5, 20.0, 16.3, 36.4, 28.1, 26.9, 29.4, 17.2, 26.5, 19.5, 30.6, 31.9, 26.6, 19.9, 18.0, 26.7, 25.3, 31.4, 21.1, 17.9, 27.5, 37.6, 24.1, 18.1, 31.0, 26.6, 38.7, 27.2, 27.8, 28.3, 27.5, 43.3, 20.1, 25.9, 25.8, 16.4, 29.4, 28.9, 26.7, 27.8, 38.7, 26.8, 36.1, 26.7, 27.0, 21.2, 21.0, 37.4, 26.5, 28.9, 29.5, 17.7, 34.9, 28.1, 36.8, 33.3, 29.2, 34.0, 33.9, 28.7, 21.1, 38.2, 27.7, 35.8, 27.1, 20.5, 35.6, 15.6, 43.0, 17.8, 28.893236911794666, 25.8, 20.5, 19.9, 24.4, 18.3, 35.1, 35.1, 37.1, 29.4, 31.7, 31.4, 33.1, 28.5, 24.0, 18.0, 27.6, 16.9, 16.4, 35.1, 28.8, 17.6, 21.3, 19.7, 37.3, 35.5, 25.5, 30.0, 21.9, 45.5, 28.893236911794666, 34.9, 19.3, 32.1, 26.9, 32.5, 19.5, 31.7, 21.0, 28.893236911794666, 20.3, 28.893236911794666, 21.5, 40.4, 28.893236911794666, 30.1, 40.2, 34.7, 25.9, 23.7, 34.3, 34.3, 26.3, 22.1, 33.3, 37.3, 20.5, 19.1, 34.7, 16.3, 28.0, 17.2, 41.1, 25.0, 27.5, 21.5, 15.1, 29.6, 30.2, 34.9, 30.7, 36.5, 21.5, 33.2, 22.3, 28.893236911794666, 27.3, 28.3, 31.9, 24.9, 32.7, 26.4, 24.8, 30.7, 25.4, 32.0, 24.4, 20.4, 29.5, 24.4, 22.8, 20.0, 36.3, 32.8, 34.4, 30.5, 29.7, 36.9, 34.2, 37.0, 28.893236911794666, 24.2, 30.6, 38.6, 32.8, 42.9, 25.9, 24.7, 35.8, 28.893236911794666, 31.2, 26.1, 30.8, 40.5, 25.2, 28.7, 28.893236911794666, 30.4, 15.2, 36.6, 34.5, 23.7, 35.7, 38.9, 40.0, 18.4, 29.0, 20.6, 28.2, 26.2, 34.8, 34.5, 30.6, 18.8, 29.1, 22.1, 28.9, 34.7, 20.3, 25.1, 18.2, 25.5, 34.4, 25.2, 32.5, 42.1, 19.5, 27.7, 25.1, 29.6, 32.9, 25.1, 24.7, 17.5, 20.8, 23.3, 22.8, 26.6, 25.5, 25.8, 25.4, 28.893236911794666, 20.2, 27.7, 23.1, 14.3, 23.3, 23.4, 22.8, 30.9, 28.4, 41.9, 34.3, 25.1, 10.3, 31.8, 31.8, 23.0, 25.4, 14.1, 35.1, 26.9, 33.0, 22.1, 20.8, 30.0, 44.0, 16.6, 28.4, 26.3, 39.4, 15.7, 34.1, 29.8, 23.6, 18.3, 28.3, 18.5, 18.4, 24.1, 25.5, 25.3, 39.9, 28.8, 37.2, 28.893236911794666, 34.3, 29.0, 28.893236911794666, 37.2, 28.893236911794666, 19.4, 26.2, 21.1, 28.893236911794666, 31.6, 29.3, 28.4, 35.3, 40.1, 39.0, 31.5, 28.5, 28.5, 28.6, 35.2, 32.5, 35.9, 25.1, 16.8, 27.9, 16.3, 28.893236911794666, 28.893236911794666, 21.4, 32.7, 23.6, 19.8, 33.1, 28.1, 38.9, 23.8, 33.8, 26.7, 28.893236911794666, 32.2, 28.1, 21.3, 44.0, 21.5, 37.3, 44.8, 21.4, 32.3, 35.4, 19.7, 31.3, 35.5, 25.8, 32.8, 35.9, 41.8, 27.3, 27.7, 13.4, 17.0, 20.0, 40.9, 38.5, 30.9, 33.4, 17.1, 28.6, 24.0, 32.0, 28.4, 20.3, 33.8, 43.2, 22.7, 29.9, 28.893236911794666, 28.893236911794666, 29.9, 22.7, 16.1, 33.8, 22.6, 25.5, 22.5, 27.9, 23.5, 32.2, 28.893236911794666, 29.9, 28.7, 37.2, 22.2, 26.6, 24.6, 41.7, 26.2, 27.1, 41.8, 34.2, 19.2, 25.2, 18.7, 43.0, 28.2, 34.7, 25.5, 39.8, 20.8, 28.2, 31.0, 28.893236911794666, 21.6, 26.2, 28.893236911794666, 26.0, 22.5, 24.0, 31.5, 36.3, 25.4, 32.2, 39.8, 18.6, 30.7, 16.4, 20.5, 28.7, 29.0, 24.4, 29.9, 25.3, 23.5, 20.5, 33.5, 22.0, 29.0, 28.893236911794666, 30.7, 37.4, 16.6, 29.5, 27.3, 27.5, 33.9, 27.9, 22.9, 32.1, 18.2, 30.2, 31.3, 20.3, 23.2, 30.8, 22.9, 42.8, 22.2, 28.7, 32.3, 24.2, 23.9, 34.2, 29.0, 29.9, 23.0, 17.3, 21.0, 34.3, 19.8, 24.3, 16.4, 32.6, 23.7, 28.893236911794666, 27.0, 25.6, 34.0, 24.9, 26.3, 43.1, 39.6, 15.2, 41.8, 20.1, 39.3, 28.3, 27.5, 33.9, 20.0, 34.8, 20.7, 24.6, 39.4, 28.893236911794666, 28.893236911794666, 29.4, 24.8, 32.3, 25.3, 39.0, 29.4, 31.9, 26.4, 20.6, 26.3, 23.6, 18.0, 26.4, 22.0, 30.5, 29.1, 24.9, 36.4, 31.2, 32.8, 31.6, 35.8, 35.2, 28.0, 24.9, 35.7, 30.7, 33.9, 28.893236911794666, 27.8, 23.2, 17.1, 31.6, 23.8, 29.6, 45.0, 25.6, 27.7, 25.5, 18.3, 21.0, 28.6, 23.5, 36.1, 29.2, 27.6, 36.0, 20.4, 19.9, 29.2, 27.9, 38.1, 24.1, 37.8, 29.1, 35.7, 28.893236911794666, 34.5, 34.1, 21.1, 22.2, 20.5, 26.2, 23.5, 29.1, 39.8, 21.2, 28.893236911794666, 20.2, 30.8, 33.8, 17.1, 21.3, 28.893236911794666, 22.3, 28.9, 26.7, 41.0, 16.7, 29.1, 23.6, 27.8, 31.4, 28.2, 30.8, 36.1, 32.7, 26.4, 20.7, 18.5, 33.5, 14.1, 23.4, 23.2, 36.0, 35.6, 21.8, 34.9, 20.4, 25.0, 22.3, 27.3, 28.9, 30.4, 36.9, 27.7, 44.4, 28.2, 35.0, 20.6, 26.5, 25.1, 22.2, 27.3, 27.3, 41.9, 38.8, 18.3, 19.5, 17.2, 20.8, 23.8, 24.7, 23.1, 22.4, 29.9, 20.0, 28.7, 26.2, 29.6, 30.8, 32.7, 21.8, 35.7, 25.4, 32.8, 21.1, 31.7, 20.0, 34.7, 28.0, 16.4, 28.893236911794666, 24.6, 24.6, 30.3, 23.7, 33.5, 24.9, 31.4, 18.4, 24.2, 34.3, 28.893236911794666, 25.1, 33.3, 22.6, 26.3, 29.7, 18.5, 21.4, 45.5, 34.2, 32.7, 38.1, 26.7, 22.6, 27.7, 20.7, 25.7, 17.3, 23.3, 16.2, 20.5, 33.6, 20.2, 26.2, 30.1, 25.1, 32.7, 26.4, 21.0, 24.1, 20.4, 30.9, 39.1, 27.7, 29.5, 30.3, 28.893236911794666, 37.8, 30.2, 24.2, 25.2, 22.2, 17.7, 29.6, 32.2, 28.7, 19.5, 38.5, 20.6, 21.5, 43.8, 18.0, 28.2, 26.6, 35.5, 30.7, 18.7, 22.4, 25.2, 24.2, 20.5, 24.5, 24.8, 42.6, 23.8, 42.3, 42.2, 26.1, 22.8, 42.3, 28.5, 23.0, 32.8, 23.8, 31.7, 34.9, 26.8, 21.3, 19.8, 42.4, 16.4, 28.2, 26.3, 17.0, 23.3, 25.1, 35.3, 36.3, 30.4, 43.9, 26.4, 28.3, 42.3, 38.0, 32.7, 28.8, 38.5, 30.1, 31.3, 28.4, 26.6, 20.4, 34.7, 32.5, 30.7, 29.6, 28.893236911794666, 39.4, 28.893236911794666, 26.1, 27.2, 41.3, 28.893236911794666, 20.9, 41.5, 31.1, 24.5, 23.0, 24.7, 19.3, 37.0, 31.0, 33.1, 26.6, 27.7, 40.3, 19.5, 26.7, 26.1, 38.2, 21.3, 40.9, 27.3, 20.9, 29.2, 17.9, 38.0, 26.1, 22.2, 24.6, 33.4, 34.4, 17.6, 19.2, 31.8, 28.1, 32.1, 17.4, 20.2, 23.4, 39.5, 21.5, 24.3, 15.3, 32.4, 16.1, 34.3, 43.8, 19.6, 36.7, 33.7, 38.9, 28.0, 23.9, 16.6, 42.9, 17.1, 27.2, 30.3, 33.9, 20.0, 19.4, 21.5, 28.5, 34.4, 43.7, 13.7, 33.7, 18.0, 27.9, 21.8, 35.8, 23.1, 30.3, 32.0, 25.0, 30.7, 24.3, 11.5, 30.7, 33.7, 26.5, 17.6, 28.893236911794666, 22.5, 18.5, 22.4, 25.3, 37.3, 39.7, 28.0, 41.4, 25.3, 28.1, 41.2, 28.8, 31.0, 28.3, 23.9, 44.2, 27.6, 35.7, 37.4, 27.5, 23.4, 25.8, 28.893236911794666, 22.8, 19.5, 38.0, 23.4, 29.5, 28.2, 14.2, 28.9, 31.4, 32.4, 22.0, 26.4, 26.1, 37.6, 18.8, 23.8, 23.8, 20.4, 40.3, 23.6, 34.3, 32.7, 28.7, 24.5, 24.8, 23.2, 23.0, 39.3, 20.1, 25.4, 23.8, 28.4, 15.4, 28.2, 26.0, 41.5, 32.2, 25.7, 33.0, 35.0, 27.4, 16.4, 31.5, 29.2, 25.9, 32.3, 28.893236911794666, 30.4, 45.1, 25.9, 36.6, 18.6, 27.5, 31.3, 37.5, 23.1, 35.0, 27.0, 29.8, 23.5, 31.8, 20.0, 29.4, 24.3, 45.4, 29.5, 28.893236911794666, 29.4, 29.1, 38.8, 23.4, 19.7, 20.3, 33.5, 36.7, 24.4, 38.8, 44.2, 33.4, 32.5, 15.1, 21.5, 30.4, 33.4, 18.2, 18.7, 38.4, 36.4, 20.6, 18.2, 17.0, 31.8, 33.0, 24.7, 28.1, 40.3, 35.2, 31.2, 37.6, 38.7, 28.893236911794666, 28.893236911794666, 28.1, 29.2, 31.1, 24.1, 18.7, 39.6, 15.7, 32.4, 42.7, 18.6, 31.4, 33.7, 24.5, 33.7, 35.4, 28.893236911794666, 22.5, 33.6, 29.7, 28.893236911794666, 25.7, 20.2, 22.7, 17.4, 22.2, 23.8, 28.7, 33.1, 28.0, 16.7, 27.1, 26.4, 23.7, 33.3, 18.9, 25.5, 35.9, 23.2, 22.2, 34.0, 20.4, 34.5, 31.9, 19.8, 29.0, 36.7, 21.3, 23.7, 25.7, 34.0, 30.7, 44.8, 27.7, 23.2, 30.1, 29.3, 29.5, 25.8, 26.2, 28.8, 29.8, 26.5, 27.8, 29.0, 19.1, 17.1, 24.6, 18.3, 42.8, 46.5, 38.4, 26.0, 26.8, 21.1, 29.0, 43.0, 36.6, 27.5, 40.2, 37.1, 32.0, 32.2, 20.6, 24.1, 25.0, 25.2, 27.6, 27.6, 39.5, 27.2, 26.3, 28.9, 30.0, 23.7, 25.5, 24.6, 20.7, 36.4, 23.4, 32.3, 18.8, 15.5, 21.4, 31.7, 29.7, 34.3, 22.1, 21.5, 30.4, 21.6, 30.9, 21.9, 19.2, 30.3, 23.0, 24.1, 27.6, 23.9, 26.9, 23.9, 40.5, 32.0, 20.5, 44.5, 16.2, 35.8, 24.0, 33.9, 36.0, 22.9, 44.5, 17.5, 32.3, 30.3, 33.5, 30.9, 25.5, 30.0, 32.2, 21.7, 24.7, 28.8, 27.0, 26.0, 27.1, 18.5, 18.8, 31.5, 18.1, 24.3, 28.0, 28.893236911794666, 17.3, 17.2, 26.9, 22.4, 25.8, 21.3, 43.0, 24.4, 30.1, 21.3, 17.8, 28.4, 23.4, 24.3, 27.8, 30.5, 28.893236911794666, 25.8, 26.7, 28.1, 22.2, 25.1, 20.9, 28.9, 28.893236911794666, 35.9, 29.8, 26.7, 28.4, 26.7, 32.5, 43.8, 28.3, 36.6, 33.1, 27.0, 23.6, 28.893236911794666, 21.8, 23.5, 28.7, 31.6, 31.9, 25.2, 25.9, 32.5, 28.1, 27.4, 21.2, 26.8, 18.5, 28.893236911794666, 30.6, 19.9, 28.893236911794666, 26.5, 43.8, 31.8, 36.6, 22.9, 18.7, 29.6, 43.6, 28.893236911794666, 20.3, 21.3, 39.2, 30.2, 35.3, 37.0, 32.1, 30.5, 22.8, 34.5, 37.4, 19.5, 30.4, 25.3, 23.1, 30.7, 18.8, 28.6, 27.5, 26.5, 40.3, 37.9, 17.1, 33.6, 43.4, 30.5, 38.1, 29.9, 32.7, 28.6, 38.5, 22.9, 38.0, 43.8, 20.8, 26.8, 25.5, 28.893236911794666, 25.4, 26.7, 21.3, 34.7, 17.9, 36.3, 18.4, 34.5, 33.4, 19.4, 25.6, 24.5, 30.0, 28.9, 28.1, 23.0, 33.5, 34.8, 17.6, 21.1, 29.0, 15.8, 41.2, 29.7, 40.8, 33.2, 37.0, 24.5, 34.5, 28.0, 26.8, 21.0, 23.8, 29.3, 24.4, 22.6, 22.8, 29.7, 32.4, 35.8, 31.1, 31.9, 33.7, 25.6, 19.9, 45.3, 15.5, 28.3, 40.2, 24.3, 24.6, 26.6, 30.9, 23.5, 23.9, 34.2, 34.9, 26.2, 36.2, 22.4, 19.3, 41.7, 46.0, 26.9, 40.1, 27.7, 29.5, 26.0, 22.7, 16.0, 27.7, 33.1, 33.1, 29.7, 34.0, 33.3, 27.0, 14.2, 19.4, 15.3, 28.7, 21.0, 28.9, 20.3, 28.0, 29.6, 30.2, 22.2, 28.4, 29.6, 28.6, 32.6, 29.0, 30.1, 31.2, 20.7, 45.1, 14.8, 37.4, 19.9, 16.0, 27.4, 33.4, 18.5, 33.4, 20.8, 22.0, 32.5, 19.2, 32.9, 23.5, 21.7, 29.1, 28.893236911794666, 30.3, 29.4, 30.1, 32.9, 34.0, 38.6, 29.3, 43.6, 22.7, 36.6, 22.6, 25.6, 31.4, 26.0, 27.0, 33.3, 17.3, 26.9, 24.8, 20.0, 35.8, 36.9, 29.6, 31.1, 25.1, 36.3, 28.2, 35.8, 30.9, 22.1, 17.6, 29.5, 27.0, 33.2, 24.4, 34.4, 36.7, 27.2, 27.5, 32.6, 28.893236911794666, 28.4, 25.5, 28.7, 23.8, 34.4, 26.1, 28.5, 29.6, 29.4, 28.2, 28.7, 38.1, 28.893236911794666, 22.2, 25.7, 17.7, 26.4, 32.8, 34.5, 39.5, 23.5, 38.8, 21.2, 32.0, 32.6, 25.2, 27.4, 28.893236911794666, 38.6, 32.9, 26.0, 29.2, 29.2, 26.4, 23.1, 21.2, 26.2, 23.4, 19.8, 20.4, 25.9, 34.1, 18.3, 35.0, 26.4, 27.6, 27.0, 28.893236911794666, 31.3, 18.0, 22.1, 34.4, 33.2, 23.1, 39.7, 40.7, 30.9, 27.5, 28.3, 33.4, 33.1, 41.5, 17.1, 30.0, 24.9, 32.5, 26.1, 19.2, 38.7, 29.5, 28.1, 14.1, 33.9, 26.0, 28.893236911794666, 29.2, 26.3, 23.6, 18.6, 29.7, 30.9, 22.8, 25.5, 25.6, 23.0, 20.6, 28.893236911794666, 28.4, 29.7, 26.0, 37.5, 42.3, 21.4, 29.3, 31.0, 22.0, 20.9, 45.9, 29.1, 28.4, 22.6, 24.2, 16.3, 35.9, 29.8, 37.0, 35.8, 21.1, 37.6, 24.8, 31.9, 17.5, 28.893236911794666, 17.6, 38.9, 15.2, 27.4, 27.9, 16.1, 39.0, 36.6, 33.7, 27.6, 31.0, 28.893236911794666, 28.5, 31.4, 25.3, 17.2, 26.9, 32.0, 22.5, 17.3, 27.0, 33.1, 25.0, 28.893236911794666, 31.1, 19.6, 24.7, 38.0, 24.0, 30.0, 24.6, 23.1, 17.4, 43.1, 27.1, 14.3, 46.8, 26.0, 29.3, 28.893236911794666, 18.6, 27.0, 25.7, 25.5, 27.3, 24.1, 42.7, 41.2, 20.2, 30.9, 27.7, 22.3, 39.4, 34.2, 20.1, 36.8, 28.893236911794666, 33.9, 27.7, 22.7, 32.2, 22.0, 23.2, 26.7, 23.0, 23.4, 24.1, 31.5, 26.1, 23.7, 20.8, 18.8, 32.5, 24.3, 24.1, 32.5, 39.3, 23.9, 22.0, 37.3, 33.0, 24.7, 32.8, 29.8, 24.1, 21.6, 27.1, 27.0, 18.7, 35.8, 27.1, 33.1, 25.9, 26.7, 22.2, 26.0, 23.5, 23.5, 15.9, 24.9, 26.5, 35.7, 28.893236911794666, 32.1, 28.5, 40.1, 26.6, 21.7, 28.8, 32.0, 31.4, 32.1, 19.8, 25.3, 28.8, 26.0, 30.7, 43.3, 35.2, 20.9, 35.3, 27.0, 26.1, 29.1, 32.6, 21.8, 32.3, 28.1, 32.3, 21.7, 25.0, 28.9, 21.7, 45.3, 40.2, 22.5, 21.3, 26.1, 28.8, 28.893236911794666, 32.4, 20.4, 25.9, 38.8, 30.8, 24.6, 20.6, 38.8, 40.4, 28.893236911794666, 36.2, 18.8, 27.6, 28.3, 39.4, 33.5, 40.4, 25.9, 27.6, 44.7, 30.8, 22.3, 27.9, 22.9, 27.3, 25.0, 22.7, 39.1, 27.8, 28.893236911794666, 36.7, 38.5, 29.4, 30.5, 23.6, 20.6, 31.7, 24.9, 33.4, 22.2, 26.5, 27.1, 30.3, 18.6, 26.4, 17.8, 37.4, 32.1, 38.2, 28.893236911794666, 39.1, 29.5, 28.6, 40.1, 31.8, 34.6, 24.5, 26.2, 33.0, 22.3, 28.893236911794666, 36.9, 43.9, 18.2, 23.1, 32.6, 41.2, 28.6, 26.0, 36.8, 35.8, 24.2, 22.9, 23.1, 28.893236911794666, 28.9, 26.5, 29.3, 24.8, 20.1, 18.2, 34.7, 24.0, 29.0, 27.3, 27.6, 20.4, 17.7, 27.9, 41.5, 27.4, 27.8, 17.8, 32.0, 37.3, 28.1, 29.1, 22.9, 38.8, 29.0, 28.6, 29.8, 28.9, 29.1, 28.893236911794666, 16.7, 34.1, 25.7, 30.8, 23.9, 18.8, 28.893236911794666, 41.8, 36.4, 28.7, 28.3, 15.1, 22.7, 26.6, 20.8, 23.0, 35.8, 29.9, 43.4, 36.3, 40.1, 35.9, 32.4, 20.3, 33.2, 22.3, 18.1, 28.2, 29.7, 28.893236911794666, 29.0, 25.4, 26.5, 22.7, 27.5, 23.8, 35.6, 27.2, 30.4, 21.5, 31.8, 29.5, 30.6, 27.6, 23.0, 24.8, 28.0, 22.2, 27.8, 30.2, 26.8, 22.0, 34.3, 29.2, 30.3, 28.893236911794666, 28.893236911794666, 21.4, 28.893236911794666, 26.6, 30.0, 33.7, 30.9, 31.1, 23.0, 20.2, 31.6, 23.9, 26.1, 15.8, 28.893236911794666, 28.7, 28.9, 25.1, 19.8, 30.8, 22.1, 20.4, 31.2, 24.9, 27.0, 20.1, 24.4, 22.6, 22.4, 26.2, 22.9, 32.6, 31.3, 43.9, 41.8, 28.893236911794666, 37.7, 20.8, 21.6, 22.1, 39.2, 36.7, 32.0, 25.9, 28.9, 29.3, 32.3, 33.2, 31.6, 20.6, 23.3, 30.8, 28.893236911794666, 28.893236911794666, 28.893236911794666, 23.7, 30.3, 24.4, 28.2, 33.8, 42.6, 31.9, 34.0, 19.8, 30.5, 21.7, 24.6, 38.1, 19.2, 30.1, 23.3, 34.5, 30.8, 43.8, 29.9, 22.6, 19.5, 33.4, 24.2, 25.6, 26.9, 35.2, 22.1, 34.4, 26.0, 26.9, 20.1, 24.7, 32.1, 29.8, 27.5, 22.8, 27.6, 33.0, 33.7, 25.1, 15.3, 22.2, 21.4, 26.0, 29.9, 28.6, 21.2, 16.0, 22.7, 25.3, 31.6, 38.9, 27.1, 24.1, 31.5, 32.0, 31.8, 34.0, 23.4, 29.3, 17.2, 31.9, 31.6, 23.2, 30.0, 26.3, 31.8, 25.5, 21.3, 29.6, 28.7, 30.8, 32.1, 34.0, 16.9, 32.1, 22.6, 31.3, 29.0, 27.6, 17.7, 35.9, 33.8, 17.6, 39.9, 11.3, 31.5, 29.6, 19.4, 18.1, 36.2, 17.9, 33.0, 20.4, 33.6, 34.5, 30.0, 12.8, 26.2, 13.5, 25.6, 18.8, 14.5, 23.4, 39.7, 40.8, 29.5, 33.0, 25.6, 33.1, 28.1, 16.9, 35.9, 32.1, 34.1, 15.1, 42.0, 16.8, 28.8, 32.2, 16.2, 44.2, 23.4, 31.0, 28.7, 23.6, 35.7, 39.5, 27.3, 31.3, 33.4, 29.2, 26.0, 18.1, 22.4, 29.4, 21.6, 27.9, 29.6, 30.2, 43.4, 30.5, 33.2, 27.7, 33.5, 28.0, 31.5, 24.0, 27.4, 37.9, 26.2, 22.4, 28.893236911794666, 43.7, 28.4, 29.8, 24.8, 34.8, 27.4, 28.893236911794666, 33.5, 35.0, 24.4, 28.3, 29.1, 31.3, 32.8, 29.1, 31.9, 14.2, 26.3, 22.8, 24.8, 34.1, 21.5, 26.1, 21.4, 33.5, 23.0, 18.5, 23.4, 31.4, 31.1, 37.7, 25.3, 35.6, 24.8, 32.7, 24.9, 26.0, 22.8, 24.0, 20.3, 30.3, 23.7, 25.7, 21.9, 15.8, 30.5, 25.7, 19.0, 28.8, 28.893236911794666, 22.4, 32.4, 36.6, 27.9, 27.7, 28.893236911794666, 34.3, 26.7, 19.0, 20.6, 26.7, 29.2, 21.3, 14.1, 28.9, 30.9, 36.1, 25.0, 28.6, 20.5, 16.7, 36.6, 26.4, 33.1, 27.5, 26.9, 23.9, 26.9, 27.8, 32.7, 28.7, 22.6, 26.5, 28.3, 24.3, 24.0, 32.4, 28.7, 36.7, 27.7, 24.8, 31.2, 26.1, 26.8, 26.7, 19.6, 25.8, 32.5, 28.3, 24.5, 25.2, 32.3, 30.1, 35.7, 20.0, 23.5, 23.4, 22.3, 28.7, 20.9, 29.4, 27.6, 43.9, 28.7, 34.7, 37.1, 24.2, 22.7, 29.3, 20.0, 22.7, 25.4, 37.6, 44.7, 26.3, 25.0, 28.893236911794666, 32.3, 24.9, 33.7, 26.6, 41.7, 22.0, 20.3, 42.7, 28.2, 32.5, 22.5, 26.5, 41.0, 27.0, 25.9, 23.7, 30.0, 15.0, 21.5, 25.9, 24.3, 39.2, 14.4, 26.6, 30.7, 35.4, 29.2, 26.7, 21.5, 19.1, 25.4, 34.0, 23.9, 20.9, 18.2, 27.6, 24.5, 16.6, 24.0, 18.8, 34.0, 25.8, 30.3, 28.9, 21.3, 26.8, 29.2, 25.0, 21.5, 17.1, 32.5, 26.9, 30.4, 29.8, 20.3, 41.1, 28.893236911794666, 33.9, 39.0, 31.2, 38.2, 44.7, 33.5, 27.0, 31.1, 29.2, 26.6, 17.9, 24.2, 19.5, 28.5, 21.3, 41.3, 31.3, 40.8, 36.6, 26.7, 18.7, 15.2, 26.8, 25.1, 31.3, 29.8, 33.5, 24.5, 33.6, 39.7, 26.4, 33.0, 31.4, 27.2, 35.7, 29.5, 21.0, 26.6, 24.3, 43.9, 28.893236911794666, 27.0, 32.7, 29.4, 15.1, 32.1, 32.9, 27.6, 26.5, 19.2, 25.9, 21.9, 17.4, 13.2, 25.2, 28.2, 31.5, 25.2, 14.5, 28.0, 15.1, 31.4, 26.3, 28.893236911794666, 39.6, 28.9, 31.4, 34.3, 27.0, 27.2, 23.8, 25.3, 32.6, 31.8, 22.4, 28.0, 23.9, 25.3, 16.4, 26.9, 25.4, 18.7, 37.5, 41.4, 37.5, 15.8, 37.6, 30.5, 22.1, 19.2, 38.0, 18.7, 25.7, 30.1, 36.3, 20.4, 20.9, 28.4, 33.8, 24.0, 43.3, 36.4, 37.9, 32.6, 23.9, 18.1, 36.4, 29.2, 30.8, 23.8, 17.9, 31.8, 19.5, 31.5, 24.1, 28.893236911794666, 35.9, 31.6, 19.0, 18.8, 33.5, 25.0, 24.8, 24.5, 40.4, 20.2, 31.9, 25.4, 15.4, 38.6, 31.0, 26.4, 28.893236911794666, 37.7, 35.2, 21.6, 23.9, 28.893236911794666, 26.1, 39.7, 29.9, 31.4, 34.5, 29.4, 26.9, 22.4, 20.5, 18.6, 31.4, 18.5, 41.8, 21.2, 28.6, 16.0, 30.6, 29.0, 28.6, 34.8, 28.893236911794666, 42.0, 30.3, 30.9, 32.1, 19.6, 32.8, 31.5, 28.893236911794666, 34.7, 21.5, 27.6, 28.6, 21.1, 23.8, 33.5, 33.4, 23.3, 21.0, 21.2, 18.4, 26.9, 20.2, 21.9, 24.2, 29.6, 38.1, 22.0, 29.8, 24.0, 26.9, 38.0, 16.9, 23.4, 38.5, 21.6, 15.9, 25.1, 41.1, 21.5, 21.0, 24.1, 30.6, 19.8, 29.2, 33.7, 31.0, 21.5, 19.1, 21.4, 24.8, 35.1, 28.6, 35.7, 45.4, 34.5, 21.2, 22.7, 39.1, 21.9, 16.5, 23.0, 22.5, 20.4, 28.7, 22.4, 26.3, 23.6, 25.9, 30.7, 24.5, 24.0, 20.1, 38.0, 26.6, 24.5, 28.893236911794666, 41.3, 34.8, 35.5, 24.1, 19.0, 28.893236911794666, 16.6, 28.6, 22.4, 38.6, 32.0, 40.1, 32.0, 23.9, 25.0, 28.5, 19.8, 25.7, 28.0, 37.2, 24.8, 39.2, 27.2, 38.0, 36.2, 16.6, 38.0, 31.4, 35.3, 35.8, 28.6, 34.0, 15.5, 31.1, 37.5, 37.7, 24.2, 33.4, 33.0, 25.7, 19.4, 33.4, 18.0, 40.1, 26.9, 22.5, 27.6, 23.3, 35.7, 28.4, 29.4, 31.9, 25.1, 35.6, 21.1, 17.8, 31.5, 26.6, 44.8, 31.3, 17.2, 25.3, 28.8, 18.0, 23.5, 18.1, 41.7, 28.893236911794666, 20.7, 30.3, 27.8, 18.9, 20.4, 31.8, 44.8, 37.1, 39.9, 24.1, 18.1, 36.3, 19.1, 21.1, 28.9, 18.9, 43.3, 37.2, 32.2, 26.3, 25.4, 18.3, 21.4, 22.9, 16.2, 29.6, 21.5, 24.2, 37.3, 33.3, 33.1, 22.2, 24.4, 30.3, 28.2, 17.0, 30.4, 22.3, 25.3, 28.893236911794666, 29.8, 43.8, 34.5, 25.5, 31.5, 39.2, 17.0, 38.2, 31.1, 22.4, 32.0, 24.7, 36.3, 20.2, 27.4, 29.6, 28.6, 43.9, 22.2, 28.4, 23.7, 18.3, 18.3, 28.9, 28.893236911794666, 27.1, 13.8, 21.9, 24.0, 28.893236911794666, 20.8, 39.8, 26.2, 43.9, 27.3, 28.893236911794666, 22.0, 40.0, 20.1, 42.2, 25.8, 27.2, 30.9, 33.1, 37.8, 25.4, 28.4, 16.6, 35.1, 32.7, 29.8, 13.0, 27.5, 23.6, 36.9, 16.7, 26.5, 37.0, 27.7, 23.5, 40.4, 27.7, 28.3, 28.7, 25.0, 24.8, 35.5, 25.0, 17.3, 37.8, 32.8, 28.7, 28.8, 28.4, 24.9, 29.6, 26.1, 29.5, 23.9, 25.8, 36.2, 31.3, 26.1, 19.1, 17.6, 21.4, 24.0, 25.5, 19.9, 19.9, 35.5, 26.9, 24.2, 30.0, 30.9, 26.5, 30.6, 19.1, 23.2, 30.5, 15.8, 16.9, 18.0, 13.9, 36.7, 30.8, 34.6, 16.3, 38.2, 27.3, 30.4, 34.5, 17.4, 32.0, 33.4, 40.2, 30.1, 46.2, 35.6, 29.4, 27.3, 17.4, 26.9, 17.7, 23.6, 27.7, 38.0, 35.2, 28.893236911794666, 32.4, 36.1, 30.6, 29.0, 22.3, 27.3, 17.4, 39.0, 26.7, 24.2, 22.8, 25.6, 21.9, 25.9, 30.6, 25.7, 33.3, 23.8, 17.2, 31.0, 24.7, 27.1, 28.893236911794666, 38.3, 29.2, 23.6, 33.5, 16.3, 30.8, 31.1, 26.4, 18.6, 37.3, 26.6, 17.6, 22.3, 20.2, 30.9, 31.5, 29.7, 32.5, 32.8, 25.4, 27.2, 31.6, 39.6, 19.8, 29.6, 25.5, 25.8, 32.1, 25.6, 26.3, 39.4, 25.6, 34.0, 35.8, 24.9, 29.3, 23.4, 24.5, 29.8, 28.9, 27.3, 23.2, 34.2, 23.3, 26.9, 21.8, 26.9, 29.9, 22.4, 27.5, 35.0, 27.9, 25.5, 28.6, 34.8, 30.9, 14.8, 31.4, 22.3, 19.1, 27.4, 17.5, 36.2, 25.4, 25.7, 28.6, 33.7, 37.9, 28.4, 20.0, 29.1, 27.6, 27.6, 24.2, 31.0, 34.5, 27.0, 20.7, 26.1, 19.2, 28.0, 23.6, 33.0, 22.2, 24.8, 24.7, 27.9, 21.6, 34.8, 32.9, 28.0, 28.893236911794666, 25.0, 24.7, 27.3, 34.2, 39.1, 22.7, 33.9, 18.6, 16.7, 20.6, 20.1, 45.2, 25.3, 32.4, 34.9, 43.7, 23.0, 21.5, 24.9, 22.9, 25.0, 21.3, 46.1, 37.0, 21.3, 28.3, 31.1, 25.1, 27.6, 29.4, 14.1, 35.2, 23.9, 34.0, 27.1, 29.5, 28.893236911794666, 20.7, 39.5, 33.7, 23.2, 30.1, 28.8, 38.0, 27.7, 43.2, 24.1, 28.7, 34.8, 23.5, 28.5, 20.3, 43.0, 18.3, 27.2, 22.0, 35.4, 27.9, 19.8, 26.0, 26.8, 28.893236911794666, 32.5, 15.0, 14.2, 17.0, 26.2, 24.9, 26.6, 22.7, 32.7, 36.7, 31.5, 36.9, 27.6, 20.7, 20.2, 23.4, 25.3, 28.2, 27.0, 24.8, 34.8, 17.3, 27.8, 16.2, 28.893236911794666, 21.7, 21.4, 29.3, 36.2, 28.3, 23.5, 25.9, 27.1, 21.5, 30.5, 23.4, 37.6, 24.0, 25.1, 28.7, 41.8, 25.6, 27.2, 24.4, 20.7, 19.6, 24.8, 32.6, 20.5, 36.2, 45.4, 27.6, 28.893236911794666, 34.7, 32.4, 28.893236911794666, 28.7, 45.3, 40.3, 38.9, 46.0, 32.4, 19.4, 27.5, 26.2, 31.1, 34.6, 24.3, 34.6, 28.5, 32.1, 28.0, 20.9, 33.8, 25.8, 31.8, 26.8, 25.9, 29.2, 25.3, 41.7, 38.8, 29.1, 30.9, 39.3, 41.8, 26.2, 33.8, 26.1, 24.1, 30.7, 22.4, 23.0, 30.2, 30.3, 28.7, 36.3, 16.3, 34.5, 20.8, 31.0, 17.6, 22.7, 38.4, 40.8, 32.9, 31.3, 28.5, 27.6, 40.2, 24.7, 17.7, 25.4, 28.5, 26.2, 26.0, 45.3, 31.5, 20.6, 29.4, 39.1, 23.8, 38.1, 19.5, 35.5, 26.4, 22.2, 29.1, 41.9, 22.6, 33.3, 21.3, 20.4, 28.7, 28.8, 38.7, 32.3, 37.9, 25.3, 27.7, 25.1, 16.8, 27.7, 28.6, 37.6, 32.7, 22.7, 16.0, 23.5, 45.8, 20.8, 16.7, 22.2, 33.1, 32.7, 41.4, 24.1, 28.0, 24.2, 23.5, 23.0, 20.3, 24.8, 26.1, 24.2, 19.3, 18.2, 24.2, 41.5, 28.0, 37.0, 32.2, 35.9, 32.1, 22.2, 20.1, 14.6, 28.4, 20.6, 19.8, 23.4, 25.1, 30.1, 33.3, 24.0, 27.8, 21.4, 25.5, 28.893236911794666, 21.8, 18.9, 21.9, 30.6, 29.8, 28.7, 35.5, 29.1, 32.8, 22.8, 31.3, 29.0, 19.0, 24.1, 21.4, 28.0, 27.6, 28.7, 24.5, 25.0, 29.6, 29.9, 35.6, 27.9, 42.6, 21.2, 28.5, 25.6, 28.893236911794666, 31.1, 30.4, 22.9, 31.9, 43.0, 21.8, 35.5, 24.3, 23.1, 18.5, 42.4, 32.3, 22.6, 17.8, 18.4, 26.9, 32.0, 23.4, 31.4, 22.4, 28.9, 27.4, 28.4, 23.5, 28.3, 38.2, 33.3, 33.3, 28.8, 32.1, 28.9, 25.5, 25.9, 19.5, 23.8, 24.9, 18.5, 30.6, 16.1, 32.5, 27.4, 30.2, 23.5, 36.0, 24.8, 27.5, 40.0, 18.1, 18.8, 23.6, 29.7, 43.7, 27.3, 20.2, 23.8, 21.4, 25.1, 17.9, 34.5, 27.1, 26.1, 43.4, 33.2, 37.2, 41.3, 35.4, 26.1, 24.5, 28.893236911794666, 32.7, 29.2, 20.4, 33.5, 14.0, 33.5, 27.5, 35.3, 30.1, 32.6, 31.6, 23.5, 40.3, 34.1, 16.1, 26.4, 19.0, 34.7, 23.3, 32.6, 26.0, 35.1, 18.6, 30.4, 32.8, 21.6, 23.3, 31.4, 26.3, 20.1, 28.3, 40.4, 18.6, 44.7, 25.3, 28.3, 39.9, 28.893236911794666, 34.7, 31.9, 35.0, 32.7, 30.6, 27.9, 20.4, 29.6, 23.5, 46.4, 27.4, 25.2, 25.8, 33.3, 27.7, 28.9, 33.1, 38.1, 27.9, 17.4, 27.1, 22.7, 28.3, 21.5, 30.0, 18.6, 45.2, 39.7, 31.5, 23.2, 27.3, 26.5, 19.3, 26.1, 19.8, 25.1, 37.3, 30.3, 16.1, 25.1, 26.7, 29.3, 38.7, 35.8, 21.7, 31.4, 26.9, 33.0, 24.5, 44.9, 25.5, 22.1, 24.3, 32.4, 28.893236911794666, 33.1, 26.7, 37.9, 39.6, 19.8, 30.0, 23.1, 34.3, 38.4, 32.8, 34.4, 44.6, 32.8, 26.4, 27.3, 32.4, 43.2, 33.6, 26.4, 46.9, 36.3, 34.9, 29.6, 16.5, 35.4, 23.6, 33.1, 40.2, 14.8, 34.8, 33.5, 31.9, 16.1, 35.9, 39.6, 27.5, 32.3, 15.4, 28.4, 19.5, 25.0, 26.3, 39.6, 38.6, 33.9, 32.2, 25.1, 37.4, 30.1, 27.0, 32.4, 26.8, 27.2, 36.7, 36.0, 37.2, 19.1, 21.8, 26.5, 35.0, 32.6, 23.9, 33.7, 29.4, 29.0, 20.2, 28.893236911794666, 27.4, 25.0, 30.7, 23.0, 26.6, 18.1, 29.7, 19.9, 13.3, 32.7, 31.8, 31.4, 20.4, 33.2, 30.5, 30.3, 34.2, 34.4, 22.8, 30.5, 35.9, 33.7, 24.1, 25.4, 25.5, 29.2, 28.893236911794666, 17.4, 29.9, 21.5, 24.7, 25.1, 34.4, 27.9, 31.5, 31.8, 30.1, 26.4, 27.2, 22.5, 29.8, 26.1, 24.9, 23.5, 30.1, 37.3, 25.5, 35.3, 27.6, 28.7, 29.9, 34.2, 24.9, 36.8, 24.5, 34.6, 30.0, 28.8, 28.6, 23.6, 20.1, 21.1, 34.1, 28.893236911794666, 29.5, 37.8, 31.2, 31.1, 34.2, 17.7, 39.2, 22.2, 29.5, 27.0, 16.8, 23.3, 33.5, 15.6, 28.2, 22.6, 20.2, 22.2, 22.6, 26.7, 22.9, 21.5, 30.3, 14.8, 24.3, 17.4, 29.0, 26.3, 29.2, 18.3, 21.9, 16.3, 27.4, 20.4, 23.2, 30.3, 16.7, 31.0, 28.893236911794666, 33.5, 17.0, 19.4, 14.6, 32.2, 37.7, 27.4, 25.0, 20.1, 21.7, 38.2, 17.0, 28.4, 30.0, 34.1, 19.3, 21.6, 32.9, 27.2, 27.8, 29.9, 28.4, 24.1, 24.0, 23.4, 32.6, 33.1, 33.8, 30.3, 36.9, 29.7, 38.8, 30.9, 36.9, 18.8, 25.5, 32.3, 25.8, 31.1, 27.9, 18.6, 20.1, 26.7, 30.3, 30.4, 30.0, 24.9, 24.3, 38.7, 18.6, 17.1, 29.4, 16.9, 34.2, 27.6, 18.9, 24.4, 25.2, 30.7, 26.1, 25.3, 32.8, 45.7, 24.6, 32.3, 34.4, 18.2, 44.5, 36.6, 19.4, 22.9, 20.0, 36.1, 27.3, 42.2, 26.4, 23.6, 18.6, 18.0, 31.1, 30.0, 43.8, 23.8, 36.2, 32.6, 18.0, 25.5, 29.9, 32.1, 25.4, 23.4, 23.4, 21.8, 30.8, 37.9, 42.5, 23.4, 35.4, 32.3, 27.0, 46.3, 30.1, 34.7, 18.3, 16.2, 33.2, 18.6, 25.1, 24.1, 33.1, 24.8, 23.4, 28.9, 38.1, 37.2, 19.6, 29.0, 26.7, 20.5, 34.1, 42.4, 37.7, 39.1, 28.9, 30.7, 33.8, 28.893236911794666, 32.1, 40.5, 24.8, 31.8, 27.0, 13.7, 23.4, 16.4, 14.9, 38.8, 38.6, 32.2, 28.893236911794666, 30.6, 28.1, 35.2, 21.8, 28.1, 28.2, 28.4, 37.4, 21.8, 19.8, 16.2, 33.6, 21.2, 28.4, 28.893236911794666, 41.1, 24.9, 28.8, 33.7, 38.6, 33.8, 22.4, 37.3, 23.4, 39.1, 21.2, 31.2, 28.0, 21.1, 15.7, 29.1, 26.1, 16.2, 27.1, 28.8, 37.9, 21.6, 30.1, 29.7, 26.4, 46.0, 26.1, 23.2, 28.4, 20.5, 24.6, 32.2, 30.5, 28.893236911794666, 24.9, 26.5, 34.5, 21.5, 15.9, 17.7, 26.5, 24.4, 26.6, 23.9, 30.1, 23.6, 18.4, 32.1, 24.4, 27.3, 34.8, 28.4, 40.2, 31.1, 24.0, 38.1, 29.9, 24.5, 35.5, 29.5, 28.8, 22.1, 29.4, 45.0, 27.1, 28.3, 20.1, 31.3, 17.6, 24.5, 24.1, 31.3, 31.5, 29.9, 30.2, 27.8, 15.6, 26.3, 24.8, 17.1, 20.3, 18.7, 28.8, 28.7, 24.6, 25.3, 29.7, 28.893236911794666, 21.1, 26.9, 26.2, 26.3, 24.8, 25.0, 34.6, 42.7, 28.893236911794666, 24.5, 19.3, 29.3, 22.1, 27.8, 24.7, 25.3, 41.2, 23.4, 22.7, 29.7, 32.3, 36.9, 27.7, 24.3, 37.4, 25.1, 24.3, 24.3, 28.7, 16.8, 35.8, 40.0, 24.3, 25.6, 37.8, 23.0, 21.0, 15.5, 17.1, 28.0, 40.8, 37.5, 24.2, 26.9, 33.1, 21.8, 34.7, 30.2, 16.8, 21.0, 30.9, 38.9, 28.893236911794666, 24.3, 17.4, 28.2, 40.8, 17.5, 28.893236911794666, 28.3, 24.5, 21.7, 46.9, 18.6, 28.893236911794666, 40.0, 30.6, 25.6, 26.2], \"xaxis\": \"x\", \"xbins\": {\"end\": 46.9, \"size\": 1.0, \"start\": 10.3}, \"yaxis\": \"y\"}, {\"legendgroup\": \"bmi\", \"marker\": {\"color\": \"Red\"}, \"mode\": \"lines\", \"name\": \"bmi\", \"showlegend\": false, \"type\": \"scatter\", \"x\": [10.3, 10.3732, 10.4464, 10.5196, 10.5928, 10.666, 10.7392, 10.8124, 10.8856, 10.9588, 11.032, 11.1052, 11.1784, 11.2516, 11.3248, 11.398, 11.4712, 11.544400000000001, 11.617600000000001, 11.690800000000001, 11.764000000000001, 11.837200000000001, 11.910400000000001, 11.983600000000001, 12.0568, 12.13, 12.2032, 12.2764, 12.3496, 12.4228, 12.496, 12.5692, 12.6424, 12.7156, 12.7888, 12.862, 12.9352, 13.0084, 13.0816, 13.1548, 13.228, 13.3012, 13.374400000000001, 13.4476, 13.5208, 13.594000000000001, 13.667200000000001, 13.740400000000001, 13.813600000000001, 13.886800000000001, 13.96, 14.0332, 14.1064, 14.1796, 14.2528, 14.326, 14.3992, 14.4724, 14.5456, 14.6188, 14.692, 14.7652, 14.8384, 14.9116, 14.9848, 15.058, 15.1312, 15.2044, 15.2776, 15.3508, 15.424, 15.4972, 15.5704, 15.6436, 15.7168, 15.79, 15.863199999999999, 15.936399999999999, 16.0096, 16.0828, 16.156, 16.2292, 16.3024, 16.3756, 16.4488, 16.522, 16.5952, 16.6684, 16.7416, 16.814799999999998, 16.887999999999998, 16.961199999999998, 17.034399999999998, 17.107599999999998, 17.180799999999998, 17.253999999999998, 17.327199999999998, 17.400399999999998, 17.473599999999998, 17.5468, 17.62, 17.6932, 17.766399999999997, 17.839599999999997, 17.9128, 17.986, 18.0592, 18.1324, 18.2056, 18.2788, 18.352, 18.4252, 18.498399999999997, 18.5716, 18.6448, 18.717999999999996, 18.7912, 18.864399999999996, 18.9376, 19.0108, 19.084, 19.1572, 19.230399999999996, 19.3036, 19.3768, 19.45, 19.5232, 19.5964, 19.6696, 19.742800000000003, 19.816, 19.8892, 19.9624, 20.0356, 20.108800000000002, 20.182, 20.255200000000002, 20.3284, 20.4016, 20.474800000000002, 20.548, 20.6212, 20.694399999999998, 20.7676, 20.8408, 20.914, 20.9872, 21.060399999999998, 21.1336, 21.206799999999998, 21.28, 21.3532, 21.4264, 21.4996, 21.572799999999997, 21.646, 21.7192, 21.7924, 21.8656, 21.9388, 22.012, 22.0852, 22.1584, 22.2316, 22.3048, 22.378, 22.4512, 22.5244, 22.5976, 22.6708, 22.744, 22.8172, 22.8904, 22.9636, 23.0368, 23.11, 23.1832, 23.2564, 23.3296, 23.4028, 23.476, 23.5492, 23.6224, 23.6956, 23.7688, 23.842, 23.9152, 23.9884, 24.0616, 24.1348, 24.208, 24.2812, 24.3544, 24.427599999999998, 24.500799999999998, 24.573999999999998, 24.647199999999998, 24.720399999999998, 24.793599999999998, 24.866799999999998, 24.939999999999998, 25.013199999999998, 25.086399999999998, 25.159599999999998, 25.232799999999997, 25.305999999999997, 25.379199999999997, 25.452399999999997, 25.525599999999997, 25.598799999999997, 25.671999999999997, 25.745199999999997, 25.818399999999997, 25.891599999999997, 25.964799999999997, 26.037999999999997, 26.111199999999997, 26.184399999999997, 26.257599999999996, 26.330799999999996, 26.404, 26.477199999999996, 26.5504, 26.623599999999996, 26.696799999999996, 26.769999999999996, 26.8432, 26.9164, 26.9896, 27.062799999999996, 27.135999999999996, 27.2092, 27.2824, 27.3556, 27.428799999999995, 27.501999999999995, 27.5752, 27.6484, 27.7216, 27.794799999999995, 27.868, 27.9412, 28.0144, 28.0876, 28.160799999999995, 28.233999999999998, 28.307199999999998, 28.380399999999998, 28.453599999999998, 28.526799999999998, 28.599999999999998, 28.673199999999998, 28.746399999999998, 28.819599999999998, 28.892799999999998, 28.965999999999998, 29.039199999999997, 29.112399999999997, 29.1856, 29.258799999999997, 29.331999999999997, 29.405199999999997, 29.478399999999997, 29.5516, 29.624799999999997, 29.697999999999997, 29.771199999999997, 29.8444, 29.9176, 29.990799999999997, 30.063999999999997, 30.137199999999996, 30.2104, 30.2836, 30.356799999999996, 30.429999999999996, 30.503199999999996, 30.5764, 30.6496, 30.722799999999996, 30.795999999999996, 30.8692, 30.9424, 31.0156, 31.088799999999996, 31.161999999999995, 31.2352, 31.3084, 31.3816, 31.454799999999995, 31.528, 31.6012, 31.6744, 31.747599999999995, 31.820799999999995, 31.894, 31.9672, 32.0404, 32.11359999999999, 32.1868, 32.26, 32.3332, 32.4064, 32.47959999999999, 32.5528, 32.626, 32.6992, 32.7724, 32.84559999999999, 32.9188, 32.992, 33.0652, 33.1384, 33.2116, 33.2848, 33.358, 33.4312, 33.5044, 33.5776, 33.6508, 33.724, 33.7972, 33.870400000000004, 33.943599999999996, 34.016799999999996, 34.089999999999996, 34.163199999999996, 34.2364, 34.309599999999996, 34.382799999999996, 34.455999999999996, 34.5292, 34.6024, 34.675599999999996, 34.748799999999996, 34.821999999999996, 34.8952, 34.9684, 35.041599999999995, 35.114799999999995, 35.188, 35.2612, 35.3344, 35.407599999999995, 35.480799999999995, 35.554, 35.6272, 35.7004, 35.773599999999995, 35.846799999999995, 35.92, 35.9932, 36.066399999999994, 36.139599999999994, 36.2128, 36.286, 36.3592, 36.432399999999994, 36.505599999999994, 36.5788, 36.652, 36.7252, 36.798399999999994, 36.8716, 36.9448, 37.018, 37.0912, 37.16439999999999, 37.2376, 37.3108, 37.384, 37.4572, 37.5304, 37.6036, 37.6768, 37.75, 37.8232, 37.8964, 37.9696, 38.0428, 38.116, 38.1892, 38.2624, 38.3356, 38.4088, 38.482, 38.5552, 38.6284, 38.7016, 38.7748, 38.848, 38.9212, 38.9944, 39.0676, 39.1408, 39.214, 39.2872, 39.3604, 39.4336, 39.5068, 39.58, 39.6532, 39.7264, 39.7996, 39.8728, 39.946, 40.0192, 40.0924, 40.1656, 40.2388, 40.312, 40.3852, 40.4584, 40.5316, 40.6048, 40.678, 40.7512, 40.8244, 40.8976, 40.9708, 41.044, 41.1172, 41.1904, 41.2636, 41.3368, 41.41, 41.4832, 41.5564, 41.629599999999996, 41.702799999999996, 41.775999999999996, 41.849199999999996, 41.922399999999996, 41.995599999999996, 42.068799999999996, 42.141999999999996, 42.215199999999996, 42.288399999999996, 42.361599999999996, 42.434799999999996, 42.507999999999996, 42.581199999999995, 42.654399999999995, 42.727599999999995, 42.800799999999995, 42.873999999999995, 42.947199999999995, 43.020399999999995, 43.093599999999995, 43.166799999999995, 43.239999999999995, 43.313199999999995, 43.386399999999995, 43.459599999999995, 43.532799999999995, 43.605999999999995, 43.679199999999994, 43.752399999999994, 43.825599999999994, 43.898799999999994, 43.971999999999994, 44.045199999999994, 44.118399999999994, 44.191599999999994, 44.264799999999994, 44.337999999999994, 44.411199999999994, 44.484399999999994, 44.557599999999994, 44.630799999999994, 44.70399999999999, 44.77719999999999, 44.85039999999999, 44.92359999999999, 44.99679999999999, 45.06999999999999, 45.14319999999999, 45.21639999999999, 45.28959999999999, 45.36279999999999, 45.43599999999999, 45.50919999999999, 45.58239999999999, 45.65559999999999, 45.72879999999999, 45.80199999999999, 45.87519999999999, 45.94839999999999, 46.02159999999999, 46.09479999999999, 46.16799999999999, 46.24119999999999, 46.31439999999999, 46.38759999999999, 46.46079999999999, 46.53399999999999, 46.60719999999999, 46.68039999999999, 46.75359999999999, 46.82679999999999], \"xaxis\": \"x\", \"y\": [0.00023286965203909123, 0.0002476520551178573, 0.00026318973454631417, 0.00027953863927177155, 0.0002967620133570749, 0.00031493094026082547, 0.00033412484620936033, 0.0003544319498016268, 0.0003759496446254316, 0.0003987848015938688, 0.00042305397798078544, 0.0004488835207849818, 0.00047640955311741023, 0.0005057778338059823, 0.0005371434823576337, 0.0005706705637999378, 0.0006065315307210322, 0.0006449065229938074, 0.000685982529146487, 0.0007299524170460696, 0.0007770138453944486, 0.000827368071385042, 0.0008812186736019296, 0.0009387702127269598, 0.0010002268557098542, 0.0010657909916102428, 0.0011356618692016345, 0.0012100342875107529, 0.0012890973706437658, 0.0013730334574399612, 0.0014620171346377351, 0.001556214439316359, 0.0016557822524049096, 0.0017608679000829454, 0.0018716089740319452, 0.00198813337486974, 0.002110559575887356, 0.0022389970966185404, 0.0023735471680470526, 0.0025143035636557036, 0.0026613535633198617, 0.0028147790105252455, 0.0029746574178177456, 0.003141063071026334, 0.00331406807986653, 0.0034937433212176633, 0.003680159221813715, 0.0038733863293771366, 0.004073495625377855, 0.0042805585385714065, 0.004494646626143536, 0.004715830898484351, 0.004944180774085165, 0.005179762662496341, 0.005422638185352197, 0.005672862057774775, 0.005930479664606368, 0.006195524377470084, 0.006468014669219025, 0.00674795109151915, 0.007035313188780366, 0.007330056427114605, 0.007632109220241019, 0.007941370135126188, 0.008257705358590245, 0.008580946502144946, 0.008910888816078776, 0.009247289875459346, 0.009589868790560186, 0.00993830598257557, 0.010292243552751469, 0.010651286259660286, 0.011015003105720865, 0.011382929520657491, 0.011754570116821851, 0.012129401979554118, 0.012506878445366638, 0.012886433311954213, 0.013267485417067367, 0.013649443518218257, 0.014031711402053716, 0.014413693150959462, 0.014794798494901276, 0.015174448178469623, 0.015552079276289349, 0.015927150394106502, 0.016299146697623546, 0.016667584716216394, 0.017032016873724545, 0.01739203570327784, 0.01774727770741506, 0.018097426828384812, 0.018442217496449417, 0.018781437226211447, 0.019114928732558503, 0.019442591538923144, 0.01976438305139452, 0.020080319073106378, 0.020390473734526675, 0.020694978817163878, 0.020994022451062702, 0.021287847170596175, 0.021576747318702603, 0.021861065797026364, 0.02214119016846846, 0.022417548129407227, 0.022690602381177535, 0.02296084494400879, 0.02322879097120448, 0.023494972136369557, 0.0237599296814669, 0.024024207227766978, 0.024288343464703266, 0.02455286484265006, 0.02481827840402354, 0.02508506489236795, 0.025353672280724743, 0.025624509858240208, 0.025897943007469004, 0.026174288794077686, 0.026453812475789776, 0.026736725018716226, 0.02702318168712206, 0.027313281747788253, 0.02760706930317773, 0.027904535239413317, 0.02820562024651962, 0.02851021884041699, 0.028818184289693717, 0.029129334326090755, 0.029443457496733556, 0.02976031999912804, 0.03007967282732597, 0.030401259049883503, 0.03072482103750139, 0.03105010746055718, 0.03137687988405048, 0.03170491879940642, 0.032034028948764476, 0.03236404381715717, 0.0326948291907717, 0.033026285704481816, 0.0333583503282996, 0.03369099676952557, 0.03402423479440174, 0.03435810849926659, 0.034692693585955316, 0.03502809371885227, 0.03536443606115623, 0.03570186610519134, 0.03604054192566189, 0.03638062799553011, 0.03672228871154245, 0.03706568178038621, 0.03741095161715958, 0.03775822290535141, 0.038107594462142486, 0.03845913354476884, 0.038812870723211344, 0.03916879543188393, 0.03952685229862596, 0.03988693833342471, 0.04024890104229156, 0.040612537513810554, 0.040977594507480626, 0.041343769554310066, 0.041710713061530874, 0.04207803139505384, 0.04244529089566826, 0.04281202276827174, 0.04317772876782924, 0.04354188759156818, 0.04390396187431227, 0.04426340567304313, 0.044619672317945405, 0.04497222250039376, 0.045320532463849365, 0.045664102161337865, 0.04600246324328123, 0.04633518674190593, 0.04666189032320369, 0.04698224498452572, 0.04729598108516501, 0.047602893608683854, 0.04790284656913725, 0.048195776488490515, 0.048481694889330997, 0.048760689765094595, 0.04903292600923162, 0.04929864480474403, 0.04955816199585417, 0.04981186548395389, 0.05006021170983708, 0.0503037213031539, 0.05054297399738448, 0.05077860292395854, 0.0510112884117829, 0.051241751427799805, 0.05147074679980103, 0.05169905636393836, 0.051927482175902324, 0.05215683991614566, 0.05238795260576175, 0.05262164473058312, 0.05285873684704161, 0.05310004071471144, 0.0533463549679656, 0.053598461303697296, 0.0538571211248301, 0.054123072541689965, 0.05439702759692469, 0.054679669546174245, 0.05497164999801218, 0.05527358569464149, 0.05558605470116757, 0.05590959176764306, 0.05624468263586931, 0.056591757083143894, 0.05695118052840197, 0.05732324407260547, 0.057708152904315996, 0.05810601307211415, 0.058516816706180766, 0.05894042585964105, 0.0593765552333355, 0.05982475414215917, 0.060284388173159745, 0.06075462107127298, 0.061234397463625426, 0.061722427093697865, 0.062217171278397876, 0.06271683232083516, 0.06321934660639938, 0.06372238207762507, 0.0642233407230651, 0.06471936662703455, 0.0652073600114589, 0.06568399756060515, 0.06614575915733503, 0.06658896098025793, 0.06700979472005891, 0.06740437247658096, 0.06776877670259746, 0.06809911437274474, 0.06839157438384882, 0.06864248704273081, 0.0688483843757828, 0.06900605990675171, 0.0691126264994491, 0.06916557085389906, 0.06916280327913334, 0.06910270144372985, 0.06898414692463588, 0.06880655353280422, 0.06856988658610977, 0.06827467252000584, 0.06792199846756856, 0.06751350169506017, 0.06705134903864034, 0.0665382067440421, 0.06597720135529794, 0.06537187252336639, 0.06472611880349108, 0.06404413767542329, 0.06333036114834976, 0.06258938839929581, 0.061825916937887596, 0.06104467379155547, 0.06025034816460723, 0.059447526944821305, 0.05864063431612651, 0.05783387659056191, 0.05703119320271022, 0.05623621462165093, 0.055452227735659596, 0.05468214906021554, 0.05392850591665771, 0.05319342553322926, 0.05247863183748575, 0.05178544954380001, 0.05111481499557698, 0.05046729310158646, 0.04984309961111583, 0.04924212790433655, 0.04866397943208601, 0.048107996922245, 0.04757329947636538, 0.04705881870784639, 0.04656333511911637, 0.046085513976886996, 0.04562394001848014, 0.04517715040528564, 0.04474366542845061, 0.04432201656404614, 0.043910771567470995, 0.04350855638744713, 0.043114073766542534, 0.04272611847612595, 0.042343589207724096, 0.041965497208925145, 0.041590971809718894, 0.04121926303404694, 0.040849741531391176, 0.040481896094501965, 0.04011532905220883, 0.039749749841085646, 0.039384967067122786, 0.03902087936907393, 0.03865746538947464, 0.0382947731481793, 0.03793290909732253, 0.037572027116606656, 0.03721231768448959, 0.03685399743488304, 0.03649729928110762, 0.03614246325973702, 0.03578972821734651, 0.035439324433614874, 0.03509146724538647, 0.034746351708744336, 0.03440414831034729, 0.03406499971571422, 0.03372901852117542, 0.033396285958093616, 0.033066851482911115, 0.032740733174686225, 0.032417918853004185, 0.03209836782344564, 0.03178201315491175, 0.031468764392829474, 0.031158510614240492, 0.030851123734641703, 0.030546461981820063, 0.03024437345836905, 0.029944699721745384, 0.029647279318208954, 0.029351951214518043, 0.029058558078554723, 0.02876694936690115, 0.028476984183722364, 0.02818853388101882, 0.027901484375409655, 0.027615738161177364, 0.027331216003408935, 0.02704785829884665, 0.02676562609565519, 0.026484501766820802, 0.026204489335486185, 0.02592561445421424, 0.025647924044064876, 0.025371485603435613, 0.02509638620083569, 0.024822731170047723, 0.02455064253037354, 0.024280257158729838, 0.024011724744092827, 0.023745205558036695, 0.02348086807775725, 0.023218886499845586, 0.02295943818414488, 0.02270270106721982, 0.022448851084271946, 0.022198059636834716, 0.021950491141326443, 0.021706300690667733, 0.02146563185784227, 0.021228614666662895, 0.020995363751259644, 0.02076597672214274, 0.02054053275321676, 0.02031909140098614, 0.020101691664479403, 0.019888351292145726, 0.019679066340169284, 0.019473810985224285, 0.019272537593592053, 0.01907517704761481, 0.018881639329569176, 0.018691814361997985, 0.01850557310220734, 0.01832276888686813, 0.01814323902032916, 0.017966806597298643, 0.017793282546911395, 0.017622467880957515, 0.01745415612421731, 0.017288135899632028, 0.017124193635579422, 0.016962116357103808, 0.01680169451778553, 0.016642724824380905, 0.016485013002647483, 0.016328376450227434, 0.016172646721309913, 0.01601767178826084, 0.01586331802762682, 0.015709471881983846, 0.01555604115499367, 0.01540295590467341, 0.015250168909102932, 0.015097655689340383, 0.014945414085853726, 0.014793463396928924, 0.014641843099838063, 0.014490611187578047, 0.014339842165261924, 0.014189624760279036, 0.014040059408734089, 0.013891255587029586, 0.013743329061503705, 0.013596399130537661, 0.013450585932417585, 0.013306007888467522, 0.013162779344679822, 0.013021008466487821, 0.012880795430770179, 0.01274223094708174, 0.012605395126947892, 0.012470356706399292, 0.012337172613318986, 0.012205887858212269, 0.012076535715240564, 0.011949138150276532, 0.01182370644478488, 0.011700241958832836, 0.011578736973711501, 0.011459175554616617, 0.01134153437655313, 0.011225783461956037, 0.011111886786172379, 0.010999802716557873, 0.010889484262028406, 0.010780879121938146, 0.01067392953555381, 0.010568571945566702, 0.010464736500455056, 0.010362346430547046, 0.010261317340872938, 0.010161556469966488, 0.010062961967403094, 0.00996542224391824, 0.00986881544639241, 0.009773009105944936, 0.009677860001050718, 0.00958321426932646, 0.009488907791826734, 0.009394766862835186, 0.009300609146746198, 0.009206244912246586, 0.009111478523143637, 0.009016110155329587, 0.00891993770095128, 0.008822758814202795, 0.008724373048537048, 0.008624584032639047, 0.008523201632260882, 0.008420044046918053, 0.008314939794323956, 0.008207729541039793, 0.008098267744819962, 0.007986424082156602, 0.007872084643169804, 0.007755152884824451, 0.007635550342079863, 0.007513217104608103, 0.007388112073821584, 0.0072602130208581405, 0.007129516470678814, 0.006996037440416758, 0.006859809061528338, 0.006720882115171917, 0.006579324508675569, 0.006435220718118458, 0.006288671218157835, 0.006139791915531913, 0.0059887135974456, 0.0058355814005740525, 0.005680554300992574, 0.005523804620215812, 0.005365517537946337, 0.0052058905982903855, 0.0050451331932535965, 0.004883466005389324, 0.0047211203905991985, 0.00455833768228632, 0.004395368399305829, 0.004232471342364798, 0.004069912566582908, 0.00390796422169768, 0.0037469032557145353, 0.0035870099824936606, 0.0034285665186395914, 0.0032718550999410816, 0.0031171562923142516, 0.002964747116572839, 0.0028148991102350217, 0.002667876352854979, 0.0025239334839335104, 0.0023833137442453634, 0.002246247072367072], \"yaxis\": \"y\"}, {\"legendgroup\": \"bmi\", \"marker\": {\"color\": \"Red\", \"symbol\": \"line-ns-open\"}, \"mode\": \"markers\", \"name\": \"bmi\", \"showlegend\": false, \"type\": \"scatter\", \"x\": [36.6, 28.893236911794666, 32.5, 34.4, 24.0, 29.0, 27.4, 22.8, 28.893236911794666, 24.2, 29.7, 36.8, 27.3, 28.893236911794666, 28.2, 30.9, 37.5, 25.8, 37.8, 28.893236911794666, 22.4, 26.6, 32.5, 27.2, 23.5, 28.2, 28.893236911794666, 28.3, 28.893236911794666, 44.2, 25.4, 22.2, 30.5, 29.7, 26.5, 33.7, 23.1, 32.0, 29.9, 23.9, 28.5, 26.4, 28.893236911794666, 20.2, 33.6, 28.893236911794666, 38.6, 33.7, 39.2, 28.893236911794666, 28.893236911794666, 27.7, 31.4, 28.893236911794666, 36.5, 33.2, 28.893236911794666, 32.8, 27.7, 40.4, 22.2, 25.3, 30.2, 28.893236911794666, 24.0, 20.3, 30.0, 28.9, 28.893236911794666, 28.1, 31.1, 27.4, 26.4, 21.7, 27.0, 24.1, 28.893236911794666, 45.9, 44.1, 28.893236911794666, 22.9, 29.7, 28.893236911794666, 29.1, 27.3, 32.3, 41.1, 25.6, 29.8, 26.3, 37.5, 26.2, 29.4, 32.3, 24.4, 31.4, 27.7, 28.0, 28.8, 31.4, 34.6, 19.4, 28.5, 28.893236911794666, 30.3, 40.4, 24.2, 41.5, 22.6, 24.2, 28.893236911794666, 27.1, 30.9, 27.3, 31.3, 24.0, 31.0, 28.0, 30.3, 31.7, 35.8, 28.893236911794666, 28.4, 28.893236911794666, 24.0, 29.0, 28.893236911794666, 36.5, 20.1, 36.5, 28.893236911794666, 26.7, 38.7, 29.9, 34.9, 27.0, 26.6, 25.0, 23.8, 21.8, 36.8, 30.0, 27.5, 28.893236911794666, 24.6, 32.9, 26.1, 28.893236911794666, 31.9, 34.1, 27.5, 25.6, 36.9, 31.4, 37.3, 34.1, 25.0, 28.893236911794666, 28.893236911794666, 28.893236911794666, 45.7, 34.2, 23.6, 27.3, 28.893236911794666, 22.3, 31.4, 28.893236911794666, 28.893236911794666, 26.4, 32.9, 28.893236911794666, 37.1, 45.0, 25.5, 28.893236911794666, 26.1, 30.8, 32.0, 29.9, 28.893236911794666, 37.4, 31.7, 34.5, 27.9, 29.5, 28.893236911794666, 46.0, 42.5, 35.5, 31.1, 26.9, 35.8, 45.5, 28.5, 28.893236911794666, 26.6, 28.893236911794666, 31.5, 32.0, 30.8, 31.1, 33.0, 23.4, 26.9, 33.6, 23.9, 26.3, 27.3, 30.7, 20.5, 21.5, 31.0, 27.1, 40.0, 28.893236911794666, 28.6, 28.1, 28.4, 42.2, 25.8, 31.9, 31.0, 27.5, 28.893236911794666, 29.6, 35.4, 16.9, 21.5, 34.4, 28.0, 26.8, 39.3, 31.7, 32.6, 28.4, 35.9, 21.2, 34.5, 42.4, 40.5, 36.7, 30.9, 29.3, 28.893236911794666, 19.6, 18.0, 39.2, 17.6, 35.9, 19.1, 17.7, 27.0, 32.3, 35.0, 22.0, 39.4, 26.1, 42.4, 33.0, 19.7, 22.5, 24.6, 25.2, 41.8, 31.5, 27.3, 23.7, 24.5, 28.4, 26.9, 26.7, 31.2, 25.0, 25.4, 27.5, 16.0, 27.0, 31.6, 25.1, 30.9, 24.8, 23.4, 29.4, 18.3, 20.0, 19.5, 36.0, 27.7, 27.5, 28.5, 26.8, 33.6, 29.1, 28.5, 34.9, 25.1, 35.3, 26.4, 31.5, 40.1, 43.1, 36.7, 29.3, 21.2, 31.2, 21.4, 27.9, 34.3, 31.0, 27.7, 36.0, 38.7, 27.6, 25.1, 16.5, 22.8, 35.4, 24.3, 34.3, 40.1, 25.7, 21.9, 38.4, 26.1, 30.5, 25.9, 29.9, 18.6, 27.1, 24.9, 25.2, 19.4, 29.0, 28.893236911794666, 34.6, 24.6, 25.8, 26.1, 29.0, 27.2, 20.7, 30.0, 37.3, 34.1, 23.6, 25.2, 39.5, 23.5, 23.3, 28.1, 28.893236911794666, 24.4, 29.8, 24.9, 35.1, 32.3, 43.6, 21.0, 16.6, 37.5, 24.2, 31.6, 21.6, 31.0, 31.1, 15.5, 27.3, 20.5, 35.6, 16.7, 41.8, 41.9, 16.4, 17.1, 29.2, 27.1, 37.9, 44.6, 22.8, 33.2, 22.3, 26.4, 39.6, 28.1, 39.2, 36.0, 37.8, 40.3, 41.5, 17.7, 21.2, 41.6, 23.8, 23.7, 24.8, 39.0, 37.9, 31.1, 23.2, 18.9, 36.1, 36.3, 40.5, 25.4, 46.5, 16.8, 46.6, 26.4, 26.2, 35.2, 20.9, 36.8, 34.4, 22.2, 13.8, 40.3, 28.4, 31.7, 34.2, 24.6, 28.893236911794666, 36.9, 31.1, 31.9, 31.8, 18.0, 28.5, 29.5, 22.0, 29.4, 28.8, 26.2, 26.9, 23.2, 27.9, 36.8, 28.9, 31.0, 29.4, 15.3, 37.1, 30.5, 38.2, 23.2, 30.2, 45.2, 21.8, 24.4, 17.0, 19.5, 27.8, 25.1, 26.8, 27.5, 28.1, 27.3, 27.4, 22.2, 22.9, 26.6, 23.0, 32.6, 22.1, 28.893236911794666, 22.5, 28.893236911794666, 25.5, 31.4, 26.0, 20.0, 31.6, 31.2, 21.7, 24.2, 25.0, 36.7, 28.9, 29.7, 44.3, 39.7, 34.7, 35.0, 21.3, 29.1, 23.9, 36.0, 41.2, 27.1, 33.2, 25.4, 30.7, 34.8, 19.2, 31.7, 35.7, 37.8, 29.7, 35.8, 23.6, 39.7, 40.5, 21.4, 40.8, 24.7, 21.0, 45.0, 26.2, 28.893236911794666, 28.3, 41.6, 19.0, 32.4, 34.0, 39.4, 28.7, 31.8, 31.2, 20.9, 32.1, 31.0, 23.1, 26.7, 27.9, 27.3, 20.4, 29.6, 30.6, 33.6, 24.2, 17.7, 22.6, 28.1, 26.5, 28.7, 39.5, 35.1, 27.9, 19.3, 28.4, 26.7, 40.9, 17.2, 28.3, 16.1, 27.6, 16.5, 35.8, 16.2, 24.6, 32.0, 35.3, 19.2, 40.4, 30.7, 24.3, 26.4, 34.7, 31.7, 35.6, 22.8, 28.0, 35.6, 40.6, 29.3, 21.0, 20.0, 26.7, 18.4, 34.5, 27.7, 21.1, 24.4, 19.4, 42.3, 32.2, 26.8, 25.4, 23.5, 26.1, 17.5, 24.2, 30.8, 23.4, 30.9, 23.6, 18.7, 27.7, 16.7, 31.2, 17.0, 29.8, 19.7, 29.1, 27.2, 22.3, 27.0, 42.1, 34.2, 40.9, 29.4, 32.8, 21.9, 39.6, 28.3, 39.3, 28.0, 27.1, 31.2, 23.1, 20.8, 34.1, 30.1, 35.8, 34.6, 29.8, 26.7, 30.2, 29.7, 23.3, 35.6, 27.0, 21.6, 29.4, 22.8, 17.3, 29.8, 36.4, 34.7, 28.7, 26.7, 22.1, 27.7, 40.5, 23.0, 25.3, 22.1, 28.0, 12.0, 28.4, 29.6, 36.2, 22.8, 24.3, 26.9, 25.3, 35.3, 18.3, 28.893236911794666, 26.0, 21.0, 28.893236911794666, 27.6, 20.5, 30.2, 21.9, 28.8, 36.2, 25.9, 28.893236911794666, 21.4, 20.4, 31.6, 14.4, 23.7, 30.2, 19.5, 32.6, 34.2, 43.0, 42.2, 19.7, 41.7, 21.6, 24.2, 19.2, 25.8, 23.2, 20.8, 28.4, 30.2, 23.1, 16.7, 39.5, 33.8, 34.6, 25.0, 43.9, 27.1, 25.9, 22.7, 27.1, 25.6, 28.4, 35.8, 19.5, 31.2, 43.6, 31.2, 23.5, 18.7, 24.4, 29.4, 37.0, 29.4, 38.5, 23.5, 28.893236911794666, 16.3, 35.9, 35.9, 20.3, 32.3, 27.9, 22.3, 31.8, 29.7, 27.1, 24.5, 28.9, 28.893236911794666, 24.6, 31.6, 32.3, 41.1, 30.0, 26.4, 30.0, 20.8, 44.0, 30.6, 17.2, 29.1, 27.4, 23.5, 31.8, 23.5, 28.5, 32.7, 25.6, 41.2, 27.0, 21.3, 34.3, 29.5, 31.6, 26.1, 27.5, 26.5, 33.2, 40.2, 32.5, 23.4, 32.5, 23.9, 29.5, 24.0, 17.7, 26.2, 33.3, 17.4, 29.0, 21.7, 37.8, 41.8, 24.2, 31.1, 23.1, 25.1, 41.3, 22.7, 24.0, 20.5, 20.4, 27.6, 27.0, 26.4, 34.9, 35.0, 28.5, 32.3, 23.9, 26.4, 20.9, 23.3, 32.7, 26.5, 27.9, 30.3, 27.6, 14.6, 40.9, 28.4, 23.7, 27.9, 25.2, 34.4, 36.7, 22.2, 27.2, 27.3, 27.3, 42.2, 26.4, 39.4, 34.8, 20.0, 34.1, 31.4, 17.8, 46.1, 28.1, 24.7, 22.7, 34.6, 21.4, 27.4, 36.6, 32.9, 24.7, 21.4, 33.1, 26.7, 24.4, 25.8, 34.3, 18.1, 43.8, 26.9, 36.6, 24.9, 27.6, 20.9, 30.3, 37.4, 35.9, 31.5, 24.4, 38.9, 28.6, 28.893236911794666, 27.5, 28.893236911794666, 43.7, 27.0, 29.3, 34.7, 28.893236911794666, 39.9, 26.7, 24.8, 29.7, 15.9, 31.4, 28.893236911794666, 27.8, 35.5, 31.7, 33.2, 27.7, 31.9, 25.8, 27.7, 23.4, 24.3, 30.3, 29.1, 20.1, 21.2, 31.6, 41.6, 36.4, 30.5, 32.8, 32.3, 30.1, 34.7, 29.7, 28.893236911794666, 31.3, 35.6, 35.2, 27.6, 35.2, 28.1, 31.8, 23.3, 28.8, 19.5, 30.0, 25.5, 28.8, 40.2, 32.9, 22.4, 36.9, 19.8, 12.3, 32.4, 24.8, 16.4, 35.9, 23.0, 30.5, 26.8, 35.3, 27.9, 22.1, 38.3, 41.0, 28.893236911794666, 22.8, 30.1, 20.8, 31.7, 30.1, 30.8, 42.6, 37.1, 34.2, 43.4, 18.7, 34.0, 23.2, 41.7, 15.1, 20.6, 18.9, 26.6, 30.1, 32.1, 15.1, 33.5, 23.4, 43.2, 19.1, 26.1, 17.3, 32.1, 28.893236911794666, 30.4, 29.9, 32.8, 22.7, 28.7, 35.2, 22.4, 32.3, 18.6, 42.1, 38.0, 22.3, 33.4, 23.2, 18.0, 20.1, 19.2, 28.7, 28.1, 22.6, 18.0, 21.4, 27.8, 27.6, 32.2, 24.9, 27.1, 24.6, 24.6, 18.9, 16.3, 31.8, 21.0, 20.1, 29.1, 32.3, 29.4, 44.9, 28.5, 19.5, 45.0, 22.8, 25.5, 31.5, 31.6, 31.0, 29.5, 23.1, 30.7, 44.7, 33.5, 25.9, 28.3, 26.8, 27.8, 36.0, 22.1, 38.4, 30.1, 26.2, 26.6, 32.6, 27.0, 25.3, 31.9, 18.4, 30.4, 28.2, 35.7, 35.0, 27.2, 23.0, 25.0, 24.5, 30.9, 26.0, 27.2, 30.4, 21.7, 29.1, 17.6, 29.2, 28.1, 26.6, 26.9, 36.2, 25.9, 40.9, 31.5, 23.3, 37.6, 39.8, 35.1, 21.9, 34.4, 24.0, 29.3, 26.0, 31.3, 31.0, 26.5, 16.0, 21.1, 42.2, 27.7, 23.6, 18.3, 44.3, 27.3, 44.7, 33.1, 30.0, 40.1, 23.1, 30.3, 30.5, 22.8, 42.0, 29.9, 24.0, 36.7, 22.2, 25.5, 34.3, 16.0, 25.6, 23.3, 41.6, 35.6, 22.0, 26.8, 31.9, 19.7, 28.893236911794666, 31.1, 34.4, 33.2, 28.893236911794666, 21.6, 25.4, 41.6, 33.1, 21.8, 30.0, 35.2, 35.6, 28.893236911794666, 27.8, 29.3, 37.2, 26.1, 21.6, 22.7, 30.2, 18.0, 27.8, 23.5, 41.2, 22.7, 29.2, 42.2, 24.0, 45.5, 19.4, 28.2, 20.1, 27.2, 26.5, 17.6, 42.8, 29.3, 21.3, 29.8, 24.1, 35.2, 18.8, 17.4, 31.5, 29.9, 27.3, 28.1, 28.9, 25.2, 24.3, 37.9, 28.2, 18.4, 23.1, 39.4, 29.5, 18.3, 28.7, 32.9, 26.7, 20.1, 17.6, 43.7, 41.1, 26.8, 31.2, 27.4, 25.1, 33.0, 30.7, 42.9, 14.3, 33.2, 43.0, 22.3, 32.8, 30.5, 36.0, 26.5, 20.1, 28.893236911794666, 28.1, 16.2, 30.0, 31.3, 26.7, 37.7, 35.8, 27.0, 20.7, 22.2, 28.893236911794666, 41.5, 33.5, 21.8, 22.1, 30.2, 38.7, 32.1, 41.3, 20.1, 22.1, 24.9, 23.0, 29.3, 22.8, 31.6, 19.4, 22.5, 31.6, 29.1, 28.893236911794666, 43.4, 26.5, 29.7, 21.8, 23.4, 23.0, 21.5, 14.6, 28.5, 29.0, 26.9, 29.6, 28.5, 25.5, 30.5, 23.0, 22.8, 31.4, 35.2, 23.3, 28.893236911794666, 31.2, 24.8, 25.8, 43.1, 28.893236911794666, 27.8, 21.4, 22.1, 31.8, 20.1, 29.1, 22.6, 25.1, 33.3, 15.9, 20.8, 19.5, 39.0, 23.1, 18.8, 36.3, 32.8, 35.8, 26.7, 26.3, 26.5, 43.7, 24.7, 46.2, 43.3, 30.9, 38.7, 28.6, 30.2, 30.5, 33.9, 28.6, 24.5, 28.893236911794666, 17.2, 27.2, 19.3, 18.5, 32.0, 44.5, 37.0, 30.8, 24.7, 18.3, 44.0, 27.6, 45.4, 28.5, 17.6, 28.893236911794666, 27.5, 32.8, 29.5, 36.4, 26.1, 35.3, 28.893236911794666, 18.1, 27.1, 23.0, 26.6, 28.893236911794666, 24.1, 30.3, 32.2, 26.5, 30.6, 25.8, 41.9, 29.2, 44.3, 29.1, 17.5, 31.9, 32.2, 26.0, 25.4, 27.9, 28.893236911794666, 32.8, 34.0, 25.5, 35.6, 28.3, 36.9, 22.1, 31.5, 26.7, 24.9, 32.4, 32.2, 30.3, 28.7, 24.1, 25.3, 24.8, 28.893236911794666, 34.8, 39.2, 24.7, 28.6, 27.7, 33.1, 27.3, 20.3, 33.9, 28.893236911794666, 28.3, 32.4, 19.7, 33.7, 35.5, 20.0, 16.3, 36.4, 28.1, 26.9, 29.4, 17.2, 26.5, 19.5, 30.6, 31.9, 26.6, 19.9, 18.0, 26.7, 25.3, 31.4, 21.1, 17.9, 27.5, 37.6, 24.1, 18.1, 31.0, 26.6, 38.7, 27.2, 27.8, 28.3, 27.5, 43.3, 20.1, 25.9, 25.8, 16.4, 29.4, 28.9, 26.7, 27.8, 38.7, 26.8, 36.1, 26.7, 27.0, 21.2, 21.0, 37.4, 26.5, 28.9, 29.5, 17.7, 34.9, 28.1, 36.8, 33.3, 29.2, 34.0, 33.9, 28.7, 21.1, 38.2, 27.7, 35.8, 27.1, 20.5, 35.6, 15.6, 43.0, 17.8, 28.893236911794666, 25.8, 20.5, 19.9, 24.4, 18.3, 35.1, 35.1, 37.1, 29.4, 31.7, 31.4, 33.1, 28.5, 24.0, 18.0, 27.6, 16.9, 16.4, 35.1, 28.8, 17.6, 21.3, 19.7, 37.3, 35.5, 25.5, 30.0, 21.9, 45.5, 28.893236911794666, 34.9, 19.3, 32.1, 26.9, 32.5, 19.5, 31.7, 21.0, 28.893236911794666, 20.3, 28.893236911794666, 21.5, 40.4, 28.893236911794666, 30.1, 40.2, 34.7, 25.9, 23.7, 34.3, 34.3, 26.3, 22.1, 33.3, 37.3, 20.5, 19.1, 34.7, 16.3, 28.0, 17.2, 41.1, 25.0, 27.5, 21.5, 15.1, 29.6, 30.2, 34.9, 30.7, 36.5, 21.5, 33.2, 22.3, 28.893236911794666, 27.3, 28.3, 31.9, 24.9, 32.7, 26.4, 24.8, 30.7, 25.4, 32.0, 24.4, 20.4, 29.5, 24.4, 22.8, 20.0, 36.3, 32.8, 34.4, 30.5, 29.7, 36.9, 34.2, 37.0, 28.893236911794666, 24.2, 30.6, 38.6, 32.8, 42.9, 25.9, 24.7, 35.8, 28.893236911794666, 31.2, 26.1, 30.8, 40.5, 25.2, 28.7, 28.893236911794666, 30.4, 15.2, 36.6, 34.5, 23.7, 35.7, 38.9, 40.0, 18.4, 29.0, 20.6, 28.2, 26.2, 34.8, 34.5, 30.6, 18.8, 29.1, 22.1, 28.9, 34.7, 20.3, 25.1, 18.2, 25.5, 34.4, 25.2, 32.5, 42.1, 19.5, 27.7, 25.1, 29.6, 32.9, 25.1, 24.7, 17.5, 20.8, 23.3, 22.8, 26.6, 25.5, 25.8, 25.4, 28.893236911794666, 20.2, 27.7, 23.1, 14.3, 23.3, 23.4, 22.8, 30.9, 28.4, 41.9, 34.3, 25.1, 10.3, 31.8, 31.8, 23.0, 25.4, 14.1, 35.1, 26.9, 33.0, 22.1, 20.8, 30.0, 44.0, 16.6, 28.4, 26.3, 39.4, 15.7, 34.1, 29.8, 23.6, 18.3, 28.3, 18.5, 18.4, 24.1, 25.5, 25.3, 39.9, 28.8, 37.2, 28.893236911794666, 34.3, 29.0, 28.893236911794666, 37.2, 28.893236911794666, 19.4, 26.2, 21.1, 28.893236911794666, 31.6, 29.3, 28.4, 35.3, 40.1, 39.0, 31.5, 28.5, 28.5, 28.6, 35.2, 32.5, 35.9, 25.1, 16.8, 27.9, 16.3, 28.893236911794666, 28.893236911794666, 21.4, 32.7, 23.6, 19.8, 33.1, 28.1, 38.9, 23.8, 33.8, 26.7, 28.893236911794666, 32.2, 28.1, 21.3, 44.0, 21.5, 37.3, 44.8, 21.4, 32.3, 35.4, 19.7, 31.3, 35.5, 25.8, 32.8, 35.9, 41.8, 27.3, 27.7, 13.4, 17.0, 20.0, 40.9, 38.5, 30.9, 33.4, 17.1, 28.6, 24.0, 32.0, 28.4, 20.3, 33.8, 43.2, 22.7, 29.9, 28.893236911794666, 28.893236911794666, 29.9, 22.7, 16.1, 33.8, 22.6, 25.5, 22.5, 27.9, 23.5, 32.2, 28.893236911794666, 29.9, 28.7, 37.2, 22.2, 26.6, 24.6, 41.7, 26.2, 27.1, 41.8, 34.2, 19.2, 25.2, 18.7, 43.0, 28.2, 34.7, 25.5, 39.8, 20.8, 28.2, 31.0, 28.893236911794666, 21.6, 26.2, 28.893236911794666, 26.0, 22.5, 24.0, 31.5, 36.3, 25.4, 32.2, 39.8, 18.6, 30.7, 16.4, 20.5, 28.7, 29.0, 24.4, 29.9, 25.3, 23.5, 20.5, 33.5, 22.0, 29.0, 28.893236911794666, 30.7, 37.4, 16.6, 29.5, 27.3, 27.5, 33.9, 27.9, 22.9, 32.1, 18.2, 30.2, 31.3, 20.3, 23.2, 30.8, 22.9, 42.8, 22.2, 28.7, 32.3, 24.2, 23.9, 34.2, 29.0, 29.9, 23.0, 17.3, 21.0, 34.3, 19.8, 24.3, 16.4, 32.6, 23.7, 28.893236911794666, 27.0, 25.6, 34.0, 24.9, 26.3, 43.1, 39.6, 15.2, 41.8, 20.1, 39.3, 28.3, 27.5, 33.9, 20.0, 34.8, 20.7, 24.6, 39.4, 28.893236911794666, 28.893236911794666, 29.4, 24.8, 32.3, 25.3, 39.0, 29.4, 31.9, 26.4, 20.6, 26.3, 23.6, 18.0, 26.4, 22.0, 30.5, 29.1, 24.9, 36.4, 31.2, 32.8, 31.6, 35.8, 35.2, 28.0, 24.9, 35.7, 30.7, 33.9, 28.893236911794666, 27.8, 23.2, 17.1, 31.6, 23.8, 29.6, 45.0, 25.6, 27.7, 25.5, 18.3, 21.0, 28.6, 23.5, 36.1, 29.2, 27.6, 36.0, 20.4, 19.9, 29.2, 27.9, 38.1, 24.1, 37.8, 29.1, 35.7, 28.893236911794666, 34.5, 34.1, 21.1, 22.2, 20.5, 26.2, 23.5, 29.1, 39.8, 21.2, 28.893236911794666, 20.2, 30.8, 33.8, 17.1, 21.3, 28.893236911794666, 22.3, 28.9, 26.7, 41.0, 16.7, 29.1, 23.6, 27.8, 31.4, 28.2, 30.8, 36.1, 32.7, 26.4, 20.7, 18.5, 33.5, 14.1, 23.4, 23.2, 36.0, 35.6, 21.8, 34.9, 20.4, 25.0, 22.3, 27.3, 28.9, 30.4, 36.9, 27.7, 44.4, 28.2, 35.0, 20.6, 26.5, 25.1, 22.2, 27.3, 27.3, 41.9, 38.8, 18.3, 19.5, 17.2, 20.8, 23.8, 24.7, 23.1, 22.4, 29.9, 20.0, 28.7, 26.2, 29.6, 30.8, 32.7, 21.8, 35.7, 25.4, 32.8, 21.1, 31.7, 20.0, 34.7, 28.0, 16.4, 28.893236911794666, 24.6, 24.6, 30.3, 23.7, 33.5, 24.9, 31.4, 18.4, 24.2, 34.3, 28.893236911794666, 25.1, 33.3, 22.6, 26.3, 29.7, 18.5, 21.4, 45.5, 34.2, 32.7, 38.1, 26.7, 22.6, 27.7, 20.7, 25.7, 17.3, 23.3, 16.2, 20.5, 33.6, 20.2, 26.2, 30.1, 25.1, 32.7, 26.4, 21.0, 24.1, 20.4, 30.9, 39.1, 27.7, 29.5, 30.3, 28.893236911794666, 37.8, 30.2, 24.2, 25.2, 22.2, 17.7, 29.6, 32.2, 28.7, 19.5, 38.5, 20.6, 21.5, 43.8, 18.0, 28.2, 26.6, 35.5, 30.7, 18.7, 22.4, 25.2, 24.2, 20.5, 24.5, 24.8, 42.6, 23.8, 42.3, 42.2, 26.1, 22.8, 42.3, 28.5, 23.0, 32.8, 23.8, 31.7, 34.9, 26.8, 21.3, 19.8, 42.4, 16.4, 28.2, 26.3, 17.0, 23.3, 25.1, 35.3, 36.3, 30.4, 43.9, 26.4, 28.3, 42.3, 38.0, 32.7, 28.8, 38.5, 30.1, 31.3, 28.4, 26.6, 20.4, 34.7, 32.5, 30.7, 29.6, 28.893236911794666, 39.4, 28.893236911794666, 26.1, 27.2, 41.3, 28.893236911794666, 20.9, 41.5, 31.1, 24.5, 23.0, 24.7, 19.3, 37.0, 31.0, 33.1, 26.6, 27.7, 40.3, 19.5, 26.7, 26.1, 38.2, 21.3, 40.9, 27.3, 20.9, 29.2, 17.9, 38.0, 26.1, 22.2, 24.6, 33.4, 34.4, 17.6, 19.2, 31.8, 28.1, 32.1, 17.4, 20.2, 23.4, 39.5, 21.5, 24.3, 15.3, 32.4, 16.1, 34.3, 43.8, 19.6, 36.7, 33.7, 38.9, 28.0, 23.9, 16.6, 42.9, 17.1, 27.2, 30.3, 33.9, 20.0, 19.4, 21.5, 28.5, 34.4, 43.7, 13.7, 33.7, 18.0, 27.9, 21.8, 35.8, 23.1, 30.3, 32.0, 25.0, 30.7, 24.3, 11.5, 30.7, 33.7, 26.5, 17.6, 28.893236911794666, 22.5, 18.5, 22.4, 25.3, 37.3, 39.7, 28.0, 41.4, 25.3, 28.1, 41.2, 28.8, 31.0, 28.3, 23.9, 44.2, 27.6, 35.7, 37.4, 27.5, 23.4, 25.8, 28.893236911794666, 22.8, 19.5, 38.0, 23.4, 29.5, 28.2, 14.2, 28.9, 31.4, 32.4, 22.0, 26.4, 26.1, 37.6, 18.8, 23.8, 23.8, 20.4, 40.3, 23.6, 34.3, 32.7, 28.7, 24.5, 24.8, 23.2, 23.0, 39.3, 20.1, 25.4, 23.8, 28.4, 15.4, 28.2, 26.0, 41.5, 32.2, 25.7, 33.0, 35.0, 27.4, 16.4, 31.5, 29.2, 25.9, 32.3, 28.893236911794666, 30.4, 45.1, 25.9, 36.6, 18.6, 27.5, 31.3, 37.5, 23.1, 35.0, 27.0, 29.8, 23.5, 31.8, 20.0, 29.4, 24.3, 45.4, 29.5, 28.893236911794666, 29.4, 29.1, 38.8, 23.4, 19.7, 20.3, 33.5, 36.7, 24.4, 38.8, 44.2, 33.4, 32.5, 15.1, 21.5, 30.4, 33.4, 18.2, 18.7, 38.4, 36.4, 20.6, 18.2, 17.0, 31.8, 33.0, 24.7, 28.1, 40.3, 35.2, 31.2, 37.6, 38.7, 28.893236911794666, 28.893236911794666, 28.1, 29.2, 31.1, 24.1, 18.7, 39.6, 15.7, 32.4, 42.7, 18.6, 31.4, 33.7, 24.5, 33.7, 35.4, 28.893236911794666, 22.5, 33.6, 29.7, 28.893236911794666, 25.7, 20.2, 22.7, 17.4, 22.2, 23.8, 28.7, 33.1, 28.0, 16.7, 27.1, 26.4, 23.7, 33.3, 18.9, 25.5, 35.9, 23.2, 22.2, 34.0, 20.4, 34.5, 31.9, 19.8, 29.0, 36.7, 21.3, 23.7, 25.7, 34.0, 30.7, 44.8, 27.7, 23.2, 30.1, 29.3, 29.5, 25.8, 26.2, 28.8, 29.8, 26.5, 27.8, 29.0, 19.1, 17.1, 24.6, 18.3, 42.8, 46.5, 38.4, 26.0, 26.8, 21.1, 29.0, 43.0, 36.6, 27.5, 40.2, 37.1, 32.0, 32.2, 20.6, 24.1, 25.0, 25.2, 27.6, 27.6, 39.5, 27.2, 26.3, 28.9, 30.0, 23.7, 25.5, 24.6, 20.7, 36.4, 23.4, 32.3, 18.8, 15.5, 21.4, 31.7, 29.7, 34.3, 22.1, 21.5, 30.4, 21.6, 30.9, 21.9, 19.2, 30.3, 23.0, 24.1, 27.6, 23.9, 26.9, 23.9, 40.5, 32.0, 20.5, 44.5, 16.2, 35.8, 24.0, 33.9, 36.0, 22.9, 44.5, 17.5, 32.3, 30.3, 33.5, 30.9, 25.5, 30.0, 32.2, 21.7, 24.7, 28.8, 27.0, 26.0, 27.1, 18.5, 18.8, 31.5, 18.1, 24.3, 28.0, 28.893236911794666, 17.3, 17.2, 26.9, 22.4, 25.8, 21.3, 43.0, 24.4, 30.1, 21.3, 17.8, 28.4, 23.4, 24.3, 27.8, 30.5, 28.893236911794666, 25.8, 26.7, 28.1, 22.2, 25.1, 20.9, 28.9, 28.893236911794666, 35.9, 29.8, 26.7, 28.4, 26.7, 32.5, 43.8, 28.3, 36.6, 33.1, 27.0, 23.6, 28.893236911794666, 21.8, 23.5, 28.7, 31.6, 31.9, 25.2, 25.9, 32.5, 28.1, 27.4, 21.2, 26.8, 18.5, 28.893236911794666, 30.6, 19.9, 28.893236911794666, 26.5, 43.8, 31.8, 36.6, 22.9, 18.7, 29.6, 43.6, 28.893236911794666, 20.3, 21.3, 39.2, 30.2, 35.3, 37.0, 32.1, 30.5, 22.8, 34.5, 37.4, 19.5, 30.4, 25.3, 23.1, 30.7, 18.8, 28.6, 27.5, 26.5, 40.3, 37.9, 17.1, 33.6, 43.4, 30.5, 38.1, 29.9, 32.7, 28.6, 38.5, 22.9, 38.0, 43.8, 20.8, 26.8, 25.5, 28.893236911794666, 25.4, 26.7, 21.3, 34.7, 17.9, 36.3, 18.4, 34.5, 33.4, 19.4, 25.6, 24.5, 30.0, 28.9, 28.1, 23.0, 33.5, 34.8, 17.6, 21.1, 29.0, 15.8, 41.2, 29.7, 40.8, 33.2, 37.0, 24.5, 34.5, 28.0, 26.8, 21.0, 23.8, 29.3, 24.4, 22.6, 22.8, 29.7, 32.4, 35.8, 31.1, 31.9, 33.7, 25.6, 19.9, 45.3, 15.5, 28.3, 40.2, 24.3, 24.6, 26.6, 30.9, 23.5, 23.9, 34.2, 34.9, 26.2, 36.2, 22.4, 19.3, 41.7, 46.0, 26.9, 40.1, 27.7, 29.5, 26.0, 22.7, 16.0, 27.7, 33.1, 33.1, 29.7, 34.0, 33.3, 27.0, 14.2, 19.4, 15.3, 28.7, 21.0, 28.9, 20.3, 28.0, 29.6, 30.2, 22.2, 28.4, 29.6, 28.6, 32.6, 29.0, 30.1, 31.2, 20.7, 45.1, 14.8, 37.4, 19.9, 16.0, 27.4, 33.4, 18.5, 33.4, 20.8, 22.0, 32.5, 19.2, 32.9, 23.5, 21.7, 29.1, 28.893236911794666, 30.3, 29.4, 30.1, 32.9, 34.0, 38.6, 29.3, 43.6, 22.7, 36.6, 22.6, 25.6, 31.4, 26.0, 27.0, 33.3, 17.3, 26.9, 24.8, 20.0, 35.8, 36.9, 29.6, 31.1, 25.1, 36.3, 28.2, 35.8, 30.9, 22.1, 17.6, 29.5, 27.0, 33.2, 24.4, 34.4, 36.7, 27.2, 27.5, 32.6, 28.893236911794666, 28.4, 25.5, 28.7, 23.8, 34.4, 26.1, 28.5, 29.6, 29.4, 28.2, 28.7, 38.1, 28.893236911794666, 22.2, 25.7, 17.7, 26.4, 32.8, 34.5, 39.5, 23.5, 38.8, 21.2, 32.0, 32.6, 25.2, 27.4, 28.893236911794666, 38.6, 32.9, 26.0, 29.2, 29.2, 26.4, 23.1, 21.2, 26.2, 23.4, 19.8, 20.4, 25.9, 34.1, 18.3, 35.0, 26.4, 27.6, 27.0, 28.893236911794666, 31.3, 18.0, 22.1, 34.4, 33.2, 23.1, 39.7, 40.7, 30.9, 27.5, 28.3, 33.4, 33.1, 41.5, 17.1, 30.0, 24.9, 32.5, 26.1, 19.2, 38.7, 29.5, 28.1, 14.1, 33.9, 26.0, 28.893236911794666, 29.2, 26.3, 23.6, 18.6, 29.7, 30.9, 22.8, 25.5, 25.6, 23.0, 20.6, 28.893236911794666, 28.4, 29.7, 26.0, 37.5, 42.3, 21.4, 29.3, 31.0, 22.0, 20.9, 45.9, 29.1, 28.4, 22.6, 24.2, 16.3, 35.9, 29.8, 37.0, 35.8, 21.1, 37.6, 24.8, 31.9, 17.5, 28.893236911794666, 17.6, 38.9, 15.2, 27.4, 27.9, 16.1, 39.0, 36.6, 33.7, 27.6, 31.0, 28.893236911794666, 28.5, 31.4, 25.3, 17.2, 26.9, 32.0, 22.5, 17.3, 27.0, 33.1, 25.0, 28.893236911794666, 31.1, 19.6, 24.7, 38.0, 24.0, 30.0, 24.6, 23.1, 17.4, 43.1, 27.1, 14.3, 46.8, 26.0, 29.3, 28.893236911794666, 18.6, 27.0, 25.7, 25.5, 27.3, 24.1, 42.7, 41.2, 20.2, 30.9, 27.7, 22.3, 39.4, 34.2, 20.1, 36.8, 28.893236911794666, 33.9, 27.7, 22.7, 32.2, 22.0, 23.2, 26.7, 23.0, 23.4, 24.1, 31.5, 26.1, 23.7, 20.8, 18.8, 32.5, 24.3, 24.1, 32.5, 39.3, 23.9, 22.0, 37.3, 33.0, 24.7, 32.8, 29.8, 24.1, 21.6, 27.1, 27.0, 18.7, 35.8, 27.1, 33.1, 25.9, 26.7, 22.2, 26.0, 23.5, 23.5, 15.9, 24.9, 26.5, 35.7, 28.893236911794666, 32.1, 28.5, 40.1, 26.6, 21.7, 28.8, 32.0, 31.4, 32.1, 19.8, 25.3, 28.8, 26.0, 30.7, 43.3, 35.2, 20.9, 35.3, 27.0, 26.1, 29.1, 32.6, 21.8, 32.3, 28.1, 32.3, 21.7, 25.0, 28.9, 21.7, 45.3, 40.2, 22.5, 21.3, 26.1, 28.8, 28.893236911794666, 32.4, 20.4, 25.9, 38.8, 30.8, 24.6, 20.6, 38.8, 40.4, 28.893236911794666, 36.2, 18.8, 27.6, 28.3, 39.4, 33.5, 40.4, 25.9, 27.6, 44.7, 30.8, 22.3, 27.9, 22.9, 27.3, 25.0, 22.7, 39.1, 27.8, 28.893236911794666, 36.7, 38.5, 29.4, 30.5, 23.6, 20.6, 31.7, 24.9, 33.4, 22.2, 26.5, 27.1, 30.3, 18.6, 26.4, 17.8, 37.4, 32.1, 38.2, 28.893236911794666, 39.1, 29.5, 28.6, 40.1, 31.8, 34.6, 24.5, 26.2, 33.0, 22.3, 28.893236911794666, 36.9, 43.9, 18.2, 23.1, 32.6, 41.2, 28.6, 26.0, 36.8, 35.8, 24.2, 22.9, 23.1, 28.893236911794666, 28.9, 26.5, 29.3, 24.8, 20.1, 18.2, 34.7, 24.0, 29.0, 27.3, 27.6, 20.4, 17.7, 27.9, 41.5, 27.4, 27.8, 17.8, 32.0, 37.3, 28.1, 29.1, 22.9, 38.8, 29.0, 28.6, 29.8, 28.9, 29.1, 28.893236911794666, 16.7, 34.1, 25.7, 30.8, 23.9, 18.8, 28.893236911794666, 41.8, 36.4, 28.7, 28.3, 15.1, 22.7, 26.6, 20.8, 23.0, 35.8, 29.9, 43.4, 36.3, 40.1, 35.9, 32.4, 20.3, 33.2, 22.3, 18.1, 28.2, 29.7, 28.893236911794666, 29.0, 25.4, 26.5, 22.7, 27.5, 23.8, 35.6, 27.2, 30.4, 21.5, 31.8, 29.5, 30.6, 27.6, 23.0, 24.8, 28.0, 22.2, 27.8, 30.2, 26.8, 22.0, 34.3, 29.2, 30.3, 28.893236911794666, 28.893236911794666, 21.4, 28.893236911794666, 26.6, 30.0, 33.7, 30.9, 31.1, 23.0, 20.2, 31.6, 23.9, 26.1, 15.8, 28.893236911794666, 28.7, 28.9, 25.1, 19.8, 30.8, 22.1, 20.4, 31.2, 24.9, 27.0, 20.1, 24.4, 22.6, 22.4, 26.2, 22.9, 32.6, 31.3, 43.9, 41.8, 28.893236911794666, 37.7, 20.8, 21.6, 22.1, 39.2, 36.7, 32.0, 25.9, 28.9, 29.3, 32.3, 33.2, 31.6, 20.6, 23.3, 30.8, 28.893236911794666, 28.893236911794666, 28.893236911794666, 23.7, 30.3, 24.4, 28.2, 33.8, 42.6, 31.9, 34.0, 19.8, 30.5, 21.7, 24.6, 38.1, 19.2, 30.1, 23.3, 34.5, 30.8, 43.8, 29.9, 22.6, 19.5, 33.4, 24.2, 25.6, 26.9, 35.2, 22.1, 34.4, 26.0, 26.9, 20.1, 24.7, 32.1, 29.8, 27.5, 22.8, 27.6, 33.0, 33.7, 25.1, 15.3, 22.2, 21.4, 26.0, 29.9, 28.6, 21.2, 16.0, 22.7, 25.3, 31.6, 38.9, 27.1, 24.1, 31.5, 32.0, 31.8, 34.0, 23.4, 29.3, 17.2, 31.9, 31.6, 23.2, 30.0, 26.3, 31.8, 25.5, 21.3, 29.6, 28.7, 30.8, 32.1, 34.0, 16.9, 32.1, 22.6, 31.3, 29.0, 27.6, 17.7, 35.9, 33.8, 17.6, 39.9, 11.3, 31.5, 29.6, 19.4, 18.1, 36.2, 17.9, 33.0, 20.4, 33.6, 34.5, 30.0, 12.8, 26.2, 13.5, 25.6, 18.8, 14.5, 23.4, 39.7, 40.8, 29.5, 33.0, 25.6, 33.1, 28.1, 16.9, 35.9, 32.1, 34.1, 15.1, 42.0, 16.8, 28.8, 32.2, 16.2, 44.2, 23.4, 31.0, 28.7, 23.6, 35.7, 39.5, 27.3, 31.3, 33.4, 29.2, 26.0, 18.1, 22.4, 29.4, 21.6, 27.9, 29.6, 30.2, 43.4, 30.5, 33.2, 27.7, 33.5, 28.0, 31.5, 24.0, 27.4, 37.9, 26.2, 22.4, 28.893236911794666, 43.7, 28.4, 29.8, 24.8, 34.8, 27.4, 28.893236911794666, 33.5, 35.0, 24.4, 28.3, 29.1, 31.3, 32.8, 29.1, 31.9, 14.2, 26.3, 22.8, 24.8, 34.1, 21.5, 26.1, 21.4, 33.5, 23.0, 18.5, 23.4, 31.4, 31.1, 37.7, 25.3, 35.6, 24.8, 32.7, 24.9, 26.0, 22.8, 24.0, 20.3, 30.3, 23.7, 25.7, 21.9, 15.8, 30.5, 25.7, 19.0, 28.8, 28.893236911794666, 22.4, 32.4, 36.6, 27.9, 27.7, 28.893236911794666, 34.3, 26.7, 19.0, 20.6, 26.7, 29.2, 21.3, 14.1, 28.9, 30.9, 36.1, 25.0, 28.6, 20.5, 16.7, 36.6, 26.4, 33.1, 27.5, 26.9, 23.9, 26.9, 27.8, 32.7, 28.7, 22.6, 26.5, 28.3, 24.3, 24.0, 32.4, 28.7, 36.7, 27.7, 24.8, 31.2, 26.1, 26.8, 26.7, 19.6, 25.8, 32.5, 28.3, 24.5, 25.2, 32.3, 30.1, 35.7, 20.0, 23.5, 23.4, 22.3, 28.7, 20.9, 29.4, 27.6, 43.9, 28.7, 34.7, 37.1, 24.2, 22.7, 29.3, 20.0, 22.7, 25.4, 37.6, 44.7, 26.3, 25.0, 28.893236911794666, 32.3, 24.9, 33.7, 26.6, 41.7, 22.0, 20.3, 42.7, 28.2, 32.5, 22.5, 26.5, 41.0, 27.0, 25.9, 23.7, 30.0, 15.0, 21.5, 25.9, 24.3, 39.2, 14.4, 26.6, 30.7, 35.4, 29.2, 26.7, 21.5, 19.1, 25.4, 34.0, 23.9, 20.9, 18.2, 27.6, 24.5, 16.6, 24.0, 18.8, 34.0, 25.8, 30.3, 28.9, 21.3, 26.8, 29.2, 25.0, 21.5, 17.1, 32.5, 26.9, 30.4, 29.8, 20.3, 41.1, 28.893236911794666, 33.9, 39.0, 31.2, 38.2, 44.7, 33.5, 27.0, 31.1, 29.2, 26.6, 17.9, 24.2, 19.5, 28.5, 21.3, 41.3, 31.3, 40.8, 36.6, 26.7, 18.7, 15.2, 26.8, 25.1, 31.3, 29.8, 33.5, 24.5, 33.6, 39.7, 26.4, 33.0, 31.4, 27.2, 35.7, 29.5, 21.0, 26.6, 24.3, 43.9, 28.893236911794666, 27.0, 32.7, 29.4, 15.1, 32.1, 32.9, 27.6, 26.5, 19.2, 25.9, 21.9, 17.4, 13.2, 25.2, 28.2, 31.5, 25.2, 14.5, 28.0, 15.1, 31.4, 26.3, 28.893236911794666, 39.6, 28.9, 31.4, 34.3, 27.0, 27.2, 23.8, 25.3, 32.6, 31.8, 22.4, 28.0, 23.9, 25.3, 16.4, 26.9, 25.4, 18.7, 37.5, 41.4, 37.5, 15.8, 37.6, 30.5, 22.1, 19.2, 38.0, 18.7, 25.7, 30.1, 36.3, 20.4, 20.9, 28.4, 33.8, 24.0, 43.3, 36.4, 37.9, 32.6, 23.9, 18.1, 36.4, 29.2, 30.8, 23.8, 17.9, 31.8, 19.5, 31.5, 24.1, 28.893236911794666, 35.9, 31.6, 19.0, 18.8, 33.5, 25.0, 24.8, 24.5, 40.4, 20.2, 31.9, 25.4, 15.4, 38.6, 31.0, 26.4, 28.893236911794666, 37.7, 35.2, 21.6, 23.9, 28.893236911794666, 26.1, 39.7, 29.9, 31.4, 34.5, 29.4, 26.9, 22.4, 20.5, 18.6, 31.4, 18.5, 41.8, 21.2, 28.6, 16.0, 30.6, 29.0, 28.6, 34.8, 28.893236911794666, 42.0, 30.3, 30.9, 32.1, 19.6, 32.8, 31.5, 28.893236911794666, 34.7, 21.5, 27.6, 28.6, 21.1, 23.8, 33.5, 33.4, 23.3, 21.0, 21.2, 18.4, 26.9, 20.2, 21.9, 24.2, 29.6, 38.1, 22.0, 29.8, 24.0, 26.9, 38.0, 16.9, 23.4, 38.5, 21.6, 15.9, 25.1, 41.1, 21.5, 21.0, 24.1, 30.6, 19.8, 29.2, 33.7, 31.0, 21.5, 19.1, 21.4, 24.8, 35.1, 28.6, 35.7, 45.4, 34.5, 21.2, 22.7, 39.1, 21.9, 16.5, 23.0, 22.5, 20.4, 28.7, 22.4, 26.3, 23.6, 25.9, 30.7, 24.5, 24.0, 20.1, 38.0, 26.6, 24.5, 28.893236911794666, 41.3, 34.8, 35.5, 24.1, 19.0, 28.893236911794666, 16.6, 28.6, 22.4, 38.6, 32.0, 40.1, 32.0, 23.9, 25.0, 28.5, 19.8, 25.7, 28.0, 37.2, 24.8, 39.2, 27.2, 38.0, 36.2, 16.6, 38.0, 31.4, 35.3, 35.8, 28.6, 34.0, 15.5, 31.1, 37.5, 37.7, 24.2, 33.4, 33.0, 25.7, 19.4, 33.4, 18.0, 40.1, 26.9, 22.5, 27.6, 23.3, 35.7, 28.4, 29.4, 31.9, 25.1, 35.6, 21.1, 17.8, 31.5, 26.6, 44.8, 31.3, 17.2, 25.3, 28.8, 18.0, 23.5, 18.1, 41.7, 28.893236911794666, 20.7, 30.3, 27.8, 18.9, 20.4, 31.8, 44.8, 37.1, 39.9, 24.1, 18.1, 36.3, 19.1, 21.1, 28.9, 18.9, 43.3, 37.2, 32.2, 26.3, 25.4, 18.3, 21.4, 22.9, 16.2, 29.6, 21.5, 24.2, 37.3, 33.3, 33.1, 22.2, 24.4, 30.3, 28.2, 17.0, 30.4, 22.3, 25.3, 28.893236911794666, 29.8, 43.8, 34.5, 25.5, 31.5, 39.2, 17.0, 38.2, 31.1, 22.4, 32.0, 24.7, 36.3, 20.2, 27.4, 29.6, 28.6, 43.9, 22.2, 28.4, 23.7, 18.3, 18.3, 28.9, 28.893236911794666, 27.1, 13.8, 21.9, 24.0, 28.893236911794666, 20.8, 39.8, 26.2, 43.9, 27.3, 28.893236911794666, 22.0, 40.0, 20.1, 42.2, 25.8, 27.2, 30.9, 33.1, 37.8, 25.4, 28.4, 16.6, 35.1, 32.7, 29.8, 13.0, 27.5, 23.6, 36.9, 16.7, 26.5, 37.0, 27.7, 23.5, 40.4, 27.7, 28.3, 28.7, 25.0, 24.8, 35.5, 25.0, 17.3, 37.8, 32.8, 28.7, 28.8, 28.4, 24.9, 29.6, 26.1, 29.5, 23.9, 25.8, 36.2, 31.3, 26.1, 19.1, 17.6, 21.4, 24.0, 25.5, 19.9, 19.9, 35.5, 26.9, 24.2, 30.0, 30.9, 26.5, 30.6, 19.1, 23.2, 30.5, 15.8, 16.9, 18.0, 13.9, 36.7, 30.8, 34.6, 16.3, 38.2, 27.3, 30.4, 34.5, 17.4, 32.0, 33.4, 40.2, 30.1, 46.2, 35.6, 29.4, 27.3, 17.4, 26.9, 17.7, 23.6, 27.7, 38.0, 35.2, 28.893236911794666, 32.4, 36.1, 30.6, 29.0, 22.3, 27.3, 17.4, 39.0, 26.7, 24.2, 22.8, 25.6, 21.9, 25.9, 30.6, 25.7, 33.3, 23.8, 17.2, 31.0, 24.7, 27.1, 28.893236911794666, 38.3, 29.2, 23.6, 33.5, 16.3, 30.8, 31.1, 26.4, 18.6, 37.3, 26.6, 17.6, 22.3, 20.2, 30.9, 31.5, 29.7, 32.5, 32.8, 25.4, 27.2, 31.6, 39.6, 19.8, 29.6, 25.5, 25.8, 32.1, 25.6, 26.3, 39.4, 25.6, 34.0, 35.8, 24.9, 29.3, 23.4, 24.5, 29.8, 28.9, 27.3, 23.2, 34.2, 23.3, 26.9, 21.8, 26.9, 29.9, 22.4, 27.5, 35.0, 27.9, 25.5, 28.6, 34.8, 30.9, 14.8, 31.4, 22.3, 19.1, 27.4, 17.5, 36.2, 25.4, 25.7, 28.6, 33.7, 37.9, 28.4, 20.0, 29.1, 27.6, 27.6, 24.2, 31.0, 34.5, 27.0, 20.7, 26.1, 19.2, 28.0, 23.6, 33.0, 22.2, 24.8, 24.7, 27.9, 21.6, 34.8, 32.9, 28.0, 28.893236911794666, 25.0, 24.7, 27.3, 34.2, 39.1, 22.7, 33.9, 18.6, 16.7, 20.6, 20.1, 45.2, 25.3, 32.4, 34.9, 43.7, 23.0, 21.5, 24.9, 22.9, 25.0, 21.3, 46.1, 37.0, 21.3, 28.3, 31.1, 25.1, 27.6, 29.4, 14.1, 35.2, 23.9, 34.0, 27.1, 29.5, 28.893236911794666, 20.7, 39.5, 33.7, 23.2, 30.1, 28.8, 38.0, 27.7, 43.2, 24.1, 28.7, 34.8, 23.5, 28.5, 20.3, 43.0, 18.3, 27.2, 22.0, 35.4, 27.9, 19.8, 26.0, 26.8, 28.893236911794666, 32.5, 15.0, 14.2, 17.0, 26.2, 24.9, 26.6, 22.7, 32.7, 36.7, 31.5, 36.9, 27.6, 20.7, 20.2, 23.4, 25.3, 28.2, 27.0, 24.8, 34.8, 17.3, 27.8, 16.2, 28.893236911794666, 21.7, 21.4, 29.3, 36.2, 28.3, 23.5, 25.9, 27.1, 21.5, 30.5, 23.4, 37.6, 24.0, 25.1, 28.7, 41.8, 25.6, 27.2, 24.4, 20.7, 19.6, 24.8, 32.6, 20.5, 36.2, 45.4, 27.6, 28.893236911794666, 34.7, 32.4, 28.893236911794666, 28.7, 45.3, 40.3, 38.9, 46.0, 32.4, 19.4, 27.5, 26.2, 31.1, 34.6, 24.3, 34.6, 28.5, 32.1, 28.0, 20.9, 33.8, 25.8, 31.8, 26.8, 25.9, 29.2, 25.3, 41.7, 38.8, 29.1, 30.9, 39.3, 41.8, 26.2, 33.8, 26.1, 24.1, 30.7, 22.4, 23.0, 30.2, 30.3, 28.7, 36.3, 16.3, 34.5, 20.8, 31.0, 17.6, 22.7, 38.4, 40.8, 32.9, 31.3, 28.5, 27.6, 40.2, 24.7, 17.7, 25.4, 28.5, 26.2, 26.0, 45.3, 31.5, 20.6, 29.4, 39.1, 23.8, 38.1, 19.5, 35.5, 26.4, 22.2, 29.1, 41.9, 22.6, 33.3, 21.3, 20.4, 28.7, 28.8, 38.7, 32.3, 37.9, 25.3, 27.7, 25.1, 16.8, 27.7, 28.6, 37.6, 32.7, 22.7, 16.0, 23.5, 45.8, 20.8, 16.7, 22.2, 33.1, 32.7, 41.4, 24.1, 28.0, 24.2, 23.5, 23.0, 20.3, 24.8, 26.1, 24.2, 19.3, 18.2, 24.2, 41.5, 28.0, 37.0, 32.2, 35.9, 32.1, 22.2, 20.1, 14.6, 28.4, 20.6, 19.8, 23.4, 25.1, 30.1, 33.3, 24.0, 27.8, 21.4, 25.5, 28.893236911794666, 21.8, 18.9, 21.9, 30.6, 29.8, 28.7, 35.5, 29.1, 32.8, 22.8, 31.3, 29.0, 19.0, 24.1, 21.4, 28.0, 27.6, 28.7, 24.5, 25.0, 29.6, 29.9, 35.6, 27.9, 42.6, 21.2, 28.5, 25.6, 28.893236911794666, 31.1, 30.4, 22.9, 31.9, 43.0, 21.8, 35.5, 24.3, 23.1, 18.5, 42.4, 32.3, 22.6, 17.8, 18.4, 26.9, 32.0, 23.4, 31.4, 22.4, 28.9, 27.4, 28.4, 23.5, 28.3, 38.2, 33.3, 33.3, 28.8, 32.1, 28.9, 25.5, 25.9, 19.5, 23.8, 24.9, 18.5, 30.6, 16.1, 32.5, 27.4, 30.2, 23.5, 36.0, 24.8, 27.5, 40.0, 18.1, 18.8, 23.6, 29.7, 43.7, 27.3, 20.2, 23.8, 21.4, 25.1, 17.9, 34.5, 27.1, 26.1, 43.4, 33.2, 37.2, 41.3, 35.4, 26.1, 24.5, 28.893236911794666, 32.7, 29.2, 20.4, 33.5, 14.0, 33.5, 27.5, 35.3, 30.1, 32.6, 31.6, 23.5, 40.3, 34.1, 16.1, 26.4, 19.0, 34.7, 23.3, 32.6, 26.0, 35.1, 18.6, 30.4, 32.8, 21.6, 23.3, 31.4, 26.3, 20.1, 28.3, 40.4, 18.6, 44.7, 25.3, 28.3, 39.9, 28.893236911794666, 34.7, 31.9, 35.0, 32.7, 30.6, 27.9, 20.4, 29.6, 23.5, 46.4, 27.4, 25.2, 25.8, 33.3, 27.7, 28.9, 33.1, 38.1, 27.9, 17.4, 27.1, 22.7, 28.3, 21.5, 30.0, 18.6, 45.2, 39.7, 31.5, 23.2, 27.3, 26.5, 19.3, 26.1, 19.8, 25.1, 37.3, 30.3, 16.1, 25.1, 26.7, 29.3, 38.7, 35.8, 21.7, 31.4, 26.9, 33.0, 24.5, 44.9, 25.5, 22.1, 24.3, 32.4, 28.893236911794666, 33.1, 26.7, 37.9, 39.6, 19.8, 30.0, 23.1, 34.3, 38.4, 32.8, 34.4, 44.6, 32.8, 26.4, 27.3, 32.4, 43.2, 33.6, 26.4, 46.9, 36.3, 34.9, 29.6, 16.5, 35.4, 23.6, 33.1, 40.2, 14.8, 34.8, 33.5, 31.9, 16.1, 35.9, 39.6, 27.5, 32.3, 15.4, 28.4, 19.5, 25.0, 26.3, 39.6, 38.6, 33.9, 32.2, 25.1, 37.4, 30.1, 27.0, 32.4, 26.8, 27.2, 36.7, 36.0, 37.2, 19.1, 21.8, 26.5, 35.0, 32.6, 23.9, 33.7, 29.4, 29.0, 20.2, 28.893236911794666, 27.4, 25.0, 30.7, 23.0, 26.6, 18.1, 29.7, 19.9, 13.3, 32.7, 31.8, 31.4, 20.4, 33.2, 30.5, 30.3, 34.2, 34.4, 22.8, 30.5, 35.9, 33.7, 24.1, 25.4, 25.5, 29.2, 28.893236911794666, 17.4, 29.9, 21.5, 24.7, 25.1, 34.4, 27.9, 31.5, 31.8, 30.1, 26.4, 27.2, 22.5, 29.8, 26.1, 24.9, 23.5, 30.1, 37.3, 25.5, 35.3, 27.6, 28.7, 29.9, 34.2, 24.9, 36.8, 24.5, 34.6, 30.0, 28.8, 28.6, 23.6, 20.1, 21.1, 34.1, 28.893236911794666, 29.5, 37.8, 31.2, 31.1, 34.2, 17.7, 39.2, 22.2, 29.5, 27.0, 16.8, 23.3, 33.5, 15.6, 28.2, 22.6, 20.2, 22.2, 22.6, 26.7, 22.9, 21.5, 30.3, 14.8, 24.3, 17.4, 29.0, 26.3, 29.2, 18.3, 21.9, 16.3, 27.4, 20.4, 23.2, 30.3, 16.7, 31.0, 28.893236911794666, 33.5, 17.0, 19.4, 14.6, 32.2, 37.7, 27.4, 25.0, 20.1, 21.7, 38.2, 17.0, 28.4, 30.0, 34.1, 19.3, 21.6, 32.9, 27.2, 27.8, 29.9, 28.4, 24.1, 24.0, 23.4, 32.6, 33.1, 33.8, 30.3, 36.9, 29.7, 38.8, 30.9, 36.9, 18.8, 25.5, 32.3, 25.8, 31.1, 27.9, 18.6, 20.1, 26.7, 30.3, 30.4, 30.0, 24.9, 24.3, 38.7, 18.6, 17.1, 29.4, 16.9, 34.2, 27.6, 18.9, 24.4, 25.2, 30.7, 26.1, 25.3, 32.8, 45.7, 24.6, 32.3, 34.4, 18.2, 44.5, 36.6, 19.4, 22.9, 20.0, 36.1, 27.3, 42.2, 26.4, 23.6, 18.6, 18.0, 31.1, 30.0, 43.8, 23.8, 36.2, 32.6, 18.0, 25.5, 29.9, 32.1, 25.4, 23.4, 23.4, 21.8, 30.8, 37.9, 42.5, 23.4, 35.4, 32.3, 27.0, 46.3, 30.1, 34.7, 18.3, 16.2, 33.2, 18.6, 25.1, 24.1, 33.1, 24.8, 23.4, 28.9, 38.1, 37.2, 19.6, 29.0, 26.7, 20.5, 34.1, 42.4, 37.7, 39.1, 28.9, 30.7, 33.8, 28.893236911794666, 32.1, 40.5, 24.8, 31.8, 27.0, 13.7, 23.4, 16.4, 14.9, 38.8, 38.6, 32.2, 28.893236911794666, 30.6, 28.1, 35.2, 21.8, 28.1, 28.2, 28.4, 37.4, 21.8, 19.8, 16.2, 33.6, 21.2, 28.4, 28.893236911794666, 41.1, 24.9, 28.8, 33.7, 38.6, 33.8, 22.4, 37.3, 23.4, 39.1, 21.2, 31.2, 28.0, 21.1, 15.7, 29.1, 26.1, 16.2, 27.1, 28.8, 37.9, 21.6, 30.1, 29.7, 26.4, 46.0, 26.1, 23.2, 28.4, 20.5, 24.6, 32.2, 30.5, 28.893236911794666, 24.9, 26.5, 34.5, 21.5, 15.9, 17.7, 26.5, 24.4, 26.6, 23.9, 30.1, 23.6, 18.4, 32.1, 24.4, 27.3, 34.8, 28.4, 40.2, 31.1, 24.0, 38.1, 29.9, 24.5, 35.5, 29.5, 28.8, 22.1, 29.4, 45.0, 27.1, 28.3, 20.1, 31.3, 17.6, 24.5, 24.1, 31.3, 31.5, 29.9, 30.2, 27.8, 15.6, 26.3, 24.8, 17.1, 20.3, 18.7, 28.8, 28.7, 24.6, 25.3, 29.7, 28.893236911794666, 21.1, 26.9, 26.2, 26.3, 24.8, 25.0, 34.6, 42.7, 28.893236911794666, 24.5, 19.3, 29.3, 22.1, 27.8, 24.7, 25.3, 41.2, 23.4, 22.7, 29.7, 32.3, 36.9, 27.7, 24.3, 37.4, 25.1, 24.3, 24.3, 28.7, 16.8, 35.8, 40.0, 24.3, 25.6, 37.8, 23.0, 21.0, 15.5, 17.1, 28.0, 40.8, 37.5, 24.2, 26.9, 33.1, 21.8, 34.7, 30.2, 16.8, 21.0, 30.9, 38.9, 28.893236911794666, 24.3, 17.4, 28.2, 40.8, 17.5, 28.893236911794666, 28.3, 24.5, 21.7, 46.9, 18.6, 28.893236911794666, 40.0, 30.6, 25.6, 26.2], \"xaxis\": \"x\", \"y\": [\"bmi\", \"bmi\", \"bmi\", \"bmi\", \"bmi\", \"bmi\", \"bmi\", \"bmi\", \"bmi\", \"bmi\", \"bmi\", \"bmi\", \"bmi\", \"bmi\", \"bmi\", \"bmi\", \"bmi\", \"bmi\", \"bmi\", \"bmi\", \"bmi\", \"bmi\", \"bmi\", \"bmi\", \"bmi\", \"bmi\", \"bmi\", \"bmi\", \"bmi\", \"bmi\", \"bmi\", \"bmi\", \"bmi\", \"bmi\", \"bmi\", \"bmi\", \"bmi\", \"bmi\", \"bmi\", \"bmi\", \"bmi\", \"bmi\", \"bmi\", \"bmi\", \"bmi\", \"bmi\", \"bmi\", \"bmi\", \"bmi\", \"bmi\", \"bmi\", \"bmi\", \"bmi\", \"bmi\", \"bmi\", \"bmi\", \"bmi\", \"bmi\", \"bmi\", \"bmi\", \"bmi\", \"bmi\", \"bmi\", \"bmi\", \"bmi\", \"bmi\", \"bmi\", \"bmi\", \"bmi\", \"bmi\", \"bmi\", \"bmi\", \"bmi\", \"bmi\", \"bmi\", \"bmi\", \"bmi\", \"bmi\", \"bmi\", \"bmi\", \"bmi\", \"bmi\", \"bmi\", \"bmi\", \"bmi\", \"bmi\", \"bmi\", \"bmi\", \"bmi\", \"bmi\", \"bmi\", \"bmi\", \"bmi\", \"bmi\", \"bmi\", \"bmi\", \"bmi\", \"bmi\", \"bmi\", \"bmi\", \"bmi\", \"bmi\", \"bmi\", \"bmi\", \"bmi\", \"bmi\", \"bmi\", \"bmi\", \"bmi\", \"bmi\", \"bmi\", \"bmi\", \"bmi\", \"bmi\", \"bmi\", \"bmi\", \"bmi\", \"bmi\", \"bmi\", \"bmi\", \"bmi\", \"bmi\", \"bmi\", \"bmi\", \"bmi\", \"bmi\", \"bmi\", \"bmi\", \"bmi\", \"bmi\", \"bmi\", \"bmi\", \"bmi\", \"bmi\", \"bmi\", \"bmi\", \"bmi\", \"bmi\", \"bmi\", \"bmi\", \"bmi\", \"bmi\", \"bmi\", \"bmi\", \"bmi\", \"bmi\", \"bmi\", \"bmi\", \"bmi\", \"bmi\", \"bmi\", \"bmi\", \"bmi\", \"bmi\", \"bmi\", \"bmi\", \"bmi\", \"bmi\", \"bmi\", \"bmi\", \"bmi\", \"bmi\", \"bmi\", \"bmi\", \"bmi\", \"bmi\", \"bmi\", \"bmi\", \"bmi\", \"bmi\", \"bmi\", \"bmi\", \"bmi\", \"bmi\", \"bmi\", \"bmi\", \"bmi\", \"bmi\", \"bmi\", \"bmi\", \"bmi\", \"bmi\", \"bmi\", \"bmi\", \"bmi\", \"bmi\", \"bmi\", \"bmi\", \"bmi\", \"bmi\", \"bmi\", \"bmi\", \"bmi\", \"bmi\", \"bmi\", \"bmi\", \"bmi\", \"bmi\", \"bmi\", \"bmi\", \"bmi\", \"bmi\", \"bmi\", \"bmi\", \"bmi\", \"bmi\", \"bmi\", \"bmi\", \"bmi\", \"bmi\", \"bmi\", \"bmi\", \"bmi\", \"bmi\", \"bmi\", \"bmi\", \"bmi\", \"bmi\", \"bmi\", \"bmi\", \"bmi\", \"bmi\", \"bmi\", \"bmi\", \"bmi\", \"bmi\", \"bmi\", \"bmi\", \"bmi\", \"bmi\", \"bmi\", \"bmi\", \"bmi\", \"bmi\", \"bmi\", \"bmi\", \"bmi\", \"bmi\", \"bmi\", \"bmi\", \"bmi\", \"bmi\", \"bmi\", \"bmi\", \"bmi\", \"bmi\", \"bmi\", \"bmi\", \"bmi\", \"bmi\", \"bmi\", \"bmi\", \"bmi\", \"bmi\", \"bmi\", \"bmi\", \"bmi\", \"bmi\", \"bmi\", \"bmi\", \"bmi\", \"bmi\", \"bmi\", \"bmi\", \"bmi\", \"bmi\", \"bmi\", \"bmi\", \"bmi\", \"bmi\", \"bmi\", \"bmi\", \"bmi\", \"bmi\", \"bmi\", \"bmi\", \"bmi\", \"bmi\", \"bmi\", \"bmi\", \"bmi\", \"bmi\", \"bmi\", \"bmi\", \"bmi\", \"bmi\", \"bmi\", \"bmi\", \"bmi\", \"bmi\", \"bmi\", \"bmi\", \"bmi\", \"bmi\", \"bmi\", \"bmi\", \"bmi\", \"bmi\", \"bmi\", \"bmi\", \"bmi\", \"bmi\", \"bmi\", \"bmi\", \"bmi\", \"bmi\", \"bmi\", \"bmi\", \"bmi\", \"bmi\", \"bmi\", \"bmi\", \"bmi\", \"bmi\", \"bmi\", \"bmi\", \"bmi\", \"bmi\", \"bmi\", \"bmi\", \"bmi\", \"bmi\", \"bmi\", \"bmi\", \"bmi\", \"bmi\", \"bmi\", \"bmi\", \"bmi\", \"bmi\", \"bmi\", \"bmi\", \"bmi\", \"bmi\", \"bmi\", \"bmi\", \"bmi\", \"bmi\", \"bmi\", \"bmi\", \"bmi\", \"bmi\", \"bmi\", \"bmi\", \"bmi\", \"bmi\", \"bmi\", \"bmi\", \"bmi\", \"bmi\", \"bmi\", \"bmi\", \"bmi\", \"bmi\", \"bmi\", \"bmi\", \"bmi\", \"bmi\", \"bmi\", \"bmi\", \"bmi\", \"bmi\", \"bmi\", \"bmi\", \"bmi\", \"bmi\", \"bmi\", \"bmi\", \"bmi\", \"bmi\", \"bmi\", \"bmi\", \"bmi\", \"bmi\", \"bmi\", \"bmi\", \"bmi\", \"bmi\", \"bmi\", \"bmi\", \"bmi\", \"bmi\", \"bmi\", \"bmi\", \"bmi\", \"bmi\", \"bmi\", \"bmi\", \"bmi\", \"bmi\", \"bmi\", \"bmi\", \"bmi\", \"bmi\", \"bmi\", \"bmi\", \"bmi\", \"bmi\", \"bmi\", \"bmi\", \"bmi\", \"bmi\", \"bmi\", \"bmi\", \"bmi\", \"bmi\", \"bmi\", \"bmi\", \"bmi\", \"bmi\", \"bmi\", \"bmi\", \"bmi\", \"bmi\", \"bmi\", \"bmi\", \"bmi\", \"bmi\", \"bmi\", \"bmi\", \"bmi\", \"bmi\", \"bmi\", \"bmi\", \"bmi\", \"bmi\", \"bmi\", \"bmi\", \"bmi\", \"bmi\", \"bmi\", \"bmi\", \"bmi\", \"bmi\", \"bmi\", \"bmi\", \"bmi\", \"bmi\", \"bmi\", \"bmi\", \"bmi\", \"bmi\", \"bmi\", \"bmi\", \"bmi\", \"bmi\", \"bmi\", \"bmi\", \"bmi\", \"bmi\", \"bmi\", \"bmi\", \"bmi\", \"bmi\", \"bmi\", \"bmi\", \"bmi\", \"bmi\", \"bmi\", \"bmi\", \"bmi\", \"bmi\", \"bmi\", \"bmi\", \"bmi\", \"bmi\", \"bmi\", \"bmi\", \"bmi\", \"bmi\", \"bmi\", \"bmi\", \"bmi\", \"bmi\", \"bmi\", \"bmi\", \"bmi\", \"bmi\", \"bmi\", \"bmi\", \"bmi\", \"bmi\", \"bmi\", \"bmi\", \"bmi\", \"bmi\", \"bmi\", \"bmi\", \"bmi\", \"bmi\", \"bmi\", \"bmi\", \"bmi\", \"bmi\", \"bmi\", \"bmi\", \"bmi\", \"bmi\", \"bmi\", \"bmi\", \"bmi\", \"bmi\", \"bmi\", \"bmi\", \"bmi\", \"bmi\", \"bmi\", \"bmi\", \"bmi\", \"bmi\", \"bmi\", \"bmi\", \"bmi\", \"bmi\", \"bmi\", \"bmi\", \"bmi\", \"bmi\", \"bmi\", \"bmi\", \"bmi\", \"bmi\", \"bmi\", \"bmi\", \"bmi\", \"bmi\", \"bmi\", \"bmi\", \"bmi\", \"bmi\", \"bmi\", \"bmi\", \"bmi\", \"bmi\", \"bmi\", \"bmi\", \"bmi\", \"bmi\", \"bmi\", \"bmi\", \"bmi\", \"bmi\", \"bmi\", \"bmi\", \"bmi\", \"bmi\", \"bmi\", \"bmi\", \"bmi\", \"bmi\", \"bmi\", \"bmi\", \"bmi\", \"bmi\", \"bmi\", \"bmi\", \"bmi\", \"bmi\", \"bmi\", \"bmi\", \"bmi\", \"bmi\", \"bmi\", \"bmi\", \"bmi\", \"bmi\", \"bmi\", \"bmi\", \"bmi\", \"bmi\", \"bmi\", \"bmi\", \"bmi\", \"bmi\", \"bmi\", \"bmi\", \"bmi\", \"bmi\", \"bmi\", \"bmi\", \"bmi\", \"bmi\", \"bmi\", \"bmi\", \"bmi\", \"bmi\", \"bmi\", \"bmi\", \"bmi\", \"bmi\", \"bmi\", \"bmi\", \"bmi\", \"bmi\", \"bmi\", \"bmi\", \"bmi\", \"bmi\", \"bmi\", \"bmi\", \"bmi\", \"bmi\", \"bmi\", \"bmi\", \"bmi\", \"bmi\", \"bmi\", \"bmi\", \"bmi\", \"bmi\", \"bmi\", \"bmi\", \"bmi\", \"bmi\", \"bmi\", \"bmi\", \"bmi\", \"bmi\", \"bmi\", \"bmi\", \"bmi\", \"bmi\", \"bmi\", \"bmi\", \"bmi\", \"bmi\", \"bmi\", \"bmi\", \"bmi\", \"bmi\", \"bmi\", \"bmi\", \"bmi\", \"bmi\", \"bmi\", \"bmi\", \"bmi\", \"bmi\", \"bmi\", \"bmi\", \"bmi\", \"bmi\", \"bmi\", \"bmi\", \"bmi\", \"bmi\", \"bmi\", \"bmi\", \"bmi\", \"bmi\", \"bmi\", \"bmi\", \"bmi\", \"bmi\", \"bmi\", \"bmi\", \"bmi\", \"bmi\", \"bmi\", \"bmi\", \"bmi\", \"bmi\", \"bmi\", \"bmi\", \"bmi\", \"bmi\", \"bmi\", \"bmi\", \"bmi\", \"bmi\", \"bmi\", \"bmi\", \"bmi\", \"bmi\", \"bmi\", \"bmi\", \"bmi\", \"bmi\", \"bmi\", \"bmi\", \"bmi\", \"bmi\", \"bmi\", \"bmi\", \"bmi\", \"bmi\", \"bmi\", \"bmi\", \"bmi\", \"bmi\", \"bmi\", \"bmi\", \"bmi\", \"bmi\", \"bmi\", \"bmi\", \"bmi\", \"bmi\", \"bmi\", \"bmi\", \"bmi\", \"bmi\", \"bmi\", \"bmi\", \"bmi\", \"bmi\", \"bmi\", \"bmi\", \"bmi\", \"bmi\", \"bmi\", \"bmi\", \"bmi\", \"bmi\", \"bmi\", \"bmi\", \"bmi\", \"bmi\", \"bmi\", \"bmi\", \"bmi\", \"bmi\", \"bmi\", \"bmi\", \"bmi\", \"bmi\", \"bmi\", \"bmi\", \"bmi\", \"bmi\", \"bmi\", \"bmi\", \"bmi\", \"bmi\", \"bmi\", \"bmi\", \"bmi\", \"bmi\", \"bmi\", \"bmi\", \"bmi\", \"bmi\", \"bmi\", \"bmi\", \"bmi\", \"bmi\", \"bmi\", \"bmi\", \"bmi\", \"bmi\", \"bmi\", \"bmi\", \"bmi\", \"bmi\", \"bmi\", \"bmi\", \"bmi\", \"bmi\", \"bmi\", \"bmi\", \"bmi\", \"bmi\", \"bmi\", \"bmi\", \"bmi\", \"bmi\", \"bmi\", \"bmi\", \"bmi\", \"bmi\", \"bmi\", \"bmi\", \"bmi\", \"bmi\", \"bmi\", \"bmi\", \"bmi\", \"bmi\", \"bmi\", \"bmi\", \"bmi\", \"bmi\", \"bmi\", \"bmi\", \"bmi\", \"bmi\", \"bmi\", \"bmi\", \"bmi\", \"bmi\", \"bmi\", \"bmi\", \"bmi\", \"bmi\", \"bmi\", \"bmi\", \"bmi\", \"bmi\", \"bmi\", \"bmi\", \"bmi\", \"bmi\", \"bmi\", \"bmi\", \"bmi\", \"bmi\", \"bmi\", \"bmi\", \"bmi\", \"bmi\", \"bmi\", \"bmi\", \"bmi\", \"bmi\", \"bmi\", \"bmi\", \"bmi\", \"bmi\", \"bmi\", \"bmi\", \"bmi\", \"bmi\", \"bmi\", \"bmi\", \"bmi\", \"bmi\", \"bmi\", \"bmi\", \"bmi\", \"bmi\", \"bmi\", \"bmi\", \"bmi\", \"bmi\", \"bmi\", \"bmi\", \"bmi\", \"bmi\", \"bmi\", \"bmi\", \"bmi\", \"bmi\", \"bmi\", \"bmi\", \"bmi\", \"bmi\", \"bmi\", \"bmi\", \"bmi\", \"bmi\", \"bmi\", \"bmi\", \"bmi\", \"bmi\", \"bmi\", \"bmi\", \"bmi\", \"bmi\", \"bmi\", \"bmi\", \"bmi\", \"bmi\", \"bmi\", \"bmi\", \"bmi\", \"bmi\", \"bmi\", \"bmi\", \"bmi\", \"bmi\", \"bmi\", \"bmi\", \"bmi\", \"bmi\", \"bmi\", \"bmi\", \"bmi\", \"bmi\", \"bmi\", \"bmi\", \"bmi\", \"bmi\", \"bmi\", \"bmi\", \"bmi\", \"bmi\", \"bmi\", \"bmi\", \"bmi\", \"bmi\", \"bmi\", \"bmi\", \"bmi\", \"bmi\", \"bmi\", \"bmi\", \"bmi\", \"bmi\", \"bmi\", \"bmi\", \"bmi\", \"bmi\", \"bmi\", \"bmi\", \"bmi\", \"bmi\", \"bmi\", \"bmi\", \"bmi\", \"bmi\", \"bmi\", \"bmi\", \"bmi\", \"bmi\", \"bmi\", \"bmi\", \"bmi\", \"bmi\", \"bmi\", \"bmi\", \"bmi\", \"bmi\", \"bmi\", \"bmi\", \"bmi\", \"bmi\", \"bmi\", \"bmi\", \"bmi\", \"bmi\", \"bmi\", \"bmi\", \"bmi\", \"bmi\", \"bmi\", \"bmi\", \"bmi\", \"bmi\", \"bmi\", \"bmi\", \"bmi\", \"bmi\", \"bmi\", \"bmi\", \"bmi\", \"bmi\", \"bmi\", \"bmi\", \"bmi\", \"bmi\", \"bmi\", \"bmi\", \"bmi\", \"bmi\", \"bmi\", \"bmi\", \"bmi\", \"bmi\", \"bmi\", \"bmi\", \"bmi\", \"bmi\", \"bmi\", \"bmi\", \"bmi\", \"bmi\", \"bmi\", \"bmi\", \"bmi\", \"bmi\", \"bmi\", \"bmi\", \"bmi\", \"bmi\", \"bmi\", \"bmi\", \"bmi\", \"bmi\", \"bmi\", \"bmi\", \"bmi\", \"bmi\", \"bmi\", \"bmi\", \"bmi\", \"bmi\", \"bmi\", \"bmi\", \"bmi\", \"bmi\", \"bmi\", \"bmi\", \"bmi\", \"bmi\", \"bmi\", \"bmi\", \"bmi\", \"bmi\", \"bmi\", \"bmi\", \"bmi\", \"bmi\", \"bmi\", \"bmi\", \"bmi\", \"bmi\", \"bmi\", \"bmi\", \"bmi\", \"bmi\", \"bmi\", \"bmi\", \"bmi\", \"bmi\", \"bmi\", \"bmi\", \"bmi\", \"bmi\", \"bmi\", \"bmi\", \"bmi\", \"bmi\", \"bmi\", \"bmi\", \"bmi\", \"bmi\", \"bmi\", \"bmi\", \"bmi\", \"bmi\", \"bmi\", \"bmi\", \"bmi\", \"bmi\", \"bmi\", \"bmi\", \"bmi\", \"bmi\", \"bmi\", \"bmi\", \"bmi\", \"bmi\", \"bmi\", \"bmi\", \"bmi\", \"bmi\", \"bmi\", \"bmi\", \"bmi\", \"bmi\", \"bmi\", \"bmi\", \"bmi\", \"bmi\", \"bmi\", \"bmi\", \"bmi\", \"bmi\", \"bmi\", \"bmi\", \"bmi\", \"bmi\", \"bmi\", \"bmi\", \"bmi\", \"bmi\", \"bmi\", \"bmi\", \"bmi\", \"bmi\", \"bmi\", \"bmi\", \"bmi\", \"bmi\", \"bmi\", \"bmi\", \"bmi\", \"bmi\", \"bmi\", \"bmi\", \"bmi\", \"bmi\", \"bmi\", \"bmi\", \"bmi\", \"bmi\", \"bmi\", \"bmi\", \"bmi\", \"bmi\", \"bmi\", \"bmi\", \"bmi\", \"bmi\", \"bmi\", \"bmi\", \"bmi\", \"bmi\", \"bmi\", \"bmi\", \"bmi\", \"bmi\", \"bmi\", \"bmi\", \"bmi\", \"bmi\", \"bmi\", \"bmi\", \"bmi\", \"bmi\", \"bmi\", \"bmi\", \"bmi\", \"bmi\", \"bmi\", \"bmi\", \"bmi\", \"bmi\", \"bmi\", \"bmi\", \"bmi\", \"bmi\", \"bmi\", \"bmi\", \"bmi\", \"bmi\", \"bmi\", \"bmi\", \"bmi\", \"bmi\", \"bmi\", \"bmi\", \"bmi\", \"bmi\", \"bmi\", \"bmi\", \"bmi\", \"bmi\", \"bmi\", \"bmi\", \"bmi\", \"bmi\", \"bmi\", \"bmi\", \"bmi\", \"bmi\", \"bmi\", \"bmi\", \"bmi\", \"bmi\", \"bmi\", \"bmi\", \"bmi\", \"bmi\", \"bmi\", \"bmi\", \"bmi\", \"bmi\", \"bmi\", \"bmi\", \"bmi\", \"bmi\", \"bmi\", \"bmi\", \"bmi\", \"bmi\", \"bmi\", \"bmi\", \"bmi\", \"bmi\", \"bmi\", \"bmi\", \"bmi\", \"bmi\", \"bmi\", \"bmi\", \"bmi\", \"bmi\", \"bmi\", \"bmi\", \"bmi\", \"bmi\", \"bmi\", \"bmi\", \"bmi\", \"bmi\", \"bmi\", \"bmi\", \"bmi\", \"bmi\", \"bmi\", \"bmi\", \"bmi\", \"bmi\", \"bmi\", \"bmi\", \"bmi\", \"bmi\", \"bmi\", \"bmi\", \"bmi\", \"bmi\", \"bmi\", \"bmi\", \"bmi\", \"bmi\", \"bmi\", \"bmi\", \"bmi\", \"bmi\", \"bmi\", \"bmi\", \"bmi\", \"bmi\", \"bmi\", \"bmi\", \"bmi\", \"bmi\", \"bmi\", \"bmi\", \"bmi\", \"bmi\", \"bmi\", \"bmi\", \"bmi\", \"bmi\", \"bmi\", \"bmi\", \"bmi\", \"bmi\", \"bmi\", \"bmi\", \"bmi\", \"bmi\", \"bmi\", \"bmi\", \"bmi\", \"bmi\", \"bmi\", \"bmi\", \"bmi\", \"bmi\", \"bmi\", \"bmi\", \"bmi\", \"bmi\", \"bmi\", \"bmi\", \"bmi\", \"bmi\", \"bmi\", \"bmi\", \"bmi\", \"bmi\", \"bmi\", \"bmi\", \"bmi\", \"bmi\", \"bmi\", \"bmi\", \"bmi\", \"bmi\", \"bmi\", \"bmi\", \"bmi\", \"bmi\", \"bmi\", \"bmi\", \"bmi\", \"bmi\", \"bmi\", \"bmi\", \"bmi\", \"bmi\", \"bmi\", \"bmi\", \"bmi\", \"bmi\", \"bmi\", \"bmi\", \"bmi\", \"bmi\", \"bmi\", \"bmi\", \"bmi\", \"bmi\", \"bmi\", \"bmi\", \"bmi\", \"bmi\", \"bmi\", \"bmi\", \"bmi\", \"bmi\", \"bmi\", \"bmi\", \"bmi\", \"bmi\", \"bmi\", \"bmi\", \"bmi\", \"bmi\", \"bmi\", \"bmi\", \"bmi\", \"bmi\", \"bmi\", \"bmi\", \"bmi\", \"bmi\", \"bmi\", \"bmi\", \"bmi\", \"bmi\", \"bmi\", \"bmi\", \"bmi\", \"bmi\", \"bmi\", \"bmi\", \"bmi\", \"bmi\", \"bmi\", \"bmi\", \"bmi\", \"bmi\", \"bmi\", \"bmi\", \"bmi\", \"bmi\", \"bmi\", \"bmi\", \"bmi\", \"bmi\", \"bmi\", \"bmi\", \"bmi\", \"bmi\", \"bmi\", \"bmi\", \"bmi\", \"bmi\", \"bmi\", \"bmi\", \"bmi\", \"bmi\", \"bmi\", \"bmi\", \"bmi\", \"bmi\", \"bmi\", \"bmi\", \"bmi\", \"bmi\", \"bmi\", \"bmi\", \"bmi\", \"bmi\", \"bmi\", \"bmi\", \"bmi\", \"bmi\", \"bmi\", \"bmi\", \"bmi\", \"bmi\", \"bmi\", \"bmi\", \"bmi\", \"bmi\", \"bmi\", \"bmi\", \"bmi\", \"bmi\", \"bmi\", \"bmi\", \"bmi\", \"bmi\", \"bmi\", \"bmi\", \"bmi\", \"bmi\", \"bmi\", \"bmi\", \"bmi\", \"bmi\", \"bmi\", \"bmi\", \"bmi\", \"bmi\", \"bmi\", \"bmi\", \"bmi\", \"bmi\", \"bmi\", \"bmi\", \"bmi\", \"bmi\", \"bmi\", \"bmi\", \"bmi\", \"bmi\", \"bmi\", \"bmi\", \"bmi\", \"bmi\", \"bmi\", \"bmi\", \"bmi\", \"bmi\", \"bmi\", \"bmi\", \"bmi\", \"bmi\", \"bmi\", \"bmi\", \"bmi\", \"bmi\", \"bmi\", \"bmi\", \"bmi\", \"bmi\", \"bmi\", \"bmi\", \"bmi\", \"bmi\", \"bmi\", \"bmi\", \"bmi\", \"bmi\", \"bmi\", \"bmi\", \"bmi\", \"bmi\", \"bmi\", \"bmi\", \"bmi\", \"bmi\", \"bmi\", \"bmi\", \"bmi\", \"bmi\", \"bmi\", \"bmi\", \"bmi\", \"bmi\", \"bmi\", \"bmi\", \"bmi\", \"bmi\", \"bmi\", \"bmi\", \"bmi\", \"bmi\", \"bmi\", \"bmi\", \"bmi\", \"bmi\", \"bmi\", \"bmi\", \"bmi\", \"bmi\", \"bmi\", \"bmi\", \"bmi\", \"bmi\", \"bmi\", \"bmi\", \"bmi\", \"bmi\", \"bmi\", \"bmi\", \"bmi\", \"bmi\", \"bmi\", \"bmi\", \"bmi\", \"bmi\", \"bmi\", \"bmi\", \"bmi\", \"bmi\", \"bmi\", \"bmi\", \"bmi\", \"bmi\", \"bmi\", \"bmi\", \"bmi\", \"bmi\", \"bmi\", \"bmi\", \"bmi\", \"bmi\", \"bmi\", \"bmi\", \"bmi\", \"bmi\", \"bmi\", \"bmi\", \"bmi\", \"bmi\", \"bmi\", \"bmi\", \"bmi\", \"bmi\", \"bmi\", \"bmi\", \"bmi\", \"bmi\", \"bmi\", \"bmi\", \"bmi\", \"bmi\", \"bmi\", \"bmi\", \"bmi\", \"bmi\", \"bmi\", \"bmi\", \"bmi\", \"bmi\", \"bmi\", \"bmi\", \"bmi\", \"bmi\", \"bmi\", \"bmi\", \"bmi\", \"bmi\", \"bmi\", \"bmi\", \"bmi\", \"bmi\", \"bmi\", \"bmi\", \"bmi\", \"bmi\", \"bmi\", \"bmi\", \"bmi\", \"bmi\", \"bmi\", \"bmi\", \"bmi\", \"bmi\", \"bmi\", \"bmi\", \"bmi\", \"bmi\", \"bmi\", \"bmi\", \"bmi\", \"bmi\", \"bmi\", \"bmi\", \"bmi\", \"bmi\", \"bmi\", \"bmi\", \"bmi\", \"bmi\", \"bmi\", \"bmi\", \"bmi\", \"bmi\", \"bmi\", \"bmi\", \"bmi\", \"bmi\", \"bmi\", \"bmi\", \"bmi\", \"bmi\", \"bmi\", \"bmi\", \"bmi\", \"bmi\", \"bmi\", \"bmi\", \"bmi\", \"bmi\", \"bmi\", \"bmi\", \"bmi\", \"bmi\", \"bmi\", \"bmi\", \"bmi\", \"bmi\", \"bmi\", \"bmi\", \"bmi\", \"bmi\", \"bmi\", \"bmi\", \"bmi\", \"bmi\", \"bmi\", \"bmi\", \"bmi\", \"bmi\", \"bmi\", \"bmi\", \"bmi\", \"bmi\", \"bmi\", \"bmi\", \"bmi\", \"bmi\", \"bmi\", \"bmi\", \"bmi\", \"bmi\", \"bmi\", \"bmi\", \"bmi\", \"bmi\", \"bmi\", \"bmi\", \"bmi\", \"bmi\", \"bmi\", \"bmi\", \"bmi\", \"bmi\", \"bmi\", \"bmi\", \"bmi\", \"bmi\", \"bmi\", \"bmi\", \"bmi\", \"bmi\", \"bmi\", \"bmi\", \"bmi\", \"bmi\", \"bmi\", \"bmi\", \"bmi\", \"bmi\", \"bmi\", \"bmi\", \"bmi\", \"bmi\", \"bmi\", \"bmi\", \"bmi\", \"bmi\", \"bmi\", \"bmi\", \"bmi\", \"bmi\", \"bmi\", \"bmi\", \"bmi\", \"bmi\", \"bmi\", \"bmi\", \"bmi\", \"bmi\", \"bmi\", \"bmi\", \"bmi\", \"bmi\", \"bmi\", \"bmi\", \"bmi\", \"bmi\", \"bmi\", \"bmi\", \"bmi\", \"bmi\", \"bmi\", \"bmi\", \"bmi\", \"bmi\", \"bmi\", \"bmi\", \"bmi\", \"bmi\", \"bmi\", \"bmi\", \"bmi\", \"bmi\", \"bmi\", \"bmi\", \"bmi\", \"bmi\", \"bmi\", \"bmi\", \"bmi\", \"bmi\", \"bmi\", \"bmi\", \"bmi\", \"bmi\", \"bmi\", \"bmi\", \"bmi\", \"bmi\", \"bmi\", \"bmi\", \"bmi\", \"bmi\", \"bmi\", \"bmi\", \"bmi\", \"bmi\", \"bmi\", \"bmi\", \"bmi\", \"bmi\", \"bmi\", \"bmi\", \"bmi\", \"bmi\", \"bmi\", \"bmi\", \"bmi\", \"bmi\", \"bmi\", \"bmi\", \"bmi\", \"bmi\", \"bmi\", \"bmi\", \"bmi\", \"bmi\", \"bmi\", \"bmi\", \"bmi\", \"bmi\", \"bmi\", \"bmi\", \"bmi\", \"bmi\", \"bmi\", \"bmi\", \"bmi\", \"bmi\", \"bmi\", \"bmi\", \"bmi\", \"bmi\", \"bmi\", \"bmi\", \"bmi\", \"bmi\", \"bmi\", \"bmi\", \"bmi\", \"bmi\", \"bmi\", \"bmi\", \"bmi\", \"bmi\", \"bmi\", \"bmi\", \"bmi\", \"bmi\", \"bmi\", \"bmi\", \"bmi\", \"bmi\", \"bmi\", \"bmi\", \"bmi\", \"bmi\", \"bmi\", \"bmi\", \"bmi\", \"bmi\", \"bmi\", \"bmi\", \"bmi\", \"bmi\", \"bmi\", \"bmi\", \"bmi\", \"bmi\", \"bmi\", \"bmi\", \"bmi\", \"bmi\", \"bmi\", \"bmi\", \"bmi\", \"bmi\", \"bmi\", \"bmi\", \"bmi\", \"bmi\", \"bmi\", \"bmi\", \"bmi\", \"bmi\", \"bmi\", \"bmi\", \"bmi\", \"bmi\", \"bmi\", \"bmi\", \"bmi\", \"bmi\", \"bmi\", \"bmi\", \"bmi\", \"bmi\", \"bmi\", \"bmi\", \"bmi\", \"bmi\", \"bmi\", \"bmi\", \"bmi\", \"bmi\", \"bmi\", \"bmi\", \"bmi\", \"bmi\", \"bmi\", \"bmi\", \"bmi\", \"bmi\", \"bmi\", \"bmi\", \"bmi\", \"bmi\", \"bmi\", \"bmi\", \"bmi\", \"bmi\", \"bmi\", \"bmi\", \"bmi\", \"bmi\", \"bmi\", \"bmi\", \"bmi\", \"bmi\", \"bmi\", \"bmi\", \"bmi\", \"bmi\", \"bmi\", \"bmi\", \"bmi\", \"bmi\", \"bmi\", \"bmi\", \"bmi\", \"bmi\", \"bmi\", \"bmi\", \"bmi\", \"bmi\", \"bmi\", \"bmi\", \"bmi\", \"bmi\", \"bmi\", \"bmi\", \"bmi\", \"bmi\", \"bmi\", \"bmi\", \"bmi\", \"bmi\", \"bmi\", \"bmi\", \"bmi\", \"bmi\", \"bmi\", \"bmi\", \"bmi\", \"bmi\", \"bmi\", \"bmi\", \"bmi\", \"bmi\", \"bmi\", \"bmi\", \"bmi\", \"bmi\", \"bmi\", \"bmi\", \"bmi\", \"bmi\", \"bmi\", \"bmi\", \"bmi\", \"bmi\", \"bmi\", \"bmi\", \"bmi\", \"bmi\", \"bmi\", \"bmi\", \"bmi\", \"bmi\", \"bmi\", \"bmi\", \"bmi\", \"bmi\", \"bmi\", \"bmi\", \"bmi\", \"bmi\", \"bmi\", \"bmi\", \"bmi\", \"bmi\", \"bmi\", \"bmi\", \"bmi\", \"bmi\", \"bmi\", \"bmi\", \"bmi\", \"bmi\", \"bmi\", \"bmi\", \"bmi\", \"bmi\", \"bmi\", \"bmi\", \"bmi\", \"bmi\", \"bmi\", \"bmi\", \"bmi\", \"bmi\", \"bmi\", \"bmi\", \"bmi\", \"bmi\", \"bmi\", \"bmi\", \"bmi\", \"bmi\", \"bmi\", \"bmi\", \"bmi\", \"bmi\", \"bmi\", \"bmi\", \"bmi\", \"bmi\", \"bmi\", \"bmi\", \"bmi\", \"bmi\", \"bmi\", \"bmi\", \"bmi\", \"bmi\", \"bmi\", \"bmi\", \"bmi\", \"bmi\", \"bmi\", \"bmi\", \"bmi\", \"bmi\", \"bmi\", \"bmi\", \"bmi\", \"bmi\", \"bmi\", \"bmi\", \"bmi\", \"bmi\", \"bmi\", \"bmi\", \"bmi\", \"bmi\", \"bmi\", \"bmi\", \"bmi\", \"bmi\", \"bmi\", \"bmi\", \"bmi\", \"bmi\", \"bmi\", \"bmi\", \"bmi\", \"bmi\", \"bmi\", \"bmi\", \"bmi\", \"bmi\", \"bmi\", \"bmi\", \"bmi\", \"bmi\", \"bmi\", \"bmi\", \"bmi\", \"bmi\", \"bmi\", \"bmi\", \"bmi\", \"bmi\", \"bmi\", \"bmi\", \"bmi\", \"bmi\", \"bmi\", \"bmi\", \"bmi\", \"bmi\", \"bmi\", \"bmi\", \"bmi\", \"bmi\", \"bmi\", \"bmi\", \"bmi\", \"bmi\", \"bmi\", \"bmi\", \"bmi\", \"bmi\", \"bmi\", \"bmi\", \"bmi\", \"bmi\", \"bmi\", \"bmi\", \"bmi\", \"bmi\", \"bmi\", \"bmi\", \"bmi\", \"bmi\", \"bmi\", \"bmi\", \"bmi\", \"bmi\", \"bmi\", \"bmi\", \"bmi\", \"bmi\", \"bmi\", \"bmi\", \"bmi\", \"bmi\", \"bmi\", \"bmi\", \"bmi\", \"bmi\", \"bmi\", \"bmi\", \"bmi\", \"bmi\", \"bmi\", \"bmi\", \"bmi\", \"bmi\", \"bmi\", \"bmi\", \"bmi\", \"bmi\", \"bmi\", \"bmi\", \"bmi\", \"bmi\", \"bmi\", \"bmi\", \"bmi\", \"bmi\", \"bmi\", \"bmi\", \"bmi\", \"bmi\", \"bmi\", \"bmi\", \"bmi\", \"bmi\", \"bmi\", \"bmi\", \"bmi\", \"bmi\", \"bmi\", \"bmi\", \"bmi\", \"bmi\", \"bmi\", \"bmi\", \"bmi\", \"bmi\", \"bmi\", \"bmi\", \"bmi\", \"bmi\", \"bmi\", \"bmi\", \"bmi\", \"bmi\", \"bmi\", \"bmi\", \"bmi\", \"bmi\", \"bmi\", \"bmi\", \"bmi\", \"bmi\", \"bmi\", \"bmi\", \"bmi\", \"bmi\", \"bmi\", \"bmi\", \"bmi\", \"bmi\", \"bmi\", \"bmi\", \"bmi\", \"bmi\", \"bmi\", \"bmi\", \"bmi\", \"bmi\", \"bmi\", \"bmi\", \"bmi\", \"bmi\", \"bmi\", \"bmi\", \"bmi\", \"bmi\", \"bmi\", \"bmi\", \"bmi\", \"bmi\", \"bmi\", \"bmi\", \"bmi\", \"bmi\", \"bmi\", \"bmi\", \"bmi\", \"bmi\", \"bmi\", \"bmi\", \"bmi\", \"bmi\", \"bmi\", \"bmi\", \"bmi\", \"bmi\", \"bmi\", \"bmi\", \"bmi\", \"bmi\", \"bmi\", \"bmi\", \"bmi\", \"bmi\", \"bmi\", \"bmi\", \"bmi\", \"bmi\", \"bmi\", \"bmi\", \"bmi\", \"bmi\", \"bmi\", \"bmi\", \"bmi\", \"bmi\", \"bmi\", \"bmi\", \"bmi\", \"bmi\", \"bmi\", \"bmi\", \"bmi\", \"bmi\", \"bmi\", \"bmi\", \"bmi\", \"bmi\", \"bmi\", \"bmi\", \"bmi\", \"bmi\", \"bmi\", \"bmi\", \"bmi\", \"bmi\", \"bmi\", \"bmi\", \"bmi\", \"bmi\", \"bmi\", \"bmi\", \"bmi\", \"bmi\", \"bmi\", \"bmi\", \"bmi\", \"bmi\", \"bmi\", \"bmi\", \"bmi\", \"bmi\", \"bmi\", \"bmi\", \"bmi\", \"bmi\", \"bmi\", \"bmi\", \"bmi\", \"bmi\", \"bmi\", \"bmi\", \"bmi\", \"bmi\", \"bmi\", \"bmi\", \"bmi\", \"bmi\", \"bmi\", \"bmi\", \"bmi\", \"bmi\", \"bmi\", \"bmi\", \"bmi\", \"bmi\", \"bmi\", \"bmi\", \"bmi\", \"bmi\", \"bmi\", \"bmi\", \"bmi\", \"bmi\", \"bmi\", \"bmi\", \"bmi\", \"bmi\", \"bmi\", \"bmi\", \"bmi\", \"bmi\", \"bmi\", \"bmi\", \"bmi\", \"bmi\", \"bmi\", \"bmi\", \"bmi\", \"bmi\", \"bmi\", \"bmi\", \"bmi\", \"bmi\", \"bmi\", \"bmi\", \"bmi\", \"bmi\", \"bmi\", \"bmi\", \"bmi\", \"bmi\", \"bmi\", \"bmi\", \"bmi\", \"bmi\", \"bmi\", \"bmi\", \"bmi\", \"bmi\", \"bmi\", \"bmi\", \"bmi\", \"bmi\", \"bmi\", \"bmi\", \"bmi\", \"bmi\", \"bmi\", \"bmi\", \"bmi\", \"bmi\", \"bmi\", \"bmi\", \"bmi\", \"bmi\", \"bmi\", \"bmi\", \"bmi\", \"bmi\", \"bmi\", \"bmi\", \"bmi\", \"bmi\", \"bmi\", \"bmi\", \"bmi\", \"bmi\", \"bmi\", \"bmi\", \"bmi\", \"bmi\", \"bmi\", \"bmi\", \"bmi\", \"bmi\", \"bmi\", \"bmi\", \"bmi\", \"bmi\", \"bmi\", \"bmi\", \"bmi\", \"bmi\", \"bmi\", \"bmi\", \"bmi\", \"bmi\", \"bmi\", \"bmi\", \"bmi\", \"bmi\", \"bmi\", \"bmi\", \"bmi\", \"bmi\", \"bmi\", \"bmi\", \"bmi\", \"bmi\", \"bmi\", \"bmi\", \"bmi\", \"bmi\", \"bmi\", \"bmi\", \"bmi\", \"bmi\", \"bmi\", \"bmi\", \"bmi\", \"bmi\", \"bmi\", \"bmi\", \"bmi\", \"bmi\", \"bmi\", \"bmi\", \"bmi\", \"bmi\", \"bmi\", \"bmi\", \"bmi\", \"bmi\", \"bmi\", \"bmi\", \"bmi\", \"bmi\", \"bmi\", \"bmi\", \"bmi\", \"bmi\", \"bmi\", \"bmi\", \"bmi\", \"bmi\", \"bmi\", \"bmi\", \"bmi\", \"bmi\", \"bmi\", \"bmi\", \"bmi\", \"bmi\", \"bmi\", \"bmi\", \"bmi\", \"bmi\", \"bmi\", \"bmi\", \"bmi\", \"bmi\", \"bmi\", \"bmi\", \"bmi\", \"bmi\", \"bmi\", \"bmi\", \"bmi\", \"bmi\", \"bmi\", \"bmi\", \"bmi\", \"bmi\", \"bmi\", \"bmi\", \"bmi\", \"bmi\", \"bmi\", \"bmi\", \"bmi\", \"bmi\", \"bmi\", \"bmi\", \"bmi\", \"bmi\", \"bmi\", \"bmi\", \"bmi\", \"bmi\", \"bmi\", \"bmi\", \"bmi\", \"bmi\", \"bmi\", \"bmi\", \"bmi\", \"bmi\", \"bmi\", \"bmi\", \"bmi\", \"bmi\", \"bmi\", \"bmi\", \"bmi\", \"bmi\", \"bmi\", \"bmi\", \"bmi\", \"bmi\", \"bmi\", \"bmi\", \"bmi\", \"bmi\", \"bmi\", \"bmi\", \"bmi\", \"bmi\", \"bmi\", \"bmi\", \"bmi\", \"bmi\", \"bmi\", \"bmi\", \"bmi\", \"bmi\", \"bmi\", \"bmi\", \"bmi\", \"bmi\", \"bmi\", \"bmi\", \"bmi\", \"bmi\", \"bmi\", \"bmi\", \"bmi\", \"bmi\", \"bmi\", \"bmi\", \"bmi\", \"bmi\", \"bmi\", \"bmi\", \"bmi\", \"bmi\", \"bmi\", \"bmi\", \"bmi\", \"bmi\", \"bmi\", \"bmi\", \"bmi\", \"bmi\", \"bmi\", \"bmi\", \"bmi\", \"bmi\", \"bmi\", \"bmi\", \"bmi\", \"bmi\", \"bmi\", \"bmi\", \"bmi\", \"bmi\", \"bmi\", \"bmi\", \"bmi\", \"bmi\", \"bmi\", \"bmi\", \"bmi\", \"bmi\", \"bmi\", \"bmi\", \"bmi\", \"bmi\", \"bmi\", \"bmi\", \"bmi\", \"bmi\", \"bmi\", \"bmi\", \"bmi\", \"bmi\", \"bmi\", \"bmi\", \"bmi\", \"bmi\", \"bmi\", \"bmi\", \"bmi\", \"bmi\", \"bmi\", \"bmi\", \"bmi\", \"bmi\", \"bmi\", \"bmi\", \"bmi\", \"bmi\", \"bmi\", \"bmi\", \"bmi\", \"bmi\", \"bmi\", \"bmi\", \"bmi\", \"bmi\", \"bmi\", \"bmi\", \"bmi\", \"bmi\", \"bmi\", \"bmi\", \"bmi\", \"bmi\", \"bmi\", \"bmi\", \"bmi\", \"bmi\", \"bmi\", \"bmi\", \"bmi\", \"bmi\", \"bmi\", \"bmi\", \"bmi\", \"bmi\", \"bmi\", \"bmi\", \"bmi\", \"bmi\", \"bmi\", \"bmi\", \"bmi\", \"bmi\", \"bmi\", \"bmi\", \"bmi\", \"bmi\", \"bmi\", \"bmi\", \"bmi\", \"bmi\", \"bmi\", \"bmi\", \"bmi\", \"bmi\", \"bmi\", \"bmi\", \"bmi\", \"bmi\", \"bmi\", \"bmi\", \"bmi\", \"bmi\", \"bmi\", \"bmi\", \"bmi\", \"bmi\", \"bmi\", \"bmi\", \"bmi\", \"bmi\", \"bmi\", \"bmi\", \"bmi\", \"bmi\", \"bmi\", \"bmi\", \"bmi\", \"bmi\", \"bmi\", \"bmi\", \"bmi\", \"bmi\", \"bmi\", \"bmi\", \"bmi\", \"bmi\", \"bmi\", \"bmi\", \"bmi\", \"bmi\", \"bmi\", \"bmi\", \"bmi\", \"bmi\", \"bmi\", \"bmi\", \"bmi\", \"bmi\", \"bmi\", \"bmi\", \"bmi\", \"bmi\", \"bmi\", \"bmi\", \"bmi\", \"bmi\", \"bmi\", \"bmi\", \"bmi\", \"bmi\", \"bmi\", \"bmi\", \"bmi\", \"bmi\", \"bmi\", \"bmi\", \"bmi\", \"bmi\", \"bmi\", \"bmi\", \"bmi\", \"bmi\", \"bmi\", \"bmi\", \"bmi\", \"bmi\", \"bmi\", \"bmi\", \"bmi\", \"bmi\", \"bmi\", \"bmi\", \"bmi\", \"bmi\", \"bmi\", \"bmi\", \"bmi\", \"bmi\", \"bmi\", \"bmi\", \"bmi\", \"bmi\", \"bmi\", \"bmi\", \"bmi\", \"bmi\", \"bmi\", \"bmi\", \"bmi\", \"bmi\", \"bmi\", \"bmi\", \"bmi\", \"bmi\", \"bmi\", \"bmi\", \"bmi\", \"bmi\", \"bmi\", \"bmi\", \"bmi\", \"bmi\", \"bmi\", \"bmi\", \"bmi\", \"bmi\", \"bmi\", \"bmi\", \"bmi\", \"bmi\", \"bmi\", \"bmi\", \"bmi\", \"bmi\", \"bmi\", \"bmi\", \"bmi\", \"bmi\", \"bmi\", \"bmi\", \"bmi\", \"bmi\", \"bmi\", \"bmi\", \"bmi\", \"bmi\", \"bmi\", \"bmi\", \"bmi\", \"bmi\", \"bmi\", \"bmi\", \"bmi\", \"bmi\", \"bmi\", \"bmi\", \"bmi\", \"bmi\", \"bmi\", \"bmi\", \"bmi\", \"bmi\", \"bmi\", \"bmi\", \"bmi\", \"bmi\", \"bmi\", \"bmi\", \"bmi\", \"bmi\", \"bmi\", \"bmi\", \"bmi\", \"bmi\", \"bmi\", \"bmi\", \"bmi\", \"bmi\", \"bmi\", \"bmi\", \"bmi\", \"bmi\", \"bmi\", \"bmi\", \"bmi\", \"bmi\", \"bmi\", \"bmi\", \"bmi\", \"bmi\", \"bmi\", \"bmi\", \"bmi\", \"bmi\", \"bmi\", \"bmi\", \"bmi\", \"bmi\", \"bmi\", \"bmi\", \"bmi\", \"bmi\", \"bmi\", \"bmi\", \"bmi\", \"bmi\", \"bmi\", \"bmi\", \"bmi\", \"bmi\", \"bmi\", \"bmi\", \"bmi\", \"bmi\", \"bmi\", \"bmi\", \"bmi\", \"bmi\", \"bmi\", \"bmi\", \"bmi\", \"bmi\", \"bmi\", \"bmi\", \"bmi\", \"bmi\", \"bmi\", \"bmi\", \"bmi\", \"bmi\", \"bmi\", \"bmi\", \"bmi\", \"bmi\", \"bmi\", \"bmi\", \"bmi\", \"bmi\", \"bmi\", \"bmi\", \"bmi\", \"bmi\", \"bmi\", \"bmi\", \"bmi\", \"bmi\", \"bmi\", \"bmi\", \"bmi\", \"bmi\", \"bmi\", \"bmi\", \"bmi\", \"bmi\", \"bmi\", \"bmi\", \"bmi\", \"bmi\", \"bmi\", \"bmi\", \"bmi\", \"bmi\", \"bmi\", \"bmi\", \"bmi\", \"bmi\", \"bmi\", \"bmi\", \"bmi\", \"bmi\", \"bmi\", \"bmi\", \"bmi\", \"bmi\", \"bmi\", \"bmi\", \"bmi\", \"bmi\", \"bmi\", \"bmi\", \"bmi\", \"bmi\", \"bmi\", \"bmi\", \"bmi\", \"bmi\", \"bmi\", \"bmi\", \"bmi\", \"bmi\", \"bmi\", \"bmi\", \"bmi\", \"bmi\", \"bmi\", \"bmi\", \"bmi\", \"bmi\", \"bmi\", \"bmi\", \"bmi\", \"bmi\", \"bmi\", \"bmi\", \"bmi\", \"bmi\", \"bmi\", \"bmi\", \"bmi\", \"bmi\", \"bmi\", \"bmi\", \"bmi\", \"bmi\", \"bmi\", \"bmi\", \"bmi\", \"bmi\", \"bmi\", \"bmi\", \"bmi\", \"bmi\", \"bmi\", \"bmi\", \"bmi\", \"bmi\", \"bmi\", \"bmi\", \"bmi\", \"bmi\", \"bmi\", \"bmi\", \"bmi\", \"bmi\", \"bmi\", \"bmi\", \"bmi\", \"bmi\", \"bmi\", \"bmi\", \"bmi\", \"bmi\", \"bmi\", \"bmi\", \"bmi\", \"bmi\", \"bmi\", \"bmi\", \"bmi\", \"bmi\", \"bmi\", \"bmi\", \"bmi\", \"bmi\", \"bmi\", \"bmi\", \"bmi\", \"bmi\", \"bmi\", \"bmi\", \"bmi\", \"bmi\", \"bmi\", \"bmi\", \"bmi\", \"bmi\", \"bmi\", \"bmi\", \"bmi\", \"bmi\", \"bmi\", \"bmi\", \"bmi\", \"bmi\", \"bmi\", \"bmi\", \"bmi\", \"bmi\", \"bmi\", \"bmi\", \"bmi\", \"bmi\", \"bmi\", \"bmi\", \"bmi\", \"bmi\", \"bmi\", \"bmi\", \"bmi\", \"bmi\", \"bmi\", \"bmi\", \"bmi\", \"bmi\", \"bmi\", \"bmi\", \"bmi\", \"bmi\", \"bmi\", \"bmi\", \"bmi\", \"bmi\", \"bmi\", \"bmi\", \"bmi\", \"bmi\", \"bmi\", \"bmi\", \"bmi\", \"bmi\", \"bmi\", \"bmi\", \"bmi\", \"bmi\", \"bmi\", \"bmi\", \"bmi\", \"bmi\", \"bmi\", \"bmi\", \"bmi\", \"bmi\", \"bmi\", \"bmi\", \"bmi\", \"bmi\", \"bmi\", \"bmi\", \"bmi\", \"bmi\", \"bmi\", \"bmi\", \"bmi\", \"bmi\", \"bmi\", \"bmi\", \"bmi\", \"bmi\", \"bmi\", \"bmi\", \"bmi\", \"bmi\", \"bmi\", \"bmi\", \"bmi\", \"bmi\", \"bmi\", \"bmi\", \"bmi\", \"bmi\", \"bmi\", \"bmi\", \"bmi\", \"bmi\", \"bmi\", \"bmi\", \"bmi\", \"bmi\", \"bmi\", \"bmi\", \"bmi\", \"bmi\", \"bmi\", \"bmi\", \"bmi\", \"bmi\", \"bmi\", \"bmi\", \"bmi\", \"bmi\", \"bmi\", \"bmi\", \"bmi\", \"bmi\", \"bmi\", \"bmi\", \"bmi\", \"bmi\", \"bmi\", \"bmi\", \"bmi\", \"bmi\", \"bmi\", \"bmi\", \"bmi\", \"bmi\", \"bmi\", \"bmi\", \"bmi\", \"bmi\", \"bmi\", \"bmi\", \"bmi\", \"bmi\", \"bmi\", \"bmi\", \"bmi\", \"bmi\", \"bmi\", \"bmi\", \"bmi\", \"bmi\", \"bmi\", \"bmi\", \"bmi\", \"bmi\", \"bmi\", \"bmi\", \"bmi\", \"bmi\", \"bmi\", \"bmi\", \"bmi\", \"bmi\", \"bmi\", \"bmi\", \"bmi\", \"bmi\", \"bmi\", \"bmi\", \"bmi\", \"bmi\", \"bmi\", \"bmi\", \"bmi\", \"bmi\", \"bmi\", \"bmi\", \"bmi\", \"bmi\", \"bmi\", \"bmi\", \"bmi\", \"bmi\", \"bmi\", \"bmi\", \"bmi\", \"bmi\", \"bmi\", \"bmi\", \"bmi\", \"bmi\", \"bmi\", \"bmi\", \"bmi\", \"bmi\", \"bmi\", \"bmi\", \"bmi\", \"bmi\", \"bmi\", \"bmi\", \"bmi\", \"bmi\", \"bmi\", \"bmi\", \"bmi\", \"bmi\", \"bmi\", \"bmi\", \"bmi\", \"bmi\", \"bmi\", \"bmi\", \"bmi\", \"bmi\", \"bmi\", \"bmi\", \"bmi\", \"bmi\", \"bmi\", \"bmi\", \"bmi\", \"bmi\", \"bmi\", \"bmi\", \"bmi\", \"bmi\", \"bmi\", \"bmi\", \"bmi\", \"bmi\", \"bmi\", \"bmi\", \"bmi\", \"bmi\", \"bmi\", \"bmi\", \"bmi\", \"bmi\", \"bmi\", \"bmi\", \"bmi\", \"bmi\", \"bmi\", \"bmi\", \"bmi\", \"bmi\", \"bmi\", \"bmi\", \"bmi\", \"bmi\", \"bmi\", \"bmi\", \"bmi\", \"bmi\", \"bmi\", \"bmi\", \"bmi\", \"bmi\", \"bmi\", \"bmi\", \"bmi\", \"bmi\", \"bmi\", \"bmi\", \"bmi\", \"bmi\", \"bmi\", \"bmi\", \"bmi\", \"bmi\", \"bmi\", \"bmi\", \"bmi\", \"bmi\", \"bmi\", \"bmi\", \"bmi\", \"bmi\", \"bmi\", \"bmi\", \"bmi\", \"bmi\", \"bmi\", \"bmi\", \"bmi\", \"bmi\", \"bmi\", \"bmi\", \"bmi\", \"bmi\", \"bmi\", \"bmi\", \"bmi\", \"bmi\", \"bmi\", \"bmi\", \"bmi\", \"bmi\", \"bmi\", \"bmi\", \"bmi\", \"bmi\", \"bmi\", \"bmi\", \"bmi\", \"bmi\", \"bmi\", \"bmi\", \"bmi\", \"bmi\", \"bmi\", \"bmi\", \"bmi\", \"bmi\", \"bmi\", \"bmi\", \"bmi\", \"bmi\", \"bmi\", \"bmi\", \"bmi\", \"bmi\", \"bmi\", \"bmi\", \"bmi\", \"bmi\", \"bmi\", \"bmi\", \"bmi\", \"bmi\", \"bmi\", \"bmi\", \"bmi\", \"bmi\", \"bmi\", \"bmi\", \"bmi\", \"bmi\", \"bmi\", \"bmi\", \"bmi\", \"bmi\", \"bmi\", \"bmi\", \"bmi\", \"bmi\", \"bmi\", \"bmi\", \"bmi\", \"bmi\", \"bmi\", \"bmi\", \"bmi\", \"bmi\", \"bmi\", \"bmi\", \"bmi\", \"bmi\", \"bmi\", \"bmi\", \"bmi\", \"bmi\", \"bmi\", \"bmi\", \"bmi\", \"bmi\", \"bmi\", \"bmi\", \"bmi\", \"bmi\", \"bmi\", \"bmi\", \"bmi\", \"bmi\", \"bmi\", \"bmi\", \"bmi\", \"bmi\", \"bmi\", \"bmi\", \"bmi\", \"bmi\", \"bmi\", \"bmi\", \"bmi\", \"bmi\", \"bmi\", \"bmi\", \"bmi\", \"bmi\", \"bmi\", \"bmi\", \"bmi\", \"bmi\", \"bmi\", \"bmi\", \"bmi\", \"bmi\", \"bmi\", \"bmi\", \"bmi\", \"bmi\", \"bmi\", \"bmi\", \"bmi\", \"bmi\", \"bmi\", \"bmi\", \"bmi\", \"bmi\", \"bmi\", \"bmi\", \"bmi\", \"bmi\", \"bmi\", \"bmi\", \"bmi\", \"bmi\", \"bmi\", \"bmi\", \"bmi\", \"bmi\", \"bmi\", \"bmi\", \"bmi\", \"bmi\", \"bmi\", \"bmi\", \"bmi\", \"bmi\", \"bmi\", \"bmi\", \"bmi\", \"bmi\", \"bmi\", \"bmi\", \"bmi\", \"bmi\", \"bmi\", \"bmi\", \"bmi\", \"bmi\", \"bmi\", \"bmi\", \"bmi\", \"bmi\", \"bmi\", \"bmi\", \"bmi\", \"bmi\", \"bmi\", \"bmi\", \"bmi\", \"bmi\", \"bmi\", \"bmi\", \"bmi\", \"bmi\", \"bmi\", \"bmi\", \"bmi\", \"bmi\", \"bmi\", \"bmi\", \"bmi\", \"bmi\", \"bmi\", \"bmi\", \"bmi\", \"bmi\", \"bmi\", \"bmi\", \"bmi\", \"bmi\", \"bmi\", \"bmi\", \"bmi\", \"bmi\", \"bmi\", \"bmi\", \"bmi\", \"bmi\", \"bmi\", \"bmi\", \"bmi\", \"bmi\", \"bmi\", \"bmi\", \"bmi\", \"bmi\", \"bmi\", \"bmi\", \"bmi\", \"bmi\", \"bmi\", \"bmi\", \"bmi\", \"bmi\", \"bmi\", \"bmi\", \"bmi\", \"bmi\", \"bmi\", \"bmi\", \"bmi\", \"bmi\", \"bmi\", \"bmi\", \"bmi\", \"bmi\", \"bmi\", \"bmi\", \"bmi\", \"bmi\", \"bmi\", \"bmi\", \"bmi\", \"bmi\", \"bmi\", \"bmi\", \"bmi\", \"bmi\", \"bmi\", \"bmi\", \"bmi\", \"bmi\", \"bmi\", \"bmi\", \"bmi\", \"bmi\", \"bmi\", \"bmi\", \"bmi\", \"bmi\", \"bmi\", \"bmi\", \"bmi\", \"bmi\", \"bmi\", \"bmi\", \"bmi\", \"bmi\", \"bmi\", \"bmi\", \"bmi\", \"bmi\", \"bmi\", \"bmi\", \"bmi\", \"bmi\", \"bmi\", \"bmi\", \"bmi\", \"bmi\", \"bmi\", \"bmi\", \"bmi\", \"bmi\", \"bmi\", \"bmi\", \"bmi\", \"bmi\", \"bmi\", \"bmi\", \"bmi\", \"bmi\", \"bmi\", \"bmi\", \"bmi\", \"bmi\", \"bmi\", \"bmi\", \"bmi\", \"bmi\", \"bmi\", \"bmi\", \"bmi\", \"bmi\", \"bmi\", \"bmi\", \"bmi\", \"bmi\", \"bmi\", \"bmi\", \"bmi\", \"bmi\", \"bmi\", \"bmi\", \"bmi\", \"bmi\", \"bmi\", \"bmi\", \"bmi\", \"bmi\", \"bmi\", \"bmi\", \"bmi\", \"bmi\", \"bmi\", \"bmi\", \"bmi\", \"bmi\", \"bmi\", \"bmi\", \"bmi\", \"bmi\", \"bmi\", \"bmi\", \"bmi\", \"bmi\", \"bmi\", \"bmi\", \"bmi\", \"bmi\", \"bmi\", \"bmi\", \"bmi\", \"bmi\", \"bmi\", \"bmi\", \"bmi\", \"bmi\", \"bmi\", \"bmi\", \"bmi\", \"bmi\", \"bmi\", \"bmi\", \"bmi\", \"bmi\", \"bmi\", \"bmi\", \"bmi\", \"bmi\", \"bmi\", \"bmi\", \"bmi\", \"bmi\", \"bmi\", \"bmi\", \"bmi\", \"bmi\", \"bmi\", \"bmi\", \"bmi\", \"bmi\", \"bmi\", \"bmi\", \"bmi\", \"bmi\", \"bmi\", \"bmi\", \"bmi\", \"bmi\", \"bmi\", \"bmi\", \"bmi\", \"bmi\", \"bmi\", \"bmi\", \"bmi\", \"bmi\", \"bmi\", \"bmi\", \"bmi\", \"bmi\", \"bmi\", \"bmi\", \"bmi\", \"bmi\", \"bmi\", \"bmi\", \"bmi\", \"bmi\", \"bmi\", \"bmi\", \"bmi\", \"bmi\", \"bmi\", \"bmi\", \"bmi\", \"bmi\", \"bmi\", \"bmi\", \"bmi\", \"bmi\", \"bmi\", \"bmi\", \"bmi\", \"bmi\", \"bmi\", \"bmi\", \"bmi\", \"bmi\", \"bmi\", \"bmi\", \"bmi\", \"bmi\", \"bmi\", \"bmi\", \"bmi\", \"bmi\", \"bmi\", \"bmi\", \"bmi\", \"bmi\", \"bmi\", \"bmi\", \"bmi\", \"bmi\", \"bmi\", \"bmi\", \"bmi\", \"bmi\", \"bmi\", \"bmi\", \"bmi\", \"bmi\", \"bmi\", \"bmi\", \"bmi\", \"bmi\", \"bmi\", \"bmi\", \"bmi\", \"bmi\", \"bmi\", \"bmi\", \"bmi\", \"bmi\", \"bmi\", \"bmi\", \"bmi\", \"bmi\", \"bmi\", \"bmi\", \"bmi\", \"bmi\", \"bmi\", \"bmi\", \"bmi\", \"bmi\", \"bmi\", \"bmi\", \"bmi\", \"bmi\", \"bmi\", \"bmi\", \"bmi\", \"bmi\", \"bmi\", \"bmi\", \"bmi\", \"bmi\", \"bmi\", \"bmi\", \"bmi\", \"bmi\", \"bmi\", \"bmi\", \"bmi\", \"bmi\", \"bmi\", \"bmi\", \"bmi\", \"bmi\", \"bmi\", \"bmi\", \"bmi\", \"bmi\", \"bmi\", \"bmi\", \"bmi\", \"bmi\", \"bmi\", \"bmi\", \"bmi\", \"bmi\", \"bmi\", \"bmi\", \"bmi\", \"bmi\", \"bmi\", \"bmi\", \"bmi\", \"bmi\", \"bmi\", \"bmi\", \"bmi\", \"bmi\", \"bmi\", \"bmi\", \"bmi\", \"bmi\", \"bmi\", \"bmi\", \"bmi\", \"bmi\", \"bmi\", \"bmi\", \"bmi\", \"bmi\", \"bmi\", \"bmi\", \"bmi\", \"bmi\", \"bmi\", \"bmi\", \"bmi\", \"bmi\", \"bmi\", \"bmi\", \"bmi\", \"bmi\", \"bmi\", \"bmi\", \"bmi\", \"bmi\", \"bmi\", \"bmi\", \"bmi\", \"bmi\", \"bmi\", \"bmi\", \"bmi\", \"bmi\", \"bmi\", \"bmi\", \"bmi\", \"bmi\", \"bmi\", \"bmi\", \"bmi\", \"bmi\", \"bmi\", \"bmi\", \"bmi\", \"bmi\", \"bmi\", \"bmi\", \"bmi\", \"bmi\", \"bmi\", \"bmi\", \"bmi\", \"bmi\", \"bmi\", \"bmi\", \"bmi\", \"bmi\", \"bmi\", \"bmi\", \"bmi\", \"bmi\", \"bmi\", \"bmi\", \"bmi\", \"bmi\", \"bmi\", \"bmi\", \"bmi\", \"bmi\", \"bmi\", \"bmi\", \"bmi\", \"bmi\", \"bmi\", \"bmi\", \"bmi\", \"bmi\", \"bmi\", \"bmi\", \"bmi\", \"bmi\", \"bmi\", \"bmi\", \"bmi\", \"bmi\", \"bmi\", \"bmi\", \"bmi\", \"bmi\", \"bmi\", \"bmi\", \"bmi\", \"bmi\", \"bmi\", \"bmi\", \"bmi\", \"bmi\", \"bmi\", \"bmi\", \"bmi\", \"bmi\", \"bmi\", \"bmi\", \"bmi\", \"bmi\", \"bmi\", \"bmi\", \"bmi\", \"bmi\", \"bmi\", \"bmi\", \"bmi\", \"bmi\", \"bmi\", \"bmi\", \"bmi\", \"bmi\", \"bmi\", \"bmi\", \"bmi\", \"bmi\", \"bmi\", \"bmi\", \"bmi\", \"bmi\", \"bmi\", \"bmi\", \"bmi\", \"bmi\", \"bmi\", \"bmi\", \"bmi\", \"bmi\", \"bmi\", \"bmi\", \"bmi\", \"bmi\", \"bmi\", \"bmi\", \"bmi\", \"bmi\", \"bmi\", \"bmi\", \"bmi\", \"bmi\", \"bmi\", \"bmi\", \"bmi\", \"bmi\", \"bmi\", \"bmi\", \"bmi\", \"bmi\", \"bmi\", \"bmi\", \"bmi\", \"bmi\", \"bmi\", \"bmi\", \"bmi\", \"bmi\", \"bmi\", \"bmi\", \"bmi\", \"bmi\", \"bmi\", \"bmi\", \"bmi\", \"bmi\", \"bmi\", \"bmi\", \"bmi\", \"bmi\", \"bmi\", \"bmi\", \"bmi\", \"bmi\", \"bmi\", \"bmi\", \"bmi\", \"bmi\", \"bmi\", \"bmi\", \"bmi\", \"bmi\", \"bmi\", \"bmi\", \"bmi\", \"bmi\", \"bmi\", \"bmi\", \"bmi\", \"bmi\", \"bmi\", \"bmi\", \"bmi\", \"bmi\", \"bmi\", \"bmi\", \"bmi\", \"bmi\", \"bmi\", \"bmi\", \"bmi\", \"bmi\", \"bmi\", \"bmi\", \"bmi\", \"bmi\", \"bmi\", \"bmi\", \"bmi\", \"bmi\", \"bmi\", \"bmi\", \"bmi\", \"bmi\", \"bmi\", \"bmi\", \"bmi\", \"bmi\", \"bmi\", \"bmi\", \"bmi\", \"bmi\", \"bmi\", \"bmi\", \"bmi\", \"bmi\", \"bmi\", \"bmi\", \"bmi\", \"bmi\", \"bmi\", \"bmi\", \"bmi\", \"bmi\", \"bmi\", \"bmi\", \"bmi\", \"bmi\", \"bmi\", \"bmi\", \"bmi\", \"bmi\", \"bmi\", \"bmi\", \"bmi\", \"bmi\", \"bmi\", \"bmi\", \"bmi\", \"bmi\", \"bmi\", \"bmi\", \"bmi\", \"bmi\", \"bmi\", \"bmi\", \"bmi\", \"bmi\", \"bmi\", \"bmi\", \"bmi\", \"bmi\", \"bmi\", \"bmi\", \"bmi\", \"bmi\", \"bmi\", \"bmi\", \"bmi\", \"bmi\", \"bmi\", \"bmi\", \"bmi\", \"bmi\", \"bmi\", \"bmi\", \"bmi\", \"bmi\", \"bmi\", \"bmi\", \"bmi\", \"bmi\", \"bmi\", \"bmi\", \"bmi\", \"bmi\", \"bmi\", \"bmi\", \"bmi\", \"bmi\", \"bmi\", \"bmi\", \"bmi\", \"bmi\", \"bmi\", \"bmi\", \"bmi\", \"bmi\", \"bmi\", \"bmi\", \"bmi\", \"bmi\", \"bmi\", \"bmi\", \"bmi\", \"bmi\", \"bmi\", \"bmi\", \"bmi\", \"bmi\", \"bmi\", \"bmi\", \"bmi\", \"bmi\", \"bmi\", \"bmi\", \"bmi\", \"bmi\", \"bmi\", \"bmi\", \"bmi\", \"bmi\", \"bmi\", \"bmi\", \"bmi\", \"bmi\", \"bmi\", \"bmi\", \"bmi\", \"bmi\", \"bmi\", \"bmi\", \"bmi\", \"bmi\", \"bmi\", \"bmi\", \"bmi\", \"bmi\", \"bmi\", \"bmi\", \"bmi\", \"bmi\", \"bmi\", \"bmi\", \"bmi\", \"bmi\", \"bmi\", \"bmi\", \"bmi\", \"bmi\", \"bmi\", \"bmi\", \"bmi\", \"bmi\", \"bmi\", \"bmi\", \"bmi\", \"bmi\", \"bmi\", \"bmi\", \"bmi\", \"bmi\", \"bmi\", \"bmi\", \"bmi\", \"bmi\", \"bmi\", \"bmi\", \"bmi\", \"bmi\", \"bmi\", \"bmi\", \"bmi\", \"bmi\", \"bmi\", \"bmi\", \"bmi\", \"bmi\", \"bmi\", \"bmi\", \"bmi\", \"bmi\", \"bmi\", \"bmi\", \"bmi\", \"bmi\", \"bmi\", \"bmi\", \"bmi\", \"bmi\", \"bmi\", \"bmi\", \"bmi\", \"bmi\", \"bmi\", \"bmi\", \"bmi\", \"bmi\", \"bmi\", \"bmi\", \"bmi\", \"bmi\", \"bmi\", \"bmi\", \"bmi\", \"bmi\", \"bmi\", \"bmi\", \"bmi\", \"bmi\", \"bmi\", \"bmi\", \"bmi\", \"bmi\", \"bmi\", \"bmi\", \"bmi\", \"bmi\", \"bmi\", \"bmi\", \"bmi\", \"bmi\", \"bmi\", \"bmi\", \"bmi\", \"bmi\", \"bmi\", \"bmi\", \"bmi\", \"bmi\", \"bmi\", \"bmi\", \"bmi\", \"bmi\", \"bmi\", \"bmi\", \"bmi\", \"bmi\", \"bmi\", \"bmi\", \"bmi\", \"bmi\", \"bmi\", \"bmi\", \"bmi\", \"bmi\", \"bmi\", \"bmi\", \"bmi\", \"bmi\", \"bmi\", \"bmi\", \"bmi\", \"bmi\", \"bmi\", \"bmi\", \"bmi\", \"bmi\", \"bmi\", \"bmi\", \"bmi\", \"bmi\", \"bmi\", \"bmi\", \"bmi\", \"bmi\", \"bmi\", \"bmi\", \"bmi\", \"bmi\", \"bmi\", \"bmi\", \"bmi\", \"bmi\", \"bmi\", \"bmi\", \"bmi\", \"bmi\", \"bmi\", \"bmi\", \"bmi\", \"bmi\", \"bmi\", \"bmi\", \"bmi\", \"bmi\", \"bmi\", \"bmi\", \"bmi\", \"bmi\", \"bmi\", \"bmi\", \"bmi\", \"bmi\", \"bmi\", \"bmi\", \"bmi\", \"bmi\", \"bmi\", \"bmi\", \"bmi\", \"bmi\", \"bmi\", \"bmi\", \"bmi\", \"bmi\", \"bmi\", \"bmi\", \"bmi\", \"bmi\", \"bmi\", \"bmi\", \"bmi\", \"bmi\", \"bmi\", \"bmi\", \"bmi\", \"bmi\", \"bmi\", \"bmi\", \"bmi\", \"bmi\", \"bmi\", \"bmi\", \"bmi\", \"bmi\", \"bmi\", \"bmi\", \"bmi\", \"bmi\", \"bmi\", \"bmi\", \"bmi\", \"bmi\", \"bmi\", \"bmi\", \"bmi\", \"bmi\", \"bmi\", \"bmi\", \"bmi\", \"bmi\", \"bmi\", \"bmi\", \"bmi\", \"bmi\", \"bmi\", \"bmi\", \"bmi\", \"bmi\", \"bmi\", \"bmi\", \"bmi\", \"bmi\", \"bmi\", \"bmi\", \"bmi\", \"bmi\", \"bmi\", \"bmi\", \"bmi\", \"bmi\", \"bmi\", \"bmi\", \"bmi\", \"bmi\", \"bmi\", \"bmi\", \"bmi\", \"bmi\", \"bmi\", \"bmi\", \"bmi\", \"bmi\", \"bmi\", \"bmi\", \"bmi\", \"bmi\", \"bmi\", \"bmi\", \"bmi\", \"bmi\", \"bmi\", \"bmi\", \"bmi\", \"bmi\", \"bmi\", \"bmi\", \"bmi\", \"bmi\", \"bmi\", \"bmi\", \"bmi\", \"bmi\", \"bmi\", \"bmi\", \"bmi\", \"bmi\", \"bmi\", \"bmi\", \"bmi\", \"bmi\", \"bmi\", \"bmi\", \"bmi\", \"bmi\", \"bmi\", \"bmi\", \"bmi\", \"bmi\", \"bmi\", \"bmi\", \"bmi\", \"bmi\", \"bmi\", \"bmi\", \"bmi\", \"bmi\", \"bmi\", \"bmi\", \"bmi\", \"bmi\", \"bmi\", \"bmi\", \"bmi\", \"bmi\", \"bmi\", \"bmi\", \"bmi\", \"bmi\", \"bmi\", \"bmi\", \"bmi\", \"bmi\", \"bmi\", \"bmi\", \"bmi\", \"bmi\", \"bmi\", \"bmi\", \"bmi\", \"bmi\", \"bmi\", \"bmi\", \"bmi\", \"bmi\", \"bmi\", \"bmi\", \"bmi\", \"bmi\", \"bmi\", \"bmi\", \"bmi\", \"bmi\", \"bmi\", \"bmi\", \"bmi\", \"bmi\", \"bmi\", \"bmi\", \"bmi\", \"bmi\", \"bmi\", \"bmi\", \"bmi\", \"bmi\", \"bmi\", \"bmi\", \"bmi\", \"bmi\", \"bmi\", \"bmi\", \"bmi\", \"bmi\", \"bmi\", \"bmi\", \"bmi\", \"bmi\", \"bmi\", \"bmi\", \"bmi\", \"bmi\", \"bmi\", \"bmi\", \"bmi\", \"bmi\", \"bmi\", \"bmi\", \"bmi\", \"bmi\", \"bmi\", \"bmi\", \"bmi\", \"bmi\", \"bmi\", \"bmi\", \"bmi\", \"bmi\", \"bmi\", \"bmi\", \"bmi\", \"bmi\", \"bmi\", \"bmi\", \"bmi\", \"bmi\", \"bmi\", \"bmi\", \"bmi\", \"bmi\", \"bmi\", \"bmi\", \"bmi\", \"bmi\", \"bmi\", \"bmi\", \"bmi\", \"bmi\", \"bmi\", \"bmi\", \"bmi\", \"bmi\", \"bmi\", \"bmi\", \"bmi\", \"bmi\", \"bmi\", \"bmi\", \"bmi\", \"bmi\", \"bmi\", \"bmi\", \"bmi\", \"bmi\", \"bmi\", \"bmi\", \"bmi\", \"bmi\", \"bmi\", \"bmi\", \"bmi\", \"bmi\", \"bmi\", \"bmi\", \"bmi\", \"bmi\", \"bmi\", \"bmi\", \"bmi\", \"bmi\", \"bmi\", \"bmi\", \"bmi\", \"bmi\", \"bmi\", \"bmi\", \"bmi\", \"bmi\", \"bmi\", \"bmi\", \"bmi\", \"bmi\", \"bmi\", \"bmi\", \"bmi\", \"bmi\", \"bmi\", \"bmi\", \"bmi\", \"bmi\", \"bmi\", \"bmi\", \"bmi\", \"bmi\", \"bmi\", \"bmi\", \"bmi\", \"bmi\", \"bmi\", \"bmi\", \"bmi\", \"bmi\", \"bmi\", \"bmi\", \"bmi\", \"bmi\", \"bmi\", \"bmi\", \"bmi\", \"bmi\", \"bmi\", \"bmi\", \"bmi\", \"bmi\", \"bmi\", \"bmi\", \"bmi\", \"bmi\", \"bmi\", \"bmi\", \"bmi\", \"bmi\", \"bmi\", \"bmi\", \"bmi\", \"bmi\", \"bmi\", \"bmi\", \"bmi\", \"bmi\", \"bmi\", \"bmi\", \"bmi\", \"bmi\", \"bmi\", \"bmi\", \"bmi\", \"bmi\", \"bmi\", \"bmi\", \"bmi\", \"bmi\", \"bmi\", \"bmi\", \"bmi\", \"bmi\", \"bmi\", \"bmi\", \"bmi\", \"bmi\", \"bmi\", \"bmi\", \"bmi\", \"bmi\", \"bmi\", \"bmi\", \"bmi\", \"bmi\", \"bmi\", \"bmi\", \"bmi\", \"bmi\", \"bmi\", \"bmi\", \"bmi\", \"bmi\", \"bmi\", \"bmi\", \"bmi\", \"bmi\", \"bmi\", \"bmi\", \"bmi\", \"bmi\", \"bmi\", \"bmi\", \"bmi\", \"bmi\", \"bmi\", \"bmi\", \"bmi\", \"bmi\", \"bmi\", \"bmi\", \"bmi\", \"bmi\", \"bmi\", \"bmi\", \"bmi\", \"bmi\", \"bmi\", \"bmi\", \"bmi\", \"bmi\", \"bmi\", \"bmi\", \"bmi\", \"bmi\", \"bmi\", \"bmi\", \"bmi\", \"bmi\", \"bmi\", \"bmi\", \"bmi\", \"bmi\", \"bmi\", \"bmi\", \"bmi\", \"bmi\", \"bmi\", \"bmi\", \"bmi\", \"bmi\", \"bmi\", \"bmi\", \"bmi\", \"bmi\", \"bmi\", \"bmi\", \"bmi\", \"bmi\", \"bmi\", \"bmi\", \"bmi\", \"bmi\", \"bmi\", \"bmi\", \"bmi\", \"bmi\", \"bmi\", \"bmi\", \"bmi\", \"bmi\", \"bmi\", \"bmi\", \"bmi\", \"bmi\", \"bmi\", \"bmi\", \"bmi\", \"bmi\", \"bmi\", \"bmi\", \"bmi\", \"bmi\", \"bmi\", \"bmi\", \"bmi\", \"bmi\", \"bmi\", \"bmi\", \"bmi\", \"bmi\", \"bmi\", \"bmi\", \"bmi\", \"bmi\", \"bmi\", \"bmi\", \"bmi\", \"bmi\", \"bmi\", \"bmi\", \"bmi\", \"bmi\", \"bmi\", \"bmi\", \"bmi\", \"bmi\", \"bmi\", \"bmi\", \"bmi\", \"bmi\", \"bmi\", \"bmi\", \"bmi\", \"bmi\", \"bmi\", \"bmi\", \"bmi\", \"bmi\", \"bmi\", \"bmi\", \"bmi\", \"bmi\", \"bmi\", \"bmi\", \"bmi\", \"bmi\", \"bmi\", \"bmi\", \"bmi\", \"bmi\", \"bmi\", \"bmi\", \"bmi\", \"bmi\", \"bmi\", \"bmi\", \"bmi\", \"bmi\", \"bmi\", \"bmi\", \"bmi\", \"bmi\", \"bmi\", \"bmi\", \"bmi\", \"bmi\", \"bmi\", \"bmi\", \"bmi\", \"bmi\", \"bmi\", \"bmi\", \"bmi\", \"bmi\", \"bmi\", \"bmi\", \"bmi\", \"bmi\", \"bmi\", \"bmi\", \"bmi\", \"bmi\", \"bmi\", \"bmi\", \"bmi\", \"bmi\", \"bmi\", \"bmi\", \"bmi\", \"bmi\", \"bmi\", \"bmi\", \"bmi\", \"bmi\", \"bmi\", \"bmi\", \"bmi\", \"bmi\", \"bmi\", \"bmi\", \"bmi\", \"bmi\", \"bmi\", \"bmi\", \"bmi\", \"bmi\", \"bmi\", \"bmi\", \"bmi\", \"bmi\", \"bmi\", \"bmi\", \"bmi\", \"bmi\", \"bmi\", \"bmi\", \"bmi\", \"bmi\", \"bmi\", \"bmi\", \"bmi\", \"bmi\", \"bmi\", \"bmi\", \"bmi\", \"bmi\", \"bmi\", \"bmi\", \"bmi\", \"bmi\", \"bmi\", \"bmi\", \"bmi\", \"bmi\", \"bmi\", \"bmi\", \"bmi\", \"bmi\", \"bmi\", \"bmi\", \"bmi\", \"bmi\", \"bmi\", \"bmi\", \"bmi\", \"bmi\", \"bmi\", \"bmi\", \"bmi\", \"bmi\", \"bmi\", \"bmi\", \"bmi\", \"bmi\", \"bmi\", \"bmi\", \"bmi\", \"bmi\", \"bmi\", \"bmi\", \"bmi\", \"bmi\", \"bmi\", \"bmi\", \"bmi\", \"bmi\", \"bmi\", \"bmi\", \"bmi\", \"bmi\", \"bmi\", \"bmi\", \"bmi\", \"bmi\", \"bmi\", \"bmi\", \"bmi\", \"bmi\", \"bmi\", \"bmi\", \"bmi\", \"bmi\", \"bmi\", \"bmi\", \"bmi\", \"bmi\", \"bmi\", \"bmi\", \"bmi\", \"bmi\", \"bmi\", \"bmi\", \"bmi\", \"bmi\", \"bmi\", \"bmi\", \"bmi\", \"bmi\", \"bmi\", \"bmi\", \"bmi\", \"bmi\", \"bmi\", \"bmi\", \"bmi\", \"bmi\", \"bmi\", \"bmi\", \"bmi\", \"bmi\", \"bmi\", \"bmi\", \"bmi\", \"bmi\", \"bmi\", \"bmi\", \"bmi\", \"bmi\", \"bmi\", \"bmi\", \"bmi\", \"bmi\", \"bmi\", \"bmi\", \"bmi\", \"bmi\", \"bmi\", \"bmi\", \"bmi\", \"bmi\", \"bmi\", \"bmi\", \"bmi\", \"bmi\", \"bmi\", \"bmi\", \"bmi\", \"bmi\", \"bmi\", \"bmi\", \"bmi\", \"bmi\", \"bmi\", \"bmi\", \"bmi\", \"bmi\", \"bmi\", \"bmi\", \"bmi\", \"bmi\", \"bmi\", \"bmi\", \"bmi\", \"bmi\", \"bmi\", \"bmi\", \"bmi\", \"bmi\", \"bmi\", \"bmi\", \"bmi\", \"bmi\", \"bmi\", \"bmi\", \"bmi\", \"bmi\", \"bmi\", \"bmi\", \"bmi\", \"bmi\", \"bmi\", \"bmi\", \"bmi\", \"bmi\", \"bmi\", \"bmi\", \"bmi\", \"bmi\", \"bmi\", \"bmi\", \"bmi\", \"bmi\", \"bmi\", \"bmi\", \"bmi\", \"bmi\", \"bmi\", \"bmi\", \"bmi\", \"bmi\", \"bmi\", \"bmi\", \"bmi\", \"bmi\", \"bmi\", \"bmi\", \"bmi\", \"bmi\", \"bmi\", \"bmi\", \"bmi\", \"bmi\", \"bmi\", \"bmi\", \"bmi\", \"bmi\", \"bmi\", \"bmi\", \"bmi\", \"bmi\", \"bmi\", \"bmi\", \"bmi\", \"bmi\", \"bmi\", \"bmi\", \"bmi\", \"bmi\", \"bmi\", \"bmi\", \"bmi\", \"bmi\", \"bmi\", \"bmi\", \"bmi\", \"bmi\", \"bmi\", \"bmi\", \"bmi\", \"bmi\", \"bmi\", \"bmi\", \"bmi\", \"bmi\", \"bmi\", \"bmi\", \"bmi\", \"bmi\", \"bmi\", \"bmi\", \"bmi\", \"bmi\", \"bmi\", \"bmi\", \"bmi\", \"bmi\", \"bmi\", \"bmi\", \"bmi\", \"bmi\", \"bmi\", \"bmi\", \"bmi\", \"bmi\", \"bmi\", \"bmi\"], \"yaxis\": \"y2\"}],                        {\"barmode\": \"overlay\", \"hovermode\": \"closest\", \"legend\": {\"traceorder\": \"reversed\"}, \"template\": {\"data\": {\"bar\": [{\"error_x\": {\"color\": \"#2a3f5f\"}, \"error_y\": {\"color\": \"#2a3f5f\"}, \"marker\": {\"line\": {\"color\": \"#E5ECF6\", \"width\": 0.5}}, \"type\": \"bar\"}], \"barpolar\": [{\"marker\": {\"line\": {\"color\": \"#E5ECF6\", \"width\": 0.5}}, \"type\": \"barpolar\"}], \"carpet\": [{\"aaxis\": {\"endlinecolor\": \"#2a3f5f\", \"gridcolor\": \"white\", \"linecolor\": \"white\", \"minorgridcolor\": \"white\", \"startlinecolor\": \"#2a3f5f\"}, \"baxis\": {\"endlinecolor\": \"#2a3f5f\", \"gridcolor\": \"white\", \"linecolor\": \"white\", \"minorgridcolor\": \"white\", \"startlinecolor\": \"#2a3f5f\"}, \"type\": \"carpet\"}], \"choropleth\": [{\"colorbar\": {\"outlinewidth\": 0, \"ticks\": \"\"}, \"type\": \"choropleth\"}], \"contour\": [{\"colorbar\": {\"outlinewidth\": 0, \"ticks\": \"\"}, \"colorscale\": [[0.0, \"#0d0887\"], [0.1111111111111111, \"#46039f\"], [0.2222222222222222, \"#7201a8\"], [0.3333333333333333, \"#9c179e\"], [0.4444444444444444, \"#bd3786\"], [0.5555555555555556, \"#d8576b\"], [0.6666666666666666, \"#ed7953\"], [0.7777777777777778, \"#fb9f3a\"], [0.8888888888888888, \"#fdca26\"], [1.0, \"#f0f921\"]], \"type\": \"contour\"}], \"contourcarpet\": [{\"colorbar\": {\"outlinewidth\": 0, \"ticks\": \"\"}, \"type\": \"contourcarpet\"}], \"heatmap\": [{\"colorbar\": {\"outlinewidth\": 0, \"ticks\": \"\"}, \"colorscale\": [[0.0, \"#0d0887\"], [0.1111111111111111, \"#46039f\"], [0.2222222222222222, \"#7201a8\"], [0.3333333333333333, \"#9c179e\"], [0.4444444444444444, \"#bd3786\"], [0.5555555555555556, \"#d8576b\"], [0.6666666666666666, \"#ed7953\"], [0.7777777777777778, \"#fb9f3a\"], [0.8888888888888888, \"#fdca26\"], [1.0, \"#f0f921\"]], \"type\": \"heatmap\"}], \"heatmapgl\": [{\"colorbar\": {\"outlinewidth\": 0, \"ticks\": \"\"}, \"colorscale\": [[0.0, \"#0d0887\"], [0.1111111111111111, \"#46039f\"], [0.2222222222222222, \"#7201a8\"], [0.3333333333333333, \"#9c179e\"], [0.4444444444444444, \"#bd3786\"], [0.5555555555555556, \"#d8576b\"], [0.6666666666666666, \"#ed7953\"], [0.7777777777777778, \"#fb9f3a\"], [0.8888888888888888, \"#fdca26\"], [1.0, \"#f0f921\"]], \"type\": \"heatmapgl\"}], \"histogram\": [{\"marker\": {\"colorbar\": {\"outlinewidth\": 0, \"ticks\": \"\"}}, \"type\": \"histogram\"}], \"histogram2d\": [{\"colorbar\": {\"outlinewidth\": 0, \"ticks\": \"\"}, \"colorscale\": [[0.0, \"#0d0887\"], [0.1111111111111111, \"#46039f\"], [0.2222222222222222, \"#7201a8\"], [0.3333333333333333, \"#9c179e\"], [0.4444444444444444, \"#bd3786\"], [0.5555555555555556, \"#d8576b\"], [0.6666666666666666, \"#ed7953\"], [0.7777777777777778, \"#fb9f3a\"], [0.8888888888888888, \"#fdca26\"], [1.0, \"#f0f921\"]], \"type\": \"histogram2d\"}], \"histogram2dcontour\": [{\"colorbar\": {\"outlinewidth\": 0, \"ticks\": \"\"}, \"colorscale\": [[0.0, \"#0d0887\"], [0.1111111111111111, \"#46039f\"], [0.2222222222222222, \"#7201a8\"], [0.3333333333333333, \"#9c179e\"], [0.4444444444444444, \"#bd3786\"], [0.5555555555555556, \"#d8576b\"], [0.6666666666666666, \"#ed7953\"], [0.7777777777777778, \"#fb9f3a\"], [0.8888888888888888, \"#fdca26\"], [1.0, \"#f0f921\"]], \"type\": \"histogram2dcontour\"}], \"mesh3d\": [{\"colorbar\": {\"outlinewidth\": 0, \"ticks\": \"\"}, \"type\": \"mesh3d\"}], \"parcoords\": [{\"line\": {\"colorbar\": {\"outlinewidth\": 0, \"ticks\": \"\"}}, \"type\": \"parcoords\"}], \"pie\": [{\"automargin\": true, \"type\": \"pie\"}], \"scatter\": [{\"marker\": {\"colorbar\": {\"outlinewidth\": 0, \"ticks\": \"\"}}, \"type\": \"scatter\"}], \"scatter3d\": [{\"line\": {\"colorbar\": {\"outlinewidth\": 0, \"ticks\": \"\"}}, \"marker\": {\"colorbar\": {\"outlinewidth\": 0, \"ticks\": \"\"}}, \"type\": \"scatter3d\"}], \"scattercarpet\": [{\"marker\": {\"colorbar\": {\"outlinewidth\": 0, \"ticks\": \"\"}}, \"type\": \"scattercarpet\"}], \"scattergeo\": [{\"marker\": {\"colorbar\": {\"outlinewidth\": 0, \"ticks\": \"\"}}, \"type\": \"scattergeo\"}], \"scattergl\": [{\"marker\": {\"colorbar\": {\"outlinewidth\": 0, \"ticks\": \"\"}}, \"type\": \"scattergl\"}], \"scattermapbox\": [{\"marker\": {\"colorbar\": {\"outlinewidth\": 0, \"ticks\": \"\"}}, \"type\": \"scattermapbox\"}], \"scatterpolar\": [{\"marker\": {\"colorbar\": {\"outlinewidth\": 0, \"ticks\": \"\"}}, \"type\": \"scatterpolar\"}], \"scatterpolargl\": [{\"marker\": {\"colorbar\": {\"outlinewidth\": 0, \"ticks\": \"\"}}, \"type\": \"scatterpolargl\"}], \"scatterternary\": [{\"marker\": {\"colorbar\": {\"outlinewidth\": 0, \"ticks\": \"\"}}, \"type\": \"scatterternary\"}], \"surface\": [{\"colorbar\": {\"outlinewidth\": 0, \"ticks\": \"\"}, \"colorscale\": [[0.0, \"#0d0887\"], [0.1111111111111111, \"#46039f\"], [0.2222222222222222, \"#7201a8\"], [0.3333333333333333, \"#9c179e\"], [0.4444444444444444, \"#bd3786\"], [0.5555555555555556, \"#d8576b\"], [0.6666666666666666, \"#ed7953\"], [0.7777777777777778, \"#fb9f3a\"], [0.8888888888888888, \"#fdca26\"], [1.0, \"#f0f921\"]], \"type\": \"surface\"}], \"table\": [{\"cells\": {\"fill\": {\"color\": \"#EBF0F8\"}, \"line\": {\"color\": \"white\"}}, \"header\": {\"fill\": {\"color\": \"#C8D4E3\"}, \"line\": {\"color\": \"white\"}}, \"type\": \"table\"}]}, \"layout\": {\"annotationdefaults\": {\"arrowcolor\": \"#2a3f5f\", \"arrowhead\": 0, \"arrowwidth\": 1}, \"autotypenumbers\": \"strict\", \"coloraxis\": {\"colorbar\": {\"outlinewidth\": 0, \"ticks\": \"\"}}, \"colorscale\": {\"diverging\": [[0, \"#8e0152\"], [0.1, \"#c51b7d\"], [0.2, \"#de77ae\"], [0.3, \"#f1b6da\"], [0.4, \"#fde0ef\"], [0.5, \"#f7f7f7\"], [0.6, \"#e6f5d0\"], [0.7, \"#b8e186\"], [0.8, \"#7fbc41\"], [0.9, \"#4d9221\"], [1, \"#276419\"]], \"sequential\": [[0.0, \"#0d0887\"], [0.1111111111111111, \"#46039f\"], [0.2222222222222222, \"#7201a8\"], [0.3333333333333333, \"#9c179e\"], [0.4444444444444444, \"#bd3786\"], [0.5555555555555556, \"#d8576b\"], [0.6666666666666666, \"#ed7953\"], [0.7777777777777778, \"#fb9f3a\"], [0.8888888888888888, \"#fdca26\"], [1.0, \"#f0f921\"]], \"sequentialminus\": [[0.0, \"#0d0887\"], [0.1111111111111111, \"#46039f\"], [0.2222222222222222, \"#7201a8\"], [0.3333333333333333, \"#9c179e\"], [0.4444444444444444, \"#bd3786\"], [0.5555555555555556, \"#d8576b\"], [0.6666666666666666, \"#ed7953\"], [0.7777777777777778, \"#fb9f3a\"], [0.8888888888888888, \"#fdca26\"], [1.0, \"#f0f921\"]]}, \"colorway\": [\"#636efa\", \"#EF553B\", \"#00cc96\", \"#ab63fa\", \"#FFA15A\", \"#19d3f3\", \"#FF6692\", \"#B6E880\", \"#FF97FF\", \"#FECB52\"], \"font\": {\"color\": \"#2a3f5f\"}, \"geo\": {\"bgcolor\": \"white\", \"lakecolor\": \"white\", \"landcolor\": \"#E5ECF6\", \"showlakes\": true, \"showland\": true, \"subunitcolor\": \"white\"}, \"hoverlabel\": {\"align\": \"left\"}, \"hovermode\": \"closest\", \"mapbox\": {\"style\": \"light\"}, \"paper_bgcolor\": \"white\", \"plot_bgcolor\": \"#E5ECF6\", \"polar\": {\"angularaxis\": {\"gridcolor\": \"white\", \"linecolor\": \"white\", \"ticks\": \"\"}, \"bgcolor\": \"#E5ECF6\", \"radialaxis\": {\"gridcolor\": \"white\", \"linecolor\": \"white\", \"ticks\": \"\"}}, \"scene\": {\"xaxis\": {\"backgroundcolor\": \"#E5ECF6\", \"gridcolor\": \"white\", \"gridwidth\": 2, \"linecolor\": \"white\", \"showbackground\": true, \"ticks\": \"\", \"zerolinecolor\": \"white\"}, \"yaxis\": {\"backgroundcolor\": \"#E5ECF6\", \"gridcolor\": \"white\", \"gridwidth\": 2, \"linecolor\": \"white\", \"showbackground\": true, \"ticks\": \"\", \"zerolinecolor\": \"white\"}, \"zaxis\": {\"backgroundcolor\": \"#E5ECF6\", \"gridcolor\": \"white\", \"gridwidth\": 2, \"linecolor\": \"white\", \"showbackground\": true, \"ticks\": \"\", \"zerolinecolor\": \"white\"}}, \"shapedefaults\": {\"line\": {\"color\": \"#2a3f5f\"}}, \"ternary\": {\"aaxis\": {\"gridcolor\": \"white\", \"linecolor\": \"white\", \"ticks\": \"\"}, \"baxis\": {\"gridcolor\": \"white\", \"linecolor\": \"white\", \"ticks\": \"\"}, \"bgcolor\": \"#E5ECF6\", \"caxis\": {\"gridcolor\": \"white\", \"linecolor\": \"white\", \"ticks\": \"\"}}, \"title\": {\"x\": 0.05}, \"xaxis\": {\"automargin\": true, \"gridcolor\": \"white\", \"linecolor\": \"white\", \"ticks\": \"\", \"title\": {\"standoff\": 15}, \"zerolinecolor\": \"white\", \"zerolinewidth\": 2}, \"yaxis\": {\"automargin\": true, \"gridcolor\": \"white\", \"linecolor\": \"white\", \"ticks\": \"\", \"title\": {\"standoff\": 15}, \"zerolinecolor\": \"white\", \"zerolinewidth\": 2}}}, \"xaxis\": {\"anchor\": \"y2\", \"domain\": [0.0, 1.0], \"zeroline\": false}, \"yaxis\": {\"anchor\": \"free\", \"domain\": [0.35, 1], \"position\": 0.0}, \"yaxis2\": {\"anchor\": \"x\", \"domain\": [0, 0.25], \"dtick\": 1, \"showticklabels\": false}},                        {\"responsive\": true}                    ).then(function(){\n",
       "                            \n",
       "var gd = document.getElementById('cf905e5f-6297-4815-ab11-e94bfb399a43');\n",
       "var x = new MutationObserver(function (mutations, observer) {{\n",
       "        var display = window.getComputedStyle(gd).display;\n",
       "        if (!display || display === 'none') {{\n",
       "            console.log([gd, 'removed!']);\n",
       "            Plotly.purge(gd);\n",
       "            observer.disconnect();\n",
       "        }}\n",
       "}});\n",
       "\n",
       "// Listen for the removal of the full notebook cells\n",
       "var notebookContainer = gd.closest('#notebook-container');\n",
       "if (notebookContainer) {{\n",
       "    x.observe(notebookContainer, {childList: true});\n",
       "}}\n",
       "\n",
       "// Listen for the clearing of the current output cell\n",
       "var outputEl = gd.closest('.output');\n",
       "if (outputEl) {{\n",
       "    x.observe(outputEl, {childList: true});\n",
       "}}\n",
       "\n",
       "                        })                };                });            </script>        </div>"
      ]
     },
     "metadata": {},
     "output_type": "display_data"
    }
   ],
   "source": [
    "bmi = list(df['bmi'].values)\n",
    "hist_data = [bmi]\n",
    "group_labels = [\"bmi\"]\n",
    "colors = ['Red']\n",
    "fig = ff.create_distplot(hist_data,group_labels,show_hist = True,colors=colors)\n",
    "fig.show()"
   ]
  },
  {
   "cell_type": "markdown",
   "id": "enclosed-strength",
   "metadata": {
    "papermill": {
     "duration": 0.07452,
     "end_time": "2021-05-13T12:01:30.775161",
     "exception": false,
     "start_time": "2021-05-13T12:01:30.700641",
     "status": "completed"
    },
    "tags": []
   },
   "source": [
    "Since STROKE is highly imbalanced, there are two ways to deal with it. We can either undersample the majority class or we could oversample the minority class.\n",
    "\n",
    "We will be using oversampling technique for this project.\n",
    "\n",
    "The simplest approach involves duplicating examples in the minority class, although these examples don’t add any new information to the model. Instead, new examples can be synthesized from the existing examples. This is a type of data augmentation for the minority class and is referred to as the Synthetic Minority Oversampling Technique, or SMOTE for short."
   ]
  },
  {
   "cell_type": "code",
   "execution_count": 26,
   "id": "virtual-orleans",
   "metadata": {
    "execution": {
     "iopub.execute_input": "2021-05-13T12:01:30.930988Z",
     "iopub.status.busy": "2021-05-13T12:01:30.930246Z",
     "iopub.status.idle": "2021-05-13T12:01:30.946444Z",
     "shell.execute_reply": "2021-05-13T12:01:30.946940Z"
    },
    "papermill": {
     "duration": 0.095218,
     "end_time": "2021-05-13T12:01:30.947156",
     "exception": false,
     "start_time": "2021-05-13T12:01:30.851938",
     "status": "completed"
    },
    "tags": []
   },
   "outputs": [],
   "source": [
    "# Label Encoding the categorical variables\n",
    "\n",
    "from sklearn.preprocessing import LabelEncoder\n",
    "object_cols = [\"gender\",\"ever_married\",\"work_type\",\"Residence_type\",\"smoking_status\"]\n",
    "label_encoder = LabelEncoder()\n",
    "for col in object_cols:\n",
    "    label_encoder.fit(df[col])\n",
    "    df[col] = label_encoder.transform(df[col])"
   ]
  },
  {
   "cell_type": "code",
   "execution_count": 27,
   "id": "stylish-intervention",
   "metadata": {
    "execution": {
     "iopub.execute_input": "2021-05-13T12:01:31.101108Z",
     "iopub.status.busy": "2021-05-13T12:01:31.100435Z",
     "iopub.status.idle": "2021-05-13T12:01:31.121624Z",
     "shell.execute_reply": "2021-05-13T12:01:31.122210Z"
    },
    "papermill": {
     "duration": 0.100336,
     "end_time": "2021-05-13T12:01:31.122408",
     "exception": false,
     "start_time": "2021-05-13T12:01:31.022072",
     "status": "completed"
    },
    "tags": []
   },
   "outputs": [
    {
     "data": {
      "text/html": [
       "<div>\n",
       "<style scoped>\n",
       "    .dataframe tbody tr th:only-of-type {\n",
       "        vertical-align: middle;\n",
       "    }\n",
       "\n",
       "    .dataframe tbody tr th {\n",
       "        vertical-align: top;\n",
       "    }\n",
       "\n",
       "    .dataframe thead th {\n",
       "        text-align: right;\n",
       "    }\n",
       "</style>\n",
       "<table border=\"1\" class=\"dataframe\">\n",
       "  <thead>\n",
       "    <tr style=\"text-align: right;\">\n",
       "      <th></th>\n",
       "      <th>id</th>\n",
       "      <th>gender</th>\n",
       "      <th>age</th>\n",
       "      <th>hypertension</th>\n",
       "      <th>heart_disease</th>\n",
       "      <th>ever_married</th>\n",
       "      <th>work_type</th>\n",
       "      <th>Residence_type</th>\n",
       "      <th>avg_glucose_level</th>\n",
       "      <th>bmi</th>\n",
       "      <th>smoking_status</th>\n",
       "      <th>stroke</th>\n",
       "      <th>bmi_cat</th>\n",
       "      <th>age_cat</th>\n",
       "      <th>glucose_cat</th>\n",
       "    </tr>\n",
       "  </thead>\n",
       "  <tbody>\n",
       "    <tr>\n",
       "      <th>0</th>\n",
       "      <td>9046</td>\n",
       "      <td>1</td>\n",
       "      <td>67.0</td>\n",
       "      <td>0</td>\n",
       "      <td>1</td>\n",
       "      <td>1</td>\n",
       "      <td>2</td>\n",
       "      <td>1</td>\n",
       "      <td>228.69</td>\n",
       "      <td>36.600000</td>\n",
       "      <td>1</td>\n",
       "      <td>1</td>\n",
       "      <td>Obesity</td>\n",
       "      <td>Elderly</td>\n",
       "      <td>High</td>\n",
       "    </tr>\n",
       "    <tr>\n",
       "      <th>1</th>\n",
       "      <td>51676</td>\n",
       "      <td>0</td>\n",
       "      <td>61.0</td>\n",
       "      <td>0</td>\n",
       "      <td>0</td>\n",
       "      <td>1</td>\n",
       "      <td>3</td>\n",
       "      <td>0</td>\n",
       "      <td>202.21</td>\n",
       "      <td>28.893237</td>\n",
       "      <td>2</td>\n",
       "      <td>1</td>\n",
       "      <td>Overweight</td>\n",
       "      <td>Elderly</td>\n",
       "      <td>High</td>\n",
       "    </tr>\n",
       "    <tr>\n",
       "      <th>2</th>\n",
       "      <td>31112</td>\n",
       "      <td>1</td>\n",
       "      <td>80.0</td>\n",
       "      <td>0</td>\n",
       "      <td>1</td>\n",
       "      <td>1</td>\n",
       "      <td>2</td>\n",
       "      <td>0</td>\n",
       "      <td>105.92</td>\n",
       "      <td>32.500000</td>\n",
       "      <td>2</td>\n",
       "      <td>1</td>\n",
       "      <td>Obesity</td>\n",
       "      <td>Elderly</td>\n",
       "      <td>Normal</td>\n",
       "    </tr>\n",
       "    <tr>\n",
       "      <th>3</th>\n",
       "      <td>60182</td>\n",
       "      <td>0</td>\n",
       "      <td>49.0</td>\n",
       "      <td>0</td>\n",
       "      <td>0</td>\n",
       "      <td>1</td>\n",
       "      <td>2</td>\n",
       "      <td>1</td>\n",
       "      <td>171.23</td>\n",
       "      <td>34.400000</td>\n",
       "      <td>3</td>\n",
       "      <td>1</td>\n",
       "      <td>Obesity</td>\n",
       "      <td>Mid Adults</td>\n",
       "      <td>High</td>\n",
       "    </tr>\n",
       "    <tr>\n",
       "      <th>4</th>\n",
       "      <td>1665</td>\n",
       "      <td>0</td>\n",
       "      <td>79.0</td>\n",
       "      <td>1</td>\n",
       "      <td>0</td>\n",
       "      <td>1</td>\n",
       "      <td>3</td>\n",
       "      <td>0</td>\n",
       "      <td>174.12</td>\n",
       "      <td>24.000000</td>\n",
       "      <td>2</td>\n",
       "      <td>1</td>\n",
       "      <td>Ideal</td>\n",
       "      <td>Elderly</td>\n",
       "      <td>High</td>\n",
       "    </tr>\n",
       "  </tbody>\n",
       "</table>\n",
       "</div>"
      ],
      "text/plain": [
       "      id  gender   age  hypertension  heart_disease  ever_married  work_type  \\\n",
       "0   9046       1  67.0             0              1             1          2   \n",
       "1  51676       0  61.0             0              0             1          3   \n",
       "2  31112       1  80.0             0              1             1          2   \n",
       "3  60182       0  49.0             0              0             1          2   \n",
       "4   1665       0  79.0             1              0             1          3   \n",
       "\n",
       "   Residence_type  avg_glucose_level        bmi  smoking_status  stroke  \\\n",
       "0               1             228.69  36.600000               1       1   \n",
       "1               0             202.21  28.893237               2       1   \n",
       "2               0             105.92  32.500000               2       1   \n",
       "3               1             171.23  34.400000               3       1   \n",
       "4               0             174.12  24.000000               2       1   \n",
       "\n",
       "      bmi_cat     age_cat glucose_cat  \n",
       "0     Obesity     Elderly        High  \n",
       "1  Overweight     Elderly        High  \n",
       "2     Obesity     Elderly      Normal  \n",
       "3     Obesity  Mid Adults        High  \n",
       "4       Ideal     Elderly        High  "
      ]
     },
     "execution_count": 27,
     "metadata": {},
     "output_type": "execute_result"
    }
   ],
   "source": [
    "df.head()\n"
   ]
  },
  {
   "cell_type": "markdown",
   "id": "perceived-optimum",
   "metadata": {
    "papermill": {
     "duration": 0.074651,
     "end_time": "2021-05-13T12:01:31.272815",
     "exception": false,
     "start_time": "2021-05-13T12:01:31.198164",
     "status": "completed"
    },
    "tags": []
   },
   "source": [
    "Now we can see that our data has been completely transformed into numerical dataset.\n",
    "\n"
   ]
  },
  {
   "cell_type": "code",
   "execution_count": 28,
   "id": "engaged-aberdeen",
   "metadata": {
    "execution": {
     "iopub.execute_input": "2021-05-13T12:01:31.426968Z",
     "iopub.status.busy": "2021-05-13T12:01:31.426308Z",
     "iopub.status.idle": "2021-05-13T12:01:31.432522Z",
     "shell.execute_reply": "2021-05-13T12:01:31.433122Z"
    },
    "papermill": {
     "duration": 0.084952,
     "end_time": "2021-05-13T12:01:31.433320",
     "exception": false,
     "start_time": "2021-05-13T12:01:31.348368",
     "status": "completed"
    },
    "tags": []
   },
   "outputs": [],
   "source": [
    "df.drop(['bmi_cat', 'age_cat', 'glucose_cat'], axis=1, inplace=True)"
   ]
  },
  {
   "cell_type": "code",
   "execution_count": 29,
   "id": "earned-actor",
   "metadata": {
    "execution": {
     "iopub.execute_input": "2021-05-13T12:01:31.587685Z",
     "iopub.status.busy": "2021-05-13T12:01:31.587028Z",
     "iopub.status.idle": "2021-05-13T12:01:31.730133Z",
     "shell.execute_reply": "2021-05-13T12:01:31.729376Z"
    },
    "papermill": {
     "duration": 0.221522,
     "end_time": "2021-05-13T12:01:31.730285",
     "exception": false,
     "start_time": "2021-05-13T12:01:31.508763",
     "status": "completed"
    },
    "tags": []
   },
   "outputs": [
    {
     "data": {
      "image/png": "[encoded data removed]",
      "text/plain": [
       "<Figure size 432x288 with 1 Axes>"
      ]
     },
     "metadata": {},
     "output_type": "display_data"
    }
   ],
   "source": [
    "# Using SMOTE\n",
    "from imblearn.over_sampling import SMOTE\n",
    "sampler = SMOTE(random_state = 42)\n",
    "X = df.drop(['stroke'],axis=1)\n",
    "y = df[['stroke']]\n",
    "X,y= sampler.fit_resample(X,y['stroke'].values.ravel())\n",
    "y = pd.DataFrame({'stroke':y})\n",
    "sns.countplot(data = y, x = 'stroke', y= None)\n",
    "plt.show()"
   ]
  },
  {
   "cell_type": "code",
   "execution_count": 30,
   "id": "developmental-injury",
   "metadata": {
    "execution": {
     "iopub.execute_input": "2021-05-13T12:01:31.888590Z",
     "iopub.status.busy": "2021-05-13T12:01:31.887882Z",
     "iopub.status.idle": "2021-05-13T12:01:31.903322Z",
     "shell.execute_reply": "2021-05-13T12:01:31.903955Z"
    },
    "papermill": {
     "duration": 0.097671,
     "end_time": "2021-05-13T12:01:31.904224",
     "exception": false,
     "start_time": "2021-05-13T12:01:31.806553",
     "status": "completed"
    },
    "tags": []
   },
   "outputs": [
    {
     "data": {
      "text/html": [
       "<div>\n",
       "<style scoped>\n",
       "    .dataframe tbody tr th:only-of-type {\n",
       "        vertical-align: middle;\n",
       "    }\n",
       "\n",
       "    .dataframe tbody tr th {\n",
       "        vertical-align: top;\n",
       "    }\n",
       "\n",
       "    .dataframe thead th {\n",
       "        text-align: right;\n",
       "    }\n",
       "</style>\n",
       "<table border=\"1\" class=\"dataframe\">\n",
       "  <thead>\n",
       "    <tr style=\"text-align: right;\">\n",
       "      <th></th>\n",
       "      <th>id</th>\n",
       "      <th>gender</th>\n",
       "      <th>age</th>\n",
       "      <th>hypertension</th>\n",
       "      <th>heart_disease</th>\n",
       "      <th>ever_married</th>\n",
       "      <th>work_type</th>\n",
       "      <th>Residence_type</th>\n",
       "      <th>avg_glucose_level</th>\n",
       "      <th>bmi</th>\n",
       "      <th>smoking_status</th>\n",
       "      <th>stroke</th>\n",
       "    </tr>\n",
       "  </thead>\n",
       "  <tbody>\n",
       "    <tr>\n",
       "      <th>0</th>\n",
       "      <td>9046</td>\n",
       "      <td>1</td>\n",
       "      <td>67.0</td>\n",
       "      <td>0</td>\n",
       "      <td>1</td>\n",
       "      <td>1</td>\n",
       "      <td>2</td>\n",
       "      <td>1</td>\n",
       "      <td>228.69</td>\n",
       "      <td>36.600000</td>\n",
       "      <td>1</td>\n",
       "      <td>1</td>\n",
       "    </tr>\n",
       "    <tr>\n",
       "      <th>1</th>\n",
       "      <td>51676</td>\n",
       "      <td>0</td>\n",
       "      <td>61.0</td>\n",
       "      <td>0</td>\n",
       "      <td>0</td>\n",
       "      <td>1</td>\n",
       "      <td>3</td>\n",
       "      <td>0</td>\n",
       "      <td>202.21</td>\n",
       "      <td>28.893237</td>\n",
       "      <td>2</td>\n",
       "      <td>1</td>\n",
       "    </tr>\n",
       "    <tr>\n",
       "      <th>2</th>\n",
       "      <td>31112</td>\n",
       "      <td>1</td>\n",
       "      <td>80.0</td>\n",
       "      <td>0</td>\n",
       "      <td>1</td>\n",
       "      <td>1</td>\n",
       "      <td>2</td>\n",
       "      <td>0</td>\n",
       "      <td>105.92</td>\n",
       "      <td>32.500000</td>\n",
       "      <td>2</td>\n",
       "      <td>1</td>\n",
       "    </tr>\n",
       "    <tr>\n",
       "      <th>3</th>\n",
       "      <td>60182</td>\n",
       "      <td>0</td>\n",
       "      <td>49.0</td>\n",
       "      <td>0</td>\n",
       "      <td>0</td>\n",
       "      <td>1</td>\n",
       "      <td>2</td>\n",
       "      <td>1</td>\n",
       "      <td>171.23</td>\n",
       "      <td>34.400000</td>\n",
       "      <td>3</td>\n",
       "      <td>1</td>\n",
       "    </tr>\n",
       "    <tr>\n",
       "      <th>4</th>\n",
       "      <td>1665</td>\n",
       "      <td>0</td>\n",
       "      <td>79.0</td>\n",
       "      <td>1</td>\n",
       "      <td>0</td>\n",
       "      <td>1</td>\n",
       "      <td>3</td>\n",
       "      <td>0</td>\n",
       "      <td>174.12</td>\n",
       "      <td>24.000000</td>\n",
       "      <td>2</td>\n",
       "      <td>1</td>\n",
       "    </tr>\n",
       "  </tbody>\n",
       "</table>\n",
       "</div>"
      ],
      "text/plain": [
       "      id  gender   age  hypertension  heart_disease  ever_married  work_type  \\\n",
       "0   9046       1  67.0             0              1             1          2   \n",
       "1  51676       0  61.0             0              0             1          3   \n",
       "2  31112       1  80.0             0              1             1          2   \n",
       "3  60182       0  49.0             0              0             1          2   \n",
       "4   1665       0  79.0             1              0             1          3   \n",
       "\n",
       "   Residence_type  avg_glucose_level        bmi  smoking_status  stroke  \n",
       "0               1             228.69  36.600000               1       1  \n",
       "1               0             202.21  28.893237               2       1  \n",
       "2               0             105.92  32.500000               2       1  \n",
       "3               1             171.23  34.400000               3       1  \n",
       "4               0             174.12  24.000000               2       1  "
      ]
     },
     "execution_count": 30,
     "metadata": {},
     "output_type": "execute_result"
    }
   ],
   "source": [
    "df.head()\n"
   ]
  },
  {
   "cell_type": "markdown",
   "id": "upper-tennis",
   "metadata": {
    "papermill": {
     "duration": 0.076494,
     "end_time": "2021-05-13T12:01:32.056821",
     "exception": false,
     "start_time": "2021-05-13T12:01:31.980327",
     "status": "completed"
    },
    "tags": []
   },
   "source": [
    "**Observation:** It's quite clear that the data has been completely balanced.\n",
    "\n"
   ]
  },
  {
   "cell_type": "code",
   "execution_count": 31,
   "id": "instrumental-scene",
   "metadata": {
    "execution": {
     "iopub.execute_input": "2021-05-13T12:01:32.227052Z",
     "iopub.status.busy": "2021-05-13T12:01:32.212744Z",
     "iopub.status.idle": "2021-05-13T12:01:32.230460Z",
     "shell.execute_reply": "2021-05-13T12:01:32.230999Z"
    },
    "papermill": {
     "duration": 0.097246,
     "end_time": "2021-05-13T12:01:32.231203",
     "exception": false,
     "start_time": "2021-05-13T12:01:32.133957",
     "status": "completed"
    },
    "tags": []
   },
   "outputs": [
    {
     "data": {
      "text/html": [
       "<div>\n",
       "<style scoped>\n",
       "    .dataframe tbody tr th:only-of-type {\n",
       "        vertical-align: middle;\n",
       "    }\n",
       "\n",
       "    .dataframe tbody tr th {\n",
       "        vertical-align: top;\n",
       "    }\n",
       "\n",
       "    .dataframe thead th {\n",
       "        text-align: right;\n",
       "    }\n",
       "</style>\n",
       "<table border=\"1\" class=\"dataframe\">\n",
       "  <thead>\n",
       "    <tr style=\"text-align: right;\">\n",
       "      <th></th>\n",
       "      <th>id</th>\n",
       "      <th>gender</th>\n",
       "      <th>age</th>\n",
       "      <th>hypertension</th>\n",
       "      <th>heart_disease</th>\n",
       "      <th>ever_married</th>\n",
       "      <th>work_type</th>\n",
       "      <th>Residence_type</th>\n",
       "      <th>avg_glucose_level</th>\n",
       "      <th>bmi</th>\n",
       "      <th>smoking_status</th>\n",
       "      <th>stroke</th>\n",
       "    </tr>\n",
       "  </thead>\n",
       "  <tbody>\n",
       "    <tr>\n",
       "      <th>0</th>\n",
       "      <td>9046</td>\n",
       "      <td>1</td>\n",
       "      <td>67.0</td>\n",
       "      <td>0</td>\n",
       "      <td>1</td>\n",
       "      <td>1</td>\n",
       "      <td>2</td>\n",
       "      <td>1</td>\n",
       "      <td>228.69</td>\n",
       "      <td>36.600000</td>\n",
       "      <td>1</td>\n",
       "      <td>1</td>\n",
       "    </tr>\n",
       "    <tr>\n",
       "      <th>1</th>\n",
       "      <td>51676</td>\n",
       "      <td>0</td>\n",
       "      <td>61.0</td>\n",
       "      <td>0</td>\n",
       "      <td>0</td>\n",
       "      <td>1</td>\n",
       "      <td>3</td>\n",
       "      <td>0</td>\n",
       "      <td>202.21</td>\n",
       "      <td>28.893237</td>\n",
       "      <td>2</td>\n",
       "      <td>1</td>\n",
       "    </tr>\n",
       "    <tr>\n",
       "      <th>2</th>\n",
       "      <td>31112</td>\n",
       "      <td>1</td>\n",
       "      <td>80.0</td>\n",
       "      <td>0</td>\n",
       "      <td>1</td>\n",
       "      <td>1</td>\n",
       "      <td>2</td>\n",
       "      <td>0</td>\n",
       "      <td>105.92</td>\n",
       "      <td>32.500000</td>\n",
       "      <td>2</td>\n",
       "      <td>1</td>\n",
       "    </tr>\n",
       "    <tr>\n",
       "      <th>3</th>\n",
       "      <td>60182</td>\n",
       "      <td>0</td>\n",
       "      <td>49.0</td>\n",
       "      <td>0</td>\n",
       "      <td>0</td>\n",
       "      <td>1</td>\n",
       "      <td>2</td>\n",
       "      <td>1</td>\n",
       "      <td>171.23</td>\n",
       "      <td>34.400000</td>\n",
       "      <td>3</td>\n",
       "      <td>1</td>\n",
       "    </tr>\n",
       "    <tr>\n",
       "      <th>4</th>\n",
       "      <td>1665</td>\n",
       "      <td>0</td>\n",
       "      <td>79.0</td>\n",
       "      <td>1</td>\n",
       "      <td>0</td>\n",
       "      <td>1</td>\n",
       "      <td>3</td>\n",
       "      <td>0</td>\n",
       "      <td>174.12</td>\n",
       "      <td>24.000000</td>\n",
       "      <td>2</td>\n",
       "      <td>1</td>\n",
       "    </tr>\n",
       "  </tbody>\n",
       "</table>\n",
       "</div>"
      ],
      "text/plain": [
       "      id  gender   age  hypertension  heart_disease  ever_married  work_type  \\\n",
       "0   9046       1  67.0             0              1             1          2   \n",
       "1  51676       0  61.0             0              0             1          3   \n",
       "2  31112       1  80.0             0              1             1          2   \n",
       "3  60182       0  49.0             0              0             1          2   \n",
       "4   1665       0  79.0             1              0             1          3   \n",
       "\n",
       "   Residence_type  avg_glucose_level        bmi  smoking_status  stroke  \n",
       "0               1             228.69  36.600000               1       1  \n",
       "1               0             202.21  28.893237               2       1  \n",
       "2               0             105.92  32.500000               2       1  \n",
       "3               1             171.23  34.400000               3       1  \n",
       "4               0             174.12  24.000000               2       1  "
      ]
     },
     "execution_count": 31,
     "metadata": {},
     "output_type": "execute_result"
    }
   ],
   "source": [
    "# Joining back dataset\n",
    "df = pd.concat([X,y],axis = 1)\n",
    "df.head()"
   ]
  },
  {
   "cell_type": "code",
   "execution_count": 32,
   "id": "injured-heading",
   "metadata": {
    "execution": {
     "iopub.execute_input": "2021-05-13T12:01:32.389442Z",
     "iopub.status.busy": "2021-05-13T12:01:32.388722Z",
     "iopub.status.idle": "2021-05-13T12:01:32.395946Z",
     "shell.execute_reply": "2021-05-13T12:01:32.396608Z"
    },
    "papermill": {
     "duration": 0.088606,
     "end_time": "2021-05-13T12:01:32.396814",
     "exception": false,
     "start_time": "2021-05-13T12:01:32.308208",
     "status": "completed"
    },
    "tags": []
   },
   "outputs": [],
   "source": [
    "df = df.sample(frac = 1)\n"
   ]
  },
  {
   "cell_type": "code",
   "execution_count": 33,
   "id": "hidden-fantasy",
   "metadata": {
    "execution": {
     "iopub.execute_input": "2021-05-13T12:01:32.557999Z",
     "iopub.status.busy": "2021-05-13T12:01:32.557356Z",
     "iopub.status.idle": "2021-05-13T12:01:33.564921Z",
     "shell.execute_reply": "2021-05-13T12:01:33.564343Z"
    },
    "papermill": {
     "duration": 1.090696,
     "end_time": "2021-05-13T12:01:33.565094",
     "exception": false,
     "start_time": "2021-05-13T12:01:32.474398",
     "status": "completed"
    },
    "tags": []
   },
   "outputs": [],
   "source": [
    "import torch\n",
    "import torch.nn as nn"
   ]
  },
  {
   "cell_type": "code",
   "execution_count": 34,
   "id": "crucial-prototype",
   "metadata": {
    "execution": {
     "iopub.execute_input": "2021-05-13T12:01:33.748440Z",
     "iopub.status.busy": "2021-05-13T12:01:33.747591Z",
     "iopub.status.idle": "2021-05-13T12:01:33.750486Z",
     "shell.execute_reply": "2021-05-13T12:01:33.751116Z"
    },
    "papermill": {
     "duration": 0.109427,
     "end_time": "2021-05-13T12:01:33.751306",
     "exception": false,
     "start_time": "2021-05-13T12:01:33.641879",
     "status": "completed"
    },
    "tags": []
   },
   "outputs": [],
   "source": [
    "cat_cols = [\"gender\",\"hypertension\",\"heart_disease\",\"ever_married\",\"work_type\",\"Residence_type\",\"smoking_status\"]\n",
    "cont_cols = [\"age\",\"avg_glucose_level\",\"bmi\"]\n",
    "y_col = [\"stroke\"]"
   ]
  },
  {
   "cell_type": "code",
   "execution_count": 35,
   "id": "indian-cyprus",
   "metadata": {
    "execution": {
     "iopub.execute_input": "2021-05-13T12:01:33.912243Z",
     "iopub.status.busy": "2021-05-13T12:01:33.911230Z",
     "iopub.status.idle": "2021-05-13T12:01:33.923101Z",
     "shell.execute_reply": "2021-05-13T12:01:33.923638Z"
    },
    "papermill": {
     "duration": 0.094256,
     "end_time": "2021-05-13T12:01:33.923819",
     "exception": false,
     "start_time": "2021-05-13T12:01:33.829563",
     "status": "completed"
    },
    "tags": []
   },
   "outputs": [],
   "source": [
    "for cat in cat_cols:\n",
    "    df[cat] = df[cat].astype('category')"
   ]
  },
  {
   "cell_type": "code",
   "execution_count": 36,
   "id": "differential-burlington",
   "metadata": {
    "execution": {
     "iopub.execute_input": "2021-05-13T12:01:34.084540Z",
     "iopub.status.busy": "2021-05-13T12:01:34.083535Z",
     "iopub.status.idle": "2021-05-13T12:01:34.107292Z",
     "shell.execute_reply": "2021-05-13T12:01:34.106617Z"
    },
    "papermill": {
     "duration": 0.105231,
     "end_time": "2021-05-13T12:01:34.107442",
     "exception": false,
     "start_time": "2021-05-13T12:01:34.002211",
     "status": "completed"
    },
    "tags": []
   },
   "outputs": [
    {
     "name": "stdout",
     "output_type": "stream",
     "text": [
      "<class 'pandas.core.frame.DataFrame'>\n",
      "Int64Index: 9492 entries, 8164 to 6746\n",
      "Data columns (total 12 columns):\n",
      " #   Column             Non-Null Count  Dtype   \n",
      "---  ------             --------------  -----   \n",
      " 0   id                 9492 non-null   int64   \n",
      " 1   gender             9492 non-null   category\n",
      " 2   age                9492 non-null   float64 \n",
      " 3   hypertension       9492 non-null   category\n",
      " 4   heart_disease      9492 non-null   category\n",
      " 5   ever_married       9492 non-null   category\n",
      " 6   work_type          9492 non-null   category\n",
      " 7   Residence_type     9492 non-null   category\n",
      " 8   avg_glucose_level  9492 non-null   float64 \n",
      " 9   bmi                9492 non-null   float64 \n",
      " 10  smoking_status     9492 non-null   category\n",
      " 11  stroke             9492 non-null   int64   \n",
      "dtypes: category(7), float64(3), int64(2)\n",
      "memory usage: 510.8 KB\n"
     ]
    }
   ],
   "source": [
    "df.info()\n"
   ]
  },
  {
   "cell_type": "code",
   "execution_count": 37,
   "id": "buried-french",
   "metadata": {
    "execution": {
     "iopub.execute_input": "2021-05-13T12:01:34.268966Z",
     "iopub.status.busy": "2021-05-13T12:01:34.268099Z",
     "iopub.status.idle": "2021-05-13T12:01:34.273363Z",
     "shell.execute_reply": "2021-05-13T12:01:34.273824Z"
    },
    "papermill": {
     "duration": 0.089228,
     "end_time": "2021-05-13T12:01:34.274034",
     "exception": false,
     "start_time": "2021-05-13T12:01:34.184806",
     "status": "completed"
    },
    "tags": []
   },
   "outputs": [
    {
     "data": {
      "text/plain": [
       "array([[0, 0, 0, 1, 2, 0, 2],\n",
       "       [0, 0, 0, 0, 0, 1, 0],\n",
       "       [0, 0, 0, 1, 2, 0, 1],\n",
       "       [0, 0, 0, 0, 2, 1, 1],\n",
       "       [1, 0, 0, 0, 2, 1, 3]], dtype=int8)"
      ]
     },
     "execution_count": 37,
     "metadata": {},
     "output_type": "execute_result"
    }
   ],
   "source": [
    "# stacking the categorical columns\n",
    "cats = np.stack([df[col].cat.codes.values for col in cat_cols], 1)\n",
    "cats[:5]"
   ]
  },
  {
   "cell_type": "code",
   "execution_count": 38,
   "id": "engaged-harris",
   "metadata": {
    "execution": {
     "iopub.execute_input": "2021-05-13T12:01:34.441852Z",
     "iopub.status.busy": "2021-05-13T12:01:34.441154Z",
     "iopub.status.idle": "2021-05-13T12:01:34.473104Z",
     "shell.execute_reply": "2021-05-13T12:01:34.473971Z"
    },
    "papermill": {
     "duration": 0.121149,
     "end_time": "2021-05-13T12:01:34.474180",
     "exception": false,
     "start_time": "2021-05-13T12:01:34.353031",
     "status": "completed"
    },
    "tags": []
   },
   "outputs": [
    {
     "data": {
      "text/plain": [
       "tensor([[0, 0, 0, 1, 2, 0, 2],\n",
       "        [0, 0, 0, 0, 0, 1, 0],\n",
       "        [0, 0, 0, 1, 2, 0, 1],\n",
       "        [0, 0, 0, 0, 2, 1, 1],\n",
       "        [1, 0, 0, 0, 2, 1, 3]])"
      ]
     },
     "execution_count": 38,
     "metadata": {},
     "output_type": "execute_result"
    }
   ],
   "source": [
    "# converting the stack into tensor\n",
    "cats = torch.tensor(cats, dtype = torch.int64)\n",
    "cats[:5]"
   ]
  },
  {
   "cell_type": "code",
   "execution_count": 39,
   "id": "bronze-dealing",
   "metadata": {
    "execution": {
     "iopub.execute_input": "2021-05-13T12:01:34.639226Z",
     "iopub.status.busy": "2021-05-13T12:01:34.636651Z",
     "iopub.status.idle": "2021-05-13T12:01:34.684434Z",
     "shell.execute_reply": "2021-05-13T12:01:34.683870Z"
    },
    "papermill": {
     "duration": 0.131779,
     "end_time": "2021-05-13T12:01:34.684597",
     "exception": false,
     "start_time": "2021-05-13T12:01:34.552818",
     "status": "completed"
    },
    "tags": []
   },
   "outputs": [
    {
     "data": {
      "text/plain": [
       "tensor([[ 72.3685,  81.2261,  29.4665],\n",
       "        [ 68.7259, 125.9479,  29.9067],\n",
       "        [ 78.3126, 213.0250,  32.3938],\n",
       "        [ 17.0000,  67.8700,  24.9000],\n",
       "        [ 24.0000,  84.1600,  37.5000]])"
      ]
     },
     "execution_count": 39,
     "metadata": {},
     "output_type": "execute_result"
    }
   ],
   "source": [
    "# stacking the continuous columns & converting to tensor\n",
    "conts = np.stack([df[col].values for col in cont_cols], 1)\n",
    "conts = torch.tensor(conts, dtype=torch.float)\n",
    "conts[:5]"
   ]
  },
  {
   "cell_type": "code",
   "execution_count": 40,
   "id": "overhead-nudist",
   "metadata": {
    "execution": {
     "iopub.execute_input": "2021-05-13T12:01:34.857667Z",
     "iopub.status.busy": "2021-05-13T12:01:34.856903Z",
     "iopub.status.idle": "2021-05-13T12:01:34.861480Z",
     "shell.execute_reply": "2021-05-13T12:01:34.862034Z"
    },
    "papermill": {
     "duration": 0.093677,
     "end_time": "2021-05-13T12:01:34.862211",
     "exception": false,
     "start_time": "2021-05-13T12:01:34.768534",
     "status": "completed"
    },
    "tags": []
   },
   "outputs": [
    {
     "data": {
      "text/plain": [
       "tensor([1, 1, 1, 0, 0])"
      ]
     },
     "execution_count": 40,
     "metadata": {},
     "output_type": "execute_result"
    }
   ],
   "source": [
    "# converting target variable to tensor and flattening since CrossEntropyLoss expects a 1-d tensor\n",
    "y = torch.tensor(df[y_col].values).flatten()\n",
    "y[:5]\n"
   ]
  },
  {
   "cell_type": "code",
   "execution_count": 41,
   "id": "surrounded-dream",
   "metadata": {
    "execution": {
     "iopub.execute_input": "2021-05-13T12:01:35.027083Z",
     "iopub.status.busy": "2021-05-13T12:01:35.026353Z",
     "iopub.status.idle": "2021-05-13T12:01:35.032363Z",
     "shell.execute_reply": "2021-05-13T12:01:35.033135Z"
    },
    "papermill": {
     "duration": 0.091694,
     "end_time": "2021-05-13T12:01:35.033373",
     "exception": false,
     "start_time": "2021-05-13T12:01:34.941679",
     "status": "completed"
    },
    "tags": []
   },
   "outputs": [
    {
     "name": "stdout",
     "output_type": "stream",
     "text": [
      "torch.Size([9492, 7])\n",
      "torch.Size([9492, 3])\n",
      "torch.Size([9492])\n"
     ]
    }
   ],
   "source": [
    "print(cats.shape)\n",
    "print(conts.shape)\n",
    "print(y.shape)"
   ]
  },
  {
   "cell_type": "code",
   "execution_count": 42,
   "id": "mediterranean-pension",
   "metadata": {
    "execution": {
     "iopub.execute_input": "2021-05-13T12:01:35.202235Z",
     "iopub.status.busy": "2021-05-13T12:01:35.201517Z",
     "iopub.status.idle": "2021-05-13T12:01:35.205188Z",
     "shell.execute_reply": "2021-05-13T12:01:35.205695Z"
    },
    "papermill": {
     "duration": 0.091676,
     "end_time": "2021-05-13T12:01:35.205875",
     "exception": false,
     "start_time": "2021-05-13T12:01:35.114199",
     "status": "completed"
    },
    "tags": []
   },
   "outputs": [
    {
     "data": {
      "text/plain": [
       "[(2, 1), (2, 1), (2, 1), (2, 1), (5, 3), (2, 1), (4, 2)]"
      ]
     },
     "execution_count": 42,
     "metadata": {},
     "output_type": "execute_result"
    }
   ],
   "source": [
    "cat_szs = [len(df[col].cat.categories) for col in cat_cols]\n",
    "emb_szs = [(size, min(50, (size+1)//2)) for size in cat_szs]\n",
    "emb_szs"
   ]
  },
  {
   "cell_type": "code",
   "execution_count": 43,
   "id": "great-finger",
   "metadata": {
    "execution": {
     "iopub.execute_input": "2021-05-13T12:01:35.371428Z",
     "iopub.status.busy": "2021-05-13T12:01:35.370758Z",
     "iopub.status.idle": "2021-05-13T12:01:35.383724Z",
     "shell.execute_reply": "2021-05-13T12:01:35.383185Z"
    },
    "papermill": {
     "duration": 0.096946,
     "end_time": "2021-05-13T12:01:35.383860",
     "exception": false,
     "start_time": "2021-05-13T12:01:35.286914",
     "status": "completed"
    },
    "tags": []
   },
   "outputs": [],
   "source": [
    "class TabularModel(nn.Module):\n",
    "\n",
    "    def __init__(self, emb_szs, n_cont, out_sz, layers, p=0.5):\n",
    "        super().__init__()\n",
    "        self.embeds = nn.ModuleList([nn.Embedding(ni, nf) for ni,nf in emb_szs])\n",
    "        self.emb_drop = nn.Dropout(p)\n",
    "        self.bn_cont = nn.BatchNorm1d(n_cont)\n",
    "        \n",
    "        layerlist = []\n",
    "        n_emb = sum((nf for ni,nf in emb_szs))\n",
    "        n_in = n_emb + n_cont\n",
    "        \n",
    "        for i in layers:\n",
    "            layerlist.append(nn.Linear(n_in,i)) \n",
    "            layerlist.append(nn.ReLU(inplace=True))\n",
    "            layerlist.append(nn.BatchNorm1d(i))\n",
    "            layerlist.append(nn.Dropout(p))\n",
    "            n_in = i\n",
    "        layerlist.append(nn.Linear(layers[-1],out_sz))\n",
    "        self.layers = nn.Sequential(*layerlist)\n",
    "        \n",
    "    def forward(self, x_cat, x_cont):\n",
    "        embeddings = []\n",
    "        for i,e in enumerate(self.embeds):\n",
    "            embeddings.append(e(x_cat[:,i]))\n",
    "        x = torch.cat(embeddings, 1)\n",
    "        x = self.emb_drop(x)\n",
    "        \n",
    "        x_cont = self.bn_cont(x_cont)\n",
    "        x = torch.cat([x, x_cont], 1)\n",
    "        x = self.layers(x)\n",
    "        return x"
   ]
  },
  {
   "cell_type": "code",
   "execution_count": 44,
   "id": "diagnostic-conversation",
   "metadata": {
    "execution": {
     "iopub.execute_input": "2021-05-13T12:01:35.550066Z",
     "iopub.status.busy": "2021-05-13T12:01:35.549367Z",
     "iopub.status.idle": "2021-05-13T12:01:35.569304Z",
     "shell.execute_reply": "2021-05-13T12:01:35.569786Z"
    },
    "papermill": {
     "duration": 0.105875,
     "end_time": "2021-05-13T12:01:35.569963",
     "exception": false,
     "start_time": "2021-05-13T12:01:35.464088",
     "status": "completed"
    },
    "tags": []
   },
   "outputs": [
    {
     "data": {
      "text/plain": [
       "TabularModel(\n",
       "  (embeds): ModuleList(\n",
       "    (0): Embedding(2, 1)\n",
       "    (1): Embedding(2, 1)\n",
       "    (2): Embedding(2, 1)\n",
       "    (3): Embedding(2, 1)\n",
       "    (4): Embedding(5, 3)\n",
       "    (5): Embedding(2, 1)\n",
       "    (6): Embedding(4, 2)\n",
       "  )\n",
       "  (emb_drop): Dropout(p=0.2, inplace=False)\n",
       "  (bn_cont): BatchNorm1d(3, eps=1e-05, momentum=0.1, affine=True, track_running_stats=True)\n",
       "  (layers): Sequential(\n",
       "    (0): Linear(in_features=13, out_features=400, bias=True)\n",
       "    (1): ReLU(inplace=True)\n",
       "    (2): BatchNorm1d(400, eps=1e-05, momentum=0.1, affine=True, track_running_stats=True)\n",
       "    (3): Dropout(p=0.2, inplace=False)\n",
       "    (4): Linear(in_features=400, out_features=200, bias=True)\n",
       "    (5): ReLU(inplace=True)\n",
       "    (6): BatchNorm1d(200, eps=1e-05, momentum=0.1, affine=True, track_running_stats=True)\n",
       "    (7): Dropout(p=0.2, inplace=False)\n",
       "    (8): Linear(in_features=200, out_features=100, bias=True)\n",
       "    (9): ReLU(inplace=True)\n",
       "    (10): BatchNorm1d(100, eps=1e-05, momentum=0.1, affine=True, track_running_stats=True)\n",
       "    (11): Dropout(p=0.2, inplace=False)\n",
       "    (12): Linear(in_features=100, out_features=2, bias=True)\n",
       "  )\n",
       ")"
      ]
     },
     "execution_count": 44,
     "metadata": {},
     "output_type": "execute_result"
    }
   ],
   "source": [
    "torch.manual_seed(42)\n",
    "model = TabularModel(emb_szs, conts.shape[1], 2, [400,200,100], p=0.2)\n",
    "model"
   ]
  },
  {
   "cell_type": "code",
   "execution_count": 45,
   "id": "corporate-france",
   "metadata": {
    "execution": {
     "iopub.execute_input": "2021-05-13T12:01:35.734646Z",
     "iopub.status.busy": "2021-05-13T12:01:35.733953Z",
     "iopub.status.idle": "2021-05-13T12:01:35.739675Z",
     "shell.execute_reply": "2021-05-13T12:01:35.739140Z"
    },
    "papermill": {
     "duration": 0.089291,
     "end_time": "2021-05-13T12:01:35.739828",
     "exception": false,
     "start_time": "2021-05-13T12:01:35.650537",
     "status": "completed"
    },
    "tags": []
   },
   "outputs": [],
   "source": [
    "criterion = nn.CrossEntropyLoss()\n",
    "optimizer = torch.optim.Adam(model.parameters(), lr=0.001)"
   ]
  },
  {
   "cell_type": "code",
   "execution_count": 46,
   "id": "signed-balance",
   "metadata": {
    "execution": {
     "iopub.execute_input": "2021-05-13T12:01:35.909535Z",
     "iopub.status.busy": "2021-05-13T12:01:35.908867Z",
     "iopub.status.idle": "2021-05-13T12:01:35.910750Z",
     "shell.execute_reply": "2021-05-13T12:01:35.911258Z"
    },
    "papermill": {
     "duration": 0.090232,
     "end_time": "2021-05-13T12:01:35.911435",
     "exception": false,
     "start_time": "2021-05-13T12:01:35.821203",
     "status": "completed"
    },
    "tags": []
   },
   "outputs": [],
   "source": [
    "batch_size = 9000\n",
    "test_size = 492\n",
    "\n",
    "cat_train = cats[:batch_size-test_size]\n",
    "cat_test = cats[batch_size-test_size:batch_size]\n",
    "con_train = conts[:batch_size-test_size]\n",
    "con_test = conts[batch_size-test_size:batch_size]\n",
    "y_train = y[:batch_size-test_size]\n",
    "y_test = y[batch_size-test_size:batch_size]"
   ]
  },
  {
   "cell_type": "code",
   "execution_count": 47,
   "id": "beginning-going",
   "metadata": {
    "execution": {
     "iopub.execute_input": "2021-05-13T12:01:36.077723Z",
     "iopub.status.busy": "2021-05-13T12:01:36.077107Z",
     "iopub.status.idle": "2021-05-13T12:03:33.420487Z",
     "shell.execute_reply": "2021-05-13T12:03:33.419354Z"
    },
    "papermill": {
     "duration": 117.428434,
     "end_time": "2021-05-13T12:03:33.420765",
     "exception": false,
     "start_time": "2021-05-13T12:01:35.992331",
     "status": "completed"
    },
    "tags": []
   },
   "outputs": [
    {
     "name": "stdout",
     "output_type": "stream",
     "text": [
      "epoch:   1  loss: 0.77578634\n",
      "epoch:  26  loss: 0.36524439\n",
      "epoch:  51  loss: 0.34886229\n",
      "epoch:  76  loss: 0.33569318\n",
      "epoch: 101  loss: 0.32724625\n",
      "epoch: 126  loss: 0.31271067\n",
      "epoch: 151  loss: 0.31008607\n",
      "epoch: 176  loss: 0.31217417\n",
      "epoch: 201  loss: 0.29536295\n",
      "epoch: 226  loss: 0.29305738\n",
      "epoch: 251  loss: 0.28870794\n",
      "epoch: 276  loss: 0.28413370\n",
      "epoch: 301  loss: 0.27551928\n",
      "epoch: 320  loss: 0.27390841\n",
      "\n",
      "Duration: 117 seconds\n"
     ]
    }
   ],
   "source": [
    "import time\n",
    "start_time = time.time()\n",
    "\n",
    "epochs = 320\n",
    "losses = []\n",
    "\n",
    "for i in range(epochs):\n",
    "    i+=1\n",
    "    y_pred = model(cat_train, con_train)\n",
    "    loss = criterion(y_pred, y_train)\n",
    "    losses.append(loss)\n",
    "    \n",
    "    if i%25 == 1:\n",
    "        print(f'epoch: {i:3}  loss: {loss.item():10.8f}')\n",
    "\n",
    "    optimizer.zero_grad()\n",
    "    loss.backward()\n",
    "    optimizer.step()\n",
    "\n",
    "print(f'epoch: {i:3}  loss: {loss.item():10.8f}') \n",
    "print(f'\\nDuration: {time.time() - start_time:.0f} seconds') "
   ]
  },
  {
   "cell_type": "code",
   "execution_count": 48,
   "id": "improving-variance",
   "metadata": {
    "execution": {
     "iopub.execute_input": "2021-05-13T12:03:33.614491Z",
     "iopub.status.busy": "2021-05-13T12:03:33.613426Z",
     "iopub.status.idle": "2021-05-13T12:03:33.800913Z",
     "shell.execute_reply": "2021-05-13T12:03:33.801395Z"
    },
    "papermill": {
     "duration": 0.294657,
     "end_time": "2021-05-13T12:03:33.801577",
     "exception": false,
     "start_time": "2021-05-13T12:03:33.506920",
     "status": "completed"
    },
    "tags": []
   },
   "outputs": [
    {
     "data": {
      "image/png": "[encoded data removed]",
      "text/plain": [
       "<Figure size 432x288 with 1 Axes>"
      ]
     },
     "metadata": {},
     "output_type": "display_data"
    }
   ],
   "source": [
    "plt.plot(range(epochs), losses)\n",
    "plt.ylabel('Cross Entropy Loss')\n",
    "plt.xlabel('epoch');"
   ]
  },
  {
   "cell_type": "code",
   "execution_count": 49,
   "id": "pharmaceutical-nightmare",
   "metadata": {
    "execution": {
     "iopub.execute_input": "2021-05-13T12:03:33.981063Z",
     "iopub.status.busy": "2021-05-13T12:03:33.980051Z",
     "iopub.status.idle": "2021-05-13T12:03:33.993790Z",
     "shell.execute_reply": "2021-05-13T12:03:33.994311Z"
    },
    "papermill": {
     "duration": 0.104331,
     "end_time": "2021-05-13T12:03:33.994491",
     "exception": false,
     "start_time": "2021-05-13T12:03:33.890160",
     "status": "completed"
    },
    "tags": []
   },
   "outputs": [
    {
     "name": "stdout",
     "output_type": "stream",
     "text": [
      "CE Loss: 0.27116597\n"
     ]
    }
   ],
   "source": [
    "with torch.no_grad():\n",
    "    y_val = model(cat_test, con_test)\n",
    "    loss = criterion(y_val, y_test)\n",
    "print(f'CE Loss: {loss:.8f}')"
   ]
  },
  {
   "cell_type": "code",
   "execution_count": 50,
   "id": "revolutionary-commonwealth",
   "metadata": {
    "execution": {
     "iopub.execute_input": "2021-05-13T12:03:34.173059Z",
     "iopub.status.busy": "2021-05-13T12:03:34.172106Z",
     "iopub.status.idle": "2021-05-13T12:03:34.307163Z",
     "shell.execute_reply": "2021-05-13T12:03:34.306480Z"
    },
    "papermill": {
     "duration": 0.224862,
     "end_time": "2021-05-13T12:03:34.307312",
     "exception": false,
     "start_time": "2021-05-13T12:03:34.082450",
     "status": "completed"
    },
    "tags": []
   },
   "outputs": [
    {
     "name": "stdout",
     "output_type": "stream",
     "text": [
      "MODEL OUTPUT               ARGMAX  Y_TEST\n",
      "tensor([ 0.1203, -1.2438])    0      0   \n",
      "tensor([0.5167, 0.3993])      0      1   \n",
      "tensor([ 1.6041, -1.7847])    0      0   \n",
      "tensor([ 0.5780, -1.9222])    0      0   \n",
      "tensor([ 1.7220, -3.4610])    0      0   \n",
      "tensor([ 2.8107, -4.7344])    0      0   \n",
      "tensor([ 0.4458, -1.7142])    0      0   \n",
      "tensor([ 1.1706, -1.5426])    0      0   \n",
      "tensor([ 4.0930, -5.4799])    0      0   \n",
      "tensor([-2.0186,  0.3910])    1      1   \n",
      "tensor([  8.1345, -11.4109])    0      0   \n",
      "tensor([-1.3515,  0.8841])    1      1   \n",
      "tensor([0.3929, 0.3597])      0      1   \n",
      "tensor([ 0.2610, -0.0916])    0      0   \n",
      "tensor([-0.1867,  0.1282])    1      1   \n",
      "tensor([-0.1709,  0.2757])    1      1   \n",
      "tensor([-2.3651,  1.8263])    1      1   \n",
      "tensor([-0.3241,  0.3724])    1      1   \n",
      "tensor([-1.6182,  1.4512])    1      1   \n",
      "tensor([0.1695, 0.4284])      1      0   \n",
      "tensor([-0.4314,  0.9597])    1      0   \n",
      "tensor([-0.8537,  0.6647])    1      1   \n",
      "tensor([ 0.0897, -1.0009])    0      0   \n",
      "tensor([ 3.9023, -2.2965])    0      0   \n",
      "tensor([ 5.3679, -8.3448])    0      0   \n",
      "tensor([-1.1972,  1.7695])    1      1   \n",
      "tensor([ 2.3689, -2.6562])    0      0   \n",
      "tensor([ 1.0556, -3.3144])    0      0   \n",
      "tensor([ 3.0479, -1.5378])    0      0   \n",
      "tensor([ 0.5614, -1.4999])    0      0   \n",
      "tensor([-1.8959,  1.1350])    1      1   \n",
      "tensor([0.5678, 0.1683])      0      1   \n",
      "tensor([-1.3058,  0.7209])    1      1   \n",
      "tensor([-2.0538,  1.6250])    1      1   \n",
      "tensor([-1.1048,  0.3192])    1      0   \n",
      "tensor([ 4.0087, -2.8714])    0      0   \n",
      "tensor([ 0.5266, -0.9275])    0      0   \n",
      "tensor([ 0.2360, -0.4608])    0      1   \n",
      "tensor([-1.3024,  0.7055])    1      1   \n",
      "tensor([ 2.1124, -5.1345])    0      0   \n",
      "tensor([ 0.5673, -0.0898])    0      0   \n",
      "tensor([-2.3822,  3.3845])    1      1   \n",
      "tensor([-0.1540,  0.5419])    1      1   \n",
      "tensor([ 1.4238, -1.4471])    0      0   \n",
      "tensor([ 0.6322, -2.5697])    0      0   \n",
      "tensor([ 4.2972, -5.3855])    0      0   \n",
      "tensor([-2.0346,  2.6804])    1      1   \n",
      "tensor([-1.3073,  0.9626])    1      1   \n",
      "tensor([ 4.9734, -2.3115])    0      0   \n",
      "tensor([ 2.3846, -3.3310])    0      0   \n",
      "tensor([-0.9756,  1.5673])    1      1   \n",
      "tensor([ 0.6677, -0.2316])    0      0   \n",
      "tensor([ 0.5099, -0.0360])    0      1   \n",
      "tensor([ 0.2345, -0.8435])    0      0   \n",
      "tensor([ 7.8422, -7.5114])    0      0   \n",
      "tensor([-1.4062,  2.1164])    1      1   \n",
      "tensor([ 6.3566, -7.4274])    0      0   \n",
      "tensor([-1.0080,  1.0674])    1      1   \n",
      "tensor([-0.6675,  2.0085])    1      1   \n",
      "tensor([ 2.6479, -4.2242])    0      0   \n",
      "tensor([-1.2089,  0.9146])    1      1   \n",
      "tensor([-1.6317,  1.6119])    1      1   \n",
      "tensor([ 0.8735, -0.9422])    0      0   \n",
      "tensor([-0.3718,  1.4405])    1      1   \n",
      "tensor([-1.6684,  2.5796])    1      1   \n",
      "tensor([-2.6582,  3.1713])    1      1   \n",
      "tensor([-1.9312,  3.5214])    1      1   \n",
      "tensor([ 2.3390, -3.4126])    0      0   \n",
      "tensor([ 2.8986, -2.9659])    0      0   \n",
      "tensor([ 3.0674, -3.7854])    0      0   \n",
      "tensor([-2.5761,  2.2587])    1      1   \n",
      "tensor([-1.8389,  2.1342])    1      1   \n",
      "tensor([-0.3258,  1.3811])    1      1   \n",
      "tensor([-1.2918,  0.9066])    1      1   \n",
      "tensor([-9.2159,  8.6919])    1      1   \n",
      "tensor([0.1743, 0.4696])      1      0   \n",
      "tensor([-1.2108,  0.7470])    1      1   \n",
      "tensor([-1.5853,  2.0614])    1      1   \n",
      "tensor([-0.7758, -0.0139])    1      1   \n",
      "tensor([ 0.9450, -1.4760])    0      0   \n",
      "tensor([-0.7300,  0.5296])    1      1   \n",
      "tensor([ 0.7019, -1.8213])    0      0   \n",
      "tensor([-0.8566,  1.0044])    1      1   \n",
      "tensor([ 0.1587, -0.3318])    0      0   \n",
      "tensor([ 3.0099, -4.7966])    0      0   \n",
      "tensor([ 1.1997, -2.3599])    0      0   \n",
      "tensor([ 2.3756, -2.5133])    0      0   \n",
      "tensor([ 2.3640, -4.1855])    0      0   \n",
      "tensor([-0.4056,  0.9436])    1      1   \n",
      "tensor([0.2628, 1.0395])      1      1   \n",
      "tensor([0.0528, 0.4295])      1      1   \n",
      "tensor([-1.7770,  1.1426])    1      1   \n",
      "tensor([-0.9809,  1.4535])    1      1   \n",
      "tensor([-2.5314,  2.6941])    1      1   \n",
      "tensor([ 2.6861, -1.4974])    0      0   \n",
      "tensor([ 2.3036, -0.9416])    0      0   \n",
      "tensor([-1.9262,  1.7197])    1      1   \n",
      "tensor([-0.3714,  0.1266])    1      1   \n",
      "tensor([-0.7387,  1.9421])    1      1   \n",
      "tensor([ 5.9230, -5.8423])    0      0   \n",
      "tensor([0.3796, 1.1575])      1      1   \n",
      "tensor([ 4.4014, -6.2247])    0      0   \n",
      "tensor([ 2.1142, -0.6544])    0      0   \n",
      "tensor([-1.1377,  1.3246])    1      1   \n",
      "tensor([-3.1828,  3.1782])    1      1   \n",
      "tensor([ 0.9107, -1.1518])    0      0   \n",
      "tensor([ 1.4750, -0.2203])    0      0   \n",
      "tensor([-0.2959,  0.7995])    1      1   \n",
      "tensor([ 0.1952, -0.5564])    0      0   \n",
      "tensor([-1.9724,  1.4556])    1      1   \n",
      "tensor([-2.8785,  2.2328])    1      1   \n",
      "tensor([ 2.5044, -1.0992])    0      0   \n",
      "tensor([ 2.0985, -1.9291])    0      0   \n",
      "tensor([-2.8254,  3.4613])    1      1   \n",
      "tensor([ 4.3621, -6.4689])    0      0   \n",
      "tensor([-0.5347,  0.3231])    1      1   \n",
      "tensor([-0.4433,  3.3133])    1      1   \n",
      "tensor([ 1.1525, -1.1893])    0      0   \n",
      "tensor([-0.9435,  2.0469])    1      1   \n",
      "tensor([-0.8663,  2.5805])    1      1   \n",
      "tensor([ 0.9603, -2.8030])    0      0   \n",
      "tensor([-0.4048,  1.4333])    1      1   \n",
      "tensor([ 2.1147, -3.7143])    0      0   \n",
      "tensor([ 0.5565, -0.3673])    0      1   \n",
      "tensor([ 3.9527, -4.7992])    0      0   \n",
      "tensor([-1.3480,  1.1958])    1      1   \n",
      "tensor([ 2.2172, -1.7523])    0      0   \n",
      "tensor([-1.4216,  1.9140])    1      1   \n",
      "tensor([-1.1238,  1.5633])    1      0   \n",
      "tensor([-0.7090,  0.3275])    1      1   \n",
      "tensor([-0.9783,  0.7526])    1      1   \n",
      "tensor([-1.5024,  0.4828])    1      0   \n",
      "tensor([ 3.6554, -3.7224])    0      0   \n",
      "tensor([-0.9178,  0.9214])    1      1   \n",
      "tensor([ 0.9400, -1.0358])    0      0   \n",
      "tensor([ 0.2487, -0.6896])    0      1   \n",
      "tensor([-0.4914,  0.3708])    1      1   \n",
      "tensor([-4.7990,  4.5228])    1      1   \n",
      "tensor([ 0.7459, -0.4214])    0      1   \n",
      "tensor([ 3.2626, -5.2707])    0      0   \n",
      "tensor([-0.5178,  0.8553])    1      1   \n",
      "tensor([ 0.3381, -0.1348])    0      1   \n",
      "tensor([-1.0591,  1.0135])    1      1   \n",
      "tensor([-1.7427,  2.4863])    1      1   \n",
      "tensor([-0.7369,  0.6758])    1      1   \n",
      "tensor([-2.0902,  2.0795])    1      1   \n",
      "tensor([ 1.5235, -1.8584])    0      0   \n",
      "tensor([ 2.0226, -1.1270])    0      0   \n",
      "tensor([-2.5050,  2.1245])    1      1   \n",
      "tensor([-1.0049,  1.4964])    1      1   \n",
      "tensor([ 5.8030, -5.9722])    0      0   \n",
      "tensor([-0.5692,  0.9938])    1      1   \n",
      "tensor([0.1786, 1.2061])      1      1   \n",
      "tensor([0.2486, 0.1250])      0      0   \n",
      "tensor([ 5.9599, -7.0351])    0      0   \n",
      "tensor([ 6.3316, -9.0857])    0      0   \n",
      "tensor([-2.0317,  2.4402])    1      1   \n",
      "tensor([-1.8160,  2.3060])    1      1   \n",
      "tensor([-0.6678,  1.8671])    1      1   \n",
      "tensor([ 2.4754, -4.2074])    0      0   \n",
      "tensor([ 5.7473, -6.9285])    0      0   \n",
      "tensor([ 5.6541, -5.2312])    0      0   \n",
      "tensor([0.8747, 0.6449])      0      0   \n",
      "tensor([ 1.4136, -2.7913])    0      0   \n",
      "tensor([ 4.3445, -2.7228])    0      0   \n",
      "tensor([-1.4833,  1.9488])    1      1   \n",
      "tensor([-1.9958,  1.2892])    1      1   \n",
      "tensor([ 6.0386, -3.1655])    0      0   \n",
      "tensor([-0.4971,  0.6168])    1      0   \n",
      "tensor([-5.6735,  6.7948])    1      1   \n",
      "tensor([ 1.4602, -0.6135])    0      0   \n",
      "tensor([-1.0372,  2.4845])    1      1   \n",
      "tensor([-1.5815,  2.2051])    1      1   \n",
      "tensor([ 3.8197, -5.7731])    0      0   \n",
      "tensor([-0.1832,  1.5036])    1      1   \n",
      "tensor([-0.7283,  1.5559])    1      1   \n",
      "tensor([ 2.6115, -2.4037])    0      0   \n",
      "tensor([ 0.1228, -0.3266])    0      0   \n",
      "tensor([0.5387, 0.1563])      0      1   \n",
      "tensor([-0.2627, -0.0753])    1      0   \n",
      "tensor([ 1.5345, -1.0468])    0      0   \n",
      "tensor([-9.0513,  9.5699])    1      1   \n",
      "tensor([ 2.6350, -2.3791])    0      0   \n",
      "tensor([ 3.6844, -4.4789])    0      0   \n",
      "tensor([-0.6222,  1.2355])    1      1   \n",
      "tensor([-0.1743,  0.6144])    1      1   \n",
      "tensor([ 2.2378, -1.8455])    0      0   \n",
      "tensor([-0.6060,  0.6679])    1      1   \n",
      "tensor([-1.1184,  1.2237])    1      1   \n",
      "tensor([-1.0779,  1.2775])    1      1   \n",
      "tensor([ 0.2944, -1.6345])    0      0   \n",
      "tensor([-1.8834,  2.1333])    1      0   \n",
      "tensor([-0.9372,  2.2627])    1      1   \n",
      "tensor([-0.9518,  1.4821])    1      1   \n",
      "tensor([ 3.7003, -5.4281])    0      0   \n",
      "tensor([-0.0379, -0.1236])    0      0   \n",
      "tensor([-1.4523,  2.7332])    1      1   \n",
      "tensor([-2.4490,  2.2574])    1      1   \n",
      "tensor([ 1.7495, -1.5581])    0      0   \n",
      "tensor([-2.5025,  2.3900])    1      1   \n",
      "\n",
      "181 out of 200 = 90.50% correct\n"
     ]
    }
   ],
   "source": [
    "rows = 200\n",
    "correct = 0\n",
    "groundTruth = []\n",
    "predictedValues = []\n",
    "print(f'{\"MODEL OUTPUT\":26} ARGMAX  Y_TEST')\n",
    "for i in range(rows):\n",
    "    print(f'{str(y_val[i]):26} {y_val[i].argmax():^7}{y_test[i]:^7}')\n",
    "    predictedValues.append(y_val[i].argmax().item())\n",
    "    groundTruth.append(y_test[i])\n",
    "    if y_val[i].argmax().item() == y_test[i]:\n",
    "        correct += 1\n",
    "print(f'\\n{correct} out of {rows} = {100*correct/rows:.2f}% correct')"
   ]
  },
  {
   "cell_type": "code",
   "execution_count": 51,
   "id": "prospective-directive",
   "metadata": {
    "execution": {
     "iopub.execute_input": "2021-05-13T12:03:34.489875Z",
     "iopub.status.busy": "2021-05-13T12:03:34.489198Z",
     "iopub.status.idle": "2021-05-13T12:03:34.517939Z",
     "shell.execute_reply": "2021-05-13T12:03:34.517261Z"
    },
    "papermill": {
     "duration": 0.122746,
     "end_time": "2021-05-13T12:03:34.518107",
     "exception": false,
     "start_time": "2021-05-13T12:03:34.395361",
     "status": "completed"
    },
    "tags": []
   },
   "outputs": [
    {
     "name": "stdout",
     "output_type": "stream",
     "text": [
      "The F1-score is : 0.9090909090909091\n",
      "\n",
      "\n",
      "[[86  9]\n",
      " [10 95]]\n",
      "\n",
      "\n",
      "              precision    recall  f1-score   support\n",
      "\n",
      "           0       0.90      0.91      0.90        95\n",
      "           1       0.91      0.90      0.91       105\n",
      "\n",
      "    accuracy                           0.91       200\n",
      "   macro avg       0.90      0.91      0.90       200\n",
      "weighted avg       0.91      0.91      0.91       200\n",
      "\n"
     ]
    }
   ],
   "source": [
    "from sklearn.metrics import f1_score\n",
    "print(\"The F1-score is :\", f1_score(groundTruth, predictedValues))\n",
    "print(\"\\n\")\n",
    "print(confusion_matrix(groundTruth, predictedValues))\n",
    "print(\"\\n\")\n",
    "print(classification_report(groundTruth, predictedValues))"
   ]
  },
  {
   "cell_type": "markdown",
   "id": "aboriginal-extension",
   "metadata": {
    "papermill": {
     "duration": 0.088817,
     "end_time": "2021-05-13T12:03:34.695332",
     "exception": false,
     "start_time": "2021-05-13T12:03:34.606515",
     "status": "completed"
    },
    "tags": []
   },
   "source": [
    "The prediction part of this notebook has been referred from Naman Manchanda's notebook https://www.kaggle.com/namanmanchanda/stroke-eda-and-ann-prediction\n",
    "\n",
    "And as a main helper to this kaggle notebook , a special Thanks to Aditi Mulye!\n",
    "Thank you for making such a wonderful notebook! Really helped me learn a lot!"
   ]
  },
  {
   "cell_type": "code",
   "execution_count": null,
   "id": "elegant-nurse",
   "metadata": {
    "papermill": {
     "duration": 0.089008,
     "end_time": "2021-05-13T12:03:34.874337",
     "exception": false,
     "start_time": "2021-05-13T12:03:34.785329",
     "status": "completed"
    },
    "tags": []
   },
   "outputs": [],
   "source": []
  }
 ],
 "metadata": {
  "kernelspec": {
   "display_name": "Python 3",
   "language": "python",
   "name": "python3"
  },
  "language_info": {
   "codemirror_mode": {
    "name": "ipython",
    "version": 3
   },
   "file_extension": ".py",
   "mimetype": "text/x-python",
   "name": "python",
   "nbconvert_exporter": "python",
   "pygments_lexer": "ipython3",
   "version": "3.7.10"
  },
  "papermill": {
   "default_parameters": {},
   "duration": 182.962623,
   "end_time": "2021-05-13T12:03:37.874446",
   "environment_variables": {},
   "exception": null,
   "input_path": "__notebook__.ipynb",
   "output_path": "__notebook__.ipynb",
   "parameters": {},
   "start_time": "2021-05-13T12:00:34.911823",
   "version": "2.3.3"
  }
 },
 "nbformat": 4,
 "nbformat_minor": 5
}
