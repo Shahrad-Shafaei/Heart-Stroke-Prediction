{
 "cells": [
  {
   "cell_type": "code",
   "execution_count": 1,
   "id": "df8075c2",
   "metadata": {
    "execution": {
     "iopub.execute_input": "2022-04-13T13:52:10.321320Z",
     "iopub.status.busy": "2022-04-13T13:52:10.320342Z",
     "iopub.status.idle": "2022-04-13T13:52:10.324761Z",
     "shell.execute_reply": "2022-04-13T13:52:10.324106Z",
     "shell.execute_reply.started": "2022-04-13T13:51:33.295530Z"
    },
    "papermill": {
     "duration": 0.050525,
     "end_time": "2022-04-13T13:52:10.324960",
     "exception": false,
     "start_time": "2022-04-13T13:52:10.274435",
     "status": "completed"
    },
    "tags": []
   },
   "outputs": [],
   "source": [
    "import numpy as np \n",
    "import pandas as pd "
   ]
  },
  {
   "cell_type": "code",
   "execution_count": 2,
   "id": "41999bbf",
   "metadata": {
    "execution": {
     "iopub.execute_input": "2022-04-13T13:52:10.400389Z",
     "iopub.status.busy": "2022-04-13T13:52:10.399700Z",
     "iopub.status.idle": "2022-04-13T13:52:10.437320Z",
     "shell.execute_reply": "2022-04-13T13:52:10.437910Z",
     "shell.execute_reply.started": "2022-04-13T13:51:33.335408Z"
    },
    "papermill": {
     "duration": 0.077869,
     "end_time": "2022-04-13T13:52:10.438086",
     "exception": false,
     "start_time": "2022-04-13T13:52:10.360217",
     "status": "completed"
    },
    "tags": []
   },
   "outputs": [],
   "source": [
    "stro=pd.read_csv(\"../input/stroke-prediction-dataset/healthcare-dataset-stroke-data.csv\")\n",
    "\n",
    "\n",
    "stro. drop('bmi', axis=1, inplace=True)\n"
   ]
  },
  {
   "cell_type": "code",
   "execution_count": 3,
   "id": "2fd0c48a",
   "metadata": {
    "execution": {
     "iopub.execute_input": "2022-04-13T13:52:10.512559Z",
     "iopub.status.busy": "2022-04-13T13:52:10.511513Z",
     "iopub.status.idle": "2022-04-13T13:52:10.534355Z",
     "shell.execute_reply": "2022-04-13T13:52:10.534873Z",
     "shell.execute_reply.started": "2022-04-13T13:51:33.369012Z"
    },
    "papermill": {
     "duration": 0.061398,
     "end_time": "2022-04-13T13:52:10.535043",
     "exception": false,
     "start_time": "2022-04-13T13:52:10.473645",
     "status": "completed"
    },
    "tags": []
   },
   "outputs": [
    {
     "data": {
      "text/html": [
       "<div>\n",
       "<style scoped>\n",
       "    .dataframe tbody tr th:only-of-type {\n",
       "        vertical-align: middle;\n",
       "    }\n",
       "\n",
       "    .dataframe tbody tr th {\n",
       "        vertical-align: top;\n",
       "    }\n",
       "\n",
       "    .dataframe thead th {\n",
       "        text-align: right;\n",
       "    }\n",
       "</style>\n",
       "<table border=\"1\" class=\"dataframe\">\n",
       "  <thead>\n",
       "    <tr style=\"text-align: right;\">\n",
       "      <th></th>\n",
       "      <th>id</th>\n",
       "      <th>gender</th>\n",
       "      <th>age</th>\n",
       "      <th>hypertension</th>\n",
       "      <th>heart_disease</th>\n",
       "      <th>ever_married</th>\n",
       "      <th>work_type</th>\n",
       "      <th>Residence_type</th>\n",
       "      <th>avg_glucose_level</th>\n",
       "      <th>smoking_status</th>\n",
       "      <th>stroke</th>\n",
       "    </tr>\n",
       "  </thead>\n",
       "  <tbody>\n",
       "    <tr>\n",
       "      <th>0</th>\n",
       "      <td>9046</td>\n",
       "      <td>Male</td>\n",
       "      <td>67.0</td>\n",
       "      <td>0</td>\n",
       "      <td>1</td>\n",
       "      <td>Yes</td>\n",
       "      <td>Private</td>\n",
       "      <td>Urban</td>\n",
       "      <td>228.69</td>\n",
       "      <td>formerly smoked</td>\n",
       "      <td>1</td>\n",
       "    </tr>\n",
       "    <tr>\n",
       "      <th>1</th>\n",
       "      <td>51676</td>\n",
       "      <td>Female</td>\n",
       "      <td>61.0</td>\n",
       "      <td>0</td>\n",
       "      <td>0</td>\n",
       "      <td>Yes</td>\n",
       "      <td>Self-employed</td>\n",
       "      <td>Rural</td>\n",
       "      <td>202.21</td>\n",
       "      <td>never smoked</td>\n",
       "      <td>1</td>\n",
       "    </tr>\n",
       "    <tr>\n",
       "      <th>2</th>\n",
       "      <td>31112</td>\n",
       "      <td>Male</td>\n",
       "      <td>80.0</td>\n",
       "      <td>0</td>\n",
       "      <td>1</td>\n",
       "      <td>Yes</td>\n",
       "      <td>Private</td>\n",
       "      <td>Rural</td>\n",
       "      <td>105.92</td>\n",
       "      <td>never smoked</td>\n",
       "      <td>1</td>\n",
       "    </tr>\n",
       "    <tr>\n",
       "      <th>3</th>\n",
       "      <td>60182</td>\n",
       "      <td>Female</td>\n",
       "      <td>49.0</td>\n",
       "      <td>0</td>\n",
       "      <td>0</td>\n",
       "      <td>Yes</td>\n",
       "      <td>Private</td>\n",
       "      <td>Urban</td>\n",
       "      <td>171.23</td>\n",
       "      <td>smokes</td>\n",
       "      <td>1</td>\n",
       "    </tr>\n",
       "    <tr>\n",
       "      <th>4</th>\n",
       "      <td>1665</td>\n",
       "      <td>Female</td>\n",
       "      <td>79.0</td>\n",
       "      <td>1</td>\n",
       "      <td>0</td>\n",
       "      <td>Yes</td>\n",
       "      <td>Self-employed</td>\n",
       "      <td>Rural</td>\n",
       "      <td>174.12</td>\n",
       "      <td>never smoked</td>\n",
       "      <td>1</td>\n",
       "    </tr>\n",
       "  </tbody>\n",
       "</table>\n",
       "</div>"
      ],
      "text/plain": [
       "      id  gender   age  hypertension  heart_disease ever_married  \\\n",
       "0   9046    Male  67.0             0              1          Yes   \n",
       "1  51676  Female  61.0             0              0          Yes   \n",
       "2  31112    Male  80.0             0              1          Yes   \n",
       "3  60182  Female  49.0             0              0          Yes   \n",
       "4   1665  Female  79.0             1              0          Yes   \n",
       "\n",
       "       work_type Residence_type  avg_glucose_level   smoking_status  stroke  \n",
       "0        Private          Urban             228.69  formerly smoked       1  \n",
       "1  Self-employed          Rural             202.21     never smoked       1  \n",
       "2        Private          Rural             105.92     never smoked       1  \n",
       "3        Private          Urban             171.23           smokes       1  \n",
       "4  Self-employed          Rural             174.12     never smoked       1  "
      ]
     },
     "execution_count": 3,
     "metadata": {},
     "output_type": "execute_result"
    }
   ],
   "source": [
    "stro.head()"
   ]
  },
  {
   "cell_type": "code",
   "execution_count": 4,
   "id": "a038fbcf",
   "metadata": {
    "execution": {
     "iopub.execute_input": "2022-04-13T13:52:10.609716Z",
     "iopub.status.busy": "2022-04-13T13:52:10.608696Z",
     "iopub.status.idle": "2022-04-13T13:52:10.614913Z",
     "shell.execute_reply": "2022-04-13T13:52:10.614250Z",
     "shell.execute_reply.started": "2022-04-13T13:51:33.395786Z"
    },
    "papermill": {
     "duration": 0.044741,
     "end_time": "2022-04-13T13:52:10.615063",
     "exception": false,
     "start_time": "2022-04-13T13:52:10.570322",
     "status": "completed"
    },
    "tags": []
   },
   "outputs": [
    {
     "data": {
      "text/plain": [
       "(5110, 11)"
      ]
     },
     "execution_count": 4,
     "metadata": {},
     "output_type": "execute_result"
    }
   ],
   "source": [
    "stro.shape"
   ]
  },
  {
   "cell_type": "code",
   "execution_count": 5,
   "id": "d35cac23",
   "metadata": {
    "execution": {
     "iopub.execute_input": "2022-04-13T13:52:10.713381Z",
     "iopub.status.busy": "2022-04-13T13:52:10.700724Z",
     "iopub.status.idle": "2022-04-13T13:52:10.717865Z",
     "shell.execute_reply": "2022-04-13T13:52:10.717153Z",
     "shell.execute_reply.started": "2022-04-13T13:51:33.444900Z"
    },
    "papermill": {
     "duration": 0.067104,
     "end_time": "2022-04-13T13:52:10.718023",
     "exception": false,
     "start_time": "2022-04-13T13:52:10.650919",
     "status": "completed"
    },
    "tags": []
   },
   "outputs": [
    {
     "name": "stdout",
     "output_type": "stream",
     "text": [
      "<class 'pandas.core.frame.DataFrame'>\n",
      "RangeIndex: 5110 entries, 0 to 5109\n",
      "Data columns (total 11 columns):\n",
      " #   Column             Non-Null Count  Dtype  \n",
      "---  ------             --------------  -----  \n",
      " 0   id                 5110 non-null   int64  \n",
      " 1   gender             5110 non-null   object \n",
      " 2   age                5110 non-null   float64\n",
      " 3   hypertension       5110 non-null   int64  \n",
      " 4   heart_disease      5110 non-null   int64  \n",
      " 5   ever_married       5110 non-null   object \n",
      " 6   work_type          5110 non-null   object \n",
      " 7   Residence_type     5110 non-null   object \n",
      " 8   avg_glucose_level  5110 non-null   float64\n",
      " 9   smoking_status     5110 non-null   object \n",
      " 10  stroke             5110 non-null   int64  \n",
      "dtypes: float64(2), int64(4), object(5)\n",
      "memory usage: 439.3+ KB\n"
     ]
    }
   ],
   "source": [
    "stro.info()"
   ]
  },
  {
   "cell_type": "code",
   "execution_count": 6,
   "id": "d7df6a3f",
   "metadata": {
    "execution": {
     "iopub.execute_input": "2022-04-13T13:52:10.797144Z",
     "iopub.status.busy": "2022-04-13T13:52:10.796407Z",
     "iopub.status.idle": "2022-04-13T13:52:10.807316Z",
     "shell.execute_reply": "2022-04-13T13:52:10.807928Z",
     "shell.execute_reply.started": "2022-04-13T13:51:33.468751Z"
    },
    "papermill": {
     "duration": 0.053486,
     "end_time": "2022-04-13T13:52:10.808107",
     "exception": false,
     "start_time": "2022-04-13T13:52:10.754621",
     "status": "completed"
    },
    "tags": []
   },
   "outputs": [
    {
     "data": {
      "text/plain": [
       "id                   0\n",
       "gender               0\n",
       "age                  0\n",
       "hypertension         0\n",
       "heart_disease        0\n",
       "ever_married         0\n",
       "work_type            0\n",
       "Residence_type       0\n",
       "avg_glucose_level    0\n",
       "smoking_status       0\n",
       "stroke               0\n",
       "dtype: int64"
      ]
     },
     "execution_count": 6,
     "metadata": {},
     "output_type": "execute_result"
    }
   ],
   "source": [
    "stro.isnull().sum()"
   ]
  },
  {
   "cell_type": "code",
   "execution_count": 7,
   "id": "6108ba14",
   "metadata": {
    "execution": {
     "iopub.execute_input": "2022-04-13T13:52:10.889158Z",
     "iopub.status.busy": "2022-04-13T13:52:10.888257Z",
     "iopub.status.idle": "2022-04-13T13:52:10.891758Z",
     "shell.execute_reply": "2022-04-13T13:52:10.892265Z",
     "shell.execute_reply.started": "2022-04-13T13:51:33.489292Z"
    },
    "papermill": {
     "duration": 0.047592,
     "end_time": "2022-04-13T13:52:10.892443",
     "exception": false,
     "start_time": "2022-04-13T13:52:10.844851",
     "status": "completed"
    },
    "tags": []
   },
   "outputs": [
    {
     "data": {
      "text/plain": [
       "id                     int64\n",
       "gender                object\n",
       "age                  float64\n",
       "hypertension           int64\n",
       "heart_disease          int64\n",
       "ever_married          object\n",
       "work_type             object\n",
       "Residence_type        object\n",
       "avg_glucose_level    float64\n",
       "smoking_status        object\n",
       "stroke                 int64\n",
       "dtype: object"
      ]
     },
     "execution_count": 7,
     "metadata": {},
     "output_type": "execute_result"
    }
   ],
   "source": [
    "stro.dtypes"
   ]
  },
  {
   "cell_type": "code",
   "execution_count": 8,
   "id": "b47580ae",
   "metadata": {
    "execution": {
     "iopub.execute_input": "2022-04-13T13:52:10.975257Z",
     "iopub.status.busy": "2022-04-13T13:52:10.974208Z",
     "iopub.status.idle": "2022-04-13T13:52:11.005117Z",
     "shell.execute_reply": "2022-04-13T13:52:11.005666Z",
     "shell.execute_reply.started": "2022-04-13T13:51:33.539752Z"
    },
    "papermill": {
     "duration": 0.075392,
     "end_time": "2022-04-13T13:52:11.005866",
     "exception": false,
     "start_time": "2022-04-13T13:52:10.930474",
     "status": "completed"
    },
    "tags": []
   },
   "outputs": [
    {
     "data": {
      "text/html": [
       "<div>\n",
       "<style scoped>\n",
       "    .dataframe tbody tr th:only-of-type {\n",
       "        vertical-align: middle;\n",
       "    }\n",
       "\n",
       "    .dataframe tbody tr th {\n",
       "        vertical-align: top;\n",
       "    }\n",
       "\n",
       "    .dataframe thead th {\n",
       "        text-align: right;\n",
       "    }\n",
       "</style>\n",
       "<table border=\"1\" class=\"dataframe\">\n",
       "  <thead>\n",
       "    <tr style=\"text-align: right;\">\n",
       "      <th></th>\n",
       "      <th>id</th>\n",
       "      <th>age</th>\n",
       "      <th>hypertension</th>\n",
       "      <th>heart_disease</th>\n",
       "      <th>avg_glucose_level</th>\n",
       "      <th>stroke</th>\n",
       "    </tr>\n",
       "  </thead>\n",
       "  <tbody>\n",
       "    <tr>\n",
       "      <th>count</th>\n",
       "      <td>5110.000000</td>\n",
       "      <td>5110.000000</td>\n",
       "      <td>5110.000000</td>\n",
       "      <td>5110.000000</td>\n",
       "      <td>5110.000000</td>\n",
       "      <td>5110.000000</td>\n",
       "    </tr>\n",
       "    <tr>\n",
       "      <th>mean</th>\n",
       "      <td>36517.829354</td>\n",
       "      <td>43.226614</td>\n",
       "      <td>0.097456</td>\n",
       "      <td>0.054012</td>\n",
       "      <td>106.147677</td>\n",
       "      <td>0.048728</td>\n",
       "    </tr>\n",
       "    <tr>\n",
       "      <th>std</th>\n",
       "      <td>21161.721625</td>\n",
       "      <td>22.612647</td>\n",
       "      <td>0.296607</td>\n",
       "      <td>0.226063</td>\n",
       "      <td>45.283560</td>\n",
       "      <td>0.215320</td>\n",
       "    </tr>\n",
       "    <tr>\n",
       "      <th>min</th>\n",
       "      <td>67.000000</td>\n",
       "      <td>0.080000</td>\n",
       "      <td>0.000000</td>\n",
       "      <td>0.000000</td>\n",
       "      <td>55.120000</td>\n",
       "      <td>0.000000</td>\n",
       "    </tr>\n",
       "    <tr>\n",
       "      <th>25%</th>\n",
       "      <td>17741.250000</td>\n",
       "      <td>25.000000</td>\n",
       "      <td>0.000000</td>\n",
       "      <td>0.000000</td>\n",
       "      <td>77.245000</td>\n",
       "      <td>0.000000</td>\n",
       "    </tr>\n",
       "    <tr>\n",
       "      <th>50%</th>\n",
       "      <td>36932.000000</td>\n",
       "      <td>45.000000</td>\n",
       "      <td>0.000000</td>\n",
       "      <td>0.000000</td>\n",
       "      <td>91.885000</td>\n",
       "      <td>0.000000</td>\n",
       "    </tr>\n",
       "    <tr>\n",
       "      <th>75%</th>\n",
       "      <td>54682.000000</td>\n",
       "      <td>61.000000</td>\n",
       "      <td>0.000000</td>\n",
       "      <td>0.000000</td>\n",
       "      <td>114.090000</td>\n",
       "      <td>0.000000</td>\n",
       "    </tr>\n",
       "    <tr>\n",
       "      <th>max</th>\n",
       "      <td>72940.000000</td>\n",
       "      <td>82.000000</td>\n",
       "      <td>1.000000</td>\n",
       "      <td>1.000000</td>\n",
       "      <td>271.740000</td>\n",
       "      <td>1.000000</td>\n",
       "    </tr>\n",
       "  </tbody>\n",
       "</table>\n",
       "</div>"
      ],
      "text/plain": [
       "                 id          age  hypertension  heart_disease  \\\n",
       "count   5110.000000  5110.000000   5110.000000    5110.000000   \n",
       "mean   36517.829354    43.226614      0.097456       0.054012   \n",
       "std    21161.721625    22.612647      0.296607       0.226063   \n",
       "min       67.000000     0.080000      0.000000       0.000000   \n",
       "25%    17741.250000    25.000000      0.000000       0.000000   \n",
       "50%    36932.000000    45.000000      0.000000       0.000000   \n",
       "75%    54682.000000    61.000000      0.000000       0.000000   \n",
       "max    72940.000000    82.000000      1.000000       1.000000   \n",
       "\n",
       "       avg_glucose_level       stroke  \n",
       "count        5110.000000  5110.000000  \n",
       "mean          106.147677     0.048728  \n",
       "std            45.283560     0.215320  \n",
       "min            55.120000     0.000000  \n",
       "25%            77.245000     0.000000  \n",
       "50%            91.885000     0.000000  \n",
       "75%           114.090000     0.000000  \n",
       "max           271.740000     1.000000  "
      ]
     },
     "execution_count": 8,
     "metadata": {},
     "output_type": "execute_result"
    }
   ],
   "source": [
    "stro.describe()"
   ]
  },
  {
   "cell_type": "code",
   "execution_count": 9,
   "id": "10cb6e2a",
   "metadata": {
    "execution": {
     "iopub.execute_input": "2022-04-13T13:52:11.086514Z",
     "iopub.status.busy": "2022-04-13T13:52:11.085496Z",
     "iopub.status.idle": "2022-04-13T13:52:12.095051Z",
     "shell.execute_reply": "2022-04-13T13:52:12.094061Z",
     "shell.execute_reply.started": "2022-04-13T13:51:33.583310Z"
    },
    "papermill": {
     "duration": 1.051601,
     "end_time": "2022-04-13T13:52:12.095207",
     "exception": false,
     "start_time": "2022-04-13T13:52:11.043606",
     "status": "completed"
    },
    "tags": []
   },
   "outputs": [],
   "source": [
    "from sklearn.preprocessing import LabelEncoder\n"
   ]
  },
  {
   "cell_type": "code",
   "execution_count": 10,
   "id": "9582e6e0",
   "metadata": {
    "execution": {
     "iopub.execute_input": "2022-04-13T13:52:12.176464Z",
     "iopub.status.busy": "2022-04-13T13:52:12.175737Z",
     "iopub.status.idle": "2022-04-13T13:52:12.184775Z",
     "shell.execute_reply": "2022-04-13T13:52:12.185402Z",
     "shell.execute_reply.started": "2022-04-13T13:51:34.140053Z"
    },
    "papermill": {
     "duration": 0.050082,
     "end_time": "2022-04-13T13:52:12.185580",
     "exception": false,
     "start_time": "2022-04-13T13:52:12.135498",
     "status": "completed"
    },
    "tags": []
   },
   "outputs": [
    {
     "data": {
      "text/plain": [
       "{0: 'Female', 1: 'Male', 2: 'Other'}"
      ]
     },
     "execution_count": 10,
     "metadata": {},
     "output_type": "execute_result"
    }
   ],
   "source": [
    "encoder = LabelEncoder()\n",
    "stro['gender'] = encoder.fit_transform(stro['gender'])\n",
    "gender = {index : label for index, label in enumerate(encoder.classes_)}\n",
    "gender"
   ]
  },
  {
   "cell_type": "code",
   "execution_count": 11,
   "id": "8a095cdd",
   "metadata": {
    "execution": {
     "iopub.execute_input": "2022-04-13T13:52:12.266281Z",
     "iopub.status.busy": "2022-04-13T13:52:12.265557Z",
     "iopub.status.idle": "2022-04-13T13:52:12.274475Z",
     "shell.execute_reply": "2022-04-13T13:52:12.275020Z",
     "shell.execute_reply.started": "2022-04-13T13:51:34.154274Z"
    },
    "papermill": {
     "duration": 0.05105,
     "end_time": "2022-04-13T13:52:12.275217",
     "exception": false,
     "start_time": "2022-04-13T13:52:12.224167",
     "status": "completed"
    },
    "tags": []
   },
   "outputs": [
    {
     "data": {
      "text/plain": [
       "{0: 'No', 1: 'Yes'}"
      ]
     },
     "execution_count": 11,
     "metadata": {},
     "output_type": "execute_result"
    }
   ],
   "source": [
    "stro['ever_married'] = encoder.fit_transform(stro['ever_married'])\n",
    "ever_married = {index : label for index, label in enumerate(encoder.classes_)}\n",
    "ever_married"
   ]
  },
  {
   "cell_type": "code",
   "execution_count": 12,
   "id": "e3cdfeb8",
   "metadata": {
    "execution": {
     "iopub.execute_input": "2022-04-13T13:52:12.355826Z",
     "iopub.status.busy": "2022-04-13T13:52:12.355146Z",
     "iopub.status.idle": "2022-04-13T13:52:12.363508Z",
     "shell.execute_reply": "2022-04-13T13:52:12.364060Z",
     "shell.execute_reply.started": "2022-04-13T13:51:34.173557Z"
    },
    "papermill": {
     "duration": 0.050172,
     "end_time": "2022-04-13T13:52:12.364240",
     "exception": false,
     "start_time": "2022-04-13T13:52:12.314068",
     "status": "completed"
    },
    "tags": []
   },
   "outputs": [
    {
     "data": {
      "text/plain": [
       "{0: 'Govt_job',\n",
       " 1: 'Never_worked',\n",
       " 2: 'Private',\n",
       " 3: 'Self-employed',\n",
       " 4: 'children'}"
      ]
     },
     "execution_count": 12,
     "metadata": {},
     "output_type": "execute_result"
    }
   ],
   "source": [
    "stro['work_type'] = encoder.fit_transform(stro['work_type'])\n",
    "work_type = {index : label for index, label in enumerate(encoder.classes_)}\n",
    "work_type"
   ]
  },
  {
   "cell_type": "code",
   "execution_count": 13,
   "id": "c24564b7",
   "metadata": {
    "execution": {
     "iopub.execute_input": "2022-04-13T13:52:12.445868Z",
     "iopub.status.busy": "2022-04-13T13:52:12.445191Z",
     "iopub.status.idle": "2022-04-13T13:52:12.453492Z",
     "shell.execute_reply": "2022-04-13T13:52:12.454127Z",
     "shell.execute_reply.started": "2022-04-13T13:51:34.187530Z"
    },
    "papermill": {
     "duration": 0.050575,
     "end_time": "2022-04-13T13:52:12.454301",
     "exception": false,
     "start_time": "2022-04-13T13:52:12.403726",
     "status": "completed"
    },
    "tags": []
   },
   "outputs": [
    {
     "data": {
      "text/plain": [
       "{0: 'Rural', 1: 'Urban'}"
      ]
     },
     "execution_count": 13,
     "metadata": {},
     "output_type": "execute_result"
    }
   ],
   "source": [
    "stro['Residence_type'] = encoder.fit_transform(stro['Residence_type'])\n",
    "Residence_type = {index : label for index, label in enumerate(encoder.classes_)}\n",
    "Residence_type"
   ]
  },
  {
   "cell_type": "code",
   "execution_count": 14,
   "id": "8ce8ae2c",
   "metadata": {
    "execution": {
     "iopub.execute_input": "2022-04-13T13:52:12.541261Z",
     "iopub.status.busy": "2022-04-13T13:52:12.540563Z",
     "iopub.status.idle": "2022-04-13T13:52:12.543134Z",
     "shell.execute_reply": "2022-04-13T13:52:12.543600Z",
     "shell.execute_reply.started": "2022-04-13T13:51:34.201033Z"
    },
    "papermill": {
     "duration": 0.050359,
     "end_time": "2022-04-13T13:52:12.543765",
     "exception": false,
     "start_time": "2022-04-13T13:52:12.493406",
     "status": "completed"
    },
    "tags": []
   },
   "outputs": [
    {
     "data": {
      "text/plain": [
       "{0: 'Unknown', 1: 'formerly smoked', 2: 'never smoked', 3: 'smokes'}"
      ]
     },
     "execution_count": 14,
     "metadata": {},
     "output_type": "execute_result"
    }
   ],
   "source": [
    "stro['smoking_status'] = encoder.fit_transform(stro['smoking_status'])\n",
    "smoking_status = {index : label for index, label in enumerate(encoder.classes_)}\n",
    "smoking_status"
   ]
  },
  {
   "cell_type": "code",
   "execution_count": 15,
   "id": "686cbac0",
   "metadata": {
    "execution": {
     "iopub.execute_input": "2022-04-13T13:52:12.627410Z",
     "iopub.status.busy": "2022-04-13T13:52:12.626689Z",
     "iopub.status.idle": "2022-04-13T13:52:12.632609Z",
     "shell.execute_reply": "2022-04-13T13:52:12.633181Z",
     "shell.execute_reply.started": "2022-04-13T13:51:34.213086Z"
    },
    "papermill": {
     "duration": 0.048874,
     "end_time": "2022-04-13T13:52:12.633366",
     "exception": false,
     "start_time": "2022-04-13T13:52:12.584492",
     "status": "completed"
    },
    "tags": []
   },
   "outputs": [],
   "source": [
    "x = stro.drop('stroke', axis=1)\n",
    "y = stro['stroke']"
   ]
  },
  {
   "cell_type": "code",
   "execution_count": 16,
   "id": "0d2fb86b",
   "metadata": {
    "execution": {
     "iopub.execute_input": "2022-04-13T13:52:12.716179Z",
     "iopub.status.busy": "2022-04-13T13:52:12.715508Z",
     "iopub.status.idle": "2022-04-13T13:52:12.890686Z",
     "shell.execute_reply": "2022-04-13T13:52:12.890078Z",
     "shell.execute_reply.started": "2022-04-13T13:51:34.227226Z"
    },
    "papermill": {
     "duration": 0.218187,
     "end_time": "2022-04-13T13:52:12.890853",
     "exception": false,
     "start_time": "2022-04-13T13:52:12.672666",
     "status": "completed"
    },
    "tags": []
   },
   "outputs": [],
   "source": [
    "from sklearn.impute import SimpleImputer\n",
    "import numpy as np"
   ]
  },
  {
   "cell_type": "code",
   "execution_count": 17,
   "id": "8978f10e",
   "metadata": {
    "execution": {
     "iopub.execute_input": "2022-04-13T13:52:12.987216Z",
     "iopub.status.busy": "2022-04-13T13:52:12.986512Z",
     "iopub.status.idle": "2022-04-13T13:52:12.998222Z",
     "shell.execute_reply": "2022-04-13T13:52:12.999212Z",
     "shell.execute_reply.started": "2022-04-13T13:51:34.287228Z"
    },
    "papermill": {
     "duration": 0.068662,
     "end_time": "2022-04-13T13:52:12.999403",
     "exception": false,
     "start_time": "2022-04-13T13:52:12.930741",
     "status": "completed"
    },
    "tags": []
   },
   "outputs": [
    {
     "name": "stdout",
     "output_type": "stream",
     "text": [
      "X Data is \n",
      " [[9.0460e+03 1.0000e+00 6.7000e+01 0.0000e+00 1.0000e+00 1.0000e+00\n",
      "  2.0000e+00 1.0000e+00 2.2869e+02 1.0000e+00]\n",
      " [5.1676e+04 0.0000e+00 6.1000e+01 0.0000e+00 0.0000e+00 1.0000e+00\n",
      "  3.0000e+00 0.0000e+00 2.0221e+02 2.0000e+00]\n",
      " [3.1112e+04 1.0000e+00 8.0000e+01 0.0000e+00 1.0000e+00 1.0000e+00\n",
      "  2.0000e+00 0.0000e+00 1.0592e+02 2.0000e+00]\n",
      " [6.0182e+04 0.0000e+00 4.9000e+01 0.0000e+00 0.0000e+00 1.0000e+00\n",
      "  2.0000e+00 1.0000e+00 1.7123e+02 3.0000e+00]\n",
      " [1.6650e+03 0.0000e+00 7.9000e+01 1.0000e+00 0.0000e+00 1.0000e+00\n",
      "  3.0000e+00 0.0000e+00 1.7412e+02 2.0000e+00]\n",
      " [5.6669e+04 1.0000e+00 8.1000e+01 0.0000e+00 0.0000e+00 1.0000e+00\n",
      "  2.0000e+00 1.0000e+00 1.8621e+02 1.0000e+00]\n",
      " [5.3882e+04 1.0000e+00 7.4000e+01 1.0000e+00 1.0000e+00 1.0000e+00\n",
      "  2.0000e+00 0.0000e+00 7.0090e+01 2.0000e+00]\n",
      " [1.0434e+04 0.0000e+00 6.9000e+01 0.0000e+00 0.0000e+00 0.0000e+00\n",
      "  2.0000e+00 1.0000e+00 9.4390e+01 2.0000e+00]\n",
      " [2.7419e+04 0.0000e+00 5.9000e+01 0.0000e+00 0.0000e+00 1.0000e+00\n",
      "  2.0000e+00 0.0000e+00 7.6150e+01 0.0000e+00]\n",
      " [6.0491e+04 0.0000e+00 7.8000e+01 0.0000e+00 0.0000e+00 1.0000e+00\n",
      "  2.0000e+00 1.0000e+00 5.8570e+01 0.0000e+00]]\n",
      "y Data is \n",
      " 0    1\n",
      "1    1\n",
      "2    1\n",
      "3    1\n",
      "4    1\n",
      "5    1\n",
      "6    1\n",
      "7    1\n",
      "8    1\n",
      "9    1\n",
      "Name: stroke, dtype: int64\n"
     ]
    }
   ],
   "source": [
    "ImputedModule = SimpleImputer(missing_values = np.nan, strategy ='mean')\n",
    "ImputedX = ImputedModule.fit(x)\n",
    "X = ImputedX.transform(x)\n",
    "\n",
    "\n",
    "#X Data\n",
    "print('X Data is \\n' , X[:10])\n",
    "\n",
    "#y Data\n",
    "print('y Data is \\n' , y[:10])"
   ]
  },
  {
   "cell_type": "code",
   "execution_count": 18,
   "id": "319ae503",
   "metadata": {
    "execution": {
     "iopub.execute_input": "2022-04-13T13:52:13.086576Z",
     "iopub.status.busy": "2022-04-13T13:52:13.085853Z",
     "iopub.status.idle": "2022-04-13T13:52:13.088148Z",
     "shell.execute_reply": "2022-04-13T13:52:13.088601Z",
     "shell.execute_reply.started": "2022-04-13T13:51:34.309243Z"
    },
    "papermill": {
     "duration": 0.048454,
     "end_time": "2022-04-13T13:52:13.088772",
     "exception": false,
     "start_time": "2022-04-13T13:52:13.040318",
     "status": "completed"
    },
    "tags": []
   },
   "outputs": [],
   "source": [
    "from sklearn.preprocessing import MinMaxScaler"
   ]
  },
  {
   "cell_type": "code",
   "execution_count": 19,
   "id": "5a231708",
   "metadata": {
    "execution": {
     "iopub.execute_input": "2022-04-13T13:52:13.177123Z",
     "iopub.status.busy": "2022-04-13T13:52:13.176468Z",
     "iopub.status.idle": "2022-04-13T13:52:13.185606Z",
     "shell.execute_reply": "2022-04-13T13:52:13.186240Z",
     "shell.execute_reply.started": "2022-04-13T13:51:34.315032Z"
    },
    "papermill": {
     "duration": 0.056538,
     "end_time": "2022-04-13T13:52:13.186410",
     "exception": false,
     "start_time": "2022-04-13T13:52:13.129872",
     "status": "completed"
    },
    "tags": []
   },
   "outputs": [
    {
     "name": "stdout",
     "output_type": "stream",
     "text": [
      "x \n",
      " [[0.12321436 0.5        0.81689453 0.         1.         1.\n",
      "  0.5        1.         0.80126489 0.33333333]\n",
      " [0.70820468 0.         0.74365234 0.         0.         1.\n",
      "  0.75       0.         0.67902317 0.66666667]\n",
      " [0.42601512 0.5        0.97558594 0.         1.         1.\n",
      "  0.5        0.         0.23451205 0.66666667]\n",
      " [0.8249283  0.         0.59716797 0.         0.         1.\n",
      "  0.5        1.         0.53600776 1.        ]\n",
      " [0.02192856 0.         0.96337891 1.         0.         1.\n",
      "  0.75       0.         0.54934909 0.66666667]\n",
      " [0.77672115 0.5        0.98779297 0.         0.         1.\n",
      "  0.5        1.         0.60516111 0.33333333]\n",
      " [0.73847653 0.5        0.90234375 1.         1.         1.\n",
      "  0.5        0.         0.06910719 0.66666667]\n",
      " [0.14226119 0.         0.84130859 0.         0.         0.\n",
      "  0.5        1.         0.1812852  0.66666667]\n",
      " [0.37533792 0.         0.71923828 0.         0.         1.\n",
      "  0.5        0.         0.09708245 0.        ]\n",
      " [0.82916855 0.         0.95117188 0.         0.         1.\n",
      "  0.5        1.         0.01592651 0.        ]]\n",
      "y \n",
      " 0    1\n",
      "1    1\n",
      "2    1\n",
      "3    1\n",
      "4    1\n",
      "5    1\n",
      "6    1\n",
      "7    1\n",
      "8    1\n",
      "9    1\n",
      "Name: stroke, dtype: int64\n"
     ]
    }
   ],
   "source": [
    "scaler = MinMaxScaler(copy=True, feature_range=(0, 1))\n",
    "X = scaler.fit_transform(x)\n",
    "\n",
    "#showing data\n",
    "print('x \\n' , X[:10])\n",
    "print('y \\n' , y[:10])"
   ]
  },
  {
   "cell_type": "code",
   "execution_count": 20,
   "id": "11a44a38",
   "metadata": {
    "execution": {
     "iopub.execute_input": "2022-04-13T13:52:13.276760Z",
     "iopub.status.busy": "2022-04-13T13:52:13.271346Z",
     "iopub.status.idle": "2022-04-13T13:52:13.280200Z",
     "shell.execute_reply": "2022-04-13T13:52:13.280735Z",
     "shell.execute_reply.started": "2022-04-13T13:51:34.336669Z"
    },
    "papermill": {
     "duration": 0.053654,
     "end_time": "2022-04-13T13:52:13.280961",
     "exception": false,
     "start_time": "2022-04-13T13:52:13.227307",
     "status": "completed"
    },
    "tags": []
   },
   "outputs": [
    {
     "data": {
      "text/plain": [
       "id                   0\n",
       "gender               0\n",
       "age                  0\n",
       "hypertension         0\n",
       "heart_disease        0\n",
       "ever_married         0\n",
       "work_type            0\n",
       "Residence_type       0\n",
       "avg_glucose_level    0\n",
       "smoking_status       0\n",
       "stroke               0\n",
       "dtype: int64"
      ]
     },
     "execution_count": 20,
     "metadata": {},
     "output_type": "execute_result"
    }
   ],
   "source": [
    "stro.isnull().sum()"
   ]
  },
  {
   "cell_type": "code",
   "execution_count": 21,
   "id": "9d77874b",
   "metadata": {
    "execution": {
     "iopub.execute_input": "2022-04-13T13:52:13.373226Z",
     "iopub.status.busy": "2022-04-13T13:52:13.372446Z",
     "iopub.status.idle": "2022-04-13T13:52:13.380053Z",
     "shell.execute_reply": "2022-04-13T13:52:13.380567Z",
     "shell.execute_reply.started": "2022-04-13T13:51:34.350505Z"
    },
    "papermill": {
     "duration": 0.054832,
     "end_time": "2022-04-13T13:52:13.380748",
     "exception": false,
     "start_time": "2022-04-13T13:52:13.325916",
     "status": "completed"
    },
    "tags": []
   },
   "outputs": [
    {
     "data": {
      "text/plain": [
       "id                   0\n",
       "gender               0\n",
       "age                  0\n",
       "hypertension         0\n",
       "heart_disease        0\n",
       "ever_married         0\n",
       "work_type            0\n",
       "Residence_type       0\n",
       "avg_glucose_level    0\n",
       "smoking_status       0\n",
       "stroke               0\n",
       "dtype: int64"
      ]
     },
     "execution_count": 21,
     "metadata": {},
     "output_type": "execute_result"
    }
   ],
   "source": [
    "stro.isnull().sum()"
   ]
  },
  {
   "cell_type": "code",
   "execution_count": 22,
   "id": "dec60e99",
   "metadata": {
    "execution": {
     "iopub.execute_input": "2022-04-13T13:52:13.473244Z",
     "iopub.status.busy": "2022-04-13T13:52:13.472522Z",
     "iopub.status.idle": "2022-04-13T13:52:13.475857Z",
     "shell.execute_reply": "2022-04-13T13:52:13.476464Z",
     "shell.execute_reply.started": "2022-04-13T13:51:34.362675Z"
    },
    "papermill": {
     "duration": 0.050644,
     "end_time": "2022-04-13T13:52:13.476646",
     "exception": false,
     "start_time": "2022-04-13T13:52:13.426002",
     "status": "completed"
    },
    "tags": []
   },
   "outputs": [],
   "source": [
    "from sklearn.model_selection import train_test_split"
   ]
  },
  {
   "cell_type": "code",
   "execution_count": 23,
   "id": "5736b215",
   "metadata": {
    "execution": {
     "iopub.execute_input": "2022-04-13T13:52:13.569608Z",
     "iopub.status.busy": "2022-04-13T13:52:13.567427Z",
     "iopub.status.idle": "2022-04-13T13:52:13.574038Z",
     "shell.execute_reply": "2022-04-13T13:52:13.574639Z",
     "shell.execute_reply.started": "2022-04-13T13:51:34.370441Z"
    },
    "papermill": {
     "duration": 0.05326,
     "end_time": "2022-04-13T13:52:13.574844",
     "exception": false,
     "start_time": "2022-04-13T13:52:13.521584",
     "status": "completed"
    },
    "tags": []
   },
   "outputs": [],
   "source": [
    "x_train,x_test,y_train,y_test=train_test_split(x,y,test_size=30,random_state=0)"
   ]
  },
  {
   "cell_type": "code",
   "execution_count": 24,
   "id": "1d2df48b",
   "metadata": {
    "execution": {
     "iopub.execute_input": "2022-04-13T13:52:13.669770Z",
     "iopub.status.busy": "2022-04-13T13:52:13.667397Z",
     "iopub.status.idle": "2022-04-13T13:52:13.672318Z",
     "shell.execute_reply": "2022-04-13T13:52:13.672833Z",
     "shell.execute_reply.started": "2022-04-13T13:51:34.384478Z"
    },
    "papermill": {
     "duration": 0.052405,
     "end_time": "2022-04-13T13:52:13.673033",
     "exception": false,
     "start_time": "2022-04-13T13:52:13.620628",
     "status": "completed"
    },
    "tags": []
   },
   "outputs": [
    {
     "name": "stdout",
     "output_type": "stream",
     "text": [
      "x_train shape is: (5080, 10)\n"
     ]
    }
   ],
   "source": [
    "print(\"x_train shape is:\",x_train.shape)"
   ]
  },
  {
   "cell_type": "code",
   "execution_count": 25,
   "id": "70dffc78",
   "metadata": {
    "execution": {
     "iopub.execute_input": "2022-04-13T13:52:13.761351Z",
     "iopub.status.busy": "2022-04-13T13:52:13.760590Z",
     "iopub.status.idle": "2022-04-13T13:52:13.766291Z",
     "shell.execute_reply": "2022-04-13T13:52:13.766812Z",
     "shell.execute_reply.started": "2022-04-13T13:51:34.397639Z"
    },
    "papermill": {
     "duration": 0.050753,
     "end_time": "2022-04-13T13:52:13.766992",
     "exception": false,
     "start_time": "2022-04-13T13:52:13.716239",
     "status": "completed"
    },
    "tags": []
   },
   "outputs": [
    {
     "name": "stdout",
     "output_type": "stream",
     "text": [
      "x_test shape is: (30, 10)\n"
     ]
    }
   ],
   "source": [
    "print(\"x_test shape is:\",x_test.shape)"
   ]
  },
  {
   "cell_type": "code",
   "execution_count": 26,
   "id": "58748c11",
   "metadata": {
    "execution": {
     "iopub.execute_input": "2022-04-13T13:52:13.856060Z",
     "iopub.status.busy": "2022-04-13T13:52:13.855373Z",
     "iopub.status.idle": "2022-04-13T13:52:13.858640Z",
     "shell.execute_reply": "2022-04-13T13:52:13.859169Z",
     "shell.execute_reply.started": "2022-04-13T13:51:34.408744Z"
    },
    "papermill": {
     "duration": 0.05033,
     "end_time": "2022-04-13T13:52:13.859336",
     "exception": false,
     "start_time": "2022-04-13T13:52:13.809006",
     "status": "completed"
    },
    "tags": []
   },
   "outputs": [
    {
     "name": "stdout",
     "output_type": "stream",
     "text": [
      "y_train shape is: (5080,)\n"
     ]
    }
   ],
   "source": [
    "print(\"y_train shape is:\",y_train.shape)"
   ]
  },
  {
   "cell_type": "code",
   "execution_count": 27,
   "id": "a74e5a67",
   "metadata": {
    "execution": {
     "iopub.execute_input": "2022-04-13T13:52:13.947086Z",
     "iopub.status.busy": "2022-04-13T13:52:13.946425Z",
     "iopub.status.idle": "2022-04-13T13:52:13.951092Z",
     "shell.execute_reply": "2022-04-13T13:52:13.951627Z",
     "shell.execute_reply.started": "2022-04-13T13:51:34.419856Z"
    },
    "papermill": {
     "duration": 0.050409,
     "end_time": "2022-04-13T13:52:13.951813",
     "exception": false,
     "start_time": "2022-04-13T13:52:13.901404",
     "status": "completed"
    },
    "tags": []
   },
   "outputs": [
    {
     "name": "stdout",
     "output_type": "stream",
     "text": [
      "y_test shape is: (30,)\n"
     ]
    }
   ],
   "source": [
    "print(\"y_test shape is:\",y_test.shape)"
   ]
  },
  {
   "cell_type": "code",
   "execution_count": 28,
   "id": "ed4287b5",
   "metadata": {
    "execution": {
     "iopub.execute_input": "2022-04-13T13:52:14.042378Z",
     "iopub.status.busy": "2022-04-13T13:52:14.041633Z",
     "iopub.status.idle": "2022-04-13T13:52:14.132940Z",
     "shell.execute_reply": "2022-04-13T13:52:14.132264Z",
     "shell.execute_reply.started": "2022-04-13T13:51:34.433525Z"
    },
    "papermill": {
     "duration": 0.138664,
     "end_time": "2022-04-13T13:52:14.133089",
     "exception": false,
     "start_time": "2022-04-13T13:52:13.994425",
     "status": "completed"
    },
    "tags": []
   },
   "outputs": [],
   "source": [
    "from sklearn.ensemble import RandomForestClassifier\n"
   ]
  },
  {
   "cell_type": "code",
   "execution_count": 29,
   "id": "b2a6cb89",
   "metadata": {
    "execution": {
     "iopub.execute_input": "2022-04-13T13:52:14.223882Z",
     "iopub.status.busy": "2022-04-13T13:52:14.223161Z",
     "iopub.status.idle": "2022-04-13T13:52:14.739944Z",
     "shell.execute_reply": "2022-04-13T13:52:14.740600Z",
     "shell.execute_reply.started": "2022-04-13T13:51:34.471771Z"
    },
    "papermill": {
     "duration": 0.563235,
     "end_time": "2022-04-13T13:52:14.740808",
     "exception": false,
     "start_time": "2022-04-13T13:52:14.177573",
     "status": "completed"
    },
    "tags": []
   },
   "outputs": [
    {
     "name": "stdout",
     "output_type": "stream",
     "text": [
      "RandomForestClassifierModel Train Score is :  0.9515748031496063\n",
      "RandomForestClassifierModel Test Score is :  0.9333333333333333\n",
      "RandomForestClassifierModel features importances are :  [0.13600479 0.01210638 0.40137104 0.05392601 0.05996889 0.0352886\n",
      " 0.03487013 0.01467571 0.22250358 0.02928487]\n",
      "----------------------------------------------------\n",
      "Predicted Value for RandomForestClassifierModel is :  [0 0 0 0 0 0 0 0 0 0]\n",
      "Prediction Probabilities Value for RandomForestClassifierModel is :  [[0.80039313 0.19960687]\n",
      " [0.99633742 0.00366258]\n",
      " [0.95812789 0.04187211]\n",
      " [0.99262461 0.00737539]\n",
      " [0.99606523 0.00393477]\n",
      " [0.97818964 0.02181036]\n",
      " [0.93457429 0.06542571]\n",
      " [0.92226415 0.07773585]\n",
      " [0.96073339 0.03926661]\n",
      " [0.63868093 0.36131907]]\n"
     ]
    }
   ],
   "source": [
    "RandomForestClassifierModel = RandomForestClassifier(criterion = 'gini',n_estimators=100,max_depth=5,random_state=33) #criterion can be also : entropy \n",
    "RandomForestClassifierModel.fit(x_train, y_train)\n",
    "\n",
    "#Calculating Details\n",
    "print('RandomForestClassifierModel Train Score is : ' , RandomForestClassifierModel.score(x_train, y_train))\n",
    "print('RandomForestClassifierModel Test Score is : ' , RandomForestClassifierModel.score(x_test, y_test))\n",
    "print('RandomForestClassifierModel features importances are : ' , RandomForestClassifierModel.feature_importances_)\n",
    "print('----------------------------------------------------')\n",
    "\n",
    "#Calculating Prediction\n",
    "y_pred = RandomForestClassifierModel.predict(x_test)\n",
    "y_pred_prob = RandomForestClassifierModel.predict_proba(x_test)\n",
    "print('Predicted Value for RandomForestClassifierModel is : ' , y_pred[:10])\n",
    "print('Prediction Probabilities Value for RandomForestClassifierModel is : ' , y_pred_prob[:10])"
   ]
  },
  {
   "cell_type": "code",
   "execution_count": 30,
   "id": "5bfab6bd",
   "metadata": {
    "execution": {
     "iopub.execute_input": "2022-04-13T13:52:14.851656Z",
     "iopub.status.busy": "2022-04-13T13:52:14.850334Z",
     "iopub.status.idle": "2022-04-13T13:52:14.856017Z",
     "shell.execute_reply": "2022-04-13T13:52:14.856958Z",
     "shell.execute_reply.started": "2022-04-13T13:51:35.018211Z"
    },
    "papermill": {
     "duration": 0.064692,
     "end_time": "2022-04-13T13:52:14.857221",
     "exception": false,
     "start_time": "2022-04-13T13:52:14.792529",
     "status": "completed"
    },
    "tags": []
   },
   "outputs": [],
   "source": [
    "from sklearn.metrics import accuracy_score\n"
   ]
  },
  {
   "cell_type": "code",
   "execution_count": 31,
   "id": "da9c0de4",
   "metadata": {
    "execution": {
     "iopub.execute_input": "2022-04-13T13:52:14.963440Z",
     "iopub.status.busy": "2022-04-13T13:52:14.962347Z",
     "iopub.status.idle": "2022-04-13T13:52:14.967608Z",
     "shell.execute_reply": "2022-04-13T13:52:14.968265Z",
     "shell.execute_reply.started": "2022-04-13T13:51:35.025177Z"
    },
    "papermill": {
     "duration": 0.059329,
     "end_time": "2022-04-13T13:52:14.968452",
     "exception": false,
     "start_time": "2022-04-13T13:52:14.909123",
     "status": "completed"
    },
    "tags": []
   },
   "outputs": [
    {
     "name": "stdout",
     "output_type": "stream",
     "text": [
      "Accuracy Score is :  28\n"
     ]
    }
   ],
   "source": [
    "AccScore = accuracy_score(y_test, y_pred, normalize=False)\n",
    "print('Accuracy Score is : ', AccScore)"
   ]
  },
  {
   "cell_type": "code",
   "execution_count": 32,
   "id": "3f2d0a1b",
   "metadata": {
    "execution": {
     "iopub.execute_input": "2022-04-13T13:52:15.063285Z",
     "iopub.status.busy": "2022-04-13T13:52:15.062135Z",
     "iopub.status.idle": "2022-04-13T13:52:15.069222Z",
     "shell.execute_reply": "2022-04-13T13:52:15.069755Z",
     "shell.execute_reply.started": "2022-04-13T13:51:35.041800Z"
    },
    "papermill": {
     "duration": 0.057079,
     "end_time": "2022-04-13T13:52:15.069970",
     "exception": false,
     "start_time": "2022-04-13T13:52:15.012891",
     "status": "completed"
    },
    "tags": []
   },
   "outputs": [
    {
     "name": "stdout",
     "output_type": "stream",
     "text": [
      "F1 Score is :  0.9333333333333333\n"
     ]
    }
   ],
   "source": [
    "from sklearn.metrics import f1_score\n",
    "#Calculating F1 Score  : 2 * (precision * recall) / (precision + recall)\n",
    "# f1_score(y_true, y_pred, labels=None, pos_label=1, average=’binary’, sample_weight=None)\n",
    "\n",
    "F1Score = f1_score(y_test, y_pred, average='micro') #it can be : binary,macro,weighted,samples\n",
    "print('F1 Score is : ', F1Score)"
   ]
  },
  {
   "cell_type": "code",
   "execution_count": 33,
   "id": "1f0f2b8e",
   "metadata": {
    "execution": {
     "iopub.execute_input": "2022-04-13T13:52:15.192521Z",
     "iopub.status.busy": "2022-04-13T13:52:15.191585Z",
     "iopub.status.idle": "2022-04-13T13:52:15.351632Z",
     "shell.execute_reply": "2022-04-13T13:52:15.350406Z",
     "shell.execute_reply.started": "2022-04-13T13:51:35.054331Z"
    },
    "papermill": {
     "duration": 0.219634,
     "end_time": "2022-04-13T13:52:15.351826",
     "exception": false,
     "start_time": "2022-04-13T13:52:15.132192",
     "status": "completed"
    },
    "tags": []
   },
   "outputs": [],
   "source": [
    "from sklearn.metrics import confusion_matrix\n",
    "import seaborn as sns\n",
    "import matplotlib.pyplot as plt"
   ]
  },
  {
   "cell_type": "code",
   "execution_count": 34,
   "id": "7418b4fd",
   "metadata": {
    "execution": {
     "iopub.execute_input": "2022-04-13T13:52:15.451527Z",
     "iopub.status.busy": "2022-04-13T13:52:15.450728Z",
     "iopub.status.idle": "2022-04-13T13:52:15.708718Z",
     "shell.execute_reply": "2022-04-13T13:52:15.707638Z",
     "shell.execute_reply.started": "2022-04-13T13:51:35.151614Z"
    },
    "papermill": {
     "duration": 0.309401,
     "end_time": "2022-04-13T13:52:15.708913",
     "exception": false,
     "start_time": "2022-04-13T13:52:15.399512",
     "status": "completed"
    },
    "tags": []
   },
   "outputs": [
    {
     "name": "stdout",
     "output_type": "stream",
     "text": [
      "Confusion Matrix is : \n",
      " [[28  0]\n",
      " [ 2  0]]\n"
     ]
    },
    {
     "data": {
      "image/png": "[encoded data removed]",
      "text/plain": [
       "<Figure size 432x288 with 2 Axes>"
      ]
     },
     "metadata": {
      "needs_background": "light"
     },
     "output_type": "display_data"
    }
   ],
   "source": [
    "CM = confusion_matrix(y_test, y_pred)\n",
    "print('Confusion Matrix is : \\n', CM)\n",
    "\n",
    "# drawing confusion matrix\n",
    "sns.heatmap(CM, center = True,annot=True)\n",
    "plt.show()"
   ]
  },
  {
   "cell_type": "code",
   "execution_count": null,
   "id": "31d7a402",
   "metadata": {
    "papermill": {
     "duration": 0.049378,
     "end_time": "2022-04-13T13:52:15.808676",
     "exception": false,
     "start_time": "2022-04-13T13:52:15.759298",
     "status": "completed"
    },
    "tags": []
   },
   "outputs": [],
   "source": []
  }
 ],
 "metadata": {
  "kernelspec": {
   "display_name": "Python 3",
   "language": "python",
   "name": "python3"
  },
  "language_info": {
   "codemirror_mode": {
    "name": "ipython",
    "version": 3
   },
   "file_extension": ".py",
   "mimetype": "text/x-python",
   "name": "python",
   "nbconvert_exporter": "python",
   "pygments_lexer": "ipython3",
   "version": "3.7.12"
  },
  "papermill": {
   "default_parameters": {},
   "duration": 16.566528,
   "end_time": "2022-04-13T13:52:16.665273",
   "environment_variables": {},
   "exception": null,
   "input_path": "__notebook__.ipynb",
   "output_path": "__notebook__.ipynb",
   "parameters": {},
   "start_time": "2022-04-13T13:52:00.098745",
   "version": "2.3.3"
  }
 },
 "nbformat": 4,
 "nbformat_minor": 5
}
